{
 "cells": [
  {
   "cell_type": "markdown",
   "metadata": {},
   "source": [
    "# <span style=\"font-size: 150%;color:#783f04;background:#ffd966\"> Walidacja modeli 1.9 [winequality-white.csv]\n",
    "\n",
    "### <span style=\"color:blue\"> Cognition comes by comparison! Friedrich Wilhelm Nietzsche\n",
    "    \n",
    "Modele cross-validated mogą być zgrane z dysku - jakość zgranych modeli zależy między innymi od wielkości próby na jakiej zostały przeszkolone. Jeżeli wgramy model szkolony na próbie 0.05 to gdy po zgraniu tych modeli z dysku ustawimy 0.05 populacji to otrzymamy identyczne wyniki na wskaźnikach. Czyli nagranie trzyma wyuczenie modeli. Natomiast można modele wyszkolić na próbie 0.5 a nastepnie wgrać i uruchomić na próbie 100%.     \n",
    " \n",
    "## <span style=\"font-size: 100%;color:#6fa8dc;background:#cfe2f3\">Ważne wnioski!!\n",
    "\n",
    "## <span style=\"font-size: 100%;color:#6fa8dc;background:#cfe2f3\">Modele cross-validated wyćwiczony na małej próbie z beznadziejnymi odczytami i parametrami, uruchomiony na pełnej próbie 100% zachowuje się znacznie lepiej. Dodatkowo zgranie zbagowanych wersji słabych modeli cross-validated z małej próby daje bardzo dobre rezultaty jeżeli chodzi o poprawę parametrów na wielkiej próbie 100%."
   ]
  },
  {
   "cell_type": "code",
   "execution_count": 1,
   "metadata": {},
   "outputs": [
    {
     "name": "stdout",
     "output_type": "stream",
     "text": [
      "(4898, 12)\n",
      "\n",
      "Index(['fixed acidity', 'volatile acidity', 'citric acid', 'residual sugar',\n",
      "       'chlorides', 'free sulfur dioxide', 'total sulfur dioxide', 'density',\n",
      "       'pH', 'sulphates', 'alcohol', 'quality'],\n",
      "      dtype='object')\n"
     ]
    },
    {
     "data": {
      "text/html": [
       "<div>\n",
       "<style scoped>\n",
       "    .dataframe tbody tr th:only-of-type {\n",
       "        vertical-align: middle;\n",
       "    }\n",
       "\n",
       "    .dataframe tbody tr th {\n",
       "        vertical-align: top;\n",
       "    }\n",
       "\n",
       "    .dataframe thead th {\n",
       "        text-align: right;\n",
       "    }\n",
       "</style>\n",
       "<table border=\"1\" class=\"dataframe\">\n",
       "  <thead>\n",
       "    <tr style=\"text-align: right;\">\n",
       "      <th></th>\n",
       "      <th>fixed acidity</th>\n",
       "      <th>volatile acidity</th>\n",
       "      <th>citric acid</th>\n",
       "      <th>residual sugar</th>\n",
       "      <th>chlorides</th>\n",
       "      <th>free sulfur dioxide</th>\n",
       "      <th>total sulfur dioxide</th>\n",
       "      <th>density</th>\n",
       "      <th>pH</th>\n",
       "      <th>sulphates</th>\n",
       "      <th>alcohol</th>\n",
       "      <th>quality</th>\n",
       "    </tr>\n",
       "  </thead>\n",
       "  <tbody>\n",
       "    <tr>\n",
       "      <td>0</td>\n",
       "      <td>7.0</td>\n",
       "      <td>0.27</td>\n",
       "      <td>0.36</td>\n",
       "      <td>20.7</td>\n",
       "      <td>0.045</td>\n",
       "      <td>45.0</td>\n",
       "      <td>170.0</td>\n",
       "      <td>1.0010</td>\n",
       "      <td>3.00</td>\n",
       "      <td>0.45</td>\n",
       "      <td>8.8</td>\n",
       "      <td>6</td>\n",
       "    </tr>\n",
       "    <tr>\n",
       "      <td>1</td>\n",
       "      <td>6.3</td>\n",
       "      <td>0.30</td>\n",
       "      <td>0.34</td>\n",
       "      <td>1.6</td>\n",
       "      <td>0.049</td>\n",
       "      <td>14.0</td>\n",
       "      <td>132.0</td>\n",
       "      <td>0.9940</td>\n",
       "      <td>3.30</td>\n",
       "      <td>0.49</td>\n",
       "      <td>9.5</td>\n",
       "      <td>6</td>\n",
       "    </tr>\n",
       "    <tr>\n",
       "      <td>2</td>\n",
       "      <td>8.1</td>\n",
       "      <td>0.28</td>\n",
       "      <td>0.40</td>\n",
       "      <td>6.9</td>\n",
       "      <td>0.050</td>\n",
       "      <td>30.0</td>\n",
       "      <td>97.0</td>\n",
       "      <td>0.9951</td>\n",
       "      <td>3.26</td>\n",
       "      <td>0.44</td>\n",
       "      <td>10.1</td>\n",
       "      <td>6</td>\n",
       "    </tr>\n",
       "  </tbody>\n",
       "</table>\n",
       "</div>"
      ],
      "text/plain": [
       "   fixed acidity  volatile acidity  citric acid  residual sugar  chlorides  \\\n",
       "0            7.0              0.27         0.36            20.7      0.045   \n",
       "1            6.3              0.30         0.34             1.6      0.049   \n",
       "2            8.1              0.28         0.40             6.9      0.050   \n",
       "\n",
       "   free sulfur dioxide  total sulfur dioxide  density    pH  sulphates  \\\n",
       "0                 45.0                 170.0   1.0010  3.00       0.45   \n",
       "1                 14.0                 132.0   0.9940  3.30       0.49   \n",
       "2                 30.0                  97.0   0.9951  3.26       0.44   \n",
       "\n",
       "   alcohol  quality  \n",
       "0      8.8        6  \n",
       "1      9.5        6  \n",
       "2     10.1        6  "
      ]
     },
     "execution_count": 1,
     "metadata": {},
     "output_type": "execute_result"
    }
   ],
   "source": [
    "import pandas as pd\n",
    "import numpy as np\n",
    "import seaborn as sns\n",
    "import matplotlib.pyplot as plt\n",
    "import warnings \n",
    "from sklearn.ensemble import BaggingClassifier\n",
    "from simple_colors import * \n",
    "from prettytable import PrettyTable\n",
    "import time\n",
    "import joblib\n",
    "\n",
    "warnings.filterwarnings(\"ignore\")\n",
    "\n",
    "%matplotlib inline\n",
    "\n",
    "df= pd.read_csv('/home/wojciech/Pulpit/1/winequality-white.csv')\n",
    "print(df.shape)\n",
    "print()\n",
    "print(df.columns)\n",
    "df.head(3)"
   ]
  },
  {
   "cell_type": "markdown",
   "metadata": {},
   "source": [
    "## <div class=\"alert-warning\"> Cudowna formuła poprawiająca nazwy kolumn"
   ]
  },
  {
   "cell_type": "code",
   "execution_count": 2,
   "metadata": {},
   "outputs": [],
   "source": [
    "import re\n",
    "df = df.rename(columns = lambda x:re.sub('[^A-Za-z0-9_]+', '', x))"
   ]
  },
  {
   "cell_type": "markdown",
   "metadata": {},
   "source": [
    "## <div class=\"alert-success\"> Sample reduction:</div>"
   ]
  },
  {
   "cell_type": "code",
   "execution_count": 3,
   "metadata": {},
   "outputs": [
    {
     "data": {
      "text/plain": [
       "(4898, 12)"
      ]
     },
     "execution_count": 3,
     "metadata": {},
     "output_type": "execute_result"
    }
   ],
   "source": [
    "df = df.sample(frac = 1.00, random_state=10) \n",
    "df.shape"
   ]
  },
  {
   "cell_type": "markdown",
   "metadata": {},
   "source": [
    "#### Start pomiaru czasu"
   ]
  },
  {
   "cell_type": "code",
   "execution_count": 4,
   "metadata": {},
   "outputs": [
    {
     "name": "stdout",
     "output_type": "stream",
     "text": [
      "Sun Jun 21 20:59:59 2020\n"
     ]
    }
   ],
   "source": [
    "import time\n",
    "start_time = time.time() ## pomiar czasu: start pomiaru czasu\n",
    "print(time.ctime())"
   ]
  },
  {
   "cell_type": "markdown",
   "metadata": {},
   "source": [
    "### Tool for automatic coding of discrete variables !\n"
   ]
  },
  {
   "cell_type": "code",
   "execution_count": 5,
   "metadata": {},
   "outputs": [
    {
     "name": "stdout",
     "output_type": "stream",
     "text": [
      "DISCRETE FUNCTIONS CODED\n",
      "------------------------\n"
     ]
    }
   ],
   "source": [
    "a,b = df.shape     #<- ile mamy kolumn\n",
    "b\n",
    "\n",
    "print('DISCRETE FUNCTIONS CODED')\n",
    "print('------------------------')\n",
    "for i in range(1,b):\n",
    "    i = df.columns[i]\n",
    "    f = df[i].dtypes\n",
    "    if f == np.object:\n",
    "        print(i,\"---\",f)   \n",
    "    \n",
    "        if f == np.object:\n",
    "        \n",
    "            df[i] = pd.Categorical(df[i]).codes\n",
    "        \n",
    "            continue"
   ]
  },
  {
   "cell_type": "code",
   "execution_count": 6,
   "metadata": {},
   "outputs": [],
   "source": [
    "df.fillna(7777, inplace=True)"
   ]
  },
  {
   "cell_type": "markdown",
   "metadata": {},
   "source": [
    "## <div class=\"alert-success\"> Ręczne ustawienie celu"
   ]
  },
  {
   "cell_type": "code",
   "execution_count": 7,
   "metadata": {},
   "outputs": [],
   "source": [
    "target = 'quality'"
   ]
  },
  {
   "cell_type": "code",
   "execution_count": 8,
   "metadata": {},
   "outputs": [],
   "source": [
    "X = df.drop(target, axis=1) \n",
    "y = df[target]  \n",
    "\n",
    "from sklearn.model_selection import train_test_split\n",
    "X_train, X_test, y_train, y_test = train_test_split(X, y, test_size=0.20, random_state=123,stratify=y)"
   ]
  },
  {
   "cell_type": "raw",
   "metadata": {},
   "source": [
    "X_test = X_test.values\n",
    "y_test = y_test.values\n",
    "X_train = X_train.values\n",
    "y_train = y_train.values"
   ]
  },
  {
   "cell_type": "markdown",
   "metadata": {},
   "source": [
    "## Ustalamy strukturę próby "
   ]
  },
  {
   "cell_type": "code",
   "execution_count": 9,
   "metadata": {},
   "outputs": [
    {
     "data": {
      "text/plain": [
       "<matplotlib.axes._subplots.AxesSubplot at 0x7f1a7af56390>"
      ]
     },
     "execution_count": 9,
     "metadata": {},
     "output_type": "execute_result"
    },
    {
     "data": {
      "image/png": "[encoded data removed]",
      "text/plain": [
       "<Figure size 432x288 with 1 Axes>"
      ]
     },
     "metadata": {},
     "output_type": "display_data"
    }
   ],
   "source": [
    "y.value_counts().plot(kind='pie')"
   ]
  },
  {
   "cell_type": "code",
   "execution_count": 10,
   "metadata": {},
   "outputs": [
    {
     "data": {
      "text/plain": [
       "6    2198\n",
       "5    1457\n",
       "7     880\n",
       "8     175\n",
       "4     163\n",
       "3      20\n",
       "9       5\n",
       "Name: quality, dtype: int64"
      ]
     },
     "execution_count": 10,
     "metadata": {},
     "output_type": "execute_result"
    }
   ],
   "source": [
    "y.value_counts()"
   ]
  },
  {
   "cell_type": "code",
   "execution_count": 11,
   "metadata": {},
   "outputs": [
    {
     "data": {
      "text/plain": [
       "array([6, 5, 8, 7, 4, 9, 3])"
      ]
     },
     "execution_count": 11,
     "metadata": {},
     "output_type": "execute_result"
    }
   ],
   "source": [
    "y.unique()"
   ]
  },
  {
   "cell_type": "markdown",
   "metadata": {},
   "source": [
    "## SMOTE (technika nadpróbkowania mniejszości syntetycznej)\n",
    "## SMOTE (Synthetic Minority Over-sampling Technique)"
   ]
  },
  {
   "cell_type": "code",
   "execution_count": 12,
   "metadata": {},
   "outputs": [
    {
     "data": {
      "text/plain": [
       "<matplotlib.axes._subplots.AxesSubplot at 0x7f1a77c12410>"
      ]
     },
     "execution_count": 12,
     "metadata": {},
     "output_type": "execute_result"
    },
    {
     "data": {
      "image/png": "[encoded data removed]",
      "text/plain": [
       "<Figure size 432x288 with 1 Axes>"
      ]
     },
     "metadata": {},
     "output_type": "display_data"
    }
   ],
   "source": [
    "from imblearn.over_sampling import SMOTE\n",
    "from imblearn.over_sampling import RandomOverSampler\n",
    "\n",
    "smote = SMOTE('minority') \n",
    "\n",
    "ros = RandomOverSampler(random_state=148)\n",
    "X_res, y_res = ros.fit_resample(X_test, y_test)\n",
    "y_res.value_counts().plot(kind='pie')"
   ]
  },
  {
   "cell_type": "code",
   "execution_count": 13,
   "metadata": {},
   "outputs": [
    {
     "name": "stdout",
     "output_type": "stream",
     "text": [
      "(3918, 11) (3918,)\n"
     ]
    }
   ],
   "source": [
    "print(X_train.shape, y_train.shape)"
   ]
  },
  {
   "cell_type": "code",
   "execution_count": 14,
   "metadata": {},
   "outputs": [
    {
     "name": "stdout",
     "output_type": "stream",
     "text": [
      "(3080, 11) (3080,)\n"
     ]
    }
   ],
   "source": [
    "print(X_res.shape, y_res.shape)"
   ]
  },
  {
   "cell_type": "code",
   "execution_count": 15,
   "metadata": {},
   "outputs": [],
   "source": [
    "X_train=X_res\n",
    "y_train=y_res"
   ]
  },
  {
   "cell_type": "code",
   "execution_count": 16,
   "metadata": {},
   "outputs": [
    {
     "name": "stdout",
     "output_type": "stream",
     "text": [
      "(3080, 11) (3080,)\n"
     ]
    }
   ],
   "source": [
    "print(X_train.shape, y_train.shape)"
   ]
  },
  {
   "cell_type": "code",
   "execution_count": 17,
   "metadata": {},
   "outputs": [
    {
     "data": {
      "text/plain": [
       "9    440\n",
       "7    440\n",
       "5    440\n",
       "3    440\n",
       "8    440\n",
       "6    440\n",
       "4    440\n",
       "Name: quality, dtype: int64"
      ]
     },
     "execution_count": 17,
     "metadata": {},
     "output_type": "execute_result"
    }
   ],
   "source": [
    "y_train.value_counts()"
   ]
  },
  {
   "cell_type": "markdown",
   "metadata": {},
   "source": [
    "## <span style=\"font-size: 150%;color:#783f04;background:#ffd966\"> SMOTE pełne dla cross validation"
   ]
  },
  {
   "cell_type": "code",
   "execution_count": 18,
   "metadata": {
    "scrolled": true
   },
   "outputs": [
    {
     "data": {
      "text/plain": [
       "<matplotlib.axes._subplots.AxesSubplot at 0x7f1a77c0d910>"
      ]
     },
     "execution_count": 18,
     "metadata": {},
     "output_type": "execute_result"
    },
    {
     "data": {
      "image/png": "[encoded data removed]",
      "text/plain": [
       "<Figure size 432x288 with 1 Axes>"
      ]
     },
     "metadata": {},
     "output_type": "display_data"
    }
   ],
   "source": [
    "smote = SMOTE('minority') \n",
    "\n",
    "ros = RandomOverSampler(random_state=148)\n",
    "Data, target = ros.fit_resample(X, y)\n",
    "target.value_counts().plot(kind='pie')"
   ]
  },
  {
   "cell_type": "code",
   "execution_count": 19,
   "metadata": {},
   "outputs": [
    {
     "data": {
      "text/plain": [
       "7    2198\n",
       "6    2198\n",
       "5    2198\n",
       "4    2198\n",
       "3    2198\n",
       "9    2198\n",
       "8    2198\n",
       "Name: quality, dtype: int64"
      ]
     },
     "execution_count": 19,
     "metadata": {},
     "output_type": "execute_result"
    }
   ],
   "source": [
    "target.value_counts()"
   ]
  },
  {
   "cell_type": "markdown",
   "metadata": {},
   "source": [
    "## <div class=\"alert-success\"> Sterowanie zakresu waluacji"
   ]
  },
  {
   "cell_type": "code",
   "execution_count": 20,
   "metadata": {},
   "outputs": [],
   "source": [
    "Model1 = 1\n",
    "Model2 = 0 \n",
    "Model3 = 0 \n",
    "Model4 = 0 \n",
    "Model5 = 0 \n",
    "Model6 = 0\n",
    "Model7 = 0\n",
    "Model8 = 0\n",
    "Model9 = 0 \n",
    "Model10 = 0\n",
    "Model11 = 0 "
   ]
  },
  {
   "cell_type": "markdown",
   "metadata": {},
   "source": [
    "### <span style=\"font-size: 110%;color:white;background:Red\">Model 1 <span style=\"font-size: 110%;color:#6fa8dc;background:#cfe2f3\">  Modele na ustawieniach fabrycznych\n"
   ]
  },
  {
   "cell_type": "code",
   "execution_count": 21,
   "metadata": {},
   "outputs": [],
   "source": [
    "if Model1 < 1 :\n",
    "    pass\n",
    "else:\n",
    "    \n",
    "    SVM = joblib.load('/home/wojciech/Pulpit/7/model1-SVM.pkl')\n",
    "    CBC = joblib.load('/home/wojciech/Pulpit/7/model1-CBC.pkl')\n",
    "    XGB = joblib.load('/home/wojciech/Pulpit/7/model1-XGB.pkl')\n",
    "    LGBM = joblib.load('/home/wojciech/Pulpit/7/model1-LGBM.pkl')\n",
    "    KNN = joblib.load('/home/wojciech/Pulpit/7/model1-KNN.pkl')\n",
    "    NBC = joblib.load('/home/wojciech/Pulpit/7/model1-NBC.pkl')\n",
    "    LRE = joblib.load('/home/wojciech/Pulpit/7/model1-LRE.pkl')\n",
    "    RFC = joblib.load('/home/wojciech/Pulpit/7/model1-RFC.pkl')\n",
    "    GBC = joblib.load('/home/wojciech/Pulpit/7/model1-GBC.pkl')\n",
    "\n",
    "classifiers_1 = [SVM,CBC,XGB,LGBM,KNN,NBC,LRE,RFC,GBC]\n",
    "name1 = ['SVM','CBC','XGB','LGBM','KNN','NBC','LRE','RFC','GBC']"
   ]
  },
  {
   "cell_type": "markdown",
   "metadata": {},
   "source": [
    "### <span style=\"font-size: 110%;color:white;background:Red\">Model 2  <span style=\"font-size: 110%;color:#6fa8dc;background:#cfe2f3\">  Modele na ustawieniach fabrycznych po bagging \n"
   ]
  },
  {
   "cell_type": "code",
   "execution_count": 22,
   "metadata": {},
   "outputs": [],
   "source": [
    "if Model2 < 1:\n",
    "    pass\n",
    "else:\n",
    "    \n",
    "    SVM_b = joblib.load('/home/wojciech/Pulpit/7/model2-SVM_b.pkl')\n",
    "    CBC_b = joblib.load('/home/wojciech/Pulpit/7/model2-CBC_b.pkl')\n",
    "    XGB_b = joblib.load('/home/wojciech/Pulpit/7/model2-XGB_b.pkl')\n",
    "    LGBM_b = joblib.load('/home/wojciech/Pulpit/7/model2-LGBM_b.pkl')\n",
    "    KNN_b = joblib.load('/home/wojciech/Pulpit/7/model2-KNN_b.pkl')\n",
    "    NBC_b = joblib.load('/home/wojciech/Pulpit/7/model2-NBC_b.pkl')\n",
    "    LRE_b = joblib.load('/home/wojciech/Pulpit/7/model2-LRE_b.pkl')\n",
    "    RFC_b = joblib.load('/home/wojciech/Pulpit/7/model2-RFC_b.pkl')\n",
    "    GBC_b = joblib.load('/home/wojciech/Pulpit/7/model2-GBC_b.pkl')\n",
    "\n",
    "    classifiers_2 = [SVM_b,CBC_b,XGB_b,LGBM_b,KNN_b,NBC_b,LRE_b,RFC_b,GBC_b]\n",
    "    name2 = ['SVM_b','CBC_b','XGB_b','LGBM_b','KNN_b','NBC_b','LRE_b','RFC_b','GBC_b']"
   ]
  },
  {
   "cell_type": "markdown",
   "metadata": {},
   "source": [
    "### <span style=\"font-size: 110%;color:white;background:Red\">Model 3  <span style=\"font-size: 110%;color:#6fa8dc;background:#cfe2f3\">  Modele na ustawieniach fabrycznych po kalibracji"
   ]
  },
  {
   "cell_type": "code",
   "execution_count": 23,
   "metadata": {},
   "outputs": [],
   "source": [
    "if Model3 < 1:\n",
    "    pass\n",
    "else:\n",
    "\n",
    "    SVM3 = joblib.load('/home/wojciech/Pulpit/7/model3-SVM_c.pkl')\n",
    "    CBC3 = joblib.load('/home/wojciech/Pulpit/7/model3-CBC_c.pkl')\n",
    "    XGB3 = joblib.load('/home/wojciech/Pulpit/7/model3-XGB_c.pkl')\n",
    "    LGBM3 = joblib.load('/home/wojciech/Pulpit/7/model3-LGBM_c.pkl')\n",
    "    KNN3 = joblib.load('/home/wojciech/Pulpit/7/model3-KNN_c.pkl')\n",
    "    NBC3 = joblib.load('/home/wojciech/Pulpit/7/model3-NBC_c.pkl')\n",
    "    LRE3 = joblib.load('/home/wojciech/Pulpit/7/model3-LRE_c.pkl')\n",
    "    RFC3 = joblib.load('/home/wojciech/Pulpit/7/model3-RFC_c.pkl')\n",
    "    GBC3 = joblib.load('/home/wojciech/Pulpit/7/model3-GBC_c.pkl')\n",
    "\n",
    "    classifiers_3 = [SVM3,CBC3,XGB3,LGBM3,KNN3,NBC3,LRE3,RFC3,GBC3]\n",
    "    name3 = ['SVM3','CBC3','XGB3','LGBM3','KNN3','NBC3','LRE3','RFC3','GBC3']"
   ]
  },
  {
   "cell_type": "markdown",
   "metadata": {},
   "source": [
    "### <span style=\"font-size: 110%;color:white;background:Red\">Model 4  <span style=\"font-size: 110%;color:#6fa8dc;background:#cfe2f3\">  Modele na ustawieniach fabrycznych po bagging i po kalibracji"
   ]
  },
  {
   "cell_type": "code",
   "execution_count": 24,
   "metadata": {},
   "outputs": [],
   "source": [
    "if Model4 < 1:\n",
    "    pass\n",
    "else:\n",
    "\n",
    "    SVM_b4 = joblib.load('/home/wojciech/Pulpit/7/model4-SVM_d.pkl')\n",
    "    CBC_b4 = joblib.load('/home/wojciech/Pulpit/7/model4-CBC_d.pkl')\n",
    "    XGB_b4 = joblib.load('/home/wojciech/Pulpit/7/model4-XGB_d.pkl')\n",
    "    LGBM_b4 = joblib.load('/home/wojciech/Pulpit/7/model4-LGBM_d.pkl')\n",
    "    KNN_b4 = joblib.load('/home/wojciech/Pulpit/7/model4-KNN_d.pkl')\n",
    "    NBC_b4 = joblib.load('/home/wojciech/Pulpit/7/model4-NBC_d.pkl')\n",
    "    LRE_b4 = joblib.load('/home/wojciech/Pulpit/7/model4-LRE_d.pkl')\n",
    "    RFC_b4 = joblib.load('/home/wojciech/Pulpit/7/model4-RFC_d.pkl')\n",
    "    GBC_b4 = joblib.load('/home/wojciech/Pulpit/7/model4-GBC_d.pkl')\n",
    "\n",
    "    classifiers_4 = [SVM_b4,CBC_b4,XGB_b4,LGBM_b4,KNN_b4,NBC_b4,LRE_b4,RFC_b4,GBC_b4]\n",
    "    name4 = ['SVM_b4','CBC_b4','XGB_b4','LGBM_b4','KNN_b4','NBC_b4','LRE_b4','RFC_b4','GBC_b4']"
   ]
  },
  {
   "cell_type": "markdown",
   "metadata": {},
   "source": [
    "### <span style=\"font-size: 110%;color:white;background:Red\">Model 5  <span style=\"font-size: 110%;color:#6fa8dc;background:#cfe2f3\">  Modele na cross-validation"
   ]
  },
  {
   "cell_type": "raw",
   "metadata": {},
   "source": [
    "if Model5 < 1:\n",
    "    pass\n",
    "else:\n",
    "    \n",
    "    SVM5 = joblib.load('/home/wojciech/Pulpit/7/model5-gs_SVM.pkl')\n",
    "    SVM25 = joblib.load('/home/wojciech/Pulpit/7/model5-gs_SVM2.pkl')\n",
    "    XGB5 = joblib.load('/home/wojciech/Pulpit/7/model5-gs_XGB.pkl')\n",
    "    LGBM5 = joblib.load('/home/wojciech/Pulpit/7/model5-gs_LGBM.pkl')\n",
    "    KNN5 = joblib.load('/home/wojciech/Pulpit/7/model5-gs_KNN.pkl')\n",
    "    NBC5 = joblib.load('/home/wojciech/Pulpit/7/model5-gs_NBC.pkl')\n",
    "    LRE5 = joblib.load('/home/wojciech/Pulpit/7/model5-gs_LRE.pkl')\n",
    "    RFC5 = joblib.load('/home/wojciech/Pulpit/7/model5-gs_RFC.pkl')\n",
    "    RFC25 = joblib.load('/home/wojciech/Pulpit/7/model5-gs_RFC2.pkl')\n",
    "\n",
    "    classifiers_5 = [SVM5,SVM25,XGB5,LGBM5,KNN5,NBC5,LRE5,RFC5,RFC25]\n",
    "    name5 = ['SVM5','SVM25','XGB5','LGBM5','KNN5','NBC5','LRE5','RFC5','RFC25']"
   ]
  },
  {
   "cell_type": "markdown",
   "metadata": {},
   "source": [
    "### <span style=\"font-size: 110%;color:white;background:Red\">Model 6 <span style=\"font-size: 110%;color:#6fa8dc;background:#cfe2f3\"> Modele na ustawieniach optymalnych po bagging"
   ]
  },
  {
   "cell_type": "code",
   "execution_count": 25,
   "metadata": {},
   "outputs": [],
   "source": [
    "if Model6 < 1:\n",
    "    pass\n",
    "else:\n",
    "\n",
    "    SVM6 = joblib.load('/home/wojciech/Pulpit/7/model6-SVM_w.pkl')\n",
    "    SVM26 = joblib.load('/home/wojciech/Pulpit/7/model6-SVM2_w.pkl')\n",
    "    CBC6 = joblib.load('/home/wojciech/Pulpit/7/model6-CBC_w.pkl')\n",
    "    XGB6 = joblib.load('/home/wojciech/Pulpit/7/model6-XGB_w.pkl')\n",
    "    LGBM6 = joblib.load('/home/wojciech/Pulpit/7/model6-LGBM_w.pkl')\n",
    "    NBC6 = joblib.load('/home/wojciech/Pulpit/7/model6-NBC_w.pkl')\n",
    "    LRE6 = joblib.load('/home/wojciech/Pulpit/7/model6-LRE_w.pkl')\n",
    "    RFC6 = joblib.load('/home/wojciech/Pulpit/7/model6-RFC_w.pkl')\n",
    "    RFC26 = joblib.load('/home/wojciech/Pulpit/7/model6-RFC2_w.pkl')\n",
    "\n",
    "    classifiers_6 = [SVM6,SVM26,CBC6,XGB6,LGBM6,NBC6,LRE6,RFC6,RFC26]\n",
    "    name6= ['SVM6','SVM26','CBC6','XGB6','LGBM6','NBC6','LRE6','RFC6','RFC26']"
   ]
  },
  {
   "cell_type": "markdown",
   "metadata": {},
   "source": [
    "### <span style=\"font-size: 110%;color:white;background:Red\">Model 7 <span style=\"font-size: 110%;color:#6fa8dc;background:#cfe2f3\">  Modele na ustawieniach optymalnych"
   ]
  },
  {
   "cell_type": "code",
   "execution_count": 26,
   "metadata": {},
   "outputs": [],
   "source": [
    "if Model7 < 1:\n",
    "    pass\n",
    "else:\n",
    "\n",
    "    SVM7 = joblib.load('/home/wojciech/Pulpit/7/model7-SVM_o.pkl')\n",
    "    SVM27 = joblib.load('/home/wojciech/Pulpit/7/model7-SVM2_o.pkl')\n",
    "    CBC7 = joblib.load('/home/wojciech/Pulpit/7/model7-CBC_o.pkl')\n",
    "    XGB7 = joblib.load('/home/wojciech/Pulpit/7/model7-XGB_o.pkl')\n",
    "    LGBM7 = joblib.load('/home/wojciech/Pulpit/7/model7-LGBM_o.pkl')\n",
    "    NBC7 = joblib.load('/home/wojciech/Pulpit/7/model7-NBC_o.pkl')\n",
    "    LRE7 = joblib.load('/home/wojciech/Pulpit/7/model7-LRE_o.pkl')\n",
    "    RFC7 = joblib.load('/home/wojciech/Pulpit/7/model7-RFC_o.pkl')\n",
    "    RFC27 = joblib.load('/home/wojciech/Pulpit/7/model7-RFC2_o.pkl')\n",
    "\n",
    "    classifiers_7 = [SVM7,SVM27,CBC7,XGB7,LGBM7,NBC7,LRE7,RFC7,RFC27]\n",
    "    name7 = ['SVM7','SVM27','CBC7','XGB7','LGBM7','NBC7','LRE7','RFC7','RFC27']"
   ]
  },
  {
   "cell_type": "markdown",
   "metadata": {},
   "source": [
    "### <span style=\"font-size: 110%;color:white;background:Red\">Model 8 <span style=\"font-size: 110%;color:#6fa8dc;background:#cfe2f3\">   Modele na ustawieniach optymalnych po boosting, n=3 "
   ]
  },
  {
   "cell_type": "code",
   "execution_count": 27,
   "metadata": {},
   "outputs": [],
   "source": [
    "if Model8 < 1:\n",
    "    pass\n",
    "else:\n",
    "    \n",
    "    SVM8 = joblib.load('/home/wojciech/Pulpit/7/model8-SVM_v.pkl')\n",
    "    SVM28 = joblib.load('/home/wojciech/Pulpit/7/model8-SVM2_v.pkl')\n",
    "    CBC8 = joblib.load('/home/wojciech/Pulpit/7/model8-CBC_v.pkl')\n",
    "    XGB8 = joblib.load('/home/wojciech/Pulpit/7/model8-XGB_v.pkl')\n",
    "    LGBM8 = joblib.load('/home/wojciech/Pulpit/7/model8-LGBM_v.pkl')\n",
    "    NBC8 = joblib.load('/home/wojciech/Pulpit/7/model8-NBC_v.pkl')\n",
    "    LRE8 = joblib.load('/home/wojciech/Pulpit/7/model8-LRE_v.pkl')\n",
    "    RFC8 = joblib.load('/home/wojciech/Pulpit/7/model8-RFC_v.pkl')\n",
    "    RFC28 = joblib.load('/home/wojciech/Pulpit/7/model8-RFC2_v.pkl')\n",
    "\n",
    "    classifiers_8 = [SVM8,SVM28,CBC8,XGB8,LGBM8,NBC8,LRE8,RFC8,RFC28]\n",
    "    name8 = ['SVM8','SVM28','CBC8','XGB8','LGBM8','NBC8','LRE8','RFC8','RFC28']"
   ]
  },
  {
   "cell_type": "markdown",
   "metadata": {},
   "source": [
    "### <span style=\"font-size: 110%;color:white;background:Red\">Model 9 <span style=\"font-size: 110%;color:#6fa8dc;background:#cfe2f3\">    Modele na ustawieniach optymalnych po boosting n=10 "
   ]
  },
  {
   "cell_type": "code",
   "execution_count": 28,
   "metadata": {},
   "outputs": [],
   "source": [
    "if Model9 < 1:\n",
    "    pass\n",
    "else:\n",
    "\n",
    "    SVM9 = joblib.load('/home/wojciech/Pulpit/7/model9-SVM_s.pkl')\n",
    "    SVM29 = joblib.load('/home/wojciech/Pulpit/7/model9-SVM2_s.pkl')\n",
    "    CBC9 = joblib.load('/home/wojciech/Pulpit/7/model9-CBC_s.pkl')\n",
    "    XGB9 = joblib.load('/home/wojciech/Pulpit/7/model9-XGB_s.pkl')\n",
    "    LGBM9 = joblib.load('/home/wojciech/Pulpit/7/model9-LGBM_s.pkl')\n",
    "    NBC9 = joblib.load('/home/wojciech/Pulpit/7/model9-NBC_s.pkl')\n",
    "    LRE9 = joblib.load('/home/wojciech/Pulpit/7/model9-LRE_s.pkl')\n",
    "    RFC9 = joblib.load('/home/wojciech/Pulpit/7/model9-RFC_s.pkl')\n",
    "    RFC29 = joblib.load('/home/wojciech/Pulpit/7/model9-RFC2_s.pkl')\n",
    "\n",
    "    classifiers_9 = [SVM9,SVM29,CBC9,XGB9,LGBM9,NBC9,LRE9,RFC9,RFC29]\n",
    "    name9 = ['SVM9','SVM29','CBC9','XGB9','LGBM9','NBC9','LRE9','RFC9','RFC28']"
   ]
  },
  {
   "cell_type": "markdown",
   "metadata": {},
   "source": [
    "### <span style=\"font-size: 110%;color:white;background:Red\">Model 10 <span style=\"font-size: 110%;color:#6fa8dc;background:#cfe2f3\">   Modele na ustawieniach optymalnych po kalibracji (method='isotonic')"
   ]
  },
  {
   "cell_type": "code",
   "execution_count": 29,
   "metadata": {},
   "outputs": [],
   "source": [
    "if Model10 < 1:\n",
    "    pass\n",
    "else:\n",
    "    \n",
    "    SVM10 = joblib.load('/home/wojciech/Pulpit/7/model10-SVM_q.pkl')\n",
    "    SVM210 = joblib.load('/home/wojciech/Pulpit/7/model10-SVM2_q.pkl')\n",
    "    CBC10 = joblib.load('/home/wojciech/Pulpit/7/model10-CBC_q.pkl')\n",
    "    XGB10 = joblib.load('/home/wojciech/Pulpit/7/model10-XGB_q.pkl')\n",
    "    LGBM10 = joblib.load('/home/wojciech/Pulpit/7/model10-LGBM_q.pkl')\n",
    "    NBC10 = joblib.load('/home/wojciech/Pulpit/7/model10-NBC_q.pkl')\n",
    "    LRE10 = joblib.load('/home/wojciech/Pulpit/7/model10-LRE_q.pkl')\n",
    "    RFC10 = joblib.load('/home/wojciech/Pulpit/7/model10-RFC_q.pkl')\n",
    "    RFC210 = joblib.load('/home/wojciech/Pulpit/7/model10-RFC2_q.pkl')\n",
    "\n",
    "    classifiers_10 = [SVM10,SVM210,CBC10,XGB10,LGBM10,NBC10,LRE10,RFC10,RFC210]\n",
    "    name10 = ['SVM10','SVM210','CBC10','XGB10','LGBM10','NBC10','LRE10','RFC10','RFC210']"
   ]
  },
  {
   "cell_type": "markdown",
   "metadata": {},
   "source": [
    "### <span style=\"font-size: 110%;color:white;background:Red\">Model 11 <span style=\"font-size: 110%;color:#6fa8dc;background:#cfe2f3\">   Modele na ustawieniach optymalnych po kalibracji (method='sigmoid')"
   ]
  },
  {
   "cell_type": "code",
   "execution_count": 30,
   "metadata": {},
   "outputs": [],
   "source": [
    "if Model11 < 1:\n",
    "    pass\n",
    "else:\n",
    "\n",
    "    SVM11 = joblib.load('/home/wojciech/Pulpit/7/model11-SVM_y.pkl')\n",
    "    SVM211 = joblib.load('/home/wojciech/Pulpit/7/model11-SVM2_y.pkl')\n",
    "    CBC11 = joblib.load('/home/wojciech/Pulpit/7/model11-CBC_y.pkl')\n",
    "    XGB11 = joblib.load('/home/wojciech/Pulpit/7/model11-XGB_y.pkl')\n",
    "    LGBM11 = joblib.load('/home/wojciech/Pulpit/7/model11-LGBM_y.pkl')\n",
    "    NBC11 = joblib.load('/home/wojciech/Pulpit/7/model11-NBC_y.pkl')\n",
    "    LRE11 = joblib.load('/home/wojciech/Pulpit/7/model11-LRE_y.pkl')\n",
    "    RFC11 = joblib.load('/home/wojciech/Pulpit/7/model11-RFC_y.pkl')\n",
    "    RFC211 = joblib.load('/home/wojciech/Pulpit/7/model11-RFC2_y.pkl')\n",
    "\n",
    "    classifiers_11 = [SVM11,SVM211,CBC11,XGB11,LGBM11,NBC11,LRE11,RFC11,RFC211]\n",
    "    name11 = ['SVM11','SVM211','CBC11','XGB11','LGBM11','NBC11','LRE11','RFC11','RFC211']"
   ]
  },
  {
   "cell_type": "markdown",
   "metadata": {},
   "source": [
    "### Gdzie zapisywane będą modele"
   ]
  },
  {
   "cell_type": "code",
   "execution_count": 31,
   "metadata": {},
   "outputs": [],
   "source": [
    "csv1 ='/home/wojciech/Pulpit/7/model1.csv'  #<=  modele na ustawieniach fabrycznych\n",
    "csv2 ='/home/wojciech/Pulpit/7/model2.csv'  #<=  modele na ustawieniach fabrycznych po bagging\n",
    "csv3 ='/home/wojciech/Pulpit/7/model3.csv'  #<=  modele na ustawieniach fabrycznych po kalibracji\n",
    "csv4 ='/home/wojciech/Pulpit/7/model4.csv'  #<=  modele na ustawieniach fabrycznych po bagging po kalibracji\n",
    "csv5 ='/home/wojciech/Pulpit/7/model5.csv'  #<=  modele na cross-validation\n",
    "csv6 ='/home/wojciech/Pulpit/7/model6.csv'  #<=  modele na ustawieniach optymalnych po bagging\n",
    "csv7 ='/home/wojciech/Pulpit/7/model7.csv'  ##<=  modele na ustawieniach optymalnych \n",
    "csv8 ='/home/wojciech/Pulpit/7/model8.csv'  ##<=  modele na ustawieniach optymalnych po boosting n=3\n",
    "csv9 ='/home/wojciech/Pulpit/7/model9.csv'  ##<=  modele na ustawieniach optymalnych po boosting n=10\n",
    "csv10 ='/home/wojciech/Pulpit/7/model10.csv'  ##<=  modele na ustawieniach optymalnych po kalibracji (method='isotonic')\n",
    "csv11 ='/home/wojciech/Pulpit/7/model11.csv'  ##<=  modele na ustawieniach optymalnych po kalibracji (method='sigmoid')"
   ]
  },
  {
   "cell_type": "markdown",
   "metadata": {},
   "source": [
    "## <span style=\"font-size: 150%;color:#783f04;background:#ffd966\"> Nowy system oceny globalnej modeli klasyfikacji wieloklasowej"
   ]
  },
  {
   "cell_type": "code",
   "execution_count": 32,
   "metadata": {},
   "outputs": [],
   "source": [
    "def Multi_valuator(classifiers,names, X_test,y_test,adres):\n",
    "    \n",
    "    def kot(model,name, X_test,y_test,n): \n",
    "        from sklearn.metrics import confusion_matrix\n",
    "        M = confusion_matrix(y_test, model.predict(X_test))\n",
    "    \n",
    "        d = y_test.unique()\n",
    "        class_name = list(d.flatten())\n",
    "       \n",
    "        \n",
    "        global dfv\n",
    "    \n",
    "        def sumoflist(l):    \n",
    "            total = 0    \n",
    "            for i in l:\n",
    "                total +=i\n",
    "            return total\n",
    "    \n",
    "            # Przekątna macierzy:\n",
    "        import numpy as np\n",
    "        w = M.diagonal()\n",
    "        w = list(w.flatten())\n",
    "        TN = w[n]\n",
    "   \n",
    "        # Suma wierszy macierzy:\n",
    "        sumR = M.sum(axis=1)\n",
    "        sumR = list(sumR.flatten())\n",
    "        FP = sumR[n]-TN\n",
    "    \n",
    "        # Suma kolumn macierzy:\n",
    "        sumC = M.sum(axis=0) \n",
    "        sumC = list(sumC.flatten())\n",
    "        FN = sumC[n]-TN\n",
    "        TP = sumoflist(w) - TN\n",
    "    \n",
    "        Recall = np.round(TP/(TP+FN),decimals=3)\n",
    "        Precision = np.round(TP/(TP+FP),decimals=3)\n",
    "        F1 = np.round((2*(Precision*Recall))/(Precision+Recall),decimals=3)\n",
    "        FPR = np.round(FP/(FP + TN),decimals=3)\n",
    "        TPR = np.round(TP/(TP + FN),decimals=3)\n",
    "        FNR = np.round(FN/(TP + FN),decimals=3)\n",
    "        SPEC = np.round(TN/(TN + FP),decimals=3)\n",
    "       \n",
    "        #return TN, FN, TP, FP, F1, Recall, Precision, FPR,TPR,FNR,SPEC\n",
    "        dfv = pd.DataFrame({'Model':name,'Class:':n,'Recall:': [Recall], 'Precision:': [Precision], 'F1:':[F1],'FPR':[FPR],'TPR':[TPR],'FNR':[FNR],'SPEC':[SPEC]})\n",
    "\n",
    "        return    dfv \n",
    "\n",
    "#-------------------------------------------    \n",
    "    import time\n",
    "    start_time = time.time() \n",
    "    \n",
    "    #adres = '/home/wojciech/Pulpit/7/model1.csv' \n",
    "    appended_data = []\n",
    "    \n",
    "    d = y_test.unique()   #<= obliczam ile jest klas do sprawdzenia\n",
    "    d = len(d)\n",
    "    q = list(range(d))\n",
    "    \n",
    "    for k,g in zip(classifiers,names):\n",
    "        for t in q:                                         # każdą klase robi oddzielnie\n",
    "            results = kot(k,g, X_test,y_test,t)\n",
    "            appended_data.append(results)\n",
    "    appended_data = pd.concat(appended_data)\n",
    "    filename =  adres                                         #.format(n)\n",
    "    appended_data.to_csv(filename)\n",
    "    p = np.round((time.time() - start_time),decimals=1)\n",
    "    print(blue(adres),p,\"---\",time.ctime())    "
   ]
  },
  {
   "cell_type": "markdown",
   "metadata": {},
   "source": [
    "## <span style=\"font-size: 170%;color:#783f04;background:#ffd966\"> Tworzenie pliku dla wszystkich modeli"
   ]
  },
  {
   "cell_type": "code",
   "execution_count": 33,
   "metadata": {},
   "outputs": [
    {
     "name": "stdout",
     "output_type": "stream",
     "text": [
      "\u001b[34m/home/wojciech/Pulpit/7/model1.csv\u001b[0m 3.1 --- Sun Jun 21 21:00:04 2020\n"
     ]
    }
   ],
   "source": [
    " Valuator = [] \n",
    "\n",
    "if Model1 < 1:\n",
    "    pass\n",
    "else:    \n",
    "    Multi_valuator(classifiers_1 ,name1, X_test,y_test,csv1)\n",
    "    df_1 = pd.read_csv('/home/wojciech/Pulpit/7/model1.csv')\n",
    "    df_1['comment'] = 'Modele na ustawieniach fabrycznych'\n",
    "    Valuator = pd.concat([df_1], sort=True).sort_values(['FPR','TPR'],ascending=[True,False]) \n",
    "    \n",
    "if Model2 < 1:\n",
    "    pass\n",
    "else:        \n",
    "    Multi_valuator(classifiers_2 ,name2, X_test,y_test,csv2)\n",
    "    df_2 = pd.read_csv('/home/wojciech/Pulpit/7/model2.csv')\n",
    "    df_2['comment'] = 'Modele na ustawieniach fabrycznych po bagging'\n",
    "    Valuator = pd.concat([df_1,df_2], sort=True).sort_values(['FPR','TPR'],ascending=[True,False]) \n",
    "    \n",
    "if Model3 < 1:\n",
    "    pass\n",
    "else:    \n",
    "    Multi_valuator(classifiers_3 ,name3, X_test,y_test,csv3)\n",
    "    df_3 = pd.read_csv('/home/wojciech/Pulpit/7/model3.csv')\n",
    "    df_3['comment'] = 'Modele na ustawieniach fabrycznych po kalibracji'\n",
    "    Valuator = pd.concat([df_1,df_2,df_3], sort=True).sort_values(['FPR','TPR'],ascending=[True,False]) \n",
    "    \n",
    "    \n",
    "if Model4 < 1:\n",
    "    pass\n",
    "else:    \n",
    "    Multi_valuator(classifiers_4 ,name4, X_test,y_test,csv4)\n",
    "    df_4 = pd.read_csv('/home/wojciech/Pulpit/7/model4.csv')\n",
    "    df_4['comment'] = 'Modele na ustawieniach fabrycznych po bagging po kalibracji'\n",
    "    Valuator = pd.concat([df_1,df_2,df_3,df_4], sort=True).sort_values(['FPR','TPR'],ascending=[True,False]) \n",
    "    \n",
    "    \n",
    "#if Model5 < 1:\n",
    "#    pass\n",
    "#else:    \n",
    "#    Multi_valuator(classifiers_5 ,name5, y_test,X_test,csv5)\n",
    "#    df_5 = pd.read_csv('/home/wojciech/Pulpit/7/model5.csv')\n",
    "#    df_5['comment'] = 'Modele na cross-validation'\n",
    "#    Valuator = pd.concat([df_1,df_2,df_3,df_4,df_5], sort=True).sort_values(['FPR','TPR'],ascending=[True,False]) \n",
    "    \n",
    "if Model6 < 1:\n",
    "    pass\n",
    "else:    \n",
    "    Multi_valuator(classifiers_6 ,name6, X_test,y_test,csv6)\n",
    "    df_6 = pd.read_csv('/home/wojciech/Pulpit/7/model6.csv')\n",
    "    df_6['comment'] = 'Modele na ustawieniach optymalnych po bagging'\n",
    "    Valuator = pd.concat([df_1,df_2,df_3,df_4,df_6], sort=True).sort_values(['FPR','TPR'],ascending=[True,False]) \n",
    "    \n",
    "if Model7 < 1:\n",
    "    pass\n",
    "else:      \n",
    "    Multi_valuator(classifiers_7 ,name7, X_test,y_test,csv7)\n",
    "    df_7 = pd.read_csv('/home/wojciech/Pulpit/7/model7.csv')\n",
    "    df_7['comment'] = 'Modele na ustawieniach optymalnych'\n",
    "    Valuator = pd.concat([df_1,df_2,df_3,df_4,df_6,df_7], sort=True).sort_values(['FPR','TPR'],ascending=[True,False]) \n",
    "    \n",
    "if Model8 < 1:\n",
    "    pass\n",
    "else:    \n",
    "    Multi_valuator(classifiers_8 ,name8, X_test,y_test,csv8)\n",
    "    df_8 = pd.read_csv('/home/wojciech/Pulpit/7/model8.csv')\n",
    "    df_8['comment'] = 'Modele na ustawieniach optymalnych po boosting n=3'\n",
    "    Valuator = pd.concat([df_1,df_2,df_3,df_4,df_6,df_7,df_8], sort=True).sort_values(['FPR','TPR'],ascending=[True,False]) \n",
    "    \n",
    "if Model9 < 1:\n",
    "    pass\n",
    "else:    \n",
    "    Multi_valuator(classifiers_9 ,name9, X_test,y_test,csv9)\n",
    "    df_9 = pd.read_csv('/home/wojciech/Pulpit/7/model9.csv')\n",
    "    df_9['comment'] = 'Modele na ustawieniach optymalnych po boosting n=10'\n",
    "    Valuator = pd.concat([df_1,df_2,df_3,df_4,df_6,df_7,df_8,df_9], sort=True).sort_values(['FPR','TPR'],ascending=[True,False]) \n",
    "    \n",
    "if Model10 < 1:\n",
    "    pass\n",
    "else:    \n",
    "    Multi_valuator(classifiers_10 ,name10, X_test,y_test,csv10)\n",
    "    df_10 = pd.read_csv('/home/wojciech/Pulpit/7/model10.csv')\n",
    "    df_10['comment'] = 'Modele na ustawieniach optymalnych po kalibracji (method= isotonic)'\n",
    "    Valuator = pd.concat([df_1,df_2,df_3,df_4,df_6,df_7,df_8,df_9,df_10], sort=True).sort_values(['FPR','TPR'],ascending=[True,False]) \n",
    "    \n",
    "if Model11 < 1:\n",
    "    pass\n",
    "else:    \n",
    "    Multi_valuator(classifiers_11 ,name11, X_test,y_test,csv11)\n",
    "    df_11 = pd.read_csv('/home/wojciech/Pulpit/7/model11.csv')\n",
    "    df_11['comment'] = 'Modele na ustawieniach optymalnych po kalibracji (method= sigmoid )'\n",
    "    Valuator = pd.concat([df_1,df_2,df_3,df_4,df_6,df_7,df_8,df_9,df_10,df_11], sort=True).sort_values(['FPR','TPR'],ascending=[True,False]) "
   ]
  },
  {
   "cell_type": "code",
   "execution_count": 34,
   "metadata": {},
   "outputs": [
    {
     "data": {
      "text/html": [
       "<div>\n",
       "<style scoped>\n",
       "    .dataframe tbody tr th:only-of-type {\n",
       "        vertical-align: middle;\n",
       "    }\n",
       "\n",
       "    .dataframe tbody tr th {\n",
       "        vertical-align: top;\n",
       "    }\n",
       "\n",
       "    .dataframe thead th {\n",
       "        text-align: right;\n",
       "    }\n",
       "</style>\n",
       "<table border=\"1\" class=\"dataframe\">\n",
       "  <thead>\n",
       "    <tr style=\"text-align: right;\">\n",
       "      <th></th>\n",
       "      <th>Class:</th>\n",
       "      <th>F1:</th>\n",
       "      <th>FNR</th>\n",
       "      <th>FPR</th>\n",
       "      <th>Model</th>\n",
       "      <th>Precision:</th>\n",
       "      <th>Recall:</th>\n",
       "      <th>SPEC</th>\n",
       "      <th>TPR</th>\n",
       "      <th>Unnamed: 0</th>\n",
       "      <th>comment</th>\n",
       "    </tr>\n",
       "  </thead>\n",
       "  <tbody>\n",
       "    <tr>\n",
       "      <td>42</td>\n",
       "      <td>0</td>\n",
       "      <td>0.707</td>\n",
       "      <td>0.452</td>\n",
       "      <td>0.250</td>\n",
       "      <td>LRE</td>\n",
       "      <td>0.994</td>\n",
       "      <td>0.548</td>\n",
       "      <td>0.750</td>\n",
       "      <td>0.548</td>\n",
       "      <td>0</td>\n",
       "      <td>Modele na ustawieniach fabrycznych</td>\n",
       "    </tr>\n",
       "    <tr>\n",
       "      <td>52</td>\n",
       "      <td>3</td>\n",
       "      <td>0.695</td>\n",
       "      <td>0.320</td>\n",
       "      <td>0.307</td>\n",
       "      <td>RFC</td>\n",
       "      <td>0.711</td>\n",
       "      <td>0.680</td>\n",
       "      <td>0.693</td>\n",
       "      <td>0.680</td>\n",
       "      <td>0</td>\n",
       "      <td>Modele na ustawieniach fabrycznych</td>\n",
       "    </tr>\n",
       "    <tr>\n",
       "      <td>51</td>\n",
       "      <td>2</td>\n",
       "      <td>0.823</td>\n",
       "      <td>0.182</td>\n",
       "      <td>0.309</td>\n",
       "      <td>RFC</td>\n",
       "      <td>0.829</td>\n",
       "      <td>0.818</td>\n",
       "      <td>0.691</td>\n",
       "      <td>0.818</td>\n",
       "      <td>0</td>\n",
       "      <td>Modele na ustawieniach fabrycznych</td>\n",
       "    </tr>\n",
       "    <tr>\n",
       "      <td>17</td>\n",
       "      <td>3</td>\n",
       "      <td>0.666</td>\n",
       "      <td>0.360</td>\n",
       "      <td>0.318</td>\n",
       "      <td>XGB</td>\n",
       "      <td>0.694</td>\n",
       "      <td>0.640</td>\n",
       "      <td>0.682</td>\n",
       "      <td>0.640</td>\n",
       "      <td>0</td>\n",
       "      <td>Modele na ustawieniach fabrycznych</td>\n",
       "    </tr>\n",
       "    <tr>\n",
       "      <td>24</td>\n",
       "      <td>3</td>\n",
       "      <td>0.682</td>\n",
       "      <td>0.328</td>\n",
       "      <td>0.330</td>\n",
       "      <td>LGBM</td>\n",
       "      <td>0.692</td>\n",
       "      <td>0.672</td>\n",
       "      <td>0.670</td>\n",
       "      <td>0.672</td>\n",
       "      <td>0</td>\n",
       "      <td>Modele na ustawieniach fabrycznych</td>\n",
       "    </tr>\n",
       "    <tr>\n",
       "      <td>...</td>\n",
       "      <td>...</td>\n",
       "      <td>...</td>\n",
       "      <td>...</td>\n",
       "      <td>...</td>\n",
       "      <td>...</td>\n",
       "      <td>...</td>\n",
       "      <td>...</td>\n",
       "      <td>...</td>\n",
       "      <td>...</td>\n",
       "      <td>...</td>\n",
       "      <td>...</td>\n",
       "    </tr>\n",
       "    <tr>\n",
       "      <td>41</td>\n",
       "      <td>6</td>\n",
       "      <td>0.998</td>\n",
       "      <td>0.000</td>\n",
       "      <td>1.000</td>\n",
       "      <td>NBC</td>\n",
       "      <td>0.997</td>\n",
       "      <td>1.000</td>\n",
       "      <td>0.000</td>\n",
       "      <td>1.000</td>\n",
       "      <td>0</td>\n",
       "      <td>Modele na ustawieniach fabrycznych</td>\n",
       "    </tr>\n",
       "    <tr>\n",
       "      <td>55</td>\n",
       "      <td>6</td>\n",
       "      <td>0.999</td>\n",
       "      <td>0.000</td>\n",
       "      <td>1.000</td>\n",
       "      <td>RFC</td>\n",
       "      <td>0.998</td>\n",
       "      <td>1.000</td>\n",
       "      <td>0.000</td>\n",
       "      <td>1.000</td>\n",
       "      <td>0</td>\n",
       "      <td>Modele na ustawieniach fabrycznych</td>\n",
       "    </tr>\n",
       "    <tr>\n",
       "      <td>62</td>\n",
       "      <td>6</td>\n",
       "      <td>0.998</td>\n",
       "      <td>0.002</td>\n",
       "      <td>1.000</td>\n",
       "      <td>GBC</td>\n",
       "      <td>0.998</td>\n",
       "      <td>0.998</td>\n",
       "      <td>0.000</td>\n",
       "      <td>0.998</td>\n",
       "      <td>0</td>\n",
       "      <td>Modele na ustawieniach fabrycznych</td>\n",
       "    </tr>\n",
       "    <tr>\n",
       "      <td>48</td>\n",
       "      <td>6</td>\n",
       "      <td>0.806</td>\n",
       "      <td>0.322</td>\n",
       "      <td>1.000</td>\n",
       "      <td>LRE</td>\n",
       "      <td>0.995</td>\n",
       "      <td>0.678</td>\n",
       "      <td>0.000</td>\n",
       "      <td>0.678</td>\n",
       "      <td>0</td>\n",
       "      <td>Modele na ustawieniach fabrycznych</td>\n",
       "    </tr>\n",
       "    <tr>\n",
       "      <td>6</td>\n",
       "      <td>6</td>\n",
       "      <td>0.785</td>\n",
       "      <td>0.352</td>\n",
       "      <td>1.000</td>\n",
       "      <td>SVM</td>\n",
       "      <td>0.995</td>\n",
       "      <td>0.648</td>\n",
       "      <td>0.000</td>\n",
       "      <td>0.648</td>\n",
       "      <td>0</td>\n",
       "      <td>Modele na ustawieniach fabrycznych</td>\n",
       "    </tr>\n",
       "  </tbody>\n",
       "</table>\n",
       "<p>63 rows × 11 columns</p>\n",
       "</div>"
      ],
      "text/plain": [
       "    Class:    F1:    FNR    FPR Model  Precision:  Recall:   SPEC    TPR  \\\n",
       "42       0  0.707  0.452  0.250   LRE       0.994    0.548  0.750  0.548   \n",
       "52       3  0.695  0.320  0.307   RFC       0.711    0.680  0.693  0.680   \n",
       "51       2  0.823  0.182  0.309   RFC       0.829    0.818  0.691  0.818   \n",
       "17       3  0.666  0.360  0.318   XGB       0.694    0.640  0.682  0.640   \n",
       "24       3  0.682  0.328  0.330  LGBM       0.692    0.672  0.670  0.672   \n",
       "..     ...    ...    ...    ...   ...         ...      ...    ...    ...   \n",
       "41       6  0.998  0.000  1.000   NBC       0.997    1.000  0.000  1.000   \n",
       "55       6  0.999  0.000  1.000   RFC       0.998    1.000  0.000  1.000   \n",
       "62       6  0.998  0.002  1.000   GBC       0.998    0.998  0.000  0.998   \n",
       "48       6  0.806  0.322  1.000   LRE       0.995    0.678  0.000  0.678   \n",
       "6        6  0.785  0.352  1.000   SVM       0.995    0.648  0.000  0.648   \n",
       "\n",
       "    Unnamed: 0                             comment  \n",
       "42           0  Modele na ustawieniach fabrycznych  \n",
       "52           0  Modele na ustawieniach fabrycznych  \n",
       "51           0  Modele na ustawieniach fabrycznych  \n",
       "17           0  Modele na ustawieniach fabrycznych  \n",
       "24           0  Modele na ustawieniach fabrycznych  \n",
       "..         ...                                 ...  \n",
       "41           0  Modele na ustawieniach fabrycznych  \n",
       "55           0  Modele na ustawieniach fabrycznych  \n",
       "62           0  Modele na ustawieniach fabrycznych  \n",
       "48           0  Modele na ustawieniach fabrycznych  \n",
       "6            0  Modele na ustawieniach fabrycznych  \n",
       "\n",
       "[63 rows x 11 columns]"
      ]
     },
     "execution_count": 34,
     "metadata": {},
     "output_type": "execute_result"
    }
   ],
   "source": [
    "Valuator"
   ]
  },
  {
   "cell_type": "code",
   "execution_count": 35,
   "metadata": {},
   "outputs": [],
   "source": [
    "del Valuator['Unnamed: 0']"
   ]
  },
  {
   "cell_type": "code",
   "execution_count": 36,
   "metadata": {},
   "outputs": [
    {
     "data": {
      "text/html": [
       "<div>\n",
       "<style scoped>\n",
       "    .dataframe tbody tr th:only-of-type {\n",
       "        vertical-align: middle;\n",
       "    }\n",
       "\n",
       "    .dataframe tbody tr th {\n",
       "        vertical-align: top;\n",
       "    }\n",
       "\n",
       "    .dataframe thead th {\n",
       "        text-align: right;\n",
       "    }\n",
       "</style>\n",
       "<table border=\"1\" class=\"dataframe\">\n",
       "  <thead>\n",
       "    <tr style=\"text-align: right;\">\n",
       "      <th></th>\n",
       "      <th>Class:</th>\n",
       "      <th>F1:</th>\n",
       "      <th>FNR</th>\n",
       "      <th>FPR</th>\n",
       "      <th>Model</th>\n",
       "      <th>Precision:</th>\n",
       "      <th>Recall:</th>\n",
       "      <th>SPEC</th>\n",
       "      <th>TPR</th>\n",
       "      <th>comment</th>\n",
       "    </tr>\n",
       "  </thead>\n",
       "  <tbody>\n",
       "    <tr>\n",
       "      <td>42</td>\n",
       "      <td>0</td>\n",
       "      <td>0.707</td>\n",
       "      <td>0.452</td>\n",
       "      <td>0.250</td>\n",
       "      <td>LRE</td>\n",
       "      <td>0.994</td>\n",
       "      <td>0.548</td>\n",
       "      <td>0.750</td>\n",
       "      <td>0.548</td>\n",
       "      <td>Modele na ustawieniach fabrycznych</td>\n",
       "    </tr>\n",
       "    <tr>\n",
       "      <td>52</td>\n",
       "      <td>3</td>\n",
       "      <td>0.695</td>\n",
       "      <td>0.320</td>\n",
       "      <td>0.307</td>\n",
       "      <td>RFC</td>\n",
       "      <td>0.711</td>\n",
       "      <td>0.680</td>\n",
       "      <td>0.693</td>\n",
       "      <td>0.680</td>\n",
       "      <td>Modele na ustawieniach fabrycznych</td>\n",
       "    </tr>\n",
       "    <tr>\n",
       "      <td>51</td>\n",
       "      <td>2</td>\n",
       "      <td>0.823</td>\n",
       "      <td>0.182</td>\n",
       "      <td>0.309</td>\n",
       "      <td>RFC</td>\n",
       "      <td>0.829</td>\n",
       "      <td>0.818</td>\n",
       "      <td>0.691</td>\n",
       "      <td>0.818</td>\n",
       "      <td>Modele na ustawieniach fabrycznych</td>\n",
       "    </tr>\n",
       "    <tr>\n",
       "      <td>17</td>\n",
       "      <td>3</td>\n",
       "      <td>0.666</td>\n",
       "      <td>0.360</td>\n",
       "      <td>0.318</td>\n",
       "      <td>XGB</td>\n",
       "      <td>0.694</td>\n",
       "      <td>0.640</td>\n",
       "      <td>0.682</td>\n",
       "      <td>0.640</td>\n",
       "      <td>Modele na ustawieniach fabrycznych</td>\n",
       "    </tr>\n",
       "    <tr>\n",
       "      <td>24</td>\n",
       "      <td>3</td>\n",
       "      <td>0.682</td>\n",
       "      <td>0.328</td>\n",
       "      <td>0.330</td>\n",
       "      <td>LGBM</td>\n",
       "      <td>0.692</td>\n",
       "      <td>0.672</td>\n",
       "      <td>0.670</td>\n",
       "      <td>0.672</td>\n",
       "      <td>Modele na ustawieniach fabrycznych</td>\n",
       "    </tr>\n",
       "    <tr>\n",
       "      <td>...</td>\n",
       "      <td>...</td>\n",
       "      <td>...</td>\n",
       "      <td>...</td>\n",
       "      <td>...</td>\n",
       "      <td>...</td>\n",
       "      <td>...</td>\n",
       "      <td>...</td>\n",
       "      <td>...</td>\n",
       "      <td>...</td>\n",
       "      <td>...</td>\n",
       "    </tr>\n",
       "    <tr>\n",
       "      <td>41</td>\n",
       "      <td>6</td>\n",
       "      <td>0.998</td>\n",
       "      <td>0.000</td>\n",
       "      <td>1.000</td>\n",
       "      <td>NBC</td>\n",
       "      <td>0.997</td>\n",
       "      <td>1.000</td>\n",
       "      <td>0.000</td>\n",
       "      <td>1.000</td>\n",
       "      <td>Modele na ustawieniach fabrycznych</td>\n",
       "    </tr>\n",
       "    <tr>\n",
       "      <td>55</td>\n",
       "      <td>6</td>\n",
       "      <td>0.999</td>\n",
       "      <td>0.000</td>\n",
       "      <td>1.000</td>\n",
       "      <td>RFC</td>\n",
       "      <td>0.998</td>\n",
       "      <td>1.000</td>\n",
       "      <td>0.000</td>\n",
       "      <td>1.000</td>\n",
       "      <td>Modele na ustawieniach fabrycznych</td>\n",
       "    </tr>\n",
       "    <tr>\n",
       "      <td>62</td>\n",
       "      <td>6</td>\n",
       "      <td>0.998</td>\n",
       "      <td>0.002</td>\n",
       "      <td>1.000</td>\n",
       "      <td>GBC</td>\n",
       "      <td>0.998</td>\n",
       "      <td>0.998</td>\n",
       "      <td>0.000</td>\n",
       "      <td>0.998</td>\n",
       "      <td>Modele na ustawieniach fabrycznych</td>\n",
       "    </tr>\n",
       "    <tr>\n",
       "      <td>48</td>\n",
       "      <td>6</td>\n",
       "      <td>0.806</td>\n",
       "      <td>0.322</td>\n",
       "      <td>1.000</td>\n",
       "      <td>LRE</td>\n",
       "      <td>0.995</td>\n",
       "      <td>0.678</td>\n",
       "      <td>0.000</td>\n",
       "      <td>0.678</td>\n",
       "      <td>Modele na ustawieniach fabrycznych</td>\n",
       "    </tr>\n",
       "    <tr>\n",
       "      <td>6</td>\n",
       "      <td>6</td>\n",
       "      <td>0.785</td>\n",
       "      <td>0.352</td>\n",
       "      <td>1.000</td>\n",
       "      <td>SVM</td>\n",
       "      <td>0.995</td>\n",
       "      <td>0.648</td>\n",
       "      <td>0.000</td>\n",
       "      <td>0.648</td>\n",
       "      <td>Modele na ustawieniach fabrycznych</td>\n",
       "    </tr>\n",
       "  </tbody>\n",
       "</table>\n",
       "<p>63 rows × 10 columns</p>\n",
       "</div>"
      ],
      "text/plain": [
       "    Class:    F1:    FNR    FPR Model  Precision:  Recall:   SPEC    TPR  \\\n",
       "42       0  0.707  0.452  0.250   LRE       0.994    0.548  0.750  0.548   \n",
       "52       3  0.695  0.320  0.307   RFC       0.711    0.680  0.693  0.680   \n",
       "51       2  0.823  0.182  0.309   RFC       0.829    0.818  0.691  0.818   \n",
       "17       3  0.666  0.360  0.318   XGB       0.694    0.640  0.682  0.640   \n",
       "24       3  0.682  0.328  0.330  LGBM       0.692    0.672  0.670  0.672   \n",
       "..     ...    ...    ...    ...   ...         ...      ...    ...    ...   \n",
       "41       6  0.998  0.000  1.000   NBC       0.997    1.000  0.000  1.000   \n",
       "55       6  0.999  0.000  1.000   RFC       0.998    1.000  0.000  1.000   \n",
       "62       6  0.998  0.002  1.000   GBC       0.998    0.998  0.000  0.998   \n",
       "48       6  0.806  0.322  1.000   LRE       0.995    0.678  0.000  0.678   \n",
       "6        6  0.785  0.352  1.000   SVM       0.995    0.648  0.000  0.648   \n",
       "\n",
       "                               comment  \n",
       "42  Modele na ustawieniach fabrycznych  \n",
       "52  Modele na ustawieniach fabrycznych  \n",
       "51  Modele na ustawieniach fabrycznych  \n",
       "17  Modele na ustawieniach fabrycznych  \n",
       "24  Modele na ustawieniach fabrycznych  \n",
       "..                                 ...  \n",
       "41  Modele na ustawieniach fabrycznych  \n",
       "55  Modele na ustawieniach fabrycznych  \n",
       "62  Modele na ustawieniach fabrycznych  \n",
       "48  Modele na ustawieniach fabrycznych  \n",
       "6   Modele na ustawieniach fabrycznych  \n",
       "\n",
       "[63 rows x 10 columns]"
      ]
     },
     "execution_count": 36,
     "metadata": {},
     "output_type": "execute_result"
    }
   ],
   "source": [
    "Valuator"
   ]
  },
  {
   "cell_type": "code",
   "execution_count": 37,
   "metadata": {},
   "outputs": [
    {
     "data": {
      "text/html": [
       "<div>\n",
       "<style scoped>\n",
       "    .dataframe tbody tr th:only-of-type {\n",
       "        vertical-align: middle;\n",
       "    }\n",
       "\n",
       "    .dataframe tbody tr th {\n",
       "        vertical-align: top;\n",
       "    }\n",
       "\n",
       "    .dataframe thead tr th {\n",
       "        text-align: left;\n",
       "    }\n",
       "\n",
       "    .dataframe thead tr:last-of-type th {\n",
       "        text-align: right;\n",
       "    }\n",
       "</style>\n",
       "<table border=\"1\" class=\"dataframe\">\n",
       "  <thead>\n",
       "    <tr>\n",
       "      <th></th>\n",
       "      <th></th>\n",
       "      <th colspan=\"7\" halign=\"left\">mean</th>\n",
       "    </tr>\n",
       "    <tr>\n",
       "      <th></th>\n",
       "      <th></th>\n",
       "      <th>F1:</th>\n",
       "      <th>FNR</th>\n",
       "      <th>FPR</th>\n",
       "      <th>Precision:</th>\n",
       "      <th>Recall:</th>\n",
       "      <th>SPEC</th>\n",
       "      <th>TPR</th>\n",
       "    </tr>\n",
       "    <tr>\n",
       "      <th>Model</th>\n",
       "      <th>comment</th>\n",
       "      <th></th>\n",
       "      <th></th>\n",
       "      <th></th>\n",
       "      <th></th>\n",
       "      <th></th>\n",
       "      <th></th>\n",
       "      <th></th>\n",
       "    </tr>\n",
       "  </thead>\n",
       "  <tbody>\n",
       "    <tr>\n",
       "      <td>CBC</td>\n",
       "      <td>Modele na ustawieniach fabrycznych</td>\n",
       "      <td>0.899000</td>\n",
       "      <td>0.100714</td>\n",
       "      <td>0.548000</td>\n",
       "      <td>0.899143</td>\n",
       "      <td>0.899286</td>\n",
       "      <td>0.452000</td>\n",
       "      <td>0.899286</td>\n",
       "    </tr>\n",
       "    <tr>\n",
       "      <td>GBC</td>\n",
       "      <td>Modele na ustawieniach fabrycznych</td>\n",
       "      <td>0.887429</td>\n",
       "      <td>0.112429</td>\n",
       "      <td>0.543143</td>\n",
       "      <td>0.889429</td>\n",
       "      <td>0.887571</td>\n",
       "      <td>0.456857</td>\n",
       "      <td>0.887571</td>\n",
       "    </tr>\n",
       "    <tr>\n",
       "      <td>KNN</td>\n",
       "      <td>Modele na ustawieniach fabrycznych</td>\n",
       "      <td>0.874714</td>\n",
       "      <td>0.125286</td>\n",
       "      <td>0.587714</td>\n",
       "      <td>0.874857</td>\n",
       "      <td>0.874714</td>\n",
       "      <td>0.412286</td>\n",
       "      <td>0.874714</td>\n",
       "    </tr>\n",
       "    <tr>\n",
       "      <td>LGBM</td>\n",
       "      <td>Modele na ustawieniach fabrycznych</td>\n",
       "      <td>0.901857</td>\n",
       "      <td>0.097714</td>\n",
       "      <td>0.543286</td>\n",
       "      <td>0.901714</td>\n",
       "      <td>0.902286</td>\n",
       "      <td>0.456714</td>\n",
       "      <td>0.902286</td>\n",
       "    </tr>\n",
       "    <tr>\n",
       "      <td>LRE</td>\n",
       "      <td>Modele na ustawieniach fabrycznych</td>\n",
       "      <td>0.592714</td>\n",
       "      <td>0.409143</td>\n",
       "      <td>0.691000</td>\n",
       "      <td>0.698000</td>\n",
       "      <td>0.590857</td>\n",
       "      <td>0.309000</td>\n",
       "      <td>0.590857</td>\n",
       "    </tr>\n",
       "    <tr>\n",
       "      <td>NBC</td>\n",
       "      <td>Modele na ustawieniach fabrycznych</td>\n",
       "      <td>0.767714</td>\n",
       "      <td>0.232571</td>\n",
       "      <td>0.652857</td>\n",
       "      <td>0.795714</td>\n",
       "      <td>0.767429</td>\n",
       "      <td>0.347143</td>\n",
       "      <td>0.767429</td>\n",
       "    </tr>\n",
       "    <tr>\n",
       "      <td>RFC</td>\n",
       "      <td>Modele na ustawieniach fabrycznych</td>\n",
       "      <td>0.906714</td>\n",
       "      <td>0.092857</td>\n",
       "      <td>0.545000</td>\n",
       "      <td>0.907000</td>\n",
       "      <td>0.907143</td>\n",
       "      <td>0.455000</td>\n",
       "      <td>0.907143</td>\n",
       "    </tr>\n",
       "    <tr>\n",
       "      <td>SVM</td>\n",
       "      <td>Modele na ustawieniach fabrycznych</td>\n",
       "      <td>0.603000</td>\n",
       "      <td>0.384571</td>\n",
       "      <td>0.727857</td>\n",
       "      <td>0.695857</td>\n",
       "      <td>0.615429</td>\n",
       "      <td>0.272143</td>\n",
       "      <td>0.615429</td>\n",
       "    </tr>\n",
       "    <tr>\n",
       "      <td>XGB</td>\n",
       "      <td>Modele na ustawieniach fabrycznych</td>\n",
       "      <td>0.900143</td>\n",
       "      <td>0.099000</td>\n",
       "      <td>0.544143</td>\n",
       "      <td>0.900143</td>\n",
       "      <td>0.901000</td>\n",
       "      <td>0.455857</td>\n",
       "      <td>0.901000</td>\n",
       "    </tr>\n",
       "  </tbody>\n",
       "</table>\n",
       "</div>"
      ],
      "text/plain": [
       "                                              mean                      \\\n",
       "                                               F1:       FNR       FPR   \n",
       "Model comment                                                            \n",
       "CBC   Modele na ustawieniach fabrycznych  0.899000  0.100714  0.548000   \n",
       "GBC   Modele na ustawieniach fabrycznych  0.887429  0.112429  0.543143   \n",
       "KNN   Modele na ustawieniach fabrycznych  0.874714  0.125286  0.587714   \n",
       "LGBM  Modele na ustawieniach fabrycznych  0.901857  0.097714  0.543286   \n",
       "LRE   Modele na ustawieniach fabrycznych  0.592714  0.409143  0.691000   \n",
       "NBC   Modele na ustawieniach fabrycznych  0.767714  0.232571  0.652857   \n",
       "RFC   Modele na ustawieniach fabrycznych  0.906714  0.092857  0.545000   \n",
       "SVM   Modele na ustawieniach fabrycznych  0.603000  0.384571  0.727857   \n",
       "XGB   Modele na ustawieniach fabrycznych  0.900143  0.099000  0.544143   \n",
       "\n",
       "                                                                         \\\n",
       "                                         Precision:   Recall:      SPEC   \n",
       "Model comment                                                             \n",
       "CBC   Modele na ustawieniach fabrycznych   0.899143  0.899286  0.452000   \n",
       "GBC   Modele na ustawieniach fabrycznych   0.889429  0.887571  0.456857   \n",
       "KNN   Modele na ustawieniach fabrycznych   0.874857  0.874714  0.412286   \n",
       "LGBM  Modele na ustawieniach fabrycznych   0.901714  0.902286  0.456714   \n",
       "LRE   Modele na ustawieniach fabrycznych   0.698000  0.590857  0.309000   \n",
       "NBC   Modele na ustawieniach fabrycznych   0.795714  0.767429  0.347143   \n",
       "RFC   Modele na ustawieniach fabrycznych   0.907000  0.907143  0.455000   \n",
       "SVM   Modele na ustawieniach fabrycznych   0.695857  0.615429  0.272143   \n",
       "XGB   Modele na ustawieniach fabrycznych   0.900143  0.901000  0.455857   \n",
       "\n",
       "                                                    \n",
       "                                               TPR  \n",
       "Model comment                                       \n",
       "CBC   Modele na ustawieniach fabrycznych  0.899286  \n",
       "GBC   Modele na ustawieniach fabrycznych  0.887571  \n",
       "KNN   Modele na ustawieniach fabrycznych  0.874714  \n",
       "LGBM  Modele na ustawieniach fabrycznych  0.902286  \n",
       "LRE   Modele na ustawieniach fabrycznych  0.590857  \n",
       "NBC   Modele na ustawieniach fabrycznych  0.767429  \n",
       "RFC   Modele na ustawieniach fabrycznych  0.907143  \n",
       "SVM   Modele na ustawieniach fabrycznych  0.615429  \n",
       "XGB   Modele na ustawieniach fabrycznych  0.901000  "
      ]
     },
     "execution_count": 37,
     "metadata": {},
     "output_type": "execute_result"
    }
   ],
   "source": [
    "df5 = pd.pivot_table(Valuator, index=['Model','comment'], values=['Recall:','Precision:','F1:','FPR','TPR','FNR','SPEC'],aggfunc=[np.mean])\n",
    "df5"
   ]
  },
  {
   "cell_type": "code",
   "execution_count": 38,
   "metadata": {},
   "outputs": [
    {
     "data": {
      "text/plain": [
       "MultiIndex([('mean',        'F1:'),\n",
       "            ('mean',        'FNR'),\n",
       "            ('mean',        'FPR'),\n",
       "            ('mean', 'Precision:'),\n",
       "            ('mean',    'Recall:'),\n",
       "            ('mean',       'SPEC'),\n",
       "            ('mean',        'TPR')],\n",
       "           )"
      ]
     },
     "execution_count": 38,
     "metadata": {},
     "output_type": "execute_result"
    }
   ],
   "source": [
    "df5.columns"
   ]
  },
  {
   "cell_type": "code",
   "execution_count": 39,
   "metadata": {},
   "outputs": [
    {
     "data": {
      "text/plain": [
       "Index(['Recall:', 'Precision:', 'F1:', 'FPR', 'TPR', 'FNR', 'SPEC'], dtype='object')"
      ]
     },
     "execution_count": 39,
     "metadata": {},
     "output_type": "execute_result"
    }
   ],
   "source": [
    "df5.columns =['Recall:','Precision:','F1:','FPR','TPR','FNR','SPEC']\n",
    "df5.reset_index\n",
    "df5.columns"
   ]
  },
  {
   "cell_type": "code",
   "execution_count": 40,
   "metadata": {},
   "outputs": [],
   "source": [
    "#df5.reset_index"
   ]
  },
  {
   "cell_type": "code",
   "execution_count": 41,
   "metadata": {},
   "outputs": [
    {
     "name": "stdout",
     "output_type": "stream",
     "text": [
      "\u001b[1;31mFalse_Positive_Rate\u001b[0m \u001b[3;31mprocentowy udział ludzi zdrowych uznanych przez model za chorych w populacji ludzi zdrowych\u001b[0m\n",
      "\u001b[1;31mTrue_Positive_Rate RECALL\u001b[0m \u001b[3;31mprocentowy udział chorych dobrze zdiagnozowanych w populacji ludzi chorych ogółem\u001b[0m\n",
      "\u001b[1;30mFalse_Negative_Rate\u001b[0m \u001b[3;30mprocentowy udział niewykrytych chorych w populacji ludzi chorych ogółem\u001b[0m\n",
      "\u001b[1;30mSpecifity\u001b[0m \u001b[3;30mprocentowy udział ludzi zdrowych uznanych za zdrowych w populacji ludzi zdrowych\u001b[0m\n"
     ]
    },
    {
     "data": {
      "text/html": [
       "<div>\n",
       "<style scoped>\n",
       "    .dataframe tbody tr th:only-of-type {\n",
       "        vertical-align: middle;\n",
       "    }\n",
       "\n",
       "    .dataframe tbody tr th {\n",
       "        vertical-align: top;\n",
       "    }\n",
       "\n",
       "    .dataframe thead th {\n",
       "        text-align: right;\n",
       "    }\n",
       "</style>\n",
       "<table border=\"1\" class=\"dataframe\">\n",
       "  <thead>\n",
       "    <tr style=\"text-align: right;\">\n",
       "      <th></th>\n",
       "      <th></th>\n",
       "      <th>Recall:</th>\n",
       "      <th>FPR</th>\n",
       "    </tr>\n",
       "    <tr>\n",
       "      <th>Model</th>\n",
       "      <th>comment</th>\n",
       "      <th></th>\n",
       "      <th></th>\n",
       "    </tr>\n",
       "  </thead>\n",
       "  <tbody>\n",
       "    <tr>\n",
       "      <td>CBC</td>\n",
       "      <td>Modele na ustawieniach fabrycznych</td>\n",
       "      <td>0.899000</td>\n",
       "      <td>0.899143</td>\n",
       "    </tr>\n",
       "    <tr>\n",
       "      <td>GBC</td>\n",
       "      <td>Modele na ustawieniach fabrycznych</td>\n",
       "      <td>0.887429</td>\n",
       "      <td>0.889429</td>\n",
       "    </tr>\n",
       "    <tr>\n",
       "      <td>KNN</td>\n",
       "      <td>Modele na ustawieniach fabrycznych</td>\n",
       "      <td>0.874714</td>\n",
       "      <td>0.874857</td>\n",
       "    </tr>\n",
       "    <tr>\n",
       "      <td>NBC</td>\n",
       "      <td>Modele na ustawieniach fabrycznych</td>\n",
       "      <td>0.767714</td>\n",
       "      <td>0.795714</td>\n",
       "    </tr>\n",
       "  </tbody>\n",
       "</table>\n",
       "</div>"
      ],
      "text/plain": [
       "                                           Recall:       FPR\n",
       "Model comment                                               \n",
       "CBC   Modele na ustawieniach fabrycznych  0.899000  0.899143\n",
       "GBC   Modele na ustawieniach fabrycznych  0.887429  0.889429\n",
       "KNN   Modele na ustawieniach fabrycznych  0.874714  0.874857\n",
       "NBC   Modele na ustawieniach fabrycznych  0.767714  0.795714"
      ]
     },
     "execution_count": 41,
     "metadata": {},
     "output_type": "execute_result"
    }
   ],
   "source": [
    "from simple_colors import *\n",
    "\n",
    "print(red('False_Positive_Rate','bold'),red('procentowy udział ludzi zdrowych uznanych przez model za chorych w populacji ludzi zdrowych','italic'))\n",
    "print(red('True_Positive_Rate RECALL','bold'), red('procentowy udział chorych dobrze zdiagnozowanych w populacji ludzi chorych ogółem','italic'))\n",
    "print(black('False_Negative_Rate','bold'), black('procentowy udział niewykrytych chorych w populacji ludzi chorych ogółem','italic'))\n",
    "print(black('Specifity','bold'), black('procentowy udział ludzi zdrowych uznanych za zdrowych w populacji ludzi zdrowych','italic'))\n",
    "#df5[['Model', 'comment','TPR','FPR']]\n",
    "best = df5[(df5['Recall:']>0.75) &(df5['FPR']<0.90)]\n",
    "best = best[['Recall:','FPR']]\n",
    "best"
   ]
  },
  {
   "cell_type": "code",
   "execution_count": 42,
   "metadata": {},
   "outputs": [
    {
     "data": {
      "text/plain": [
       "[('CBC', 'Modele na ustawieniach fabrycznych'),\n",
       " ('GBC', 'Modele na ustawieniach fabrycznych'),\n",
       " ('KNN', 'Modele na ustawieniach fabrycznych'),\n",
       " ('NBC', 'Modele na ustawieniach fabrycznych')]"
      ]
     },
     "execution_count": 42,
     "metadata": {},
     "output_type": "execute_result"
    }
   ],
   "source": [
    "best.index.to_list()"
   ]
  },
  {
   "cell_type": "code",
   "execution_count": 43,
   "metadata": {},
   "outputs": [
    {
     "ename": "NameError",
     "evalue": "name 'stop' is not defined",
     "output_type": "error",
     "traceback": [
      "\u001b[0;31m---------------------------------------------------------------------------\u001b[0m",
      "\u001b[0;31mNameError\u001b[0m                                 Traceback (most recent call last)",
      "\u001b[0;32m<ipython-input-43-4f76a9dad686>\u001b[0m in \u001b[0;36m<module>\u001b[0;34m\u001b[0m\n\u001b[0;32m----> 1\u001b[0;31m \u001b[0mstop\u001b[0m\u001b[0;34m\u001b[0m\u001b[0;34m\u001b[0m\u001b[0m\n\u001b[0m",
      "\u001b[0;31mNameError\u001b[0m: name 'stop' is not defined"
     ]
    }
   ],
   "source": [
    "stop"
   ]
  },
  {
   "cell_type": "markdown",
   "metadata": {},
   "source": [
    "## <div class=\"alert-danger\"> Wybieramy manualnie modele do walidacji"
   ]
  },
  {
   "cell_type": "code",
   "execution_count": 44,
   "metadata": {},
   "outputs": [],
   "source": [
    "clasifier_VAL = [SVM,CBC,XGB,LGBM,KNN,NBC,LRE,RFC,GBC]\n",
    "name_VAL = ['SVM','CBC','XGB','LGBM','KNN','NBC','LRE','RFC','GBC']"
   ]
  },
  {
   "cell_type": "markdown",
   "metadata": {},
   "source": [
    "## <span style=\"font-size: 150%;color:#6fa8dc;background:#cfe2f3\">Models Valuation"
   ]
  },
  {
   "cell_type": "markdown",
   "metadata": {},
   "source": [
    "## <span style=\"font-size: 150%;color:#783f04;background:#ffd966\">Recall - Precision!"
   ]
  },
  {
   "cell_type": "code",
   "execution_count": null,
   "metadata": {},
   "outputs": [],
   "source": [
    "def Recall_Precision(six_classifiers,name, X_train, y_train,X_test,y_test,calibration=True):\n",
    "\n",
    "    from sklearn.datasets import make_classification\n",
    "    from sklearn.calibration import CalibratedClassifierCV, calibration_curve  \n",
    "    \n",
    "    import numpy as np\n",
    "    import matplotlib.pyplot as plt\n",
    "    from sklearn import metrics\n",
    "    from sklearn.metrics import classification_report, confusion_matrix\n",
    "    from sklearn.metrics import confusion_matrix, log_loss, auc, roc_curve, roc_auc_score, recall_score, precision_recall_curve\n",
    "    from sklearn.metrics import make_scorer, precision_score, fbeta_score, f1_score, classification_report\n",
    "    from sklearn.metrics import accuracy_score\n",
    "    from mlxtend.plotting import plot_learning_curves\n",
    "    from prettytable import PrettyTable\n",
    "    import time   \n",
    "    \n",
    "    start_time = time.time()\n",
    "    \n",
    "    #for cls in six_classifiers:\n",
    "    #    cls.fit(X_train, y_train)\n",
    "      \n",
    "    \n",
    "    Recall_Training = ['Recall Training: ']\n",
    "    Precision_Training = ['Precision Training: ']\n",
    "    Recall_Test= ['Recall Test: ']\n",
    "    Precision_Test = ['Precision Test: ']\n",
    "    \n",
    "    CAL_Recall_Training = ['CAL_Recall Training: ']\n",
    "    CAL_Precision_Training = ['CAL_Precision Training: ']\n",
    "    CAL_Recall_Test= ['CAL_Recall Test: ']\n",
    "    CAL_Precision_Test = ['CAL_Precision Test: ']   \n",
    "\n",
    "    def compute_metric2(model):\n",
    "        \n",
    "        Recall_Training = np.round(recall_score(y_train, model.predict(X_train),average='macro'), decimals=3)\n",
    "        Precision_Training = np.round(precision_score(y_train, model.predict(X_train), average='macro'), decimals=3)\n",
    "        Recall_Test = np.round(recall_score(y_test, model.predict(X_test),average='macro'), decimals=3) \n",
    "        Precision_Test = np.round(precision_score(y_test, model.predict(X_test), average='macro'), decimals=3)\n",
    "        \n",
    "        return Recall_Training, Precision_Training, Recall_Test, Precision_Test\n",
    "    \n",
    "    for cls in six_classifiers:\n",
    "\n",
    "        results = compute_metric2(cls)\n",
    "        Recall_Training.append(results[0])\n",
    "        Precision_Training.append(results[1])\n",
    "        Recall_Test.append(blue(results[2],'bold'))\n",
    "        Precision_Test.append((blue(results[3],'bold')))\n",
    "   \n",
    "    \n",
    "    t = PrettyTable(['Name', name[0],name[1],name[2],name[3],name[4],name[5],name[6],name[7],name[8]])\n",
    "    t.add_row(Recall_Training)\n",
    "    t.add_row(Precision_Training)\n",
    "    t.add_row(Recall_Test)\n",
    "    t.add_row(Precision_Test)\n",
    "\n",
    "    \n",
    "    print(blue('Models before calibration','bold'))\n",
    "    g = (time.time() - start_time)\n",
    "    g = np.round(g)\n",
    "    print('time: %s seconds' % g)\n",
    "    print(t)\n",
    "    \n",
    "  ### ---------------------------------------------------------  \n",
    "    \n",
    "    \n",
    "    if calibration != True:\n",
    "        print()\n",
    "    else:    \n",
    "        print(blue('Models after calibration','bold'))\n",
    "\n",
    "            \n",
    "        \n",
    "    print(blue('Wskaźniki pokazują RECALL i PRECISION dla klasy 1','bold'))\n",
    "    print(blue('RECALL', 'bold'), blue('procentowy udział chorych dobrze zdiagnozowanych wśród wszystkich ludzi chorych','italic'))\n",
    "    print(blue('PRECISION', 'bold'), blue('procentowy udział chorych dobrze zdiagnozowanych w populacji ludzi zdiagnozowanych fałszywie (zdrowych uznanych przez model za chorych) i dobrze zdiagnozowanych (chorych uznanych przez model za chorych)','italic'))"
   ]
  },
  {
   "cell_type": "code",
   "execution_count": null,
   "metadata": {},
   "outputs": [],
   "source": [
    "Recall_Precision(clasifier_VAL,name_VAL, X_train, y_train,X_test,y_test,calibration=False)"
   ]
  },
  {
   "cell_type": "markdown",
   "metadata": {},
   "source": [
    "## <span style=\"font-size: 150%;color:#783f04;background:#ffd966\">Confusion matrix"
   ]
  },
  {
   "cell_type": "code",
   "execution_count": null,
   "metadata": {},
   "outputs": [],
   "source": [
    "def confusion_matrix(six_classifiers,name, X_train, y_train,X_test,y_test,calibration=True):\n",
    "    \n",
    "    from matplotlib import rcParams\n",
    "    rcParams['axes.titlepad'] = 20 \n",
    "    \n",
    "    from sklearn.calibration import CalibratedClassifierCV, calibration_curve \n",
    "    from sklearn.metrics import plot_confusion_matrix\n",
    "    \n",
    "    #for cls in six_classifiers:\n",
    "    #    cls.fit(X_train, y_train) \n",
    "    \n",
    "    fig, axes = plt.subplots(nrows=3, ncols=3, figsize=(14,10))\n",
    "    target_names = ['6','7','5','8','4','3','9']\n",
    "\n",
    "\n",
    "    for t,cls, ax in zip(name, six_classifiers, axes.flatten()):\n",
    "        plot_confusion_matrix(cls, \n",
    "                              X_test, \n",
    "                              y_test, \n",
    "                              ax=ax, \n",
    "                              cmap='Blues',\n",
    "                             display_labels=target_names,values_format='')\n",
    "        ax.title.set_text(type(cls).__name__)\n",
    "        ax.title.set_color('blue')\n",
    "        ax.text(-0.5, -0.56, t,fontsize=12)\n",
    "        \n",
    "        \n",
    "    plt.tight_layout()  \n",
    "    plt.show()"
   ]
  },
  {
   "cell_type": "code",
   "execution_count": null,
   "metadata": {},
   "outputs": [],
   "source": [
    "confusion_matrix(clasifier_VAL,name_VAL, X_train, y_train,X_test,y_test,calibration=False)"
   ]
  },
  {
   "cell_type": "markdown",
   "metadata": {},
   "source": [
    "## <span style=\"font-size: 150%;color:#783f04;background:#ffd966\">Indywidualna ocena wybranego modelu"
   ]
  },
  {
   "cell_type": "code",
   "execution_count": null,
   "metadata": {},
   "outputs": [],
   "source": [
    "import numpy as np\n",
    "import matplotlib.pyplot as plt\n",
    "from sklearn import metrics\n",
    "from sklearn.metrics import classification_report, confusion_matrix\n",
    "from sklearn.metrics import confusion_matrix, log_loss, auc, roc_curve, roc_auc_score, recall_score, precision_recall_curve\n",
    "from sklearn.metrics import make_scorer, precision_score, fbeta_score, f1_score, classification_report\n",
    "    \n",
    "import scikitplot as skplt\n",
    "from plot_metric.functions import BinaryClassification\n",
    "from sklearn.metrics import precision_recall_curve"
   ]
  },
  {
   "cell_type": "code",
   "execution_count": null,
   "metadata": {},
   "outputs": [],
   "source": [
    "print(classification_report(y_test, SVM.predict(X_test)))"
   ]
  },
  {
   "cell_type": "markdown",
   "metadata": {},
   "source": [
    "## <span style=\"font-size: 150%;color:#783f04;background:#ffd966\"> ROC AUC plots"
   ]
  },
  {
   "cell_type": "code",
   "execution_count": null,
   "metadata": {},
   "outputs": [],
   "source": [
    "## <span style=\"font-size: 150%;color:#6fa8dc;background:#cfe2f3\"> ROC AUC plots\n",
    "\n",
    "def plot_roc(six_classifiers,name, X_train, y_train,X_test,y_test):\n",
    "    \n",
    "    import time\n",
    "    from sklearn.calibration import CalibratedClassifierCV, calibration_curve\n",
    "    from matplotlib import rcParams      ## Robie odstęp na podtytuł\n",
    "    rcParams['axes.titlepad'] = 20 \n",
    "    \n",
    "    import scikitplot as skplt\n",
    "    \n",
    "    start_time = time.time()\n",
    "    \n",
    "    plt.figure(figsize=(15,10))\n",
    "    grid = plt.GridSpec(3, 3, wspace=0.3, hspace=0.5)\n",
    "\n",
    "    #for cls in six_classifiers:\n",
    "    #    cls.fit(X_train, y_train)\n",
    "\n",
    "    for i in range(9):\n",
    "\n",
    "        col, row = i%3,i//3\n",
    "        ax = plt.subplot(grid[row,col]) \n",
    "        ax.title.set_color('blue')\n",
    "\n",
    "        model = six_classifiers[i]\n",
    "        skplt.metrics.plot_roc(y_test, model.predict_proba(X_test), ax=ax, title=type(six_classifiers[i]).__name__)\n",
    "        ax.text(0.5, 1.09, name[i],fontsize=15)    ## podtytuł\n",
    "        \n",
    "## ---------------------------------------------------------------------------------------------------\n",
    "      \n",
    "    n = (time.time() - start_time)\n",
    "    n = np.round(n)\n",
    "    print('time: %s seconds' % n)    \n"
   ]
  },
  {
   "cell_type": "code",
   "execution_count": null,
   "metadata": {},
   "outputs": [],
   "source": [
    "plot_roc(clasifier_VAL,name_VAL, X_train, y_train,X_test,y_test)"
   ]
  },
  {
   "cell_type": "code",
   "execution_count": null,
   "metadata": {},
   "outputs": [],
   "source": [
    "def ks_statistic(six_classifiers,name, X_train, y_train,X_test,y_test,calibration=True):\n",
    "    \n",
    "    \n",
    "    from matplotlib import rcParams      ## Robie odstęp na podtytuł\n",
    "    rcParams['axes.titlepad'] = 20 \n",
    "    from sklearn.calibration import CalibratedClassifierCV, calibration_curve\n",
    "    import scikitplot as skplt\n",
    "    import time\n",
    "    start_time = time.time()\n",
    "    \n",
    "    plt.figure(figsize=(15,10))\n",
    "    grid = plt.GridSpec(3, 3, wspace=0.3, hspace=0.5)\n",
    "\n",
    "    #for cls in six_classifiers:\n",
    "    #    cls.fit(X_train, y_train)\n",
    "\n",
    "    for i in range(9):\n",
    "\n",
    "        col, row = i%3,i//3\n",
    "        ax = plt.subplot(grid[row,col]) \n",
    "        ax.title.set_color('blue')\n",
    "\n",
    "        model = six_classifiers[i]\n",
    "        # skplt.metrics.plot_roc(y_test, model.predict_proba(X_test), ax=ax, title=type(six_classifiers[i]).__name__)\n",
    "        skplt.metrics.plot_ks_statistic(y_test, model.predict_proba(X_test), ax=ax,title=type(six_classifiers[i]).__name__)\n",
    "        ax.text(0.5, 1.04, name[i],fontsize=10)    ## podtytuł\n",
    "        ax.text(0.0, 1.04, 'before calibration',color='black', fontsize=10)\n",
    "### ---------------------------------------------------\n",
    "    \n",
    "    if calibration != True:\n",
    "        print()\n",
    "    else:   \n",
    "    \n",
    "    \n",
    "        plt.figure(figsize=(15,10))\n",
    "        grid = plt.GridSpec(3, 3, wspace=0.3, hspace=0.5)\n",
    "\n",
    "        #for cls in six_classifiers:\n",
    "        #    cls.fit(X_train, y_train)\n",
    "\n",
    "        for i in range(9):\n",
    "\n",
    "            col, row = i%3,i//3\n",
    "            ax = plt.subplot(grid[row,col]) \n",
    "            ax.title.set_color('blue')\n",
    "\n",
    "       \n",
    "            model = six_classifiers[i]\n",
    "            calibrated = CalibratedClassifierCV(model, method='sigmoid', cv=5)\n",
    "            calibrated.fit(X_train, y_train)         \n",
    "        \n",
    "            skplt.metrics.plot_ks_statistic(y_test, calibrated.predict_proba(X_test), ax=ax,title=type(six_classifiers[i]).__name__)\n",
    "            ax.text(0.5, 1.04, name[i],fontsize=10)    ## podtytuł\n",
    "            ax.text(0.0, 1.04, 'after calibration',color='red', fontsize=10)    ## podtytuł\n",
    "    \n",
    "    n = (time.time() - start_time)\n",
    "    n = np.round(n)\n",
    "    print('time: %s seconds' % n)       "
   ]
  },
  {
   "cell_type": "code",
   "execution_count": 50,
   "metadata": {},
   "outputs": [
    {
     "data": {
      "text/plain": [
       "<sklearn.metrics._plot.confusion_matrix.ConfusionMatrixDisplay at 0x7f1a5e2f8690>"
      ]
     },
     "execution_count": 50,
     "metadata": {},
     "output_type": "execute_result"
    },
    {
     "data": {
      "image/png": "[encoded data removed]",
      "text/plain": [
       "<Figure size 432x288 with 2 Axes>"
      ]
     },
     "metadata": {
      "needs_background": "light"
     },
     "output_type": "display_data"
    }
   ],
   "source": [
    "from sklearn.metrics import plot_confusion_matrix\n",
    "plot_confusion_matrix(SVM, \n",
    "                              X_test, \n",
    "                              y_test, \n",
    "                               \n",
    "                              cmap='Blues',\n",
    "                              values_format='')"
   ]
  },
  {
   "cell_type": "code",
   "execution_count": 55,
   "metadata": {},
   "outputs": [
    {
     "data": {
      "text/plain": [
       "array([[  3,   0,   0,   0,   0,   1,   0],\n",
       "       [  5,   7,  14,   0,   0,   3,   4],\n",
       "       [ 18,  21, 154,   1,   1,  71,  25],\n",
       "       [ 25,  15, 156,   4,   9, 148,  83],\n",
       "       [  7,   3,  42,   1,   2,  69,  52],\n",
       "       [  1,   2,   5,   1,   0,  12,  14],\n",
       "       [  0,   0,   0,   0,   0,   0,   1]])"
      ]
     },
     "execution_count": 55,
     "metadata": {},
     "output_type": "execute_result"
    }
   ],
   "source": [
    "M = confusion_matrix(y_test, SVM.predict(X_test))\n",
    "M"
   ]
  },
  {
   "cell_type": "code",
   "execution_count": 58,
   "metadata": {},
   "outputs": [
    {
     "data": {
      "text/plain": [
       "3"
      ]
     },
     "execution_count": 58,
     "metadata": {},
     "output_type": "execute_result"
    }
   ],
   "source": [
    "w = M.diagonal()\n",
    "w = list(w.flatten())\n",
    "TN = w[0]\n",
    "TN"
   ]
  },
  {
   "cell_type": "code",
   "execution_count": 59,
   "metadata": {},
   "outputs": [
    {
     "data": {
      "text/plain": [
       "183"
      ]
     },
     "execution_count": 59,
     "metadata": {},
     "output_type": "execute_result"
    }
   ],
   "source": [
    "3+7+154+4+2+12+1\n"
   ]
  },
  {
   "cell_type": "code",
   "execution_count": 60,
   "metadata": {},
   "outputs": [],
   "source": [
    "def sumoflist(l):    \n",
    "            total = 0    \n",
    "            for i in l:\n",
    "                total +=i\n",
    "            return total"
   ]
  },
  {
   "cell_type": "code",
   "execution_count": 61,
   "metadata": {},
   "outputs": [
    {
     "data": {
      "text/plain": [
       "183"
      ]
     },
     "execution_count": 61,
     "metadata": {},
     "output_type": "execute_result"
    }
   ],
   "source": [
    "sumoflist(w)"
   ]
  },
  {
   "cell_type": "code",
   "execution_count": 64,
   "metadata": {},
   "outputs": [
    {
     "data": {
      "text/plain": [
       "1"
      ]
     },
     "execution_count": 64,
     "metadata": {},
     "output_type": "execute_result"
    }
   ],
   "source": [
    "sumR = M.sum(axis=1)\n",
    "sumR = list(sumR.flatten())\n",
    "FP = sumR[0]-TN\n",
    "FP"
   ]
  },
  {
   "cell_type": "code",
   "execution_count": null,
   "metadata": {},
   "outputs": [],
   "source": []
  },
  {
   "cell_type": "code",
   "execution_count": null,
   "metadata": {},
   "outputs": [],
   "source": [
    "        def sumoflist(l):    \n",
    "            total = 0    \n",
    "            for i in l:\n",
    "                total +=i\n",
    "            return total\n",
    "    \n",
    "            # Przekątna macierzy:\n",
    "        import numpy as np\n",
    "        w = M.diagonal()\n",
    "        w = list(w.flatten())\n",
    "        TN = w[n]\n",
    "   \n",
    "        # Suma wierszy macierzy:\n",
    "        sumR = M.sum(axis=1)\n",
    "        sumR = list(sumR.flatten())\n",
    "        FP = sumR[n]-TN\n",
    "    \n",
    "        # Suma kolumn macierzy:\n",
    "        sumC = M.sum(axis=0) \n",
    "        sumC = list(sumC.flatten())\n",
    "        FN = sumC[n]-TN\n",
    "        TP = sumoflist(w) - TN\n",
    "    \n",
    "        Recall = np.round(TP/(TP+FN),decimals=3)\n",
    "        Precision = np.round(TP/(TP+FP),decimals=3)\n",
    "        F1 = np.round((2*(Precision*Recall))/(Precision+Recall),decimals=3)\n",
    "        FPR = np.round(FP/(FP + TN),decimals=3)\n",
    "        TPR = np.round(TP/(TP + FN),decimals=3)\n",
    "        FNR = np.round(FN/(TP + FN),decimals=3)\n",
    "        SPEC = np.round(TN/(TN + FP),decimals=3)"
   ]
  }
 ],
 "metadata": {
  "kernelspec": {
   "display_name": "Python 3",
   "language": "python",
   "name": "python3"
  },
  "language_info": {
   "codemirror_mode": {
    "name": "ipython",
    "version": 3
   },
   "file_extension": ".py",
   "mimetype": "text/x-python",
   "name": "python",
   "nbconvert_exporter": "python",
   "pygments_lexer": "ipython3",
   "version": "3.7.4"
  }
 },
 "nbformat": 4,
 "nbformat_minor": 2
}
