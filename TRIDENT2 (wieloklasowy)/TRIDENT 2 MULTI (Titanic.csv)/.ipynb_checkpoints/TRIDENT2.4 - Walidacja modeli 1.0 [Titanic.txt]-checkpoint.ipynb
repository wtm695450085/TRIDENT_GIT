{
 "cells": [
  {
   "cell_type": "markdown",
   "metadata": {},
   "source": [
    "\n",
    "# <span style=\"font-size: 150%;color:#783f04;background:#ffd966\"> TRIDENT2.4 - Walidacja modeli 1.0 [Titanic.txt]\n",
    "\n",
    "### <span style=\"color:blue\"> Cognition comes by comparison! Friedrich Wilhelm Nietzsche\n",
    "    \n",
    "Modele cross-validated mogą być zgrane z dysku - jakość zgranych modeli zależy między innymi od wielkości próby na jakiej zostały przeszkolone. Jeżeli wgramy model szkolony na próbie 0.05 to gdy po zgraniu tych modeli z dysku ustawimy 0.05 populacji to otrzymamy identyczne wyniki na wskaźnikach. Czyli nagranie trzyma wyuczenie modeli. Natomiast można modele wyszkolić na próbie 0.5 a nastepnie wgrać i uruchomić na próbie 100%.     \n",
    " \n",
    "## <span style=\"font-size: 100%;color:#6fa8dc;background:#cfe2f3\">Ważne wnioski!!\n",
    "\n",
    "## <span style=\"font-size: 100%;color:#6fa8dc;background:#cfe2f3\">Modele cross-validated wyćwiczony na małej próbie z beznadziejnymi odczytami i parametrami, uruchomiony na pełnej próbie 100% zachowuje się znacznie lepiej. Dodatkowo zgranie zbagowanych wersji słabych modeli cross-validated z małej próby daje bardzo dobre rezultaty jeżeli chodzi o poprawę parametrów na wielkiej próbie 100%."
   ]
  },
  {
   "cell_type": "code",
   "execution_count": 1,
   "metadata": {},
   "outputs": [
    {
     "name": "stdout",
     "output_type": "stream",
     "text": [
      "(891, 12)\n",
      "\n",
      "Index(['PassengerId', 'Survived', 'Pclass', 'Name', 'Sex', 'Age', 'SibSp',\n",
      "       'Parch', 'Ticket', 'Fare', 'Cabin', 'Embarked'],\n",
      "      dtype='object')\n"
     ]
    },
    {
     "data": {
      "text/html": [
       "<div>\n",
       "<style scoped>\n",
       "    .dataframe tbody tr th:only-of-type {\n",
       "        vertical-align: middle;\n",
       "    }\n",
       "\n",
       "    .dataframe tbody tr th {\n",
       "        vertical-align: top;\n",
       "    }\n",
       "\n",
       "    .dataframe thead th {\n",
       "        text-align: right;\n",
       "    }\n",
       "</style>\n",
       "<table border=\"1\" class=\"dataframe\">\n",
       "  <thead>\n",
       "    <tr style=\"text-align: right;\">\n",
       "      <th></th>\n",
       "      <th>PassengerId</th>\n",
       "      <th>Survived</th>\n",
       "      <th>Pclass</th>\n",
       "      <th>Name</th>\n",
       "      <th>Sex</th>\n",
       "      <th>Age</th>\n",
       "      <th>SibSp</th>\n",
       "      <th>Parch</th>\n",
       "      <th>Ticket</th>\n",
       "      <th>Fare</th>\n",
       "      <th>Cabin</th>\n",
       "      <th>Embarked</th>\n",
       "    </tr>\n",
       "  </thead>\n",
       "  <tbody>\n",
       "    <tr>\n",
       "      <td>0</td>\n",
       "      <td>1</td>\n",
       "      <td>0</td>\n",
       "      <td>3</td>\n",
       "      <td>Braund, Mr. Owen Harris</td>\n",
       "      <td>male</td>\n",
       "      <td>22.0</td>\n",
       "      <td>1</td>\n",
       "      <td>0</td>\n",
       "      <td>A/5 21171</td>\n",
       "      <td>7.2500</td>\n",
       "      <td>NaN</td>\n",
       "      <td>S</td>\n",
       "    </tr>\n",
       "    <tr>\n",
       "      <td>1</td>\n",
       "      <td>2</td>\n",
       "      <td>1</td>\n",
       "      <td>1</td>\n",
       "      <td>Cumings, Mrs. John Bradley (Florence Briggs Th...</td>\n",
       "      <td>female</td>\n",
       "      <td>38.0</td>\n",
       "      <td>1</td>\n",
       "      <td>0</td>\n",
       "      <td>PC 17599</td>\n",
       "      <td>71.2833</td>\n",
       "      <td>C85</td>\n",
       "      <td>C</td>\n",
       "    </tr>\n",
       "    <tr>\n",
       "      <td>2</td>\n",
       "      <td>3</td>\n",
       "      <td>1</td>\n",
       "      <td>3</td>\n",
       "      <td>Heikkinen, Miss. Laina</td>\n",
       "      <td>female</td>\n",
       "      <td>26.0</td>\n",
       "      <td>0</td>\n",
       "      <td>0</td>\n",
       "      <td>STON/O2. 3101282</td>\n",
       "      <td>7.9250</td>\n",
       "      <td>NaN</td>\n",
       "      <td>S</td>\n",
       "    </tr>\n",
       "  </tbody>\n",
       "</table>\n",
       "</div>"
      ],
      "text/plain": [
       "   PassengerId  Survived  Pclass  \\\n",
       "0            1         0       3   \n",
       "1            2         1       1   \n",
       "2            3         1       3   \n",
       "\n",
       "                                                Name     Sex   Age  SibSp  \\\n",
       "0                            Braund, Mr. Owen Harris    male  22.0      1   \n",
       "1  Cumings, Mrs. John Bradley (Florence Briggs Th...  female  38.0      1   \n",
       "2                             Heikkinen, Miss. Laina  female  26.0      0   \n",
       "\n",
       "   Parch            Ticket     Fare Cabin Embarked  \n",
       "0      0         A/5 21171   7.2500   NaN        S  \n",
       "1      0          PC 17599  71.2833   C85        C  \n",
       "2      0  STON/O2. 3101282   7.9250   NaN        S  "
      ]
     },
     "execution_count": 1,
     "metadata": {},
     "output_type": "execute_result"
    }
   ],
   "source": [
    "import pandas as pd\n",
    "import numpy as np\n",
    "import seaborn as sns\n",
    "import matplotlib.pyplot as plt\n",
    "import warnings \n",
    "from sklearn.ensemble import BaggingClassifier\n",
    "from simple_colors import * \n",
    "from prettytable import PrettyTable\n",
    "import time\n",
    "import joblib\n",
    "\n",
    "warnings.filterwarnings(\"ignore\")\n",
    "\n",
    "%matplotlib inline\n",
    "\n",
    "df= pd.read_csv('/home/wojciech/Pulpit/2/Titanic.txt')\n",
    "print(df.shape)\n",
    "print()\n",
    "print(df.columns)\n",
    "df.head(3)"
   ]
  },
  {
   "cell_type": "markdown",
   "metadata": {},
   "source": [
    "## <div class=\"alert-warning\"> Cudowna formuła poprawiająca nazwy kolumn"
   ]
  },
  {
   "cell_type": "code",
   "execution_count": 2,
   "metadata": {},
   "outputs": [],
   "source": [
    "import re\n",
    "df = df.rename(columns = lambda x:re.sub('[^A-Za-z0-9_]+', '', x))"
   ]
  },
  {
   "cell_type": "markdown",
   "metadata": {},
   "source": [
    "## <div class=\"alert-success\"> Sample reduction:</div>"
   ]
  },
  {
   "cell_type": "code",
   "execution_count": 3,
   "metadata": {},
   "outputs": [
    {
     "data": {
      "text/plain": [
       "(891, 12)"
      ]
     },
     "execution_count": 3,
     "metadata": {},
     "output_type": "execute_result"
    }
   ],
   "source": [
    "df = df.sample(frac = 1.00, random_state=10) \n",
    "df.shape"
   ]
  },
  {
   "cell_type": "markdown",
   "metadata": {},
   "source": [
    "#### Start pomiaru czasu"
   ]
  },
  {
   "cell_type": "code",
   "execution_count": 4,
   "metadata": {},
   "outputs": [
    {
     "name": "stdout",
     "output_type": "stream",
     "text": [
      "Wed Jun 24 11:41:58 2020\n"
     ]
    }
   ],
   "source": [
    "import time\n",
    "start_time = time.time() ## pomiar czasu: start pomiaru czasu\n",
    "print(time.ctime())"
   ]
  },
  {
   "cell_type": "markdown",
   "metadata": {},
   "source": [
    "### Tool for automatic coding of discrete variables !\n"
   ]
  },
  {
   "cell_type": "code",
   "execution_count": 5,
   "metadata": {},
   "outputs": [
    {
     "name": "stdout",
     "output_type": "stream",
     "text": [
      "DISCRETE FUNCTIONS CODED\n",
      "------------------------\n",
      "Name --- object\n",
      "Sex --- object\n",
      "Ticket --- object\n",
      "Cabin --- object\n",
      "Embarked --- object\n"
     ]
    }
   ],
   "source": [
    "a,b = df.shape     #<- ile mamy kolumn\n",
    "b\n",
    "\n",
    "print('DISCRETE FUNCTIONS CODED')\n",
    "print('------------------------')\n",
    "for i in range(1,b):\n",
    "    i = df.columns[i]\n",
    "    f = df[i].dtypes\n",
    "    if f == np.object:\n",
    "        print(i,\"---\",f)   \n",
    "    \n",
    "        if f == np.object:\n",
    "        \n",
    "            df[i] = pd.Categorical(df[i]).codes\n",
    "        \n",
    "            continue"
   ]
  },
  {
   "cell_type": "code",
   "execution_count": 6,
   "metadata": {},
   "outputs": [],
   "source": [
    "df.fillna(7777, inplace=True)"
   ]
  },
  {
   "cell_type": "markdown",
   "metadata": {},
   "source": [
    "## <div class=\"alert-success\"> Ręczne ustawienie celu"
   ]
  },
  {
   "cell_type": "code",
   "execution_count": 7,
   "metadata": {},
   "outputs": [],
   "source": [
    "target = 'Survived'"
   ]
  },
  {
   "cell_type": "code",
   "execution_count": 8,
   "metadata": {},
   "outputs": [],
   "source": [
    "X = df.drop(target, axis=1) \n",
    "y = df[target]  \n",
    "\n",
    "from sklearn.model_selection import train_test_split\n",
    "X_train, X_test, y_train, y_test = train_test_split(X, y, test_size=0.20, random_state=123,stratify=y)"
   ]
  },
  {
   "cell_type": "raw",
   "metadata": {},
   "source": [
    "X_test = X_test.values\n",
    "y_test = y_test.values\n",
    "X_train = X_train.values\n",
    "y_train = y_train.values"
   ]
  },
  {
   "cell_type": "markdown",
   "metadata": {},
   "source": [
    "## Ustalamy strukturę próby "
   ]
  },
  {
   "cell_type": "code",
   "execution_count": 9,
   "metadata": {},
   "outputs": [
    {
     "data": {
      "text/plain": [
       "<matplotlib.axes._subplots.AxesSubplot at 0x7faea00b08d0>"
      ]
     },
     "execution_count": 9,
     "metadata": {},
     "output_type": "execute_result"
    },
    {
     "data": {
      "image/png": "[encoded data removed]",
      "text/plain": [
       "<Figure size 432x288 with 1 Axes>"
      ]
     },
     "metadata": {},
     "output_type": "display_data"
    }
   ],
   "source": [
    "y.value_counts().plot(kind='pie')"
   ]
  },
  {
   "cell_type": "code",
   "execution_count": 10,
   "metadata": {},
   "outputs": [
    {
     "data": {
      "text/plain": [
       "0    549\n",
       "1    342\n",
       "Name: Survived, dtype: int64"
      ]
     },
     "execution_count": 10,
     "metadata": {},
     "output_type": "execute_result"
    }
   ],
   "source": [
    "y.value_counts()"
   ]
  },
  {
   "cell_type": "code",
   "execution_count": 11,
   "metadata": {},
   "outputs": [
    {
     "data": {
      "text/plain": [
       "array([0, 1])"
      ]
     },
     "execution_count": 11,
     "metadata": {},
     "output_type": "execute_result"
    }
   ],
   "source": [
    "y.unique()"
   ]
  },
  {
   "cell_type": "markdown",
   "metadata": {},
   "source": [
    "## SMOTE (technika nadpróbkowania mniejszości syntetycznej)\n",
    "## SMOTE (Synthetic Minority Over-sampling Technique)"
   ]
  },
  {
   "cell_type": "code",
   "execution_count": 12,
   "metadata": {},
   "outputs": [
    {
     "data": {
      "text/plain": [
       "<matplotlib.axes._subplots.AxesSubplot at 0x7fae6ff0c590>"
      ]
     },
     "execution_count": 12,
     "metadata": {},
     "output_type": "execute_result"
    },
    {
     "data": {
      "image/png": "[encoded data removed]",
      "text/plain": [
       "<Figure size 432x288 with 1 Axes>"
      ]
     },
     "metadata": {},
     "output_type": "display_data"
    }
   ],
   "source": [
    "from imblearn.over_sampling import SMOTE\n",
    "from imblearn.over_sampling import RandomOverSampler\n",
    "\n",
    "smote = SMOTE('minority') \n",
    "\n",
    "ros = RandomOverSampler(random_state=14)\n",
    "X_res, y_res = ros.fit_resample(X_test, y_test)\n",
    "y_res.value_counts().plot(kind='pie')"
   ]
  },
  {
   "cell_type": "code",
   "execution_count": 13,
   "metadata": {},
   "outputs": [
    {
     "name": "stdout",
     "output_type": "stream",
     "text": [
      "(712, 11) (712,)\n"
     ]
    }
   ],
   "source": [
    "print(X_train.shape, y_train.shape)"
   ]
  },
  {
   "cell_type": "code",
   "execution_count": 14,
   "metadata": {},
   "outputs": [
    {
     "name": "stdout",
     "output_type": "stream",
     "text": [
      "(220, 11) (220,)\n"
     ]
    }
   ],
   "source": [
    "print(X_res.shape, y_res.shape)"
   ]
  },
  {
   "cell_type": "code",
   "execution_count": 15,
   "metadata": {},
   "outputs": [],
   "source": [
    "X_train=X_res\n",
    "y_train=y_res"
   ]
  },
  {
   "cell_type": "code",
   "execution_count": 16,
   "metadata": {},
   "outputs": [
    {
     "name": "stdout",
     "output_type": "stream",
     "text": [
      "(220, 11) (220,)\n"
     ]
    }
   ],
   "source": [
    "print(X_train.shape, y_train.shape)"
   ]
  },
  {
   "cell_type": "code",
   "execution_count": 17,
   "metadata": {},
   "outputs": [
    {
     "data": {
      "text/plain": [
       "1    110\n",
       "0    110\n",
       "Name: Survived, dtype: int64"
      ]
     },
     "execution_count": 17,
     "metadata": {},
     "output_type": "execute_result"
    }
   ],
   "source": [
    "y_train.value_counts()"
   ]
  },
  {
   "cell_type": "markdown",
   "metadata": {},
   "source": [
    "## <span style=\"font-size: 150%;color:#783f04;background:#ffd966\"> SMOTE pełne dla cross validation"
   ]
  },
  {
   "cell_type": "code",
   "execution_count": 18,
   "metadata": {
    "scrolled": true
   },
   "outputs": [
    {
     "data": {
      "text/plain": [
       "<matplotlib.axes._subplots.AxesSubplot at 0x7fae6fee9ad0>"
      ]
     },
     "execution_count": 18,
     "metadata": {},
     "output_type": "execute_result"
    },
    {
     "data": {
      "image/png": "[encoded data removed]",
      "text/plain": [
       "<Figure size 432x288 with 1 Axes>"
      ]
     },
     "metadata": {},
     "output_type": "display_data"
    }
   ],
   "source": [
    "smote = SMOTE('minority') \n",
    "\n",
    "ros = RandomOverSampler(random_state=148)\n",
    "Data, target = ros.fit_resample(X, y)\n",
    "target.value_counts().plot(kind='pie')"
   ]
  },
  {
   "cell_type": "code",
   "execution_count": 19,
   "metadata": {},
   "outputs": [
    {
     "data": {
      "text/plain": [
       "1    549\n",
       "0    549\n",
       "Name: Survived, dtype: int64"
      ]
     },
     "execution_count": 19,
     "metadata": {},
     "output_type": "execute_result"
    }
   ],
   "source": [
    "target.value_counts()"
   ]
  },
  {
   "cell_type": "markdown",
   "metadata": {},
   "source": [
    "## <div class=\"alert-success\"> Sterowanie zakresu waluacji"
   ]
  },
  {
   "cell_type": "code",
   "execution_count": 20,
   "metadata": {},
   "outputs": [],
   "source": [
    "Model1 = 1\n",
    "Model2 = 1 \n",
    "Model3 = 1 \n",
    "Model4 = 1 \n",
    "Model5 = 0 \n",
    "Model6 = 1\n",
    "Model7 = 1\n",
    "Model8 = 1\n",
    "Model9 = 1 \n",
    "Model10 = 1\n",
    "Model11 = 1"
   ]
  },
  {
   "cell_type": "markdown",
   "metadata": {},
   "source": [
    "### <span style=\"font-size: 110%;color:white;background:Red\">Model 1 <span style=\"font-size: 110%;color:#6fa8dc;background:#cfe2f3\">  Modele na ustawieniach fabrycznych\n"
   ]
  },
  {
   "cell_type": "code",
   "execution_count": 21,
   "metadata": {},
   "outputs": [],
   "source": [
    "if Model1 < 1 :\n",
    "    pass\n",
    "else:\n",
    "    \n",
    "    SVM = joblib.load('/home/wojciech/Pulpit/8/model1-SVM.pkl')\n",
    "    CBC = joblib.load('/home/wojciech/Pulpit/8/model1-CBC.pkl')\n",
    "    XGB = joblib.load('/home/wojciech/Pulpit/8/model1-XGB.pkl')\n",
    "    LGBM = joblib.load('/home/wojciech/Pulpit/8/model1-LGBM.pkl')\n",
    "    KNN = joblib.load('/home/wojciech/Pulpit/8/model1-KNN.pkl')\n",
    "    NBC = joblib.load('/home/wojciech/Pulpit/8/model1-NBC.pkl')\n",
    "    LRE = joblib.load('/home/wojciech/Pulpit/8/model1-LRE.pkl')\n",
    "    RFC = joblib.load('/home/wojciech/Pulpit/8/model1-RFC.pkl')\n",
    "    GBC = joblib.load('/home/wojciech/Pulpit/8/model1-GBC.pkl')\n",
    "\n",
    "classifiers_1 = [SVM,CBC,XGB,LGBM,KNN,NBC,LRE,RFC,GBC]\n",
    "name1 = ['SVM','CBC','XGB','LGBM','KNN','NBC','LRE','RFC','GBC']"
   ]
  },
  {
   "cell_type": "markdown",
   "metadata": {},
   "source": [
    "### <span style=\"font-size: 110%;color:white;background:Red\">Model 2  <span style=\"font-size: 110%;color:#6fa8dc;background:#cfe2f3\">  Modele na ustawieniach fabrycznych po bagging \n"
   ]
  },
  {
   "cell_type": "code",
   "execution_count": 22,
   "metadata": {},
   "outputs": [],
   "source": [
    "if Model2 < 1:\n",
    "    pass\n",
    "else:\n",
    "    \n",
    "    SVM_b = joblib.load('/home/wojciech/Pulpit/8/model2-SVM_b.pkl')\n",
    "    CBC_b = joblib.load('/home/wojciech/Pulpit/8/model2-CBC_b.pkl')\n",
    "    XGB_b = joblib.load('/home/wojciech/Pulpit/8/model2-XGB_b.pkl')\n",
    "    LGBM_b = joblib.load('/home/wojciech/Pulpit/8/model2-LGBM_b.pkl')\n",
    "    KNN_b = joblib.load('/home/wojciech/Pulpit/8/model2-KNN_b.pkl')\n",
    "    NBC_b = joblib.load('/home/wojciech/Pulpit/8/model2-NBC_b.pkl')\n",
    "    LRE_b = joblib.load('/home/wojciech/Pulpit/8/model2-LRE_b.pkl')\n",
    "    RFC_b = joblib.load('/home/wojciech/Pulpit/8/model2-RFC_b.pkl')\n",
    "    GBC_b = joblib.load('/home/wojciech/Pulpit/8/model2-GBC_b.pkl')\n",
    "\n",
    "    classifiers_2 = [SVM_b,CBC_b,XGB_b,LGBM_b,KNN_b,NBC_b,LRE_b,RFC_b,GBC_b]\n",
    "    name2 = ['SVM_b','CBC_b','XGB_b','LGBM_b','KNN_b','NBC_b','LRE_b','RFC_b','GBC_b']"
   ]
  },
  {
   "cell_type": "markdown",
   "metadata": {},
   "source": [
    "### <span style=\"font-size: 110%;color:white;background:Red\">Model 3  <span style=\"font-size: 110%;color:#6fa8dc;background:#cfe2f3\">  Modele na ustawieniach fabrycznych po kalibracji"
   ]
  },
  {
   "cell_type": "code",
   "execution_count": 23,
   "metadata": {},
   "outputs": [],
   "source": [
    "if Model3 < 1:\n",
    "    pass\n",
    "else:\n",
    "\n",
    "    SVM3 = joblib.load('/home/wojciech/Pulpit/8/model3-SVM_c.pkl')\n",
    "    CBC3 = joblib.load('/home/wojciech/Pulpit/8/model3-CBC_c.pkl')\n",
    "    XGB3 = joblib.load('/home/wojciech/Pulpit/8/model3-XGB_c.pkl')\n",
    "    LGBM3 = joblib.load('/home/wojciech/Pulpit/8/model3-LGBM_c.pkl')\n",
    "    KNN3 = joblib.load('/home/wojciech/Pulpit/8/model3-KNN_c.pkl')\n",
    "    NBC3 = joblib.load('/home/wojciech/Pulpit/8/model3-NBC_c.pkl')\n",
    "    LRE3 = joblib.load('/home/wojciech/Pulpit/8/model3-LRE_c.pkl')\n",
    "    RFC3 = joblib.load('/home/wojciech/Pulpit/8/model3-RFC_c.pkl')\n",
    "    GBC3 = joblib.load('/home/wojciech/Pulpit/8/model3-GBC_c.pkl')\n",
    "\n",
    "    classifiers_3 = [SVM3,CBC3,XGB3,LGBM3,KNN3,NBC3,LRE3,RFC3,GBC3]\n",
    "    name3 = ['SVM3','CBC3','XGB3','LGBM3','KNN3','NBC3','LRE3','RFC3','GBC3']"
   ]
  },
  {
   "cell_type": "markdown",
   "metadata": {},
   "source": [
    "### <span style=\"font-size: 110%;color:white;background:Red\">Model 4  <span style=\"font-size: 110%;color:#6fa8dc;background:#cfe2f3\">  Modele na ustawieniach fabrycznych po bagging i po kalibracji"
   ]
  },
  {
   "cell_type": "code",
   "execution_count": 24,
   "metadata": {},
   "outputs": [],
   "source": [
    "if Model4 < 1:\n",
    "    pass\n",
    "else:\n",
    "\n",
    "    SVM_b4 = joblib.load('/home/wojciech/Pulpit/8/model4-SVM_d.pkl')\n",
    "    CBC_b4 = joblib.load('/home/wojciech/Pulpit/8/model4-CBC_d.pkl')\n",
    "    XGB_b4 = joblib.load('/home/wojciech/Pulpit/8/model4-XGB_d.pkl')\n",
    "    LGBM_b4 = joblib.load('/home/wojciech/Pulpit/8/model4-LGBM_d.pkl')\n",
    "    KNN_b4 = joblib.load('/home/wojciech/Pulpit/8/model4-KNN_d.pkl')\n",
    "    NBC_b4 = joblib.load('/home/wojciech/Pulpit/8/model4-NBC_d.pkl')\n",
    "    LRE_b4 = joblib.load('/home/wojciech/Pulpit/8/model4-LRE_d.pkl')\n",
    "    RFC_b4 = joblib.load('/home/wojciech/Pulpit/8/model4-RFC_d.pkl')\n",
    "    GBC_b4 = joblib.load('/home/wojciech/Pulpit/8/model4-GBC_d.pkl')\n",
    "\n",
    "    classifiers_4 = [SVM_b4,CBC_b4,XGB_b4,LGBM_b4,KNN_b4,NBC_b4,LRE_b4,RFC_b4,GBC_b4]\n",
    "    name4 = ['SVM_b4','CBC_b4','XGB_b4','LGBM_b4','KNN_b4','NBC_b4','LRE_b4','RFC_b4','GBC_b4']"
   ]
  },
  {
   "cell_type": "markdown",
   "metadata": {},
   "source": [
    "### <span style=\"font-size: 110%;color:white;background:Red\">Model 5  <span style=\"font-size: 110%;color:#6fa8dc;background:#cfe2f3\">  Modele na cross-validation"
   ]
  },
  {
   "cell_type": "raw",
   "metadata": {},
   "source": [
    "if Model5 < 1:\n",
    "    pass\n",
    "else:\n",
    "    \n",
    "    SVM5 = joblib.load('/home/wojciech/Pulpit/8/model5-gs_SVM.pkl')\n",
    "    SVM25 = joblib.load('/home/wojciech/Pulpit/8/model5-gs_SVM2.pkl')\n",
    "    XGB5 = joblib.load('/home/wojciech/Pulpit/8/model5-gs_XGB.pkl')\n",
    "    LGBM5 = joblib.load('/home/wojciech/Pulpit/8/model5-gs_LGBM.pkl')\n",
    "    KNN5 = joblib.load('/home/wojciech/Pulpit/8/model5-gs_KNN.pkl')\n",
    "    NBC5 = joblib.load('/home/wojciech/Pulpit/8/model5-gs_NBC.pkl')\n",
    "    LRE5 = joblib.load('/home/wojciech/Pulpit/8/model5-gs_LRE.pkl')\n",
    "    RFC5 = joblib.load('/home/wojciech/Pulpit/8/model5-gs_RFC.pkl')\n",
    "    RFC25 = joblib.load('/home/wojciech/Pulpit/8/model5-gs_RFC2.pkl')\n",
    "\n",
    "    classifiers_5 = [SVM5,SVM25,XGB5,LGBM5,KNN5,NBC5,LRE5,RFC5,RFC25]\n",
    "    name5 = ['SVM5','SVM25','XGB5','LGBM5','KNN5','NBC5','LRE5','RFC5','RFC25']"
   ]
  },
  {
   "cell_type": "markdown",
   "metadata": {},
   "source": [
    "### <span style=\"font-size: 110%;color:white;background:Red\">Model 6 <span style=\"font-size: 110%;color:#6fa8dc;background:#cfe2f3\"> Modele na ustawieniach optymalnych po bagging"
   ]
  },
  {
   "cell_type": "code",
   "execution_count": 25,
   "metadata": {},
   "outputs": [],
   "source": [
    "if Model6 < 1:\n",
    "    pass\n",
    "else:\n",
    "\n",
    "    SVM6 = joblib.load('/home/wojciech/Pulpit/8/model6-SVM_w.pkl')\n",
    "    SVM26 = joblib.load('/home/wojciech/Pulpit/8/model6-SVM2_w.pkl')\n",
    "    CBC6 = joblib.load('/home/wojciech/Pulpit/8/model6-CBC_w.pkl')\n",
    "    XGB6 = joblib.load('/home/wojciech/Pulpit/8/model6-XGB_w.pkl')\n",
    "    LGBM6 = joblib.load('/home/wojciech/Pulpit/8/model6-LGBM_w.pkl')\n",
    "    NBC6 = joblib.load('/home/wojciech/Pulpit/8/model6-NBC_w.pkl')\n",
    "    LRE6 = joblib.load('/home/wojciech/Pulpit/8/model6-LRE_w.pkl')\n",
    "    RFC6 = joblib.load('/home/wojciech/Pulpit/8/model6-RFC_w.pkl')\n",
    "    RFC26 = joblib.load('/home/wojciech/Pulpit/8/model6-RFC2_w.pkl')\n",
    "\n",
    "    classifiers_6 = [SVM6,SVM26,CBC6,XGB6,LGBM6,NBC6,LRE6,RFC6,RFC26]\n",
    "    name6= ['SVM6','SVM26','CBC6','XGB6','LGBM6','NBC6','LRE6','RFC6','RFC26']"
   ]
  },
  {
   "cell_type": "markdown",
   "metadata": {},
   "source": [
    "### <span style=\"font-size: 110%;color:white;background:Red\">Model 7 <span style=\"font-size: 110%;color:#6fa8dc;background:#cfe2f3\">  Modele na ustawieniach optymalnych"
   ]
  },
  {
   "cell_type": "code",
   "execution_count": 26,
   "metadata": {},
   "outputs": [],
   "source": [
    "if Model7 < 1:\n",
    "    pass\n",
    "else:\n",
    "\n",
    "    SVM7 = joblib.load('/home/wojciech/Pulpit/8/model7-SVM_o.pkl')\n",
    "    SVM27 = joblib.load('/home/wojciech/Pulpit/8/model7-SVM2_o.pkl')\n",
    "    CBC7 = joblib.load('/home/wojciech/Pulpit/8/model7-CBC_o.pkl')\n",
    "    XGB7 = joblib.load('/home/wojciech/Pulpit/8/model7-XGB_o.pkl')\n",
    "    LGBM7 = joblib.load('/home/wojciech/Pulpit/8/model7-LGBM_o.pkl')\n",
    "    NBC7 = joblib.load('/home/wojciech/Pulpit/8/model7-NBC_o.pkl')\n",
    "    LRE7 = joblib.load('/home/wojciech/Pulpit/8/model7-LRE_o.pkl')\n",
    "    RFC7 = joblib.load('/home/wojciech/Pulpit/8/model7-RFC_o.pkl')\n",
    "    RFC27 = joblib.load('/home/wojciech/Pulpit/8/model7-RFC2_o.pkl')\n",
    "\n",
    "    classifiers_7 = [SVM7,SVM27,CBC7,XGB7,LGBM7,NBC7,LRE7,RFC7,RFC27]\n",
    "    name7 = ['SVM7','SVM27','CBC7','XGB7','LGBM7','NBC7','LRE7','RFC7','RFC27']"
   ]
  },
  {
   "cell_type": "markdown",
   "metadata": {},
   "source": [
    "### <span style=\"font-size: 110%;color:white;background:Red\">Model 8 <span style=\"font-size: 110%;color:#6fa8dc;background:#cfe2f3\">   Modele na ustawieniach optymalnych po boosting, n=3 "
   ]
  },
  {
   "cell_type": "code",
   "execution_count": 27,
   "metadata": {},
   "outputs": [],
   "source": [
    "if Model8 < 1:\n",
    "    pass\n",
    "else:\n",
    "    \n",
    "    SVM8 = joblib.load('/home/wojciech/Pulpit/8/model8-SVM_v.pkl')\n",
    "    SVM28 = joblib.load('/home/wojciech/Pulpit/8/model8-SVM2_v.pkl')\n",
    "    CBC8 = joblib.load('/home/wojciech/Pulpit/8/model8-CBC_v.pkl')\n",
    "    XGB8 = joblib.load('/home/wojciech/Pulpit/8/model8-XGB_v.pkl')\n",
    "    LGBM8 = joblib.load('/home/wojciech/Pulpit/8/model8-LGBM_v.pkl')\n",
    "    NBC8 = joblib.load('/home/wojciech/Pulpit/8/model8-NBC_v.pkl')\n",
    "    LRE8 = joblib.load('/home/wojciech/Pulpit/8/model8-LRE_v.pkl')\n",
    "    RFC8 = joblib.load('/home/wojciech/Pulpit/8/model8-RFC_v.pkl')\n",
    "    RFC28 = joblib.load('/home/wojciech/Pulpit/8/model8-RFC2_v.pkl')\n",
    "\n",
    "    classifiers_8 = [SVM8,SVM28,CBC8,XGB8,LGBM8,NBC8,LRE8,RFC8,RFC28]\n",
    "    name8 = ['SVM8','SVM28','CBC8','XGB8','LGBM8','NBC8','LRE8','RFC8','RFC28']"
   ]
  },
  {
   "cell_type": "markdown",
   "metadata": {},
   "source": [
    "### <span style=\"font-size: 110%;color:white;background:Red\">Model 9 <span style=\"font-size: 110%;color:#6fa8dc;background:#cfe2f3\">    Modele na ustawieniach optymalnych po boosting n=10 "
   ]
  },
  {
   "cell_type": "code",
   "execution_count": 28,
   "metadata": {},
   "outputs": [],
   "source": [
    "if Model9 < 1:\n",
    "    pass\n",
    "else:\n",
    "\n",
    "    SVM9 = joblib.load('/home/wojciech/Pulpit/8/model9-SVM_s.pkl')\n",
    "    SVM29 = joblib.load('/home/wojciech/Pulpit/8/model9-SVM2_s.pkl')\n",
    "    CBC9 = joblib.load('/home/wojciech/Pulpit/8/model9-CBC_s.pkl')\n",
    "    XGB9 = joblib.load('/home/wojciech/Pulpit/8/model9-XGB_s.pkl')\n",
    "    LGBM9 = joblib.load('/home/wojciech/Pulpit/8/model9-LGBM_s.pkl')\n",
    "    NBC9 = joblib.load('/home/wojciech/Pulpit/8/model9-NBC_s.pkl')\n",
    "    LRE9 = joblib.load('/home/wojciech/Pulpit/8/model9-LRE_s.pkl')\n",
    "    RFC9 = joblib.load('/home/wojciech/Pulpit/8/model9-RFC_s.pkl')\n",
    "    RFC29 = joblib.load('/home/wojciech/Pulpit/8/model9-RFC2_s.pkl')\n",
    "\n",
    "    classifiers_9 = [SVM9,SVM29,CBC9,XGB9,LGBM9,NBC9,LRE9,RFC9,RFC29]\n",
    "    name9 = ['SVM9','SVM29','CBC9','XGB9','LGBM9','NBC9','LRE9','RFC9','RFC28']"
   ]
  },
  {
   "cell_type": "markdown",
   "metadata": {},
   "source": [
    "### <span style=\"font-size: 110%;color:white;background:Red\">Model 10 <span style=\"font-size: 110%;color:#6fa8dc;background:#cfe2f3\">   Modele na ustawieniach optymalnych po kalibracji (method='isotonic')"
   ]
  },
  {
   "cell_type": "code",
   "execution_count": 29,
   "metadata": {},
   "outputs": [],
   "source": [
    "if Model10 < 1:\n",
    "    pass\n",
    "else:\n",
    "    \n",
    "    SVM10 = joblib.load('/home/wojciech/Pulpit/8/model10-SVM_q.pkl')\n",
    "    SVM210 = joblib.load('/home/wojciech/Pulpit/8/model10-SVM2_q.pkl')\n",
    "    CBC10 = joblib.load('/home/wojciech/Pulpit/8/model10-CBC_q.pkl')\n",
    "    XGB10 = joblib.load('/home/wojciech/Pulpit/8/model10-XGB_q.pkl')\n",
    "    LGBM10 = joblib.load('/home/wojciech/Pulpit/8/model10-LGBM_q.pkl')\n",
    "    NBC10 = joblib.load('/home/wojciech/Pulpit/8/model10-NBC_q.pkl')\n",
    "    LRE10 = joblib.load('/home/wojciech/Pulpit/8/model10-LRE_q.pkl')\n",
    "    RFC10 = joblib.load('/home/wojciech/Pulpit/8/model10-RFC_q.pkl')\n",
    "    RFC210 = joblib.load('/home/wojciech/Pulpit/8/model10-RFC2_q.pkl')\n",
    "\n",
    "    classifiers_10 = [SVM10,SVM210,CBC10,XGB10,LGBM10,NBC10,LRE10,RFC10,RFC210]\n",
    "    name10 = ['SVM10','SVM210','CBC10','XGB10','LGBM10','NBC10','LRE10','RFC10','RFC210']"
   ]
  },
  {
   "cell_type": "markdown",
   "metadata": {},
   "source": [
    "### <span style=\"font-size: 110%;color:white;background:Red\">Model 11 <span style=\"font-size: 110%;color:#6fa8dc;background:#cfe2f3\">   Modele na ustawieniach optymalnych po kalibracji (method='sigmoid')"
   ]
  },
  {
   "cell_type": "code",
   "execution_count": 30,
   "metadata": {},
   "outputs": [],
   "source": [
    "if Model11 < 1:\n",
    "    pass\n",
    "else:\n",
    "\n",
    "    SVM11 = joblib.load('/home/wojciech/Pulpit/8/model11-SVM_y.pkl')\n",
    "    SVM211 = joblib.load('/home/wojciech/Pulpit/8/model11-SVM2_y.pkl')\n",
    "    CBC11 = joblib.load('/home/wojciech/Pulpit/8/model11-CBC_y.pkl')\n",
    "    XGB11 = joblib.load('/home/wojciech/Pulpit/8/model11-XGB_y.pkl')\n",
    "    LGBM11 = joblib.load('/home/wojciech/Pulpit/8/model11-LGBM_y.pkl')\n",
    "    NBC11 = joblib.load('/home/wojciech/Pulpit/8/model11-NBC_y.pkl')\n",
    "    LRE11 = joblib.load('/home/wojciech/Pulpit/8/model11-LRE_y.pkl')\n",
    "    RFC11 = joblib.load('/home/wojciech/Pulpit/8/model11-RFC_y.pkl')\n",
    "    RFC211 = joblib.load('/home/wojciech/Pulpit/8/model11-RFC2_y.pkl')\n",
    "\n",
    "    classifiers_11 = [SVM11,SVM211,CBC11,XGB11,LGBM11,NBC11,LRE11,RFC11,RFC211]\n",
    "    name11 = ['SVM11','SVM211','CBC11','XGB11','LGBM11','NBC11','LRE11','RFC11','RFC211']"
   ]
  },
  {
   "cell_type": "markdown",
   "metadata": {},
   "source": [
    "### Gdzie zapisywane będą modele"
   ]
  },
  {
   "cell_type": "code",
   "execution_count": 31,
   "metadata": {},
   "outputs": [],
   "source": [
    "csv1 ='/home/wojciech/Pulpit/8/model1.csv'  #<=  modele na ustawieniach fabrycznych\n",
    "csv2 ='/home/wojciech/Pulpit/8/model2.csv'  #<=  modele na ustawieniach fabrycznych po bagging\n",
    "csv3 ='/home/wojciech/Pulpit/8/model3.csv'  #<=  modele na ustawieniach fabrycznych po kalibracji\n",
    "csv4 ='/home/wojciech/Pulpit/8/model4.csv'  #<=  modele na ustawieniach fabrycznych po bagging po kalibracji\n",
    "csv5 ='/home/wojciech/Pulpit/8/model5.csv'  #<=  modele na cross-validation\n",
    "csv6 ='/home/wojciech/Pulpit/8/model6.csv'  #<=  modele na ustawieniach optymalnych po bagging\n",
    "csv7 ='/home/wojciech/Pulpit/8/model7.csv'  ##<=  modele na ustawieniach optymalnych \n",
    "csv8 ='/home/wojciech/Pulpit/8/model8.csv'  ##<=  modele na ustawieniach optymalnych po boosting n=3\n",
    "csv9 ='/home/wojciech/Pulpit/8/model9.csv'  ##<=  modele na ustawieniach optymalnych po boosting n=10\n",
    "csv10 ='/home/wojciech/Pulpit/8/model10.csv'  ##<=  modele na ustawieniach optymalnych po kalibracji (method='isotonic')\n",
    "csv11 ='/home/wojciech/Pulpit/8/model11.csv'  ##<=  modele na ustawieniach optymalnych po kalibracji (method='sigmoid')"
   ]
  },
  {
   "cell_type": "markdown",
   "metadata": {},
   "source": [
    "## <span style=\"font-size: 150%;color:#783f04;background:#ffd966\"> Nowy system oceny globalnej modeli klasyfikacji wieloklasowej"
   ]
  },
  {
   "cell_type": "code",
   "execution_count": 32,
   "metadata": {},
   "outputs": [],
   "source": [
    "## nowy algorytm\n",
    "\n",
    "def Multi_valuator(classifiers,names, X_test,y_test,adres):  \n",
    "    \n",
    "    def kot(model,name, X_test,y_test,n): \n",
    "        from sklearn.metrics import confusion_matrix\n",
    "        from sklearn import metrics\n",
    "        \n",
    "        d = y_test.unique()\n",
    "        class_name = list(d.flatten())\n",
    "        \n",
    "        M = confusion_matrix(y_test, model.predict(X_test),labels=class_name)  \n",
    "        \n",
    "        global dfv\n",
    "    \n",
    "        def sumoflist(l):    \n",
    "            total = 0    \n",
    "            for i in l:\n",
    "                total +=i\n",
    "            return total\n",
    "    \n",
    "            # Przekątna macierzy:\n",
    "        import numpy as np\n",
    "        w = M.diagonal()\n",
    "        ACC =  np.round(w.sum()/M.sum(),decimals=3)\n",
    "        w = list(w.flatten())\n",
    "        TP = w[n]\n",
    "   \n",
    "        # Suma wierszy macierzy:\n",
    "        sumR = M.sum(axis=1)\n",
    "        sumR = list(sumR.flatten())\n",
    "        FP = sumR[n]-TP\n",
    "    \n",
    "        # Suma kolumn macierzy:\n",
    "        sumC = M.sum(axis=0) \n",
    "        sumC = list(sumC.flatten())\n",
    "        FN = sumC[n]-TP\n",
    "        TN = M.sum() - (TP+FN+FP)\n",
    "    \n",
    "        Recall = np.round(TP/(TP+FN),decimals=3)\n",
    "        Precision = np.round(TP/(TP+FP),decimals=3)\n",
    "        F1 = np.round((2*(Precision*Recall))/(Precision+Recall),decimals=3)\n",
    "        FPR = np.round(FP/(FP + TN),decimals=3)\n",
    "        TPR = np.round(TP/(TP + FN),decimals=3)\n",
    "        FNR = np.round(FN/(TP + FN),decimals=3)\n",
    "        SPEC = np.round(TN/(TN + FP),decimals=3)               \n",
    "        AUC = np.round(metrics.roc_auc_score(y_test,model.predict_proba(X_test)[:,1]),decimals=3)\n",
    "        \n",
    "        dfv = pd.DataFrame({'Model':name,'Class nr':n,'TP':TP,'FN':FN,'FP':FP,'TN':TN,'AUC':AUC,'ACC':ACC,'Recall:': [Recall], 'Precision:': [Precision], 'F1:':[F1],'FPR':[FPR],'TPR':[TPR],'FNR':[FNR],'SPEC':[SPEC]})\n",
    "\n",
    "        return    dfv\n",
    "\n",
    "#-------------------------------------------    \n",
    "    import time\n",
    "    start_time = time.time() \n",
    "    \n",
    "    #adres = '/home/wojciech/Pulpit/7/model1.csv' \n",
    "    appended_data = []\n",
    "    \n",
    "    d = y_test.unique()   #<= obliczam ile jest klas do sprawdzenia\n",
    "    d = len(d)\n",
    "    q = list(range(d))\n",
    "    \n",
    "    for k,g in zip(classifiers,names):\n",
    "        for t in q:                                         # każdą klase robi oddzielnie\n",
    "            results = kot(k,g, X_test,y_test,t)\n",
    "            appended_data.append(results)\n",
    "    appended_data = pd.concat(appended_data)\n",
    "    filename = adres                                         #.format(n)\n",
    "    appended_data.to_csv(filename)\n",
    "    p = np.round((time.time() - start_time),decimals=1)\n",
    "    print(blue(adres),p,\"---\",time.ctime())    "
   ]
  },
  {
   "cell_type": "markdown",
   "metadata": {},
   "source": [
    "## <span style=\"font-size: 170%;color:#783f04;background:#ffd966\"> Tworzenie pliku dla wszystkich modeli"
   ]
  },
  {
   "cell_type": "code",
   "execution_count": 33,
   "metadata": {},
   "outputs": [
    {
     "name": "stdout",
     "output_type": "stream",
     "text": [
      "\u001b[34m/home/wojciech/Pulpit/8/model1.csv\u001b[0m 0.3 --- Wed Jun 24 11:42:18 2020\n",
      "\u001b[34m/home/wojciech/Pulpit/8/model2.csv\u001b[0m 0.9 --- Wed Jun 24 11:42:19 2020\n",
      "\u001b[34m/home/wojciech/Pulpit/8/model3.csv\u001b[0m 0.6 --- Wed Jun 24 11:42:20 2020\n",
      "\u001b[34m/home/wojciech/Pulpit/8/model4.csv\u001b[0m 2.2 --- Wed Jun 24 11:42:22 2020\n",
      "\u001b[34m/home/wojciech/Pulpit/8/model6.csv\u001b[0m 3.5 --- Wed Jun 24 11:42:25 2020\n",
      "\u001b[34m/home/wojciech/Pulpit/8/model7.csv\u001b[0m 0.5 --- Wed Jun 24 11:42:26 2020\n",
      "\u001b[34m/home/wojciech/Pulpit/8/model8.csv\u001b[0m 1.1 --- Wed Jun 24 11:42:27 2020\n",
      "\u001b[34m/home/wojciech/Pulpit/8/model9.csv\u001b[0m 2.4 --- Wed Jun 24 11:42:29 2020\n",
      "\u001b[34m/home/wojciech/Pulpit/8/model10.csv\u001b[0m 1.7 --- Wed Jun 24 11:42:31 2020\n",
      "\u001b[34m/home/wojciech/Pulpit/8/model11.csv\u001b[0m 1.7 --- Wed Jun 24 11:42:33 2020\n"
     ]
    }
   ],
   "source": [
    " Valuator = [] \n",
    "\n",
    "if Model1 < 1:\n",
    "    pass\n",
    "else:    \n",
    "    Multi_valuator(classifiers_1 ,name1, X_test,y_test,csv1)\n",
    "    df_1 = pd.read_csv('/home/wojciech/Pulpit/8/model1.csv')\n",
    "    df_1['comment'] = 'Modele na ustawieniach fabrycznych'\n",
    "    Valuator = pd.concat([df_1], sort=True).sort_values(['FPR','TPR'],ascending=[True,False]) \n",
    "    \n",
    "if Model2 < 1:\n",
    "    pass\n",
    "else:        \n",
    "    Multi_valuator(classifiers_2 ,name2, X_test,y_test,csv2)\n",
    "    df_2 = pd.read_csv('/home/wojciech/Pulpit/8/model2.csv')\n",
    "    df_2['comment'] = 'Modele na ustawieniach fabrycznych po bagging'\n",
    "    Valuator = pd.concat([df_1,df_2], sort=True).sort_values(['FPR','TPR'],ascending=[True,False]) \n",
    "    \n",
    "if Model3 < 1:\n",
    "    pass\n",
    "else:    \n",
    "    Multi_valuator(classifiers_3 ,name3, X_test,y_test,csv3)\n",
    "    df_3 = pd.read_csv('/home/wojciech/Pulpit/8/model3.csv')\n",
    "    df_3['comment'] = 'Modele na ustawieniach fabrycznych po kalibracji'\n",
    "    Valuator = pd.concat([df_1,df_2,df_3], sort=True).sort_values(['FPR','TPR'],ascending=[True,False]) \n",
    "    \n",
    "    \n",
    "if Model4 < 1:\n",
    "    pass\n",
    "else:    \n",
    "    Multi_valuator(classifiers_4 ,name4, X_test,y_test,csv4)\n",
    "    df_4 = pd.read_csv('/home/wojciech/Pulpit/8/model4.csv')\n",
    "    df_4['comment'] = 'Modele na ustawieniach fabrycznych po bagging po kalibracji'\n",
    "    Valuator = pd.concat([df_1,df_2,df_3,df_4], sort=True).sort_values(['FPR','TPR'],ascending=[True,False]) \n",
    "    \n",
    "    \n",
    "#if Model5 < 1:\n",
    "#    pass\n",
    "#else:    \n",
    "#    Multi_valuator(classifiers_5 ,name5, y_test,X_test,csv5)\n",
    "#    df_5 = pd.read_csv('/home/wojciech/Pulpit/8/model5.csv')\n",
    "#    df_5['comment'] = 'Modele na cross-validation'\n",
    "#    Valuator = pd.concat([df_1,df_2,df_3,df_4,df_5], sort=True).sort_values(['FPR','TPR'],ascending=[True,False]) \n",
    "    \n",
    "if Model6 < 1:\n",
    "    pass\n",
    "else:    \n",
    "    Multi_valuator(classifiers_6 ,name6, X_test,y_test,csv6)\n",
    "    df_6 = pd.read_csv('/home/wojciech/Pulpit/8/model6.csv')\n",
    "    df_6['comment'] = 'Modele na ustawieniach optymalnych po bagging'\n",
    "    Valuator = pd.concat([df_1,df_2,df_3,df_4,df_6], sort=True).sort_values(['FPR','TPR'],ascending=[True,False]) \n",
    "    \n",
    "if Model7 < 1:\n",
    "    pass\n",
    "else:      \n",
    "    Multi_valuator(classifiers_7 ,name7, X_test,y_test,csv7)\n",
    "    df_7 = pd.read_csv('/home/wojciech/Pulpit/8/model7.csv')\n",
    "    df_7['comment'] = 'Modele na ustawieniach optymalnych'\n",
    "    Valuator = pd.concat([df_1,df_2,df_3,df_4,df_6,df_7], sort=True).sort_values(['FPR','TPR'],ascending=[True,False]) \n",
    "    \n",
    "if Model8 < 1:\n",
    "    pass\n",
    "else:    \n",
    "    Multi_valuator(classifiers_8 ,name8, X_test,y_test,csv8)\n",
    "    df_8 = pd.read_csv('/home/wojciech/Pulpit/8/model8.csv')\n",
    "    df_8['comment'] = 'Modele na ustawieniach optymalnych po boosting n=3'\n",
    "    Valuator = pd.concat([df_1,df_2,df_3,df_4,df_6,df_7,df_8], sort=True).sort_values(['FPR','TPR'],ascending=[True,False]) \n",
    "    \n",
    "if Model9 < 1:\n",
    "    pass\n",
    "else:    \n",
    "    Multi_valuator(classifiers_9 ,name9, X_test,y_test,csv9)\n",
    "    df_9 = pd.read_csv('/home/wojciech/Pulpit/8/model9.csv')\n",
    "    df_9['comment'] = 'Modele na ustawieniach optymalnych po boosting n=10'\n",
    "    Valuator = pd.concat([df_1,df_2,df_3,df_4,df_6,df_7,df_8,df_9], sort=True).sort_values(['FPR','TPR'],ascending=[True,False]) \n",
    "    \n",
    "if Model10 < 1:\n",
    "    pass\n",
    "else:    \n",
    "    Multi_valuator(classifiers_10 ,name10, X_test,y_test,csv10)\n",
    "    df_10 = pd.read_csv('/home/wojciech/Pulpit/8/model10.csv')\n",
    "    df_10['comment'] = 'Modele na ustawieniach optymalnych po kalibracji (method= isotonic)'\n",
    "    Valuator = pd.concat([df_1,df_2,df_3,df_4,df_6,df_7,df_8,df_9,df_10], sort=True).sort_values(['FPR','TPR'],ascending=[True,False]) \n",
    "    \n",
    "if Model11 < 1:\n",
    "    pass\n",
    "else:    \n",
    "    Multi_valuator(classifiers_11 ,name11, X_test,y_test,csv11)\n",
    "    df_11 = pd.read_csv('/home/wojciech/Pulpit/8/model11.csv')\n",
    "    df_11['comment'] = 'Modele na ustawieniach optymalnych po kalibracji (method= sigmoid )'\n",
    "    Valuator = pd.concat([df_1,df_2,df_3,df_4,df_6,df_7,df_8,df_9,df_10,df_11], sort=True).sort_values(['FPR','TPR'],ascending=[True,False]) "
   ]
  },
  {
   "cell_type": "markdown",
   "metadata": {},
   "source": [
    "# <div class=\"alert-success\"> Informacja o oznaczeniu klas:"
   ]
  },
  {
   "cell_type": "code",
   "execution_count": 34,
   "metadata": {},
   "outputs": [
    {
     "data": {
      "text/html": [
       "<div>\n",
       "<style scoped>\n",
       "    .dataframe tbody tr th:only-of-type {\n",
       "        vertical-align: middle;\n",
       "    }\n",
       "\n",
       "    .dataframe tbody tr th {\n",
       "        vertical-align: top;\n",
       "    }\n",
       "\n",
       "    .dataframe thead th {\n",
       "        text-align: right;\n",
       "    }\n",
       "</style>\n",
       "<table border=\"1\" class=\"dataframe\">\n",
       "  <thead>\n",
       "    <tr style=\"text-align: right;\">\n",
       "      <th></th>\n",
       "      <th>Class nr</th>\n",
       "      <th>class_name</th>\n",
       "    </tr>\n",
       "  </thead>\n",
       "  <tbody>\n",
       "    <tr>\n",
       "      <td>0</td>\n",
       "      <td>0</td>\n",
       "      <td>0</td>\n",
       "    </tr>\n",
       "    <tr>\n",
       "      <td>1</td>\n",
       "      <td>1</td>\n",
       "      <td>1</td>\n",
       "    </tr>\n",
       "  </tbody>\n",
       "</table>\n",
       "</div>"
      ],
      "text/plain": [
       "   Class nr  class_name\n",
       "0         0           0\n",
       "1         1           1"
      ]
     },
     "execution_count": 34,
     "metadata": {},
     "output_type": "execute_result"
    }
   ],
   "source": [
    "cc =[1, 2, 3, 4]\n",
    "d = y_test.unique()   #<= obliczam ile jest klas do sprawdzenia\n",
    "d = len(d)\n",
    "q = list(range(d))\n",
    "\n",
    "d = y_test.unique()\n",
    "class_name = list(d.flatten())\n",
    "\n",
    "\n",
    "df4 = pd.DataFrame({'Class nr':q,'class_name': class_name })\n",
    "df4"
   ]
  },
  {
   "cell_type": "markdown",
   "metadata": {},
   "source": [
    "Sprawdzenie modelu i klasy"
   ]
  },
  {
   "cell_type": "code",
   "execution_count": 35,
   "metadata": {},
   "outputs": [],
   "source": [
    "del Valuator['Unnamed: 0']"
   ]
  },
  {
   "cell_type": "code",
   "execution_count": 36,
   "metadata": {},
   "outputs": [
    {
     "data": {
      "text/html": [
       "<div>\n",
       "<style scoped>\n",
       "    .dataframe tbody tr th:only-of-type {\n",
       "        vertical-align: middle;\n",
       "    }\n",
       "\n",
       "    .dataframe tbody tr th {\n",
       "        vertical-align: top;\n",
       "    }\n",
       "\n",
       "    .dataframe thead th {\n",
       "        text-align: right;\n",
       "    }\n",
       "</style>\n",
       "<table border=\"1\" class=\"dataframe\">\n",
       "  <thead>\n",
       "    <tr style=\"text-align: right;\">\n",
       "      <th></th>\n",
       "      <th>ACC</th>\n",
       "      <th>AUC</th>\n",
       "      <th>Class nr</th>\n",
       "      <th>F1:</th>\n",
       "      <th>FN</th>\n",
       "      <th>FNR</th>\n",
       "      <th>FP</th>\n",
       "      <th>FPR</th>\n",
       "      <th>Model</th>\n",
       "      <th>Precision:</th>\n",
       "      <th>Recall:</th>\n",
       "      <th>SPEC</th>\n",
       "      <th>TN</th>\n",
       "      <th>TP</th>\n",
       "      <th>TPR</th>\n",
       "      <th>comment</th>\n",
       "    </tr>\n",
       "  </thead>\n",
       "  <tbody>\n",
       "    <tr>\n",
       "      <td>1</td>\n",
       "      <td>0.497</td>\n",
       "      <td>0.594</td>\n",
       "      <td>1</td>\n",
       "      <td>0.576</td>\n",
       "      <td>82</td>\n",
       "      <td>0.573</td>\n",
       "      <td>8</td>\n",
       "      <td>0.222</td>\n",
       "      <td>SVM</td>\n",
       "      <td>0.884</td>\n",
       "      <td>0.427</td>\n",
       "      <td>0.778</td>\n",
       "      <td>28</td>\n",
       "      <td>61</td>\n",
       "      <td>0.427</td>\n",
       "      <td>Modele na ustawieniach fabrycznych</td>\n",
       "    </tr>\n",
       "    <tr>\n",
       "      <td>0</td>\n",
       "      <td>0.497</td>\n",
       "      <td>0.594</td>\n",
       "      <td>0</td>\n",
       "      <td>0.384</td>\n",
       "      <td>8</td>\n",
       "      <td>0.222</td>\n",
       "      <td>82</td>\n",
       "      <td>0.573</td>\n",
       "      <td>SVM</td>\n",
       "      <td>0.255</td>\n",
       "      <td>0.778</td>\n",
       "      <td>0.427</td>\n",
       "      <td>61</td>\n",
       "      <td>28</td>\n",
       "      <td>0.778</td>\n",
       "      <td>Modele na ustawieniach fabrycznych</td>\n",
       "    </tr>\n",
       "  </tbody>\n",
       "</table>\n",
       "</div>"
      ],
      "text/plain": [
       "     ACC    AUC  Class nr    F1:  FN    FNR  FP    FPR Model  Precision:  \\\n",
       "1  0.497  0.594         1  0.576  82  0.573   8  0.222   SVM       0.884   \n",
       "0  0.497  0.594         0  0.384   8  0.222  82  0.573   SVM       0.255   \n",
       "\n",
       "   Recall:   SPEC  TN  TP    TPR                             comment  \n",
       "1    0.427  0.778  28  61  0.427  Modele na ustawieniach fabrycznych  \n",
       "0    0.778  0.427  61  28  0.778  Modele na ustawieniach fabrycznych  "
      ]
     },
     "execution_count": 36,
     "metadata": {},
     "output_type": "execute_result"
    }
   ],
   "source": [
    "Valuator[Valuator['Model']=='SVM']"
   ]
  },
  {
   "cell_type": "markdown",
   "metadata": {},
   "source": [
    "FNR SVM"
   ]
  },
  {
   "cell_type": "markdown",
   "metadata": {},
   "source": [
    "## <span style=\"font-size: 100%;color:white;background:green\">Tu trzeba zadeklarować, według której klasy bedziemy oceniali model"
   ]
  },
  {
   "cell_type": "code",
   "execution_count": 43,
   "metadata": {},
   "outputs": [
    {
     "data": {
      "text/html": [
       "<div>\n",
       "<style scoped>\n",
       "    .dataframe tbody tr th:only-of-type {\n",
       "        vertical-align: middle;\n",
       "    }\n",
       "\n",
       "    .dataframe tbody tr th {\n",
       "        vertical-align: top;\n",
       "    }\n",
       "\n",
       "    .dataframe thead th {\n",
       "        text-align: right;\n",
       "    }\n",
       "</style>\n",
       "<table border=\"1\" class=\"dataframe\">\n",
       "  <thead>\n",
       "    <tr style=\"text-align: right;\">\n",
       "      <th></th>\n",
       "      <th>Model</th>\n",
       "      <th>comment</th>\n",
       "      <th>class_name</th>\n",
       "      <th>Class nr</th>\n",
       "      <th>TP</th>\n",
       "      <th>FP</th>\n",
       "      <th>FN</th>\n",
       "      <th>TN</th>\n",
       "      <th>AUC</th>\n",
       "      <th>ACC</th>\n",
       "      <th>Precision</th>\n",
       "      <th>Recall (TPR)</th>\n",
       "      <th>F1</th>\n",
       "      <th>FNR</th>\n",
       "      <th>FPR</th>\n",
       "      <th>SPEC</th>\n",
       "    </tr>\n",
       "  </thead>\n",
       "  <tbody>\n",
       "    <tr>\n",
       "      <td>1</td>\n",
       "      <td>SVM6</td>\n",
       "      <td>Modele na ustawieniach optymalnych po bagging</td>\n",
       "      <td>1</td>\n",
       "      <td>1</td>\n",
       "      <td>68</td>\n",
       "      <td>1</td>\n",
       "      <td>0</td>\n",
       "      <td>110</td>\n",
       "      <td>1.000</td>\n",
       "      <td>0.994</td>\n",
       "      <td>0.986</td>\n",
       "      <td>1.000</td>\n",
       "      <td>0.993</td>\n",
       "      <td>0.000</td>\n",
       "      <td>0.009</td>\n",
       "      <td>0.991</td>\n",
       "    </tr>\n",
       "    <tr>\n",
       "      <td>7</td>\n",
       "      <td>XGB6</td>\n",
       "      <td>Modele na ustawieniach optymalnych po bagging</td>\n",
       "      <td>1</td>\n",
       "      <td>1</td>\n",
       "      <td>57</td>\n",
       "      <td>12</td>\n",
       "      <td>4</td>\n",
       "      <td>106</td>\n",
       "      <td>0.973</td>\n",
       "      <td>0.911</td>\n",
       "      <td>0.826</td>\n",
       "      <td>0.934</td>\n",
       "      <td>0.877</td>\n",
       "      <td>0.066</td>\n",
       "      <td>0.102</td>\n",
       "      <td>0.898</td>\n",
       "    </tr>\n",
       "    <tr>\n",
       "      <td>5</td>\n",
       "      <td>CBC6</td>\n",
       "      <td>Modele na ustawieniach optymalnych po bagging</td>\n",
       "      <td>1</td>\n",
       "      <td>1</td>\n",
       "      <td>58</td>\n",
       "      <td>11</td>\n",
       "      <td>14</td>\n",
       "      <td>96</td>\n",
       "      <td>0.923</td>\n",
       "      <td>0.860</td>\n",
       "      <td>0.841</td>\n",
       "      <td>0.806</td>\n",
       "      <td>0.823</td>\n",
       "      <td>0.194</td>\n",
       "      <td>0.103</td>\n",
       "      <td>0.897</td>\n",
       "    </tr>\n",
       "    <tr>\n",
       "      <td>15</td>\n",
       "      <td>RFC6</td>\n",
       "      <td>Modele na ustawieniach optymalnych po bagging</td>\n",
       "      <td>1</td>\n",
       "      <td>1</td>\n",
       "      <td>56</td>\n",
       "      <td>13</td>\n",
       "      <td>18</td>\n",
       "      <td>92</td>\n",
       "      <td>0.904</td>\n",
       "      <td>0.827</td>\n",
       "      <td>0.812</td>\n",
       "      <td>0.757</td>\n",
       "      <td>0.784</td>\n",
       "      <td>0.243</td>\n",
       "      <td>0.124</td>\n",
       "      <td>0.876</td>\n",
       "    </tr>\n",
       "    <tr>\n",
       "      <td>17</td>\n",
       "      <td>GBC_b</td>\n",
       "      <td>Modele na ustawieniach fabrycznych po bagging</td>\n",
       "      <td>1</td>\n",
       "      <td>1</td>\n",
       "      <td>56</td>\n",
       "      <td>13</td>\n",
       "      <td>21</td>\n",
       "      <td>89</td>\n",
       "      <td>0.863</td>\n",
       "      <td>0.810</td>\n",
       "      <td>0.812</td>\n",
       "      <td>0.727</td>\n",
       "      <td>0.767</td>\n",
       "      <td>0.273</td>\n",
       "      <td>0.127</td>\n",
       "      <td>0.873</td>\n",
       "    </tr>\n",
       "    <tr>\n",
       "      <td>...</td>\n",
       "      <td>...</td>\n",
       "      <td>...</td>\n",
       "      <td>...</td>\n",
       "      <td>...</td>\n",
       "      <td>...</td>\n",
       "      <td>...</td>\n",
       "      <td>...</td>\n",
       "      <td>...</td>\n",
       "      <td>...</td>\n",
       "      <td>...</td>\n",
       "      <td>...</td>\n",
       "      <td>...</td>\n",
       "      <td>...</td>\n",
       "      <td>...</td>\n",
       "      <td>...</td>\n",
       "      <td>...</td>\n",
       "    </tr>\n",
       "    <tr>\n",
       "      <td>7</td>\n",
       "      <td>XGB8</td>\n",
       "      <td>Modele na ustawieniach optymalnych po boosting...</td>\n",
       "      <td>1</td>\n",
       "      <td>1</td>\n",
       "      <td>0</td>\n",
       "      <td>69</td>\n",
       "      <td>0</td>\n",
       "      <td>110</td>\n",
       "      <td>0.500</td>\n",
       "      <td>0.615</td>\n",
       "      <td>0.000</td>\n",
       "      <td>NaN</td>\n",
       "      <td>NaN</td>\n",
       "      <td>NaN</td>\n",
       "      <td>0.385</td>\n",
       "      <td>0.615</td>\n",
       "    </tr>\n",
       "    <tr>\n",
       "      <td>3</td>\n",
       "      <td>SVM29</td>\n",
       "      <td>Modele na ustawieniach optymalnych po boosting...</td>\n",
       "      <td>1</td>\n",
       "      <td>1</td>\n",
       "      <td>0</td>\n",
       "      <td>69</td>\n",
       "      <td>0</td>\n",
       "      <td>110</td>\n",
       "      <td>0.540</td>\n",
       "      <td>0.615</td>\n",
       "      <td>0.000</td>\n",
       "      <td>NaN</td>\n",
       "      <td>NaN</td>\n",
       "      <td>NaN</td>\n",
       "      <td>0.385</td>\n",
       "      <td>0.615</td>\n",
       "    </tr>\n",
       "    <tr>\n",
       "      <td>7</td>\n",
       "      <td>XGB9</td>\n",
       "      <td>Modele na ustawieniach optymalnych po boosting...</td>\n",
       "      <td>1</td>\n",
       "      <td>1</td>\n",
       "      <td>0</td>\n",
       "      <td>69</td>\n",
       "      <td>0</td>\n",
       "      <td>110</td>\n",
       "      <td>0.500</td>\n",
       "      <td>0.615</td>\n",
       "      <td>0.000</td>\n",
       "      <td>NaN</td>\n",
       "      <td>NaN</td>\n",
       "      <td>NaN</td>\n",
       "      <td>0.385</td>\n",
       "      <td>0.615</td>\n",
       "    </tr>\n",
       "    <tr>\n",
       "      <td>11</td>\n",
       "      <td>NBC9</td>\n",
       "      <td>Modele na ustawieniach optymalnych po boosting...</td>\n",
       "      <td>1</td>\n",
       "      <td>1</td>\n",
       "      <td>11</td>\n",
       "      <td>58</td>\n",
       "      <td>25</td>\n",
       "      <td>85</td>\n",
       "      <td>0.451</td>\n",
       "      <td>0.536</td>\n",
       "      <td>0.159</td>\n",
       "      <td>0.306</td>\n",
       "      <td>0.209</td>\n",
       "      <td>0.694</td>\n",
       "      <td>0.406</td>\n",
       "      <td>0.594</td>\n",
       "    </tr>\n",
       "    <tr>\n",
       "      <td>1</td>\n",
       "      <td>SVM8</td>\n",
       "      <td>Modele na ustawieniach optymalnych po boosting...</td>\n",
       "      <td>1</td>\n",
       "      <td>1</td>\n",
       "      <td>69</td>\n",
       "      <td>0</td>\n",
       "      <td>110</td>\n",
       "      <td>0</td>\n",
       "      <td>0.341</td>\n",
       "      <td>0.385</td>\n",
       "      <td>1.000</td>\n",
       "      <td>0.385</td>\n",
       "      <td>0.556</td>\n",
       "      <td>0.615</td>\n",
       "      <td>NaN</td>\n",
       "      <td>NaN</td>\n",
       "    </tr>\n",
       "  </tbody>\n",
       "</table>\n",
       "<p>90 rows × 16 columns</p>\n",
       "</div>"
      ],
      "text/plain": [
       "    Model                                            comment  class_name  \\\n",
       "1    SVM6      Modele na ustawieniach optymalnych po bagging           1   \n",
       "7    XGB6      Modele na ustawieniach optymalnych po bagging           1   \n",
       "5    CBC6      Modele na ustawieniach optymalnych po bagging           1   \n",
       "15   RFC6      Modele na ustawieniach optymalnych po bagging           1   \n",
       "17  GBC_b      Modele na ustawieniach fabrycznych po bagging           1   \n",
       "..    ...                                                ...         ...   \n",
       "7    XGB8  Modele na ustawieniach optymalnych po boosting...           1   \n",
       "3   SVM29  Modele na ustawieniach optymalnych po boosting...           1   \n",
       "7    XGB9  Modele na ustawieniach optymalnych po boosting...           1   \n",
       "11   NBC9  Modele na ustawieniach optymalnych po boosting...           1   \n",
       "1    SVM8  Modele na ustawieniach optymalnych po boosting...           1   \n",
       "\n",
       "    Class nr  TP  FP   FN   TN    AUC    ACC  Precision  Recall (TPR)     F1  \\\n",
       "1          1  68   1    0  110  1.000  0.994      0.986         1.000  0.993   \n",
       "7          1  57  12    4  106  0.973  0.911      0.826         0.934  0.877   \n",
       "5          1  58  11   14   96  0.923  0.860      0.841         0.806  0.823   \n",
       "15         1  56  13   18   92  0.904  0.827      0.812         0.757  0.784   \n",
       "17         1  56  13   21   89  0.863  0.810      0.812         0.727  0.767   \n",
       "..       ...  ..  ..  ...  ...    ...    ...        ...           ...    ...   \n",
       "7          1   0  69    0  110  0.500  0.615      0.000           NaN    NaN   \n",
       "3          1   0  69    0  110  0.540  0.615      0.000           NaN    NaN   \n",
       "7          1   0  69    0  110  0.500  0.615      0.000           NaN    NaN   \n",
       "11         1  11  58   25   85  0.451  0.536      0.159         0.306  0.209   \n",
       "1          1  69   0  110    0  0.341  0.385      1.000         0.385  0.556   \n",
       "\n",
       "      FNR    FPR   SPEC  \n",
       "1   0.000  0.009  0.991  \n",
       "7   0.066  0.102  0.898  \n",
       "5   0.194  0.103  0.897  \n",
       "15  0.243  0.124  0.876  \n",
       "17  0.273  0.127  0.873  \n",
       "..    ...    ...    ...  \n",
       "7     NaN  0.385  0.615  \n",
       "3     NaN  0.385  0.615  \n",
       "7     NaN  0.385  0.615  \n",
       "11  0.694  0.406  0.594  \n",
       "1   0.615    NaN    NaN  \n",
       "\n",
       "[90 rows x 16 columns]"
      ]
     },
     "execution_count": 43,
     "metadata": {},
     "output_type": "execute_result"
    }
   ],
   "source": [
    "df5 = Valuator[Valuator['Class nr']==1]\n",
    "\n",
    "D3 = df4.set_index('Class nr')['class_name'].to_dict()\n",
    "df5['class_name']= df5['Class nr'].map(D3)\n",
    "df5=df5[['Model','comment','class_name','Class nr','TP','FP','FN','TN','AUC','ACC','Precision:','Recall:','F1:', 'FNR','FPR',  \n",
    "        'SPEC']] \n",
    "df5.columns = ['Model', 'comment', 'class_name', 'Class nr', 'TP', 'FP', 'FN', 'TN',\n",
    "       'AUC','ACC', 'Precision', 'Recall (TPR)', 'F1', 'FNR', 'FPR', 'SPEC']\n",
    "df5"
   ]
  },
  {
   "cell_type": "code",
   "execution_count": 44,
   "metadata": {},
   "outputs": [
    {
     "name": "stdout",
     "output_type": "stream",
     "text": [
      "\u001b[1;31mFalse_Positive_Rate (FPR)\u001b[0m \u001b[3;31mprocentowy udział ludzi zdrowych uznanych przez model za chorych w populacji ludzi zdrowych\u001b[0m\n",
      "\u001b[1;31mTrue_Positive_Rate (TPR) RECALL\u001b[0m \u001b[3;31mprocentowy udział chorych dobrze zdiagnozowanych w populacji ludzi chorych ogółem\u001b[0m\n",
      "\u001b[1;30mFalse_Negative_Rate\u001b[0m \u001b[3;30mprocentowy udział niewykrytych chorych w populacji ludzi chorych ogółem\u001b[0m\n",
      "\u001b[1;30mSpecifity\u001b[0m \u001b[3;30mprocentowy udział ludzi zdrowych uznanych za zdrowych w populacji ludzi zdrowych\u001b[0m\n",
      "\u001b[1;34mWskaźniki pokazują RECALL i PRECISION dla wybranej klasy\u001b[0m\n",
      "\u001b[1;34mRECALL\u001b[0m \u001b[3;34mprocentowy udział chorych dobrze zdiagnozowanych wśród wszystkich ludzi chorych\u001b[0m\n",
      "\u001b[1;34mPRECISION\u001b[0m \u001b[3;34mprocentowy udział chorych dobrze zdiagnozowanych w populacji ludzi zdiagnozowanych fałszywie (zdrowych uznanych przez model za chorych) i dobrze zdiagnozowanych (chorych uznanych przez model za chorych)\u001b[0m\n"
     ]
    },
    {
     "data": {
      "text/html": [
       "<div>\n",
       "<style scoped>\n",
       "    .dataframe tbody tr th:only-of-type {\n",
       "        vertical-align: middle;\n",
       "    }\n",
       "\n",
       "    .dataframe tbody tr th {\n",
       "        vertical-align: top;\n",
       "    }\n",
       "\n",
       "    .dataframe thead th {\n",
       "        text-align: right;\n",
       "    }\n",
       "</style>\n",
       "<table border=\"1\" class=\"dataframe\">\n",
       "  <thead>\n",
       "    <tr style=\"text-align: right;\">\n",
       "      <th></th>\n",
       "      <th>Model</th>\n",
       "      <th>comment</th>\n",
       "      <th>class_name</th>\n",
       "      <th>Class nr</th>\n",
       "      <th>TP</th>\n",
       "      <th>FP</th>\n",
       "      <th>FN</th>\n",
       "      <th>TN</th>\n",
       "      <th>AUC</th>\n",
       "      <th>ACC</th>\n",
       "      <th>Precision</th>\n",
       "      <th>Recall (TPR)</th>\n",
       "      <th>F1</th>\n",
       "      <th>FNR</th>\n",
       "      <th>FPR</th>\n",
       "      <th>SPEC</th>\n",
       "    </tr>\n",
       "  </thead>\n",
       "  <tbody>\n",
       "    <tr>\n",
       "      <td>1</td>\n",
       "      <td>SVM6</td>\n",
       "      <td>Modele na ustawieniach optymalnych po bagging</td>\n",
       "      <td>1</td>\n",
       "      <td>1</td>\n",
       "      <td>68</td>\n",
       "      <td>1</td>\n",
       "      <td>0</td>\n",
       "      <td>110</td>\n",
       "      <td>1.000</td>\n",
       "      <td>0.994</td>\n",
       "      <td>0.986</td>\n",
       "      <td>1.000</td>\n",
       "      <td>0.993</td>\n",
       "      <td>0.000</td>\n",
       "      <td>0.009</td>\n",
       "      <td>0.991</td>\n",
       "    </tr>\n",
       "    <tr>\n",
       "      <td>7</td>\n",
       "      <td>XGB6</td>\n",
       "      <td>Modele na ustawieniach optymalnych po bagging</td>\n",
       "      <td>1</td>\n",
       "      <td>1</td>\n",
       "      <td>57</td>\n",
       "      <td>12</td>\n",
       "      <td>4</td>\n",
       "      <td>106</td>\n",
       "      <td>0.973</td>\n",
       "      <td>0.911</td>\n",
       "      <td>0.826</td>\n",
       "      <td>0.934</td>\n",
       "      <td>0.877</td>\n",
       "      <td>0.066</td>\n",
       "      <td>0.102</td>\n",
       "      <td>0.898</td>\n",
       "    </tr>\n",
       "    <tr>\n",
       "      <td>5</td>\n",
       "      <td>CBC6</td>\n",
       "      <td>Modele na ustawieniach optymalnych po bagging</td>\n",
       "      <td>1</td>\n",
       "      <td>1</td>\n",
       "      <td>58</td>\n",
       "      <td>11</td>\n",
       "      <td>14</td>\n",
       "      <td>96</td>\n",
       "      <td>0.923</td>\n",
       "      <td>0.860</td>\n",
       "      <td>0.841</td>\n",
       "      <td>0.806</td>\n",
       "      <td>0.823</td>\n",
       "      <td>0.194</td>\n",
       "      <td>0.103</td>\n",
       "      <td>0.897</td>\n",
       "    </tr>\n",
       "    <tr>\n",
       "      <td>15</td>\n",
       "      <td>RFC6</td>\n",
       "      <td>Modele na ustawieniach optymalnych po bagging</td>\n",
       "      <td>1</td>\n",
       "      <td>1</td>\n",
       "      <td>56</td>\n",
       "      <td>13</td>\n",
       "      <td>18</td>\n",
       "      <td>92</td>\n",
       "      <td>0.904</td>\n",
       "      <td>0.827</td>\n",
       "      <td>0.812</td>\n",
       "      <td>0.757</td>\n",
       "      <td>0.784</td>\n",
       "      <td>0.243</td>\n",
       "      <td>0.124</td>\n",
       "      <td>0.876</td>\n",
       "    </tr>\n",
       "    <tr>\n",
       "      <td>17</td>\n",
       "      <td>GBC_b</td>\n",
       "      <td>Modele na ustawieniach fabrycznych po bagging</td>\n",
       "      <td>1</td>\n",
       "      <td>1</td>\n",
       "      <td>56</td>\n",
       "      <td>13</td>\n",
       "      <td>21</td>\n",
       "      <td>89</td>\n",
       "      <td>0.863</td>\n",
       "      <td>0.810</td>\n",
       "      <td>0.812</td>\n",
       "      <td>0.727</td>\n",
       "      <td>0.767</td>\n",
       "      <td>0.273</td>\n",
       "      <td>0.127</td>\n",
       "      <td>0.873</td>\n",
       "    </tr>\n",
       "    <tr>\n",
       "      <td>...</td>\n",
       "      <td>...</td>\n",
       "      <td>...</td>\n",
       "      <td>...</td>\n",
       "      <td>...</td>\n",
       "      <td>...</td>\n",
       "      <td>...</td>\n",
       "      <td>...</td>\n",
       "      <td>...</td>\n",
       "      <td>...</td>\n",
       "      <td>...</td>\n",
       "      <td>...</td>\n",
       "      <td>...</td>\n",
       "      <td>...</td>\n",
       "      <td>...</td>\n",
       "      <td>...</td>\n",
       "      <td>...</td>\n",
       "    </tr>\n",
       "    <tr>\n",
       "      <td>3</td>\n",
       "      <td>SVM211</td>\n",
       "      <td>Modele na ustawieniach optymalnych po kalibrac...</td>\n",
       "      <td>1</td>\n",
       "      <td>1</td>\n",
       "      <td>62</td>\n",
       "      <td>7</td>\n",
       "      <td>82</td>\n",
       "      <td>28</td>\n",
       "      <td>0.591</td>\n",
       "      <td>0.503</td>\n",
       "      <td>0.899</td>\n",
       "      <td>0.431</td>\n",
       "      <td>0.583</td>\n",
       "      <td>0.569</td>\n",
       "      <td>0.200</td>\n",
       "      <td>0.800</td>\n",
       "    </tr>\n",
       "    <tr>\n",
       "      <td>1</td>\n",
       "      <td>SVM3</td>\n",
       "      <td>Modele na ustawieniach fabrycznych po kalibracji</td>\n",
       "      <td>1</td>\n",
       "      <td>1</td>\n",
       "      <td>54</td>\n",
       "      <td>15</td>\n",
       "      <td>73</td>\n",
       "      <td>37</td>\n",
       "      <td>0.586</td>\n",
       "      <td>0.508</td>\n",
       "      <td>0.783</td>\n",
       "      <td>0.425</td>\n",
       "      <td>0.551</td>\n",
       "      <td>0.575</td>\n",
       "      <td>0.288</td>\n",
       "      <td>0.712</td>\n",
       "    </tr>\n",
       "    <tr>\n",
       "      <td>3</td>\n",
       "      <td>SVM28</td>\n",
       "      <td>Modele na ustawieniach optymalnych po boosting...</td>\n",
       "      <td>1</td>\n",
       "      <td>1</td>\n",
       "      <td>61</td>\n",
       "      <td>8</td>\n",
       "      <td>82</td>\n",
       "      <td>28</td>\n",
       "      <td>0.586</td>\n",
       "      <td>0.497</td>\n",
       "      <td>0.884</td>\n",
       "      <td>0.427</td>\n",
       "      <td>0.576</td>\n",
       "      <td>0.573</td>\n",
       "      <td>0.222</td>\n",
       "      <td>0.778</td>\n",
       "    </tr>\n",
       "    <tr>\n",
       "      <td>1</td>\n",
       "      <td>SVM_b4</td>\n",
       "      <td>Modele na ustawieniach fabrycznych po bagging ...</td>\n",
       "      <td>1</td>\n",
       "      <td>1</td>\n",
       "      <td>61</td>\n",
       "      <td>8</td>\n",
       "      <td>82</td>\n",
       "      <td>28</td>\n",
       "      <td>0.562</td>\n",
       "      <td>0.497</td>\n",
       "      <td>0.884</td>\n",
       "      <td>0.427</td>\n",
       "      <td>0.576</td>\n",
       "      <td>0.573</td>\n",
       "      <td>0.222</td>\n",
       "      <td>0.778</td>\n",
       "    </tr>\n",
       "    <tr>\n",
       "      <td>1</td>\n",
       "      <td>SVM7</td>\n",
       "      <td>Modele na ustawieniach optymalnych</td>\n",
       "      <td>1</td>\n",
       "      <td>1</td>\n",
       "      <td>14</td>\n",
       "      <td>55</td>\n",
       "      <td>0</td>\n",
       "      <td>110</td>\n",
       "      <td>0.341</td>\n",
       "      <td>0.693</td>\n",
       "      <td>0.203</td>\n",
       "      <td>1.000</td>\n",
       "      <td>0.337</td>\n",
       "      <td>0.000</td>\n",
       "      <td>0.333</td>\n",
       "      <td>0.667</td>\n",
       "    </tr>\n",
       "  </tbody>\n",
       "</table>\n",
       "<p>85 rows × 16 columns</p>\n",
       "</div>"
      ],
      "text/plain": [
       "     Model                                            comment  class_name  \\\n",
       "1     SVM6      Modele na ustawieniach optymalnych po bagging           1   \n",
       "7     XGB6      Modele na ustawieniach optymalnych po bagging           1   \n",
       "5     CBC6      Modele na ustawieniach optymalnych po bagging           1   \n",
       "15    RFC6      Modele na ustawieniach optymalnych po bagging           1   \n",
       "17   GBC_b      Modele na ustawieniach fabrycznych po bagging           1   \n",
       "..     ...                                                ...         ...   \n",
       "3   SVM211  Modele na ustawieniach optymalnych po kalibrac...           1   \n",
       "1     SVM3   Modele na ustawieniach fabrycznych po kalibracji           1   \n",
       "3    SVM28  Modele na ustawieniach optymalnych po boosting...           1   \n",
       "1   SVM_b4  Modele na ustawieniach fabrycznych po bagging ...           1   \n",
       "1     SVM7                 Modele na ustawieniach optymalnych           1   \n",
       "\n",
       "    Class nr  TP  FP  FN   TN    AUC    ACC  Precision  Recall (TPR)     F1  \\\n",
       "1          1  68   1   0  110  1.000  0.994      0.986         1.000  0.993   \n",
       "7          1  57  12   4  106  0.973  0.911      0.826         0.934  0.877   \n",
       "5          1  58  11  14   96  0.923  0.860      0.841         0.806  0.823   \n",
       "15         1  56  13  18   92  0.904  0.827      0.812         0.757  0.784   \n",
       "17         1  56  13  21   89  0.863  0.810      0.812         0.727  0.767   \n",
       "..       ...  ..  ..  ..  ...    ...    ...        ...           ...    ...   \n",
       "3          1  62   7  82   28  0.591  0.503      0.899         0.431  0.583   \n",
       "1          1  54  15  73   37  0.586  0.508      0.783         0.425  0.551   \n",
       "3          1  61   8  82   28  0.586  0.497      0.884         0.427  0.576   \n",
       "1          1  61   8  82   28  0.562  0.497      0.884         0.427  0.576   \n",
       "1          1  14  55   0  110  0.341  0.693      0.203         1.000  0.337   \n",
       "\n",
       "      FNR    FPR   SPEC  \n",
       "1   0.000  0.009  0.991  \n",
       "7   0.066  0.102  0.898  \n",
       "5   0.194  0.103  0.897  \n",
       "15  0.243  0.124  0.876  \n",
       "17  0.273  0.127  0.873  \n",
       "..    ...    ...    ...  \n",
       "3   0.569  0.200  0.800  \n",
       "1   0.575  0.288  0.712  \n",
       "3   0.573  0.222  0.778  \n",
       "1   0.573  0.222  0.778  \n",
       "1   0.000  0.333  0.667  \n",
       "\n",
       "[85 rows x 16 columns]"
      ]
     },
     "execution_count": 44,
     "metadata": {},
     "output_type": "execute_result"
    }
   ],
   "source": [
    "from simple_colors import *\n",
    "\n",
    "print(red('False_Positive_Rate (FPR)','bold'),red('procentowy udział ludzi zdrowych uznanych przez model za chorych w populacji ludzi zdrowych','italic'))\n",
    "print(red('True_Positive_Rate (TPR) RECALL','bold'), red('procentowy udział chorych dobrze zdiagnozowanych w populacji ludzi chorych ogółem','italic'))\n",
    "print(black('False_Negative_Rate','bold'), black('procentowy udział niewykrytych chorych w populacji ludzi chorych ogółem','italic'))\n",
    "print(black('Specifity','bold'), black('procentowy udział ludzi zdrowych uznanych za zdrowych w populacji ludzi zdrowych','italic'))\n",
    "\n",
    "print(blue('Wskaźniki pokazują RECALL i PRECISION dla wybranej klasy','bold'))\n",
    "print(blue('RECALL', 'bold'), blue('procentowy udział chorych dobrze zdiagnozowanych wśród wszystkich ludzi chorych','italic'))\n",
    "print(blue('PRECISION', 'bold'), blue('procentowy udział chorych dobrze zdiagnozowanych w populacji ludzi zdiagnozowanych fałszywie (zdrowych uznanych przez model za chorych) i dobrze zdiagnozowanych (chorych uznanych przez model za chorych)','italic'))\n",
    "\n",
    "\n",
    "#df5[['Model', 'comment','TPR','FPR']]\n",
    "best = df5[(df5['Recall (TPR)']>0.40) &(df5['FPR']<0.90)]\n",
    "#best = best[['Model','comment','TPR','FPR']]\n",
    "best.sort_values('AUC', ascending=False)"
   ]
  },
  {
   "cell_type": "code",
   "execution_count": 39,
   "metadata": {},
   "outputs": [],
   "source": [
    "def AUC(val):\n",
    "    return ['background-color: #fff2cc' if x < 0.83 else 'background-color: #f4cccc' for x in val]\n",
    "\n",
    "def Recall(val):\n",
    "    return ['background-color: #fff2cc' if x < 0.83 else 'background-color: #f4cccc' for x in val] \n",
    "\n",
    "def FPR(val):\n",
    "    return ['color: red' if x < 0.27 else 'background-color: #d0e0e3' for x in val] "
   ]
  },
  {
   "cell_type": "code",
   "execution_count": 46,
   "metadata": {},
   "outputs": [
    {
     "data": {
      "text/html": [
       "<div>\n",
       "<style scoped>\n",
       "    .dataframe tbody tr th:only-of-type {\n",
       "        vertical-align: middle;\n",
       "    }\n",
       "\n",
       "    .dataframe tbody tr th {\n",
       "        vertical-align: top;\n",
       "    }\n",
       "\n",
       "    .dataframe thead th {\n",
       "        text-align: right;\n",
       "    }\n",
       "</style>\n",
       "<table border=\"1\" class=\"dataframe\">\n",
       "  <thead>\n",
       "    <tr style=\"text-align: right;\">\n",
       "      <th></th>\n",
       "      <th>Model</th>\n",
       "      <th>comment</th>\n",
       "      <th>class_name</th>\n",
       "      <th>Class nr</th>\n",
       "      <th>TP</th>\n",
       "      <th>FP</th>\n",
       "      <th>FN</th>\n",
       "      <th>TN</th>\n",
       "      <th>AUC</th>\n",
       "      <th>ACC</th>\n",
       "      <th>Precision</th>\n",
       "      <th>Recall (TPR)</th>\n",
       "      <th>F1</th>\n",
       "      <th>FNR</th>\n",
       "      <th>FPR</th>\n",
       "      <th>SPEC</th>\n",
       "    </tr>\n",
       "  </thead>\n",
       "  <tbody>\n",
       "    <tr>\n",
       "      <td>1</td>\n",
       "      <td>SVM6</td>\n",
       "      <td>Modele na ustawieniach optymalnych po bagging</td>\n",
       "      <td>1</td>\n",
       "      <td>1</td>\n",
       "      <td>68</td>\n",
       "      <td>1</td>\n",
       "      <td>0</td>\n",
       "      <td>110</td>\n",
       "      <td>1.000</td>\n",
       "      <td>0.994</td>\n",
       "      <td>0.986</td>\n",
       "      <td>1.000</td>\n",
       "      <td>0.993</td>\n",
       "      <td>0.000</td>\n",
       "      <td>0.009</td>\n",
       "      <td>0.991</td>\n",
       "    </tr>\n",
       "    <tr>\n",
       "      <td>7</td>\n",
       "      <td>XGB6</td>\n",
       "      <td>Modele na ustawieniach optymalnych po bagging</td>\n",
       "      <td>1</td>\n",
       "      <td>1</td>\n",
       "      <td>57</td>\n",
       "      <td>12</td>\n",
       "      <td>4</td>\n",
       "      <td>106</td>\n",
       "      <td>0.973</td>\n",
       "      <td>0.911</td>\n",
       "      <td>0.826</td>\n",
       "      <td>0.934</td>\n",
       "      <td>0.877</td>\n",
       "      <td>0.066</td>\n",
       "      <td>0.102</td>\n",
       "      <td>0.898</td>\n",
       "    </tr>\n",
       "    <tr>\n",
       "      <td>5</td>\n",
       "      <td>CBC6</td>\n",
       "      <td>Modele na ustawieniach optymalnych po bagging</td>\n",
       "      <td>1</td>\n",
       "      <td>1</td>\n",
       "      <td>58</td>\n",
       "      <td>11</td>\n",
       "      <td>14</td>\n",
       "      <td>96</td>\n",
       "      <td>0.923</td>\n",
       "      <td>0.860</td>\n",
       "      <td>0.841</td>\n",
       "      <td>0.806</td>\n",
       "      <td>0.823</td>\n",
       "      <td>0.194</td>\n",
       "      <td>0.103</td>\n",
       "      <td>0.897</td>\n",
       "    </tr>\n",
       "    <tr>\n",
       "      <td>15</td>\n",
       "      <td>RFC6</td>\n",
       "      <td>Modele na ustawieniach optymalnych po bagging</td>\n",
       "      <td>1</td>\n",
       "      <td>1</td>\n",
       "      <td>56</td>\n",
       "      <td>13</td>\n",
       "      <td>18</td>\n",
       "      <td>92</td>\n",
       "      <td>0.904</td>\n",
       "      <td>0.827</td>\n",
       "      <td>0.812</td>\n",
       "      <td>0.757</td>\n",
       "      <td>0.784</td>\n",
       "      <td>0.243</td>\n",
       "      <td>0.124</td>\n",
       "      <td>0.876</td>\n",
       "    </tr>\n",
       "    <tr>\n",
       "      <td>17</td>\n",
       "      <td>GBC_b</td>\n",
       "      <td>Modele na ustawieniach fabrycznych po bagging</td>\n",
       "      <td>1</td>\n",
       "      <td>1</td>\n",
       "      <td>56</td>\n",
       "      <td>13</td>\n",
       "      <td>21</td>\n",
       "      <td>89</td>\n",
       "      <td>0.863</td>\n",
       "      <td>0.810</td>\n",
       "      <td>0.812</td>\n",
       "      <td>0.727</td>\n",
       "      <td>0.767</td>\n",
       "      <td>0.273</td>\n",
       "      <td>0.127</td>\n",
       "      <td>0.873</td>\n",
       "    </tr>\n",
       "    <tr>\n",
       "      <td>5</td>\n",
       "      <td>XGB_b</td>\n",
       "      <td>Modele na ustawieniach fabrycznych po bagging</td>\n",
       "      <td>1</td>\n",
       "      <td>1</td>\n",
       "      <td>56</td>\n",
       "      <td>13</td>\n",
       "      <td>26</td>\n",
       "      <td>84</td>\n",
       "      <td>0.846</td>\n",
       "      <td>0.782</td>\n",
       "      <td>0.812</td>\n",
       "      <td>0.683</td>\n",
       "      <td>0.742</td>\n",
       "      <td>0.317</td>\n",
       "      <td>0.134</td>\n",
       "      <td>0.866</td>\n",
       "    </tr>\n",
       "    <tr>\n",
       "      <td>17</td>\n",
       "      <td>RFC26</td>\n",
       "      <td>Modele na ustawieniach optymalnych po bagging</td>\n",
       "      <td>1</td>\n",
       "      <td>1</td>\n",
       "      <td>55</td>\n",
       "      <td>14</td>\n",
       "      <td>22</td>\n",
       "      <td>88</td>\n",
       "      <td>0.861</td>\n",
       "      <td>0.799</td>\n",
       "      <td>0.797</td>\n",
       "      <td>0.714</td>\n",
       "      <td>0.753</td>\n",
       "      <td>0.286</td>\n",
       "      <td>0.137</td>\n",
       "      <td>0.863</td>\n",
       "    </tr>\n",
       "    <tr>\n",
       "      <td>9</td>\n",
       "      <td>LGBM6</td>\n",
       "      <td>Modele na ustawieniach optymalnych po bagging</td>\n",
       "      <td>1</td>\n",
       "      <td>1</td>\n",
       "      <td>55</td>\n",
       "      <td>14</td>\n",
       "      <td>23</td>\n",
       "      <td>87</td>\n",
       "      <td>0.844</td>\n",
       "      <td>0.793</td>\n",
       "      <td>0.797</td>\n",
       "      <td>0.705</td>\n",
       "      <td>0.748</td>\n",
       "      <td>0.295</td>\n",
       "      <td>0.139</td>\n",
       "      <td>0.861</td>\n",
       "    </tr>\n",
       "    <tr>\n",
       "      <td>15</td>\n",
       "      <td>RFC_b</td>\n",
       "      <td>Modele na ustawieniach fabrycznych po bagging</td>\n",
       "      <td>1</td>\n",
       "      <td>1</td>\n",
       "      <td>54</td>\n",
       "      <td>15</td>\n",
       "      <td>23</td>\n",
       "      <td>87</td>\n",
       "      <td>0.848</td>\n",
       "      <td>0.788</td>\n",
       "      <td>0.783</td>\n",
       "      <td>0.701</td>\n",
       "      <td>0.740</td>\n",
       "      <td>0.299</td>\n",
       "      <td>0.147</td>\n",
       "      <td>0.853</td>\n",
       "    </tr>\n",
       "    <tr>\n",
       "      <td>3</td>\n",
       "      <td>CBC_b4</td>\n",
       "      <td>Modele na ustawieniach fabrycznych po bagging ...</td>\n",
       "      <td>1</td>\n",
       "      <td>1</td>\n",
       "      <td>54</td>\n",
       "      <td>15</td>\n",
       "      <td>23</td>\n",
       "      <td>87</td>\n",
       "      <td>0.846</td>\n",
       "      <td>0.788</td>\n",
       "      <td>0.783</td>\n",
       "      <td>0.701</td>\n",
       "      <td>0.740</td>\n",
       "      <td>0.299</td>\n",
       "      <td>0.147</td>\n",
       "      <td>0.853</td>\n",
       "    </tr>\n",
       "    <tr>\n",
       "      <td>5</td>\n",
       "      <td>XGB</td>\n",
       "      <td>Modele na ustawieniach fabrycznych</td>\n",
       "      <td>1</td>\n",
       "      <td>1</td>\n",
       "      <td>53</td>\n",
       "      <td>16</td>\n",
       "      <td>18</td>\n",
       "      <td>92</td>\n",
       "      <td>0.845</td>\n",
       "      <td>0.810</td>\n",
       "      <td>0.768</td>\n",
       "      <td>0.746</td>\n",
       "      <td>0.757</td>\n",
       "      <td>0.254</td>\n",
       "      <td>0.148</td>\n",
       "      <td>0.852</td>\n",
       "    </tr>\n",
       "    <tr>\n",
       "      <td>17</td>\n",
       "      <td>RFC211</td>\n",
       "      <td>Modele na ustawieniach optymalnych po kalibrac...</td>\n",
       "      <td>1</td>\n",
       "      <td>1</td>\n",
       "      <td>54</td>\n",
       "      <td>15</td>\n",
       "      <td>24</td>\n",
       "      <td>86</td>\n",
       "      <td>0.836</td>\n",
       "      <td>0.782</td>\n",
       "      <td>0.783</td>\n",
       "      <td>0.692</td>\n",
       "      <td>0.735</td>\n",
       "      <td>0.308</td>\n",
       "      <td>0.149</td>\n",
       "      <td>0.851</td>\n",
       "    </tr>\n",
       "    <tr>\n",
       "      <td>15</td>\n",
       "      <td>RFC7</td>\n",
       "      <td>Modele na ustawieniach optymalnych</td>\n",
       "      <td>1</td>\n",
       "      <td>1</td>\n",
       "      <td>53</td>\n",
       "      <td>16</td>\n",
       "      <td>21</td>\n",
       "      <td>89</td>\n",
       "      <td>0.859</td>\n",
       "      <td>0.793</td>\n",
       "      <td>0.768</td>\n",
       "      <td>0.716</td>\n",
       "      <td>0.741</td>\n",
       "      <td>0.284</td>\n",
       "      <td>0.152</td>\n",
       "      <td>0.848</td>\n",
       "    </tr>\n",
       "    <tr>\n",
       "      <td>3</td>\n",
       "      <td>CBC3</td>\n",
       "      <td>Modele na ustawieniach fabrycznych po kalibracji</td>\n",
       "      <td>1</td>\n",
       "      <td>1</td>\n",
       "      <td>53</td>\n",
       "      <td>16</td>\n",
       "      <td>22</td>\n",
       "      <td>88</td>\n",
       "      <td>0.848</td>\n",
       "      <td>0.788</td>\n",
       "      <td>0.768</td>\n",
       "      <td>0.707</td>\n",
       "      <td>0.736</td>\n",
       "      <td>0.293</td>\n",
       "      <td>0.154</td>\n",
       "      <td>0.846</td>\n",
       "    </tr>\n",
       "  </tbody>\n",
       "</table>\n",
       "</div>"
      ],
      "text/plain": [
       "     Model                                            comment  class_name  \\\n",
       "1     SVM6      Modele na ustawieniach optymalnych po bagging           1   \n",
       "7     XGB6      Modele na ustawieniach optymalnych po bagging           1   \n",
       "5     CBC6      Modele na ustawieniach optymalnych po bagging           1   \n",
       "15    RFC6      Modele na ustawieniach optymalnych po bagging           1   \n",
       "17   GBC_b      Modele na ustawieniach fabrycznych po bagging           1   \n",
       "5    XGB_b      Modele na ustawieniach fabrycznych po bagging           1   \n",
       "17   RFC26      Modele na ustawieniach optymalnych po bagging           1   \n",
       "9    LGBM6      Modele na ustawieniach optymalnych po bagging           1   \n",
       "15   RFC_b      Modele na ustawieniach fabrycznych po bagging           1   \n",
       "3   CBC_b4  Modele na ustawieniach fabrycznych po bagging ...           1   \n",
       "5      XGB                 Modele na ustawieniach fabrycznych           1   \n",
       "17  RFC211  Modele na ustawieniach optymalnych po kalibrac...           1   \n",
       "15    RFC7                 Modele na ustawieniach optymalnych           1   \n",
       "3     CBC3   Modele na ustawieniach fabrycznych po kalibracji           1   \n",
       "\n",
       "    Class nr  TP  FP  FN   TN    AUC    ACC  Precision  Recall (TPR)     F1  \\\n",
       "1          1  68   1   0  110  1.000  0.994      0.986         1.000  0.993   \n",
       "7          1  57  12   4  106  0.973  0.911      0.826         0.934  0.877   \n",
       "5          1  58  11  14   96  0.923  0.860      0.841         0.806  0.823   \n",
       "15         1  56  13  18   92  0.904  0.827      0.812         0.757  0.784   \n",
       "17         1  56  13  21   89  0.863  0.810      0.812         0.727  0.767   \n",
       "5          1  56  13  26   84  0.846  0.782      0.812         0.683  0.742   \n",
       "17         1  55  14  22   88  0.861  0.799      0.797         0.714  0.753   \n",
       "9          1  55  14  23   87  0.844  0.793      0.797         0.705  0.748   \n",
       "15         1  54  15  23   87  0.848  0.788      0.783         0.701  0.740   \n",
       "3          1  54  15  23   87  0.846  0.788      0.783         0.701  0.740   \n",
       "5          1  53  16  18   92  0.845  0.810      0.768         0.746  0.757   \n",
       "17         1  54  15  24   86  0.836  0.782      0.783         0.692  0.735   \n",
       "15         1  53  16  21   89  0.859  0.793      0.768         0.716  0.741   \n",
       "3          1  53  16  22   88  0.848  0.788      0.768         0.707  0.736   \n",
       "\n",
       "      FNR    FPR   SPEC  \n",
       "1   0.000  0.009  0.991  \n",
       "7   0.066  0.102  0.898  \n",
       "5   0.194  0.103  0.897  \n",
       "15  0.243  0.124  0.876  \n",
       "17  0.273  0.127  0.873  \n",
       "5   0.317  0.134  0.866  \n",
       "17  0.286  0.137  0.863  \n",
       "9   0.295  0.139  0.861  \n",
       "15  0.299  0.147  0.853  \n",
       "3   0.299  0.147  0.853  \n",
       "5   0.254  0.148  0.852  \n",
       "17  0.308  0.149  0.851  \n",
       "15  0.284  0.152  0.848  \n",
       "3   0.293  0.154  0.846  "
      ]
     },
     "execution_count": 46,
     "metadata": {},
     "output_type": "execute_result"
    }
   ],
   "source": [
    "\n",
    "#df5 = df5.style.apply(AUC, axis=1, subset=['AUC']).apply(Recall, axis=1, subset=['Recall (TPR)']).apply(FPR, axis=1, subset=['FPR'])\n",
    "df5.head(14)"
   ]
  },
  {
   "cell_type": "markdown",
   "metadata": {},
   "source": [
    "## <div class=\"alert-danger\"> Wybieramy manualnie modele do walidacji"
   ]
  },
  {
   "cell_type": "code",
   "execution_count": 47,
   "metadata": {},
   "outputs": [],
   "source": [
    "clasifier_VAL = [SVM6,XGB6,CBC6,RFC6,GBC_b,XGB_b,RFC26,LGBM6,RFC_b]\n",
    "name_VAL = ['SVM6','XGB6','CBC6','RFC6','GBC_b','XGB_b','RFC26','LGBM6','RFC_b']"
   ]
  },
  {
   "cell_type": "markdown",
   "metadata": {},
   "source": [
    "## <span style=\"font-size: 150%;color:#6fa8dc;background:#cfe2f3\">Models Valuation"
   ]
  },
  {
   "cell_type": "markdown",
   "metadata": {},
   "source": [
    "## <span style=\"font-size: 150%;color:#783f04;background:#ffd966\">Confusion matrix"
   ]
  },
  {
   "cell_type": "code",
   "execution_count": 48,
   "metadata": {},
   "outputs": [],
   "source": [
    "def confusion_matrix(six_classifiers,name, X_train, y_train,X_test,y_test):\n",
    "    \n",
    "    from matplotlib import rcParams\n",
    "    rcParams['axes.titlepad'] = 20 \n",
    "    \n",
    "    from sklearn.calibration import CalibratedClassifierCV, calibration_curve \n",
    "    from sklearn.metrics import plot_confusion_matrix\n",
    "    \n",
    "    #for cls in six_classifiers:\n",
    "    #    cls.fit(X_train, y_train) \n",
    "    \n",
    "    d = y_test.unique()\n",
    "    class_name = list(d.flatten())\n",
    "    \n",
    "    fig, axes = plt.subplots(nrows=3, ncols=3, figsize=(14,10))\n",
    "    target_names = class_name  #<== określamy klas dla macierzy \n",
    "\n",
    "\n",
    "    for t,cls, ax in zip(name, six_classifiers, axes.flatten()):\n",
    "        plot_confusion_matrix(cls, \n",
    "                              X_test, \n",
    "                              y_test, \n",
    "                              ax=ax, \n",
    "                              cmap='Blues',\n",
    "                             display_labels=target_names,values_format='')\n",
    "        ax.title.set_text(type(cls).__name__)\n",
    "        ax.title.set_color('blue')\n",
    "        ax.text(-0.5, -0.56, t,fontsize=12)\n",
    "        \n",
    "    print(class_name)    \n",
    "    plt.tight_layout()  \n",
    "    plt.show()"
   ]
  },
  {
   "cell_type": "code",
   "execution_count": 49,
   "metadata": {},
   "outputs": [
    {
     "name": "stdout",
     "output_type": "stream",
     "text": [
      "[0, 1]\n"
     ]
    },
    {
     "data": {
      "image/png": "[encoded data removed]",
      "text/plain": [
       "<Figure size 1008x720 with 18 Axes>"
      ]
     },
     "metadata": {
      "needs_background": "light"
     },
     "output_type": "display_data"
    }
   ],
   "source": [
    "confusion_matrix(clasifier_VAL,name_VAL, X_train, y_train,X_test,y_test)"
   ]
  },
  {
   "cell_type": "markdown",
   "metadata": {},
   "source": [
    "## <span style=\"font-size: 150%;color:#783f04;background:#ffd966\">Indywidualna ocena wybranego modelu"
   ]
  },
  {
   "cell_type": "code",
   "execution_count": null,
   "metadata": {},
   "outputs": [],
   "source": [
    "import numpy as np\n",
    "import matplotlib.pyplot as plt\n",
    "from sklearn import metrics\n",
    "from sklearn.metrics import classification_report, confusion_matrix\n",
    "from sklearn.metrics import confusion_matrix, log_loss, auc, roc_curve, roc_auc_score, recall_score, precision_recall_curve\n",
    "from sklearn.metrics import make_scorer, precision_score, fbeta_score, f1_score, classification_report\n",
    "    \n",
    "import scikitplot as skplt\n",
    "from plot_metric.functions import BinaryClassification\n",
    "from sklearn.metrics import precision_recall_curve"
   ]
  },
  {
   "cell_type": "code",
   "execution_count": null,
   "metadata": {},
   "outputs": [],
   "source": [
    "print(classification_report(y_test, LRE.predict(X_test)))"
   ]
  },
  {
   "cell_type": "markdown",
   "metadata": {},
   "source": [
    "## <span style=\"font-size: 150%;color:#783f04;background:#ffd966\"> ROC AUC plots"
   ]
  },
  {
   "cell_type": "code",
   "execution_count": 50,
   "metadata": {},
   "outputs": [],
   "source": [
    "## <span style=\"font-size: 150%;color:#6fa8dc;background:#cfe2f3\"> ROC AUC plots\n",
    "\n",
    "def plot_roc(six_classifiers,name, X_train, y_train,X_test,y_test):\n",
    "    \n",
    "    import time\n",
    "    from sklearn.calibration import CalibratedClassifierCV, calibration_curve\n",
    "    from matplotlib import rcParams      ## Robie odstęp na podtytuł\n",
    "    rcParams['axes.titlepad'] = 20 \n",
    "    \n",
    "    import scikitplot as skplt\n",
    "    \n",
    "    start_time = time.time()\n",
    "    \n",
    "    plt.figure(figsize=(15,10))\n",
    "    grid = plt.GridSpec(3, 3, wspace=0.3, hspace=0.5)\n",
    "\n",
    "    #for cls in six_classifiers:\n",
    "    #    cls.fit(X_train, y_train)\n",
    "\n",
    "    for i in range(9):\n",
    "\n",
    "        col, row = i%3,i//3\n",
    "        ax = plt.subplot(grid[row,col]) \n",
    "        ax.title.set_color('blue')\n",
    "\n",
    "        model = six_classifiers[i]\n",
    "        skplt.metrics.plot_roc(y_test, model.predict_proba(X_test), ax=ax, title=type(six_classifiers[i]).__name__)\n",
    "        ax.text(0.5, 1.09, name[i],fontsize=15)    ## podtytuł\n",
    "        \n",
    "## ---------------------------------------------------------------------------------------------------\n",
    "      \n",
    "    n = (time.time() - start_time)\n",
    "    n = np.round(n)\n",
    "    print('time: %s seconds' % n)    \n"
   ]
  },
  {
   "cell_type": "code",
   "execution_count": 51,
   "metadata": {},
   "outputs": [
    {
     "name": "stdout",
     "output_type": "stream",
     "text": [
      "time: 1.0 seconds\n"
     ]
    },
    {
     "data": {
      "image/png": "[encoded data removed]",
      "text/plain": [
       "<Figure size 1080x720 with 9 Axes>"
      ]
     },
     "metadata": {
      "needs_background": "light"
     },
     "output_type": "display_data"
    }
   ],
   "source": [
    "plot_roc(clasifier_VAL,name_VAL, X_train, y_train,X_test,y_test)"
   ]
  },
  {
   "cell_type": "code",
   "execution_count": 52,
   "metadata": {},
   "outputs": [],
   "source": [
    "def ks_statistic(six_classifiers,name, X_train, y_train,X_test,y_test):\n",
    "    \n",
    "    \n",
    "    from matplotlib import rcParams      ## Robie odstęp na podtytuł\n",
    "    rcParams['axes.titlepad'] = 20 \n",
    "    from sklearn.calibration import CalibratedClassifierCV, calibration_curve\n",
    "    import scikitplot as skplt\n",
    "    import time\n",
    "    start_time = time.time()\n",
    "    \n",
    "    plt.figure(figsize=(15,10))\n",
    "    grid = plt.GridSpec(3, 3, wspace=0.3, hspace=0.5)\n",
    "\n",
    "    #for cls in six_classifiers:\n",
    "    #    cls.fit(X_train, y_train)\n",
    "\n",
    "    for i in range(9):\n",
    "\n",
    "        col, row = i%3,i//3\n",
    "        ax = plt.subplot(grid[row,col]) \n",
    "        ax.title.set_color('blue')\n",
    "\n",
    "        model = six_classifiers[i]\n",
    "        # skplt.metrics.plot_roc(y_test, model.predict_proba(X_test), ax=ax, title=type(six_classifiers[i]).__name__)\n",
    "        skplt.metrics.plot_ks_statistic(y_test, model.predict_proba(X_test), ax=ax,title=type(six_classifiers[i]).__name__)\n",
    "        ax.text(0.5, 1.04, name[i],fontsize=10)    ## podtytuł\n",
    "        ax.text(0.0, 1.04, 'before calibration',color='black', fontsize=10)\n",
    "\n",
    "    \n",
    "    n = (time.time() - start_time)\n",
    "    n = np.round(n)\n",
    "    print('time: %s seconds' % n)       "
   ]
  },
  {
   "cell_type": "code",
   "execution_count": 53,
   "metadata": {},
   "outputs": [
    {
     "name": "stdout",
     "output_type": "stream",
     "text": [
      "time: 1.0 seconds\n"
     ]
    },
    {
     "data": {
      "image/png": "[encoded data removed]",
      "text/plain": [
       "<Figure size 1080x720 with 9 Axes>"
      ]
     },
     "metadata": {
      "needs_background": "light"
     },
     "output_type": "display_data"
    }
   ],
   "source": [
    "ks_statistic(clasifier_VAL,name_VAL, X_train, y_train,X_test,y_test)"
   ]
  },
  {
   "cell_type": "markdown",
   "metadata": {},
   "source": [
    "https://stackoverflow.com/questions/35178590/scikit-learn-confusion-matrix"
   ]
  },
  {
   "cell_type": "markdown",
   "metadata": {},
   "source": [
    "https://stats.stackexchange.com/questions/179835/how-to-build-a-confusion-matrix-for-a-multiclass-classifier"
   ]
  },
  {
   "cell_type": "markdown",
   "metadata": {},
   "source": [
    "Trzeba się zdecydowac na jedną konkretną klasę z 18 różnych klas i pod tą klasę budować cały zestaw wskaźników recall, precision itp. Jak narazie wychodzi mi, że robienie  średnich ze wszystkich klas to jest bład."
   ]
  },
  {
   "cell_type": "markdown",
   "metadata": {},
   "source": [
    "1. Macierz nieporozumień pozwala zrozumieć, gdzie twój klasyfikator radzi sobie dobrze (TP prawdziwie pozytywne), a gdzie nie (FP fałszywie pozytywne).\n",
    "2. Przekątne macierzy pomieszania informują o tym, ile razy dana klasa została poprawnie sklasyfikowana (TP - prawdziwe pozytywy).\n",
    "3. Konwencja scikit-learn polega na umieszczaniu prognoz w kolumnach, a prawdziwych wartości w wierszach\n",
    "4. Konwencja scikit-learn polega na umieszczaniu 0 za klasę ujemną (u góry) a 1 za klasę dodatnią (u dołu)"
   ]
  }
 ],
 "metadata": {
  "kernelspec": {
   "display_name": "Python 3",
   "language": "python",
   "name": "python3"
  },
  "language_info": {
   "codemirror_mode": {
    "name": "ipython",
    "version": 3
   },
   "file_extension": ".py",
   "mimetype": "text/x-python",
   "name": "python",
   "nbconvert_exporter": "python",
   "pygments_lexer": "ipython3",
   "version": "3.7.4"
  }
 },
 "nbformat": 4,
 "nbformat_minor": 2
}
