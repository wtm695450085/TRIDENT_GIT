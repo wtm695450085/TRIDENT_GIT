{
 "cells": [
  {
   "cell_type": "markdown",
   "metadata": {},
   "source": [
    "# Maspex_2 "
   ]
  },
  {
   "cell_type": "code",
   "execution_count": 1,
   "metadata": {},
   "outputs": [],
   "source": [
    "\n",
    "import numpy as np\n",
    "import statistics as stat\n",
    "import pandas as pd\n",
    "import matplotlib.pyplot as plt\n",
    "%matplotlib inline\n",
    "\n",
    "\n",
    "from scipy import stats\n",
    "from numpy import median\n",
    "from statsmodels.graphics.gofplots import qqplot\n",
    "\n",
    "from sklearn import model_selection\n",
    "from sklearn.metrics import mean_squared_log_error, r2_score\n",
    "from sklearn.model_selection import GridSearchCV\n",
    "from sklearn.tree import DecisionTreeRegressor\n",
    "from sklearn.model_selection import train_test_split\n",
    "from sklearn.linear_model import LinearRegression, Ridge, HuberRegressor, ElasticNetCV\n",
    "from sklearn.ensemble import BaggingRegressor, ExtraTreesRegressor, GradientBoostingRegressor, RandomForestRegressor,AdaBoostRegressor"
   ]
  },
  {
   "cell_type": "code",
   "execution_count": 2,
   "metadata": {},
   "outputs": [
    {
     "name": "stdout",
     "output_type": "stream",
     "text": [
      "instant         int64\n",
      "dteday         object\n",
      "season          int64\n",
      "yr              int64\n",
      "mnth            int64\n",
      "hr              int64\n",
      "holiday         int64\n",
      "weekday         int64\n",
      "workingday      int64\n",
      "weathersit      int64\n",
      "temp          float64\n",
      "atemp         float64\n",
      "hum           float64\n",
      "windspeed     float64\n",
      "casual          int64\n",
      "registered      int64\n",
      "cnt             int64\n",
      "dtype: object\n",
      "\n",
      "\n",
      "(17379, 17)\n"
     ]
    },
    {
     "data": {
      "text/html": [
       "<div>\n",
       "<style scoped>\n",
       "    .dataframe tbody tr th:only-of-type {\n",
       "        vertical-align: middle;\n",
       "    }\n",
       "\n",
       "    .dataframe tbody tr th {\n",
       "        vertical-align: top;\n",
       "    }\n",
       "\n",
       "    .dataframe thead th {\n",
       "        text-align: right;\n",
       "    }\n",
       "</style>\n",
       "<table border=\"1\" class=\"dataframe\">\n",
       "  <thead>\n",
       "    <tr style=\"text-align: right;\">\n",
       "      <th></th>\n",
       "      <th>instant</th>\n",
       "      <th>dteday</th>\n",
       "      <th>season</th>\n",
       "      <th>yr</th>\n",
       "      <th>mnth</th>\n",
       "      <th>hr</th>\n",
       "      <th>holiday</th>\n",
       "      <th>weekday</th>\n",
       "      <th>workingday</th>\n",
       "      <th>weathersit</th>\n",
       "      <th>temp</th>\n",
       "      <th>atemp</th>\n",
       "      <th>hum</th>\n",
       "      <th>windspeed</th>\n",
       "      <th>casual</th>\n",
       "      <th>registered</th>\n",
       "      <th>cnt</th>\n",
       "    </tr>\n",
       "  </thead>\n",
       "  <tbody>\n",
       "    <tr>\n",
       "      <td>0</td>\n",
       "      <td>1</td>\n",
       "      <td>2011-01-01</td>\n",
       "      <td>1</td>\n",
       "      <td>0</td>\n",
       "      <td>1</td>\n",
       "      <td>0</td>\n",
       "      <td>0</td>\n",
       "      <td>6</td>\n",
       "      <td>0</td>\n",
       "      <td>1</td>\n",
       "      <td>0.24</td>\n",
       "      <td>0.2879</td>\n",
       "      <td>0.81</td>\n",
       "      <td>0.0</td>\n",
       "      <td>3</td>\n",
       "      <td>13</td>\n",
       "      <td>16</td>\n",
       "    </tr>\n",
       "    <tr>\n",
       "      <td>1</td>\n",
       "      <td>2</td>\n",
       "      <td>2011-01-01</td>\n",
       "      <td>1</td>\n",
       "      <td>0</td>\n",
       "      <td>1</td>\n",
       "      <td>1</td>\n",
       "      <td>0</td>\n",
       "      <td>6</td>\n",
       "      <td>0</td>\n",
       "      <td>1</td>\n",
       "      <td>0.22</td>\n",
       "      <td>0.2727</td>\n",
       "      <td>0.80</td>\n",
       "      <td>0.0</td>\n",
       "      <td>8</td>\n",
       "      <td>32</td>\n",
       "      <td>40</td>\n",
       "    </tr>\n",
       "    <tr>\n",
       "      <td>2</td>\n",
       "      <td>3</td>\n",
       "      <td>2011-01-01</td>\n",
       "      <td>1</td>\n",
       "      <td>0</td>\n",
       "      <td>1</td>\n",
       "      <td>2</td>\n",
       "      <td>0</td>\n",
       "      <td>6</td>\n",
       "      <td>0</td>\n",
       "      <td>1</td>\n",
       "      <td>0.22</td>\n",
       "      <td>0.2727</td>\n",
       "      <td>0.80</td>\n",
       "      <td>0.0</td>\n",
       "      <td>5</td>\n",
       "      <td>27</td>\n",
       "      <td>32</td>\n",
       "    </tr>\n",
       "    <tr>\n",
       "      <td>3</td>\n",
       "      <td>4</td>\n",
       "      <td>2011-01-01</td>\n",
       "      <td>1</td>\n",
       "      <td>0</td>\n",
       "      <td>1</td>\n",
       "      <td>3</td>\n",
       "      <td>0</td>\n",
       "      <td>6</td>\n",
       "      <td>0</td>\n",
       "      <td>1</td>\n",
       "      <td>0.24</td>\n",
       "      <td>0.2879</td>\n",
       "      <td>0.75</td>\n",
       "      <td>0.0</td>\n",
       "      <td>3</td>\n",
       "      <td>10</td>\n",
       "      <td>13</td>\n",
       "    </tr>\n",
       "  </tbody>\n",
       "</table>\n",
       "</div>"
      ],
      "text/plain": [
       "   instant      dteday  season  yr  mnth  hr  holiday  weekday  workingday  \\\n",
       "0        1  2011-01-01       1   0     1   0        0        6           0   \n",
       "1        2  2011-01-01       1   0     1   1        0        6           0   \n",
       "2        3  2011-01-01       1   0     1   2        0        6           0   \n",
       "3        4  2011-01-01       1   0     1   3        0        6           0   \n",
       "\n",
       "   weathersit  temp   atemp   hum  windspeed  casual  registered  cnt  \n",
       "0           1  0.24  0.2879  0.81        0.0       3          13   16  \n",
       "1           1  0.22  0.2727  0.80        0.0       8          32   40  \n",
       "2           1  0.22  0.2727  0.80        0.0       5          27   32  \n",
       "3           1  0.24  0.2879  0.75        0.0       3          10   13  "
      ]
     },
     "execution_count": 2,
     "metadata": {},
     "output_type": "execute_result"
    }
   ],
   "source": [
    "df = pd.read_csv('/home/wojciech/Pulpit/11/hour.csv')\n",
    "\n",
    "print(df.dtypes)\n",
    "print()\n",
    "print()\n",
    "print(df.shape)\n",
    "\n",
    "df.head(4)"
   ]
  },
  {
   "cell_type": "code",
   "execution_count": null,
   "metadata": {},
   "outputs": [],
   "source": []
  },
  {
   "cell_type": "code",
   "execution_count": null,
   "metadata": {},
   "outputs": [],
   "source": []
  },
  {
   "cell_type": "markdown",
   "metadata": {},
   "source": [
    "# Spis zmiennych:\n",
    "\n",
    "- <span style=\"font-size: 130%;color:#0000ff\"> instant: </span>indeks rekordu\n",
    "- <span style=\"font-size: 130%;color:#0000ff\">dteday:</span> data\n",
    "- <span style=\"font-size: 130%;color:#0000ff\">season:</span> sezon (1: wiosenny, 2: lato, 3: jesień, 4: zima)\n",
    "- <span style=\"font-size: 130%;color:#0000ff\">yr:</span> rok (0: 2011, 1: 2012)\n",
    "- <span style=\"font-size: 130%;color:#0000ff\">mnth:</span> miesiąc (od 1 do 12)\n",
    "- <span style=\"font-size: 130%;color:#0000ff\">hr .: </span>godzina (od 0 do 23)\n",
    "- <span style=\"font-size: 130%;color:#0000ff\">holiday: </span>pogoda jest dniem świątecznym lub nie (pobrane z http://dchr.dc.gov/page/holiday-schedule)\n",
    "- <span style=\"font-size: 130%;color:#0000ff\">weekday: </span>dzień tygodnia\n",
    "- <span style=\"font-size: 130%;color:#0000ff\">workingday: </span>jeśli dzień nie jest ani weekendem, ani dniem wolnym od pracy wynosi 1, w przeciwnym razie wynosi 0.\n",
    "+ <span style=\"font-size: 130%;color:#0000ff\">weathersit:</span>\n",
    "    - 1: Bezchmurnie, Niewiele chmur, Częściowe zachmurzenie, Częściowe zachmurzenie\n",
    "    - 2: Mgła + Pochmurno, Mgła + Przerwane chmury, Mgła + Kilka chmur, Mgła\n",
    "    - 3: lekki śnieg, lekki deszcz + burza z piorunami + rozproszone chmury, lekki deszcz + rozproszone chmury\n",
    "    - 4: ulewny deszcz + lodowe palety + burza z piorunami + mgła, śnieg + mgła\n",
    "- <span style=\"font-size: 130%;color:#0000ff\">temp: </span>Znormalizowana temperatura w stopniach Celsjusza. Wartości są podzielone na 41 (maks.)\n",
    "- <span style=\"font-size: 130%;color:#0000ff\">atemp: </span>Znormalizowana temperatura odczuwania w stopniach Celsjusza. Wartości są podzielone na 50 (maks.)\n",
    "- <span style=\"font-size: 130%;color:#0000ff\">hum: </span>znormalizowana wilgotność. Wartości są podzielone na 100 (maks.)\n",
    "- <span style=\"font-size: 130%;color:#0000ff\">windspeed: </span>znormalizowana prędkość wiatru. Wartości są podzielone na 67 (maks.)\n",
    "- <span style=\"font-size: 130%;color:#0000ff\">casual:</span> liczba przypadkowych użytkowników\n",
    "- <span style=\"font-size: 130%;color:#0000ff\">registered:</span> liczba zarejestrowanych użytkowników\n",
    "- <span style=\"font-size: 130%;color:red\">cnt: liczba wszystkich wypożyczonych rowerów, w tym zarówno zwykłych, jak i zarejestrowanych"
   ]
  },
  {
   "cell_type": "markdown",
   "metadata": {},
   "source": [
    "<span style=\"font-size: 130%;color:Green\"> Sprawdzam czy są braki w danych"
   ]
  },
  {
   "cell_type": "code",
   "execution_count": 3,
   "metadata": {},
   "outputs": [
    {
     "data": {
      "text/plain": [
       "instant       0\n",
       "dteday        0\n",
       "season        0\n",
       "yr            0\n",
       "mnth          0\n",
       "hr            0\n",
       "holiday       0\n",
       "weekday       0\n",
       "workingday    0\n",
       "weathersit    0\n",
       "temp          0\n",
       "atemp         0\n",
       "hum           0\n",
       "windspeed     0\n",
       "casual        0\n",
       "registered    0\n",
       "cnt           0\n",
       "dtype: int64"
      ]
     },
     "execution_count": 3,
     "metadata": {},
     "output_type": "execute_result"
    }
   ],
   "source": [
    "df.isnull().sum()"
   ]
  },
  {
   "cell_type": "code",
   "execution_count": 4,
   "metadata": {},
   "outputs": [
    {
     "data": {
      "text/plain": [
       "<matplotlib.axes._subplots.AxesSubplot at 0x7fafa8568a10>"
      ]
     },
     "execution_count": 4,
     "metadata": {},
     "output_type": "execute_result"
    },
    {
     "data": {
      "image/png": "[encoded data removed]",
      "text/plain": [
       "<Figure size 432x288 with 1 Axes>"
      ]
     },
     "metadata": {
      "needs_background": "light"
     },
     "output_type": "display_data"
    }
   ],
   "source": [
    "import seaborn as sns\n",
    "sns.heatmap(df.isnull(),yticklabels=False,cbar=False,cmap='viridis')"
   ]
  },
  {
   "cell_type": "markdown",
   "metadata": {},
   "source": [
    "<span style=\"font-size: 110%;color:Green\">Dane nie mają braków. Szukam czy nie ma błędów. Zmienne nie mają błędów."
   ]
  },
  {
   "cell_type": "code",
   "execution_count": 5,
   "metadata": {},
   "outputs": [
    {
     "data": {
      "text/html": [
       "<div>\n",
       "<style scoped>\n",
       "    .dataframe tbody tr th:only-of-type {\n",
       "        vertical-align: middle;\n",
       "    }\n",
       "\n",
       "    .dataframe tbody tr th {\n",
       "        vertical-align: top;\n",
       "    }\n",
       "\n",
       "    .dataframe thead th {\n",
       "        text-align: right;\n",
       "    }\n",
       "</style>\n",
       "<table border=\"1\" class=\"dataframe\">\n",
       "  <thead>\n",
       "    <tr style=\"text-align: right;\">\n",
       "      <th></th>\n",
       "      <th>instant</th>\n",
       "      <th>dteday</th>\n",
       "      <th>season</th>\n",
       "      <th>yr</th>\n",
       "      <th>mnth</th>\n",
       "      <th>hr</th>\n",
       "      <th>holiday</th>\n",
       "      <th>weekday</th>\n",
       "      <th>workingday</th>\n",
       "      <th>weathersit</th>\n",
       "      <th>temp</th>\n",
       "      <th>atemp</th>\n",
       "      <th>hum</th>\n",
       "      <th>windspeed</th>\n",
       "      <th>casual</th>\n",
       "      <th>registered</th>\n",
       "      <th>cnt</th>\n",
       "    </tr>\n",
       "  </thead>\n",
       "  <tbody>\n",
       "    <tr>\n",
       "      <td>min</td>\n",
       "      <td>1.0</td>\n",
       "      <td>2011-01-01</td>\n",
       "      <td>1.00000</td>\n",
       "      <td>0.000000</td>\n",
       "      <td>1.000000</td>\n",
       "      <td>0.000000</td>\n",
       "      <td>0.00000</td>\n",
       "      <td>0.000000</td>\n",
       "      <td>0.000000</td>\n",
       "      <td>1.000000</td>\n",
       "      <td>0.020000</td>\n",
       "      <td>0.000000</td>\n",
       "      <td>0.000000</td>\n",
       "      <td>0.000000</td>\n",
       "      <td>0.000000</td>\n",
       "      <td>0.000000</td>\n",
       "      <td>1.000000</td>\n",
       "    </tr>\n",
       "    <tr>\n",
       "      <td>max</td>\n",
       "      <td>17379.0</td>\n",
       "      <td>2012-12-31</td>\n",
       "      <td>4.00000</td>\n",
       "      <td>1.000000</td>\n",
       "      <td>12.000000</td>\n",
       "      <td>23.000000</td>\n",
       "      <td>1.00000</td>\n",
       "      <td>6.000000</td>\n",
       "      <td>1.000000</td>\n",
       "      <td>4.000000</td>\n",
       "      <td>1.000000</td>\n",
       "      <td>1.000000</td>\n",
       "      <td>1.000000</td>\n",
       "      <td>0.850700</td>\n",
       "      <td>367.000000</td>\n",
       "      <td>886.000000</td>\n",
       "      <td>977.000000</td>\n",
       "    </tr>\n",
       "    <tr>\n",
       "      <td>mean</td>\n",
       "      <td>8690.0</td>\n",
       "      <td>NaN</td>\n",
       "      <td>2.50164</td>\n",
       "      <td>0.502561</td>\n",
       "      <td>6.537775</td>\n",
       "      <td>11.546752</td>\n",
       "      <td>0.02877</td>\n",
       "      <td>3.003683</td>\n",
       "      <td>0.682721</td>\n",
       "      <td>1.425283</td>\n",
       "      <td>0.496987</td>\n",
       "      <td>0.475775</td>\n",
       "      <td>0.627229</td>\n",
       "      <td>0.190098</td>\n",
       "      <td>35.676218</td>\n",
       "      <td>153.786869</td>\n",
       "      <td>189.463088</td>\n",
       "    </tr>\n",
       "    <tr>\n",
       "      <td>median</td>\n",
       "      <td>8690.0</td>\n",
       "      <td>NaN</td>\n",
       "      <td>3.00000</td>\n",
       "      <td>1.000000</td>\n",
       "      <td>7.000000</td>\n",
       "      <td>12.000000</td>\n",
       "      <td>0.00000</td>\n",
       "      <td>3.000000</td>\n",
       "      <td>1.000000</td>\n",
       "      <td>1.000000</td>\n",
       "      <td>0.500000</td>\n",
       "      <td>0.484800</td>\n",
       "      <td>0.630000</td>\n",
       "      <td>0.194000</td>\n",
       "      <td>17.000000</td>\n",
       "      <td>115.000000</td>\n",
       "      <td>142.000000</td>\n",
       "    </tr>\n",
       "  </tbody>\n",
       "</table>\n",
       "</div>"
      ],
      "text/plain": [
       "        instant      dteday   season        yr       mnth         hr  holiday  \\\n",
       "min         1.0  2011-01-01  1.00000  0.000000   1.000000   0.000000  0.00000   \n",
       "max     17379.0  2012-12-31  4.00000  1.000000  12.000000  23.000000  1.00000   \n",
       "mean     8690.0         NaN  2.50164  0.502561   6.537775  11.546752  0.02877   \n",
       "median   8690.0         NaN  3.00000  1.000000   7.000000  12.000000  0.00000   \n",
       "\n",
       "         weekday  workingday  weathersit      temp     atemp       hum  \\\n",
       "min     0.000000    0.000000    1.000000  0.020000  0.000000  0.000000   \n",
       "max     6.000000    1.000000    4.000000  1.000000  1.000000  1.000000   \n",
       "mean    3.003683    0.682721    1.425283  0.496987  0.475775  0.627229   \n",
       "median  3.000000    1.000000    1.000000  0.500000  0.484800  0.630000   \n",
       "\n",
       "        windspeed      casual  registered         cnt  \n",
       "min      0.000000    0.000000    0.000000    1.000000  \n",
       "max      0.850700  367.000000  886.000000  977.000000  \n",
       "mean     0.190098   35.676218  153.786869  189.463088  \n",
       "median   0.194000   17.000000  115.000000  142.000000  "
      ]
     },
     "execution_count": 5,
     "metadata": {},
     "output_type": "execute_result"
    }
   ],
   "source": [
    "df.agg(['min', 'max', 'mean', 'median'])"
   ]
  },
  {
   "cell_type": "markdown",
   "metadata": {},
   "source": [
    "<span style=\"font-size: 180%;color:Green\"> Zmiana formatu zmiennych niezależnych</span> \n",
    "\n",
    "Które z tych funkcji są kategoryczne?\n",
    "\n",
    "Stawiam dwa warunki: \n",
    "\n",
    "1. funkcja jest kategoryczna bo ma format 'object'\n",
    "2. funkcja jest kategoryczna bo ma do 24 unikalnych wartości"
   ]
  },
  {
   "cell_type": "code",
   "execution_count": 6,
   "metadata": {},
   "outputs": [
    {
     "name": "stdout",
     "output_type": "stream",
     "text": [
      "ONLY DISCRETE FUNCTION\n",
      "----------------------\n",
      "dteday --- object --- 731\n",
      "season --- int64 --- 4\n",
      "yr --- int64 --- 2\n",
      "mnth --- int64 --- 12\n",
      "hr --- int64 --- 24\n",
      "holiday --- int64 --- 2\n",
      "weekday --- int64 --- 7\n",
      "workingday --- int64 --- 2\n",
      "weathersit --- int64 --- 4\n"
     ]
    }
   ],
   "source": [
    "a,b = df.shape     #<- ile mamy kolumn\n",
    "b\n",
    "\n",
    "print('ONLY DISCRETE FUNCTION')\n",
    "print('----------------------')\n",
    "for i in range(1,b):\n",
    "    i = df.columns[i]\n",
    "    f = df[i].dtypes\n",
    "    h = df[i].nunique()\n",
    "    \n",
    "    if f == np.object or h<=24:\n",
    "        print(i,\"---\",f,\"---\",h)"
   ]
  },
  {
   "cell_type": "markdown",
   "metadata": {},
   "source": [
    "Zmienne dyskretne mają format 'int64' a powinny mieć 'object'"
   ]
  },
  {
   "cell_type": "code",
   "execution_count": 14,
   "metadata": {},
   "outputs": [],
   "source": [
    "df.loc[:, 'season':'weathersit'] =  df.loc[:, 'season':'weathersit'].astype('category')"
   ]
  },
  {
   "cell_type": "code",
   "execution_count": 15,
   "metadata": {},
   "outputs": [
    {
     "data": {
      "text/plain": [
       "instant          int64\n",
       "dteday          object\n",
       "season        category\n",
       "yr            category\n",
       "mnth          category\n",
       "hr            category\n",
       "holiday       category\n",
       "weekday       category\n",
       "workingday    category\n",
       "weathersit    category\n",
       "temp           float64\n",
       "atemp          float64\n",
       "hum            float64\n",
       "windspeed      float64\n",
       "casual           int64\n",
       "registered       int64\n",
       "cnt              int64\n",
       "dtype: object"
      ]
     },
     "execution_count": 15,
     "metadata": {},
     "output_type": "execute_result"
    }
   ],
   "source": [
    "df.dtypes"
   ]
  },
  {
   "cell_type": "code",
   "execution_count": null,
   "metadata": {},
   "outputs": [],
   "source": []
  },
  {
   "cell_type": "code",
   "execution_count": null,
   "metadata": {},
   "outputs": [],
   "source": []
  },
  {
   "cell_type": "markdown",
   "metadata": {},
   "source": [
    "<span style=\"font-size: 180%;color:Green\"> Redukcja ilości zmiennych"
   ]
  },
  {
   "cell_type": "markdown",
   "metadata": {},
   "source": [
    "<span style=\"font-size: 110%;color:Green\">Niektóre kolumny należy usunąć, ponieważ mają wysoki poziom korelacji zmiennych niezależnych (multicollinearity)"
   ]
  },
  {
   "cell_type": "code",
   "execution_count": null,
   "metadata": {},
   "outputs": [],
   "source": [
    "CORR = df.corr()\n",
    "\n",
    "kot = CORR[CORR>=.7]\n",
    "plt.figure(figsize=(8,5))\n",
    "sns.heatmap(kot, cmap=\"Greens\")"
   ]
  },
  {
   "cell_type": "markdown",
   "metadata": {},
   "source": [
    "<span style=\"font-size: 110%;color:Green\">Na wykresie widać wyraźnie, że zmienne atempt i tempt są zbyt mocno skorelowane. Należy jedną z tych skorelowanych zmiennych wyeliminować."
   ]
  },
  {
   "cell_type": "code",
   "execution_count": null,
   "metadata": {},
   "outputs": [],
   "source": [
    "import matplotlib.pyplot as plt\n",
    "\n",
    "\n",
    "corr = df.corr().sort_values('cnt')\n",
    "plt.figure(figsize=(10,6))\n",
    "corr['cnt'].plot(kind='barh', color='red')\n",
    "plt.title('Korelacja ze zmienną wynikową cnt', fontsize=20)\n",
    "plt.xlabel('Poziom korelacji')\n",
    "plt.ylabel('Zmienne nezależne ciągłe')"
   ]
  },
  {
   "cell_type": "markdown",
   "metadata": {},
   "source": [
    "<span style=\"font-size: 110%;color:Green\">Zmienna temp jest bardziej skorelowana niż atemp. Eliminujemy też zmienną 'instant' bo nie ma żadenj wartości poznawczej dla modelu."
   ]
  },
  {
   "cell_type": "code",
   "execution_count": null,
   "metadata": {},
   "outputs": [],
   "source": [
    "df = df.drop(['instant','dteday'], axis=1)"
   ]
  },
  {
   "cell_type": "markdown",
   "metadata": {},
   "source": []
  },
  {
   "cell_type": "markdown",
   "metadata": {},
   "source": []
  },
  {
   "cell_type": "code",
   "execution_count": null,
   "metadata": {},
   "outputs": [],
   "source": [
    "a,b = df.shape     #<- ile mamy kolumn\n",
    "b\n",
    "\n",
    "print('ONLY DISCRETE FUNCTION')\n",
    "print('----------------------')\n",
    "for i in range(1,b):\n",
    "    i = df.columns[i]\n",
    "    f = df[i].dtypes\n",
    "    h = df[i].nunique()\n",
    "    \n",
    "    if f == np.object or h<=24:\n",
    "        print(i,\"---\",f,\"---\",h)"
   ]
  },
  {
   "cell_type": "code",
   "execution_count": null,
   "metadata": {},
   "outputs": [],
   "source": [
    "df['season'].unique()"
   ]
  },
  {
   "cell_type": "code",
   "execution_count": null,
   "metadata": {},
   "outputs": [],
   "source": [
    "df['year'] = df.year.astype('category')   #ok\n",
    "df['season'] = df.season.astype('category') #ok\n",
    "df['month'] = df.month.astype('category')\n",
    "df['hour'] = df.hour.astype('category') #ok\n",
    "df['holiday'] = df.holiday.astype('category') #ok\n",
    "df['weekday'] = df.weekday.astype('category') #ok\n",
    "df['workingday'] = df.workingday.astype('category')  #ok\n",
    "df['weather'] = df.weather.astype('category') "
   ]
  },
  {
   "cell_type": "code",
   "execution_count": null,
   "metadata": {},
   "outputs": [],
   "source": []
  },
  {
   "cell_type": "code",
   "execution_count": null,
   "metadata": {},
   "outputs": [],
   "source": []
  },
  {
   "cell_type": "code",
   "execution_count": null,
   "metadata": {},
   "outputs": [],
   "source": []
  },
  {
   "cell_type": "markdown",
   "metadata": {},
   "source": [
    "Niektóre typy danych należy zmienić z liczbowych na jakościowe. W przeciwnym razie model predykcyjny może błędnie zinterpretować"
   ]
  },
  {
   "cell_type": "code",
   "execution_count": null,
   "metadata": {},
   "outputs": [],
   "source": [
    "df['year'] = df.year.astype('category')\n",
    "df['season'] = df.season.astype('category')\n",
    "df['month'] = df.month.astype('category')\n",
    "df['hour'] = df.hour.astype('category')\n",
    "df['holiday'] = df.holiday.astype('category')\n",
    "df['weekday'] = df.weekday.astype('category')\n",
    "df['workingday'] = df.workingday.astype('category')\n",
    "df['weather'] = df.weather.astype('category')"
   ]
  },
  {
   "cell_type": "code",
   "execution_count": null,
   "metadata": {},
   "outputs": [],
   "source": [
    "df.dtypes\n"
   ]
  },
  {
   "cell_type": "markdown",
   "metadata": {},
   "source": [
    "Analiza zmiany wzorca wypożyczania rowerów (zmienna „count” w zbiorze danych) ze zmiennymi kategorialnymi"
   ]
  },
  {
   "cell_type": "code",
   "execution_count": null,
   "metadata": {},
   "outputs": [],
   "source": [
    "fig,[ax1,ax2,ax3,ax4,ax5,ax6,ax7,ax8] = plt.subplots(nrows=8, figsize=(15,25))\n",
    "sn.barplot(x = df['weekday'], y = df['count'],ax = ax1)\n",
    "sn.barplot(x = df['season'], y = df['count'],ax = ax2)\n",
    "sn.barplot(x = df['month'], y = df['count'],ax = ax3)\n",
    "sn.barplot(x = df['holiday'], y = df['count'],ax = ax4)\n",
    "sn.barplot(x = df['hour'], y = df['count'],ax = ax5)\n",
    "sn.barplot(x = df['weather'], y = df['count'],ax = ax6)\n",
    "sn.barplot(x = df['workingday'], y = df['count'],ax = ax7)\n",
    "sn.barplot(x = df['year'], y = df['count'],ax = ax8)"
   ]
  },
  {
   "cell_type": "markdown",
   "metadata": {},
   "source": [
    "Jest oczywiste, że każda z powyższych zmiennych kategorialnych ma wpływ na zmienną 'count'.\n",
    "#### Całkowita liczba użytkowników rowerów (liczba) to suma zarejestrowanych i przypadkowych użytkowników. Trzeba przeanalizować, jak zmieniają się indywidualnie w zależności od godziny\n",
    "#### Zmiany obserwuje się w różnych okolicznościach, aby sprawdzić, jak wpływają one na użytkowników rowerów"
   ]
  },
  {
   "cell_type": "code",
   "execution_count": null,
   "metadata": {},
   "outputs": [],
   "source": [
    "fig,axes = plt.subplots(nrows = 3,ncols = 3, figsize=(25,30))\n",
    "\n",
    "sn.pointplot(x = df['hour'], y = df['registered'], hue = df['month'],df  = df,ax = axes[0][0])\n",
    "sn.pointplot(x = df['hour'], y = df['casual'], hue = df['month'], df  = df,ax = axes[0][1])\n",
    "sn.pointplot(x = df['hour'], y = df['count'], hue = df['month'], size = 7, df  = df,ax = axes[0][2])\n",
    "\n",
    "sn.pointplot(x = df['hour'], y = df['registered'], hue = df['season'],df  = df,ax = axes[1][0])\n",
    "sn.pointplot(x = df['hour'], y = df['casual'], hue = df['season'], df  = df,ax = axes[1][1])\n",
    "sn.pointplot(x = df['hour'], y = df['count'], hue = df['season'], size = 7, df  = df,ax = axes[1][2])\n",
    "\n",
    "sn.pointplot(x = df['hour'], y = df['registered'], hue = df['weather'],df  = df,ax = axes[2][0])\n",
    "sn.pointplot(x = df['hour'], y = df['casual'], hue = df['weather'], df  = df,ax = axes[2][1])\n",
    "sn.pointplot(x = df['hour'], y = df['count'], hue = df['weather'], size = 7, df  = df,ax = axes[2][2])"
   ]
  },
  {
   "cell_type": "markdown",
   "metadata": {},
   "source": [
    "# Modele regresji\n",
    "\n",
    "Aby sprawdzić skośność rozkładu dla zmiennej „count”, można narysować wykres Q-Q\n",
    "Wykres Q-Q może również zweryfikować, czy możliwy jest rozkład normalny"
   ]
  },
  {
   "cell_type": "code",
   "execution_count": null,
   "metadata": {},
   "outputs": [],
   "source": [
    "fig, (ax1,ax2) = plt.subplots(nrows=2, figsize=(12,12))\n",
    "sn.distplot(df['count'], ax=ax1)\n",
    "ax1.set(title=\"Distribution of count\")\n",
    "qqplot(df['count'], line='s', ax=ax2)\n",
    "ax2.set(title=\"Q-Q plot of Count\")"
   ]
  },
  {
   "cell_type": "markdown",
   "metadata": {},
   "source": [
    "Jest oczywiste, że rozkład nie jest normalny, ponieważ wykres kwantylowy nie pasuje do linii prostej."
   ]
  },
  {
   "cell_type": "markdown",
   "metadata": {},
   "source": [
    "# Usuwanie zmienncy niezależnych"
   ]
  },
  {
   "cell_type": "code",
   "execution_count": null,
   "metadata": {},
   "outputs": [],
   "source": [
    "# usuwanie zmiennych\n",
    "\n",
    "df = df.drop(['atemp', 'casual', 'registered', 'windspeed'], axis=1)"
   ]
  },
  {
   "cell_type": "markdown",
   "metadata": {},
   "source": [
    "Liczby w zmiennej kategorialnej są niebinarne, co może wpływać nieprawidłowo na model prognozowania\n",
    "\n",
    "Jedno kodowanie na gorąco służy do konwersji tych zmiennych na binarne poprzez utworzenie fikcyjnych danych\n",
    "\n",
    "Aby uniknąć wielokoliniowości, pierwsza zmienna w dummydata jest odrzucana"
   ]
  },
  {
   "cell_type": "code",
   "execution_count": null,
   "metadata": {},
   "outputs": [],
   "source": [
    "data_dummy = df\n",
    "\n",
    "def dummify_dataset(dataframe, col):\n",
    "    dummy_column = pd.get_dummies(dataframe[col], prefix = col, drop_first = True)\n",
    "    new_data = pd.concat([dataframe,dummy_column],axis = 1)\n",
    "    new_data = new_data.drop([col], axis=1)\n",
    "    return new_data\n",
    "\n",
    "dcol = ['season', 'month', 'hour', 'holiday', 'weekday', 'workingday', 'weather','year']\n",
    "\n",
    "for i in range(0,8):\n",
    "    data_dummy = dummify_dataset(data_dummy,dcol[i])"
   ]
  },
  {
   "cell_type": "markdown",
   "metadata": {},
   "source": [
    "Dane treningowe i testowe są tworzone przez podzielenie danych głównych. Uwzględniono 33% danych testowych"
   ]
  },
  {
   "cell_type": "code",
   "execution_count": null,
   "metadata": {},
   "outputs": [],
   "source": [
    "y = data_dummy['count']\n",
    "X = data_dummy.drop(['count'], axis=1)\n",
    "\n",
    "X_train, X_test, y_train, y_test = train_test_split(X,y,\n",
    "                                                   test_size=0.33,\n",
    "                                                   random_state=42)"
   ]
  },
  {
   "cell_type": "markdown",
   "metadata": {},
   "source": [
    "# Uruchamiam jednocześnie dużo modeli"
   ]
  },
  {
   "cell_type": "code",
   "execution_count": null,
   "metadata": {},
   "outputs": [],
   "source": [
    "models = [LinearRegression(),\n",
    "          AdaBoostRegressor(),\n",
    "          Ridge(),\n",
    "          HuberRegressor(),\n",
    "          ElasticNetCV(),\n",
    "          DecisionTreeRegressor(), \n",
    "          ExtraTreesRegressor(),\n",
    "          GradientBoostingRegressor(),\n",
    "          RandomForestRegressor(),\n",
    "          BaggingRegressor()]"
   ]
  },
  {
   "cell_type": "markdown",
   "metadata": {},
   "source": [
    "Zapisywana jest funkcja określająca wynik walidacji krzyżowej na podstawie średniego błędu bezwzględnego"
   ]
  },
  {
   "cell_type": "code",
   "execution_count": null,
   "metadata": {},
   "outputs": [],
   "source": [
    "def test_algorithms(model):\n",
    "    kfold = model_selection.KFold(n_splits=10, random_state=0)\n",
    "    mean_dev_scores = model_selection.cross_val_score(model, X_train, y_train, cv=kfold, scoring='neg_mean_absolute_error')\n",
    "    r2_scores = model_selection.cross_val_score(model, X_train, y_train, cv=kfold, scoring='r2')\n",
    "    Scores= pd.DataFrame({'Mean deviation':[np.mean(mean_dev_scores)],'R Square':[np.mean(r2_scores)]})\n",
    "    print(Scores)\n",
    "    \n",
    "for model in models:\n",
    "    test_algorithms(model)"
   ]
  },
  {
   "cell_type": "markdown",
   "metadata": {},
   "source": [
    "Jest oczywiste, że ExtraTreeRegressor () ma najniższą ocenę błędu\n",
    "\n",
    "Aby znaleźć najlepsze parametry z listy, używana jest funkcja „GridSearchCV” z biblioteki Scikit"
   ]
  },
  {
   "cell_type": "code",
   "execution_count": null,
   "metadata": {},
   "outputs": [],
   "source": [
    "parameters={'n_estimators': (50,100,500),\n",
    "        'max_features': (20,40,50),\n",
    "        'min_samples_leaf': (1,5,10),\n",
    "        'min_samples_split': (5,10,20)}\n",
    "\n",
    "clf = GridSearchCV(ExtraTreesRegressor(), parameters,scoring = 'r2')\n",
    "clf.fit(X_train,y_train)\n",
    "\n",
    "print(clf.best_score_)\n",
    "print(clf.best_params_)\n",
    "print(clf.best_estimator_)"
   ]
  },
  {
   "cell_type": "markdown",
   "metadata": {},
   "source": [
    "Wartość R-kwadrat jest bardzo rozsądna dla tego zbioru danych, który ma tak ogromną liczbę wartości odstających.\n",
    "\n",
    "## Wydajność modelu predykcyjnego\n",
    "\n",
    "Zmienne „count” dla danych testowych są prognozowane za pomocą wybranego modelu i parametrów"
   ]
  },
  {
   "cell_type": "code",
   "execution_count": null,
   "metadata": {},
   "outputs": [],
   "source": [
    "clf = ExtraTreesRegressor(max_features= 40, min_samples_leaf= 1, min_samples_split= 5, n_estimators= 500)\n",
    "clf.fit(X_train,y_train)\n",
    "y_pred = clf.predict(X_test)\n",
    "\n",
    "# A regression plot can be drawn between actual and predicted data to understand the performance of the model\n",
    "# Bins are used to make the pattern more meaningful\n",
    "\n",
    "ax = sn.regplot(y_test,y_pred,x_bins = 200)\n",
    "ax.set(title = \"Comparison between the actual vs prediction\")"
   ]
  },
  {
   "cell_type": "markdown",
   "metadata": {},
   "source": [
    "Kolejny wykres regresji w celu zrozumienia reszt błędu z rzeczywistych danych testowych"
   ]
  },
  {
   "cell_type": "markdown",
   "metadata": {},
   "source": [
    "Z wykresu widać, że odchylenia od rzeczywistych danych testowych nie są zbyt duże i ograniczone w granicach. To kolejny dowód na precyzję modelu predykcyjnego"
   ]
  },
  {
   "cell_type": "code",
   "execution_count": null,
   "metadata": {},
   "outputs": [],
   "source": []
  },
  {
   "cell_type": "code",
   "execution_count": null,
   "metadata": {},
   "outputs": [],
   "source": []
  },
  {
   "cell_type": "code",
   "execution_count": null,
   "metadata": {},
   "outputs": [],
   "source": []
  }
 ],
 "metadata": {
  "kernelspec": {
   "display_name": "Python 3",
   "language": "python",
   "name": "python3"
  },
  "language_info": {
   "codemirror_mode": {
    "name": "ipython",
    "version": 3
   },
   "file_extension": ".py",
   "mimetype": "text/x-python",
   "name": "python",
   "nbconvert_exporter": "python",
   "pygments_lexer": "ipython3",
   "version": "3.7.4"
  }
 },
 "nbformat": 4,
 "nbformat_minor": 2
}
