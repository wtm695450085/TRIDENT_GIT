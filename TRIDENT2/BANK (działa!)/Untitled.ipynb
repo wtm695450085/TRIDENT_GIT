{
 "cells": [
  {
   "cell_type": "code",
   "execution_count": 1,
   "metadata": {},
   "outputs": [
    {
     "name": "stdout",
     "output_type": "stream",
     "text": [
      "1\n",
      "2\n",
      "3\n",
      "4\n",
      "5\n"
     ]
    }
   ],
   "source": [
    "\n",
    "a=[1,2,3,4,5]\n",
    "for b in a:\n",
    "   print(b)"
   ]
  },
  {
   "cell_type": "code",
   "execution_count": 3,
   "metadata": {},
   "outputs": [],
   "source": [
    "KOT=[]\n",
    "a=[1,2,3,4,5]\n",
    "for b in a:\n",
    "    KOT.append(b)"
   ]
  },
  {
   "cell_type": "code",
   "execution_count": 4,
   "metadata": {},
   "outputs": [
    {
     "data": {
      "text/plain": [
       "[1, 2, 3, 4, 5]"
      ]
     },
     "execution_count": 4,
     "metadata": {},
     "output_type": "execute_result"
    }
   ],
   "source": [
    "KOT"
   ]
  },
  {
   "cell_type": "code",
   "execution_count": 11,
   "metadata": {},
   "outputs": [],
   "source": [
    "KOT = []\n",
    "l = [1,2,3,4,5,6,7,8]\n",
    "\n",
    "\n",
    "for number in l:\n",
    "    calc = number*10\n",
    "    KOT.append(calc)\n"
   ]
  },
  {
   "cell_type": "code",
   "execution_count": 12,
   "metadata": {},
   "outputs": [
    {
     "data": {
      "text/plain": [
       "[10, 20, 30, 40, 50, 60, 70, 80]"
      ]
     },
     "execution_count": 12,
     "metadata": {},
     "output_type": "execute_result"
    }
   ],
   "source": [
    "KOT"
   ]
  },
  {
   "cell_type": "code",
   "execution_count": 58,
   "metadata": {},
   "outputs": [
    {
     "data": {
      "text/plain": [
       "array([[2.0e+00, 2.5e-01, 1.2e-01],\n",
       "       [4.0e+00, 6.0e-02, 2.0e-02],\n",
       "       [6.0e+00, 3.0e-02, 0.0e+00],\n",
       "       [8.0e+00, 2.0e-02, 0.0e+00],\n",
       "       [1.0e+01, 1.0e-02, 0.0e+00],\n",
       "       [1.2e+01, 1.0e-02, 0.0e+00],\n",
       "       [1.4e+01, 1.0e-02, 0.0e+00],\n",
       "       [1.6e+01, 0.0e+00, 0.0e+00],\n",
       "       [1.8e+01, 0.0e+00, 0.0e+00],\n",
       "       [2.0e+01, 0.0e+00, 0.0e+00]])"
      ]
     },
     "execution_count": 58,
     "metadata": {},
     "output_type": "execute_result"
    }
   ],
   "source": [
    "\n",
    "# Input az matrix\n",
    "az = [1, 2, 3, 4, 5, 6, 7, 8, 9, 10]\n",
    "\n",
    "# Construct frame of X matrix\n",
    "X = [[0 for x in range(3)] for y in range(10)]\n",
    "\n",
    "# Use az matrix to complete X matrix\n",
    "f=0\n",
    "for bear in az:\n",
    "    r = 2*bear\n",
    "    \n",
    "    X[f][0] = round(r , 2)\n",
    "    X[f][1] = round(r**-2, 2)\n",
    "    X[f][2] = round(r**-3, 2)\n",
    "    f=f+1\n",
    "\n",
    "import numpy as np\n",
    "R = np.array(X)   \n",
    "R"
   ]
  },
  {
   "cell_type": "code",
   "execution_count": 59,
   "metadata": {},
   "outputs": [
    {
     "name": "stdout",
     "output_type": "stream",
     "text": [
      "╒════╤═════╤══════╤═════════╕\n",
      "│    │   A │   R2 │   S_div │\n",
      "╞════╪═════╪══════╪═════════╡\n",
      "│  1 │   2 │ 0.25 │    0.12 │\n",
      "├────┼─────┼──────┼─────────┤\n",
      "│  2 │   4 │ 0.06 │    0.02 │\n",
      "├────┼─────┼──────┼─────────┤\n",
      "│  3 │   6 │ 0.03 │    0    │\n",
      "├────┼─────┼──────┼─────────┤\n",
      "│  4 │   8 │ 0.02 │    0    │\n",
      "├────┼─────┼──────┼─────────┤\n",
      "│  5 │  10 │ 0.01 │    0    │\n",
      "├────┼─────┼──────┼─────────┤\n",
      "│  6 │  12 │ 0.01 │    0    │\n",
      "├────┼─────┼──────┼─────────┤\n",
      "│  7 │  14 │ 0.01 │    0    │\n",
      "├────┼─────┼──────┼─────────┤\n",
      "│  8 │  16 │ 0    │    0    │\n",
      "├────┼─────┼──────┼─────────┤\n",
      "│  9 │  18 │ 0    │    0    │\n",
      "├────┼─────┼──────┼─────────┤\n",
      "│ 10 │  20 │ 0    │    0    │\n",
      "╘════╧═════╧══════╧═════════╛\n"
     ]
    }
   ],
   "source": [
    "import numpy as np\n",
    "\n",
    "R \n",
    "\n",
    "zak = np.array([1, 2, 3,4, 5,6,7,8,9,10])\n",
    "\n",
    "got = np.array([\"A\", \"R2\", \"S_div\"])\n",
    "\n",
    "\n",
    "from tabulate import tabulate\n",
    "\n",
    "## \"plain\",\"simple\",\"grid\",\"pipe\",\"orgtbl\",\"rst\",\"mediawiki\",\"latex\", \"fancy_grid\"\n",
    "table = tabulate(R, headers= got, tablefmt=\"fancy_grid\",showindex=zak)\n",
    "\n",
    "print(table)"
   ]
  },
  {
   "cell_type": "code",
   "execution_count": 61,
   "metadata": {},
   "outputs": [
    {
     "data": {
      "text/plain": [
       "'int32'"
      ]
     },
     "execution_count": 61,
     "metadata": {},
     "output_type": "execute_result"
    }
   ],
   "source": [
    "dt = np.dtype('>i4')\n",
    "dt.name"
   ]
  },
  {
   "cell_type": "code",
   "execution_count": 38,
   "metadata": {},
   "outputs": [
    {
     "data": {
      "text/plain": [
       "array([[ 2,  4,  6],\n",
       "       [ 4,  8, 12],\n",
       "       [ 6, 12, 18],\n",
       "       [ 8, 16, 24],\n",
       "       [10, 20, 30],\n",
       "       [12, 24, 36],\n",
       "       [14, 28, 42],\n",
       "       [16, 32, 48],\n",
       "       [18, 36, 54],\n",
       "       [20, 40, 60]])"
      ]
     },
     "execution_count": 38,
     "metadata": {},
     "output_type": "execute_result"
    }
   ],
   "source": [
    "R"
   ]
  }
 ],
 "metadata": {
  "kernelspec": {
   "display_name": "Python 3",
   "language": "python",
   "name": "python3"
  },
  "language_info": {
   "codemirror_mode": {
    "name": "ipython",
    "version": 3
   },
   "file_extension": ".py",
   "mimetype": "text/x-python",
   "name": "python",
   "nbconvert_exporter": "python",
   "pygments_lexer": "ipython3",
   "version": "3.7.4"
  }
 },
 "nbformat": 4,
 "nbformat_minor": 2
}
