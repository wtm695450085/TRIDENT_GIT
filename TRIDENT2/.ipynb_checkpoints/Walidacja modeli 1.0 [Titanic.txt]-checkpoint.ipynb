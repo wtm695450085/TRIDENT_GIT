{
 "cells": [
  {
   "cell_type": "markdown",
   "metadata": {},
   "source": [
    "# <span style=\"font-size: 210%;color:white;background:black\"> Walidacja modeli 1.0 [Titanic.txt]\n",
    "\n",
    "### <span style=\"color:blue\"> Cognition comes by comparison! Friedrich Wilhelm Nietzsche\n",
    "    \n",
    "Modele cross-validated mogą być zgrane z dysku - jakość zgranych modeli zależy między innymi od wielkości próby na jakiej zostały przeszkolone. Jeżeli wgramy model szkolony na próbie 0.05 to gdy po zgraniu tych modeli z dysku ustawimy 0.05 populacji to otrzymamy identyczne wyniki na wskaźnikach. Czyli nagranie trzyma wyuczenie modeli. Natomiast można modele wyszkolić na próbie 0.5 a nastepnie wgrać i uruchomić na próbie 100%.     \n",
    " \n",
    "## <span style=\"font-size: 100%;color:#6fa8dc;background:#cfe2f3\">Ważne wnioski!!\n",
    "\n",
    "## <span style=\"font-size: 100%;color:#6fa8dc;background:#cfe2f3\">Modele cross-validated wyćwiczony na małej próbie z beznadziejnymi odczytami i parametrami, uruchomiony na pełnej próbie 100% zachowuje się znacznie lepiej. Dodatkowo zgranie zbagowanych wersji słabych modeli cross-validated z małej próby daje bardzo dobre rezultaty jeżeli chodzi o poprawę parametrów na wielkiej próbie 100%."
   ]
  },
  {
   "cell_type": "code",
   "execution_count": 1,
   "metadata": {},
   "outputs": [
    {
     "name": "stdout",
     "output_type": "stream",
     "text": [
      "(418066, 22)\n",
      "\n",
      "Index(['Unnamed: 0', 'klik', 'kat4', 'strona_domena', '5006', 'urz_ip',\n",
      "       'urz_id', 'kat95004', '5003', 'strona_id', '3005', 'urz_model5006',\n",
      "       '5007', '3006', 'aplikacja_id5007', 'urz_model3006', 'aplikacja_id3006',\n",
      "       'strona_domena5006', 'aplikacja_id', 'urz_model5007', 'kat95001',\n",
      "       'urz_ip5005'],\n",
      "      dtype='object')\n"
     ]
    },
    {
     "data": {
      "text/html": [
       "<div>\n",
       "<style scoped>\n",
       "    .dataframe tbody tr th:only-of-type {\n",
       "        vertical-align: middle;\n",
       "    }\n",
       "\n",
       "    .dataframe tbody tr th {\n",
       "        vertical-align: top;\n",
       "    }\n",
       "\n",
       "    .dataframe thead th {\n",
       "        text-align: right;\n",
       "    }\n",
       "</style>\n",
       "<table border=\"1\" class=\"dataframe\">\n",
       "  <thead>\n",
       "    <tr style=\"text-align: right;\">\n",
       "      <th></th>\n",
       "      <th>Unnamed: 0</th>\n",
       "      <th>klik</th>\n",
       "      <th>kat4</th>\n",
       "      <th>strona_domena</th>\n",
       "      <th>5006</th>\n",
       "      <th>urz_ip</th>\n",
       "      <th>urz_id</th>\n",
       "      <th>kat95004</th>\n",
       "      <th>5003</th>\n",
       "      <th>strona_id</th>\n",
       "      <th>...</th>\n",
       "      <th>5007</th>\n",
       "      <th>3006</th>\n",
       "      <th>aplikacja_id5007</th>\n",
       "      <th>urz_model3006</th>\n",
       "      <th>aplikacja_id3006</th>\n",
       "      <th>strona_domena5006</th>\n",
       "      <th>aplikacja_id</th>\n",
       "      <th>urz_model5007</th>\n",
       "      <th>kat95001</th>\n",
       "      <th>urz_ip5005</th>\n",
       "    </tr>\n",
       "  </thead>\n",
       "  <tbody>\n",
       "    <tr>\n",
       "      <td>0</td>\n",
       "      <td>741602</td>\n",
       "      <td>0</td>\n",
       "      <td>10050</td>\n",
       "      <td>1107</td>\n",
       "      <td>1442</td>\n",
       "      <td>136810</td>\n",
       "      <td>45092</td>\n",
       "      <td>1469</td>\n",
       "      <td>1646</td>\n",
       "      <td>1915</td>\n",
       "      <td>...</td>\n",
       "      <td>272</td>\n",
       "      <td>1816</td>\n",
       "      <td>272</td>\n",
       "      <td>1904</td>\n",
       "      <td>1816</td>\n",
       "      <td>978</td>\n",
       "      <td>2146</td>\n",
       "      <td>778</td>\n",
       "      <td>7777.0</td>\n",
       "      <td>790</td>\n",
       "    </tr>\n",
       "    <tr>\n",
       "      <td>1</td>\n",
       "      <td>834277</td>\n",
       "      <td>0</td>\n",
       "      <td>10050</td>\n",
       "      <td>1729</td>\n",
       "      <td>590</td>\n",
       "      <td>192102</td>\n",
       "      <td>45092</td>\n",
       "      <td>498</td>\n",
       "      <td>1028</td>\n",
       "      <td>1156</td>\n",
       "      <td>...</td>\n",
       "      <td>881</td>\n",
       "      <td>415</td>\n",
       "      <td>881</td>\n",
       "      <td>3242</td>\n",
       "      <td>415</td>\n",
       "      <td>174</td>\n",
       "      <td>1329</td>\n",
       "      <td>2037</td>\n",
       "      <td>7.0</td>\n",
       "      <td>355</td>\n",
       "    </tr>\n",
       "    <tr>\n",
       "      <td>2</td>\n",
       "      <td>1167548</td>\n",
       "      <td>1</td>\n",
       "      <td>10250</td>\n",
       "      <td>1042</td>\n",
       "      <td>1442</td>\n",
       "      <td>31117</td>\n",
       "      <td>45092</td>\n",
       "      <td>681</td>\n",
       "      <td>1646</td>\n",
       "      <td>814</td>\n",
       "      <td>...</td>\n",
       "      <td>272</td>\n",
       "      <td>1816</td>\n",
       "      <td>272</td>\n",
       "      <td>3795</td>\n",
       "      <td>1816</td>\n",
       "      <td>836</td>\n",
       "      <td>2146</td>\n",
       "      <td>1913</td>\n",
       "      <td>3.0</td>\n",
       "      <td>3998</td>\n",
       "    </tr>\n",
       "  </tbody>\n",
       "</table>\n",
       "<p>3 rows × 22 columns</p>\n",
       "</div>"
      ],
      "text/plain": [
       "   Unnamed: 0  klik   kat4  strona_domena  5006  urz_ip  urz_id  kat95004  \\\n",
       "0      741602     0  10050           1107  1442  136810   45092      1469   \n",
       "1      834277     0  10050           1729   590  192102   45092       498   \n",
       "2     1167548     1  10250           1042  1442   31117   45092       681   \n",
       "\n",
       "   5003  strona_id  ...  5007  3006  aplikacja_id5007  urz_model3006  \\\n",
       "0  1646       1915  ...   272  1816               272           1904   \n",
       "1  1028       1156  ...   881   415               881           3242   \n",
       "2  1646        814  ...   272  1816               272           3795   \n",
       "\n",
       "   aplikacja_id3006  strona_domena5006  aplikacja_id  urz_model5007  kat95001  \\\n",
       "0              1816                978          2146            778    7777.0   \n",
       "1               415                174          1329           2037       7.0   \n",
       "2              1816                836          2146           1913       3.0   \n",
       "\n",
       "   urz_ip5005  \n",
       "0         790  \n",
       "1         355  \n",
       "2        3998  \n",
       "\n",
       "[3 rows x 22 columns]"
      ]
     },
     "execution_count": 1,
     "metadata": {},
     "output_type": "execute_result"
    }
   ],
   "source": [
    "import pandas as pd\n",
    "import numpy as np\n",
    "import seaborn as sns\n",
    "import matplotlib.pyplot as plt\n",
    "import warnings \n",
    "from sklearn.ensemble import BaggingClassifier\n",
    "from simple_colors import * \n",
    "from prettytable import PrettyTable\n",
    "import time\n",
    "\n",
    "warnings.filterwarnings(\"ignore\")\n",
    "\n",
    "%matplotlib inline\n",
    "\n",
    "df= pd.read_csv('/home/wojciech/Pulpit/7/kliki_uczenie_slicer20.csv')\n",
    "print(df.shape)\n",
    "print()\n",
    "print(df.columns)\n",
    "df.head(3)"
   ]
  },
  {
   "cell_type": "markdown",
   "metadata": {},
   "source": [
    "#### <div class=\"alert-success\"> Sample reduction:</div>"
   ]
  },
  {
   "cell_type": "code",
   "execution_count": 2,
   "metadata": {},
   "outputs": [
    {
     "data": {
      "text/plain": [
       "(418066, 22)"
      ]
     },
     "execution_count": 2,
     "metadata": {},
     "output_type": "execute_result"
    }
   ],
   "source": [
    "df = df.sample(frac = 1.00, random_state=10) \n",
    "df.shape"
   ]
  },
  {
   "cell_type": "markdown",
   "metadata": {},
   "source": [
    "#### Start pomiaru czasu"
   ]
  },
  {
   "cell_type": "code",
   "execution_count": 3,
   "metadata": {},
   "outputs": [
    {
     "name": "stdout",
     "output_type": "stream",
     "text": [
      "Mon Jun 15 16:12:17 2020\n"
     ]
    }
   ],
   "source": [
    "import time\n",
    "start_time = time.time() ## pomiar czasu: start pomiaru czasu\n",
    "print(time.ctime())"
   ]
  },
  {
   "cell_type": "markdown",
   "metadata": {},
   "source": [
    "### Tool for automatic coding of discrete variables !\n"
   ]
  },
  {
   "cell_type": "code",
   "execution_count": 4,
   "metadata": {},
   "outputs": [
    {
     "name": "stdout",
     "output_type": "stream",
     "text": [
      "DISCRETE FUNCTIONS CODED\n",
      "------------------------\n"
     ]
    }
   ],
   "source": [
    "a,b = df.shape     #<- ile mamy kolumn\n",
    "b\n",
    "\n",
    "print('DISCRETE FUNCTIONS CODED')\n",
    "print('------------------------')\n",
    "for i in range(1,b):\n",
    "    i = df.columns[i]\n",
    "    f = df[i].dtypes\n",
    "    if f == np.object:\n",
    "        print(i,\"---\",f)   \n",
    "    \n",
    "        if f == np.object:\n",
    "        \n",
    "            df[i] = pd.Categorical(df[i]).codes\n",
    "        \n",
    "            continue"
   ]
  },
  {
   "cell_type": "code",
   "execution_count": 5,
   "metadata": {},
   "outputs": [],
   "source": [
    "df.fillna(7777, inplace=True)"
   ]
  },
  {
   "cell_type": "code",
   "execution_count": 6,
   "metadata": {},
   "outputs": [],
   "source": [
    "X = df.drop('klik', axis=1) \n",
    "y = df['klik']  \n",
    "\n",
    "from sklearn.model_selection import train_test_split\n",
    "X_train, X_test, y_train, y_test = train_test_split(X, y, test_size=0.20, random_state=123,stratify=y)"
   ]
  },
  {
   "cell_type": "raw",
   "metadata": {},
   "source": [
    "X_test = X_test.values\n",
    "y_test = y_test.values\n",
    "X_train = X_train.values\n",
    "y_train = y_train.values"
   ]
  },
  {
   "cell_type": "markdown",
   "metadata": {},
   "source": [
    "# <span style=\"font-size: 100%;color:#6fa8dc;background:#cfe2f3\">Oversampling   !! "
   ]
  },
  {
   "cell_type": "code",
   "execution_count": 7,
   "metadata": {},
   "outputs": [],
   "source": [
    "def oversampling(ytrain, Xtrain):\n",
    "    import matplotlib.pyplot as plt\n",
    "    \n",
    "    global Xtrain_OV\n",
    "    global ytrain_OV\n",
    "\n",
    "    calss1 = np.round((sum(ytrain == 1)/(sum(ytrain == 0)+sum(ytrain == 1))),decimals=2)*100\n",
    "    calss0 = np.round((sum(ytrain == 0)/(sum(ytrain == 0)+sum(ytrain == 1))),decimals=2)*100\n",
    "    \n",
    "    print(\"y = 0: \", sum(ytrain == 0),'-------',calss0,'%')\n",
    "    print(\"y = 1: \", sum(ytrain == 1),'-------',calss1,'%')\n",
    "    print('--------------------------------------------------------')\n",
    "    \n",
    "    ytrain.value_counts(dropna = False, normalize=True).plot(kind='pie',title='Before oversampling')\n",
    "    plt.show\n",
    "    print()\n",
    "    \n",
    "    Proporcja = sum(ytrain == 0) / sum(ytrain == 1)\n",
    "    Proporcja = np.round(Proporcja, decimals=0)\n",
    "    Proporcja = Proporcja.astype(int)\n",
    "       \n",
    "    ytrain_OV = pd.concat([ytrain[ytrain==1]] * Proporcja, axis = 0) \n",
    "    Xtrain_OV = pd.concat([Xtrain.loc[ytrain==1, :]] * Proporcja, axis = 0)\n",
    "    \n",
    "    ytrain_OV = pd.concat([ytrain, ytrain_OV], axis = 0).reset_index(drop = True)\n",
    "    Xtrain_OV = pd.concat([Xtrain, Xtrain_OV], axis = 0).reset_index(drop = True)\n",
    "    \n",
    "    Xtrain_OV = pd.DataFrame(Xtrain_OV)\n",
    "    ytrain_OV = pd.DataFrame(ytrain_OV)\n",
    "    \n",
    "\n",
    "    \n",
    "    print(\"Before oversampling Xtrain:     \", Xtrain.shape)\n",
    "    print(\"Before oversampling ytrain:     \", ytrain.shape)\n",
    "    print('--------------------------------------------------------')\n",
    "    print(\"After oversampling Xtrain_OV:  \", Xtrain_OV.shape)\n",
    "    print(\"After oversampling ytrain_OV:  \", ytrain_OV.shape)\n",
    "    print('--------------------------------------------------------')\n",
    "    \n",
    "    \n",
    "    ax = plt.subplot(1, 2, 1)\n",
    "    ytrain.value_counts(dropna = False, normalize=True).plot(kind='pie',title='Before oversampling')\n",
    "    plt.show\n",
    "    \n",
    "       \n",
    "    kot = pd.concat([ytrain[ytrain==1]] * Proporcja, axis = 0)\n",
    "    kot = pd.concat([ytrain, kot], axis = 0).reset_index(drop = True)\n",
    "    ax = plt.subplot(1, 2, 2)\n",
    "    kot.value_counts(dropna = False, normalize=True).plot(kind='pie',title='After oversampling')\n",
    "    plt.show"
   ]
  },
  {
   "cell_type": "code",
   "execution_count": 8,
   "metadata": {},
   "outputs": [
    {
     "name": "stdout",
     "output_type": "stream",
     "text": [
      "y = 0:  277692 ------- 83.0 %\n",
      "y = 1:  56760 ------- 17.0 %\n",
      "--------------------------------------------------------\n",
      "\n",
      "Before oversampling Xtrain:      (334452, 21)\n",
      "Before oversampling ytrain:      (334452,)\n",
      "--------------------------------------------------------\n",
      "After oversampling Xtrain_OV:   (618252, 21)\n",
      "After oversampling ytrain_OV:   (618252, 1)\n",
      "--------------------------------------------------------\n"
     ]
    },
    {
     "data": {
      "image/png": "[encoded data removed]",
      "text/plain": [
       "<Figure size 432x288 with 2 Axes>"
      ]
     },
     "metadata": {},
     "output_type": "display_data"
    }
   ],
   "source": [
    "oversampling(y_train, X_train)"
   ]
  },
  {
   "cell_type": "markdown",
   "metadata": {},
   "source": [
    "I used six models of GaussianNB, LogisticRegression, CatBoostClassifier in their basic version without oversamplin and with oversampling. We will see what differences in the minority set classification the oversampling method gives.!!"
   ]
  },
  {
   "cell_type": "markdown",
   "metadata": {},
   "source": [
    "I get rid of one dimension from the ytrain_OV set so that the set is similar to y_test."
   ]
  },
  {
   "cell_type": "code",
   "execution_count": 9,
   "metadata": {},
   "outputs": [
    {
     "name": "stdout",
     "output_type": "stream",
     "text": [
      "(618252, 21)\n",
      "(618252, 1)\n",
      "(618252,)\n"
     ]
    }
   ],
   "source": [
    "print(Xtrain_OV.shape)\n",
    "print(ytrain_OV.shape)\n",
    "ytrain_OV = ytrain_OV['klik']\n",
    "print(ytrain_OV.shape)"
   ]
  },
  {
   "cell_type": "markdown",
   "metadata": {},
   "source": [
    "W poprzednim wpisie uznaliśmy, że oversampling poprawiło jakość klasyfikacji. Kolejne działania będą opierały sie na danych zbilansowanych przez oversampling. Dlatego teraz podmieniamy zwykłą próbę na próbę po oversamoling."
   ]
  },
  {
   "cell_type": "code",
   "execution_count": 10,
   "metadata": {},
   "outputs": [
    {
     "name": "stdout",
     "output_type": "stream",
     "text": [
      "(618252, 21)\n",
      "(618252,)\n"
     ]
    }
   ],
   "source": [
    "X_train = Xtrain_OV\n",
    "y_train = ytrain_OV\n",
    "print(X_train.shape)\n",
    "print(y_train.shape)"
   ]
  },
  {
   "cell_type": "markdown",
   "metadata": {},
   "source": [
    "## <span style=\"color:blue\">Oversampling dla cross-validation\n",
    "\n",
    "<span style=\"color:blue\">Teraz robimy oversampling dla wartości testowych. Robimy tak ponieważ bedziemy robić oversampling, gdzie podział na zbiór testowy i treningowy jest robiony wielokrotnie (fałdy). Więc do równania oversampling wstawiamy połaczomy zbiór testowy i wynikowy. A warto żeby oba te zbiory były zbilansowane przez oversampling.  "
   ]
  },
  {
   "cell_type": "code",
   "execution_count": 12,
   "metadata": {},
   "outputs": [],
   "source": [
    "X = df.drop('klik', axis=1) \n",
    "y = df['klik']  "
   ]
  },
  {
   "cell_type": "code",
   "execution_count": null,
   "metadata": {},
   "outputs": [],
   "source": [
    "X.shape"
   ]
  },
  {
   "cell_type": "code",
   "execution_count": null,
   "metadata": {},
   "outputs": [],
   "source": [
    "oversampling(y, X)"
   ]
  },
  {
   "cell_type": "code",
   "execution_count": null,
   "metadata": {},
   "outputs": [],
   "source": [
    "Data = Xtrain_OV\n",
    "target = ytrain_OV\n",
    "print(\"output:\",Data.shape)\n",
    "print(\"output:\",target.shape)\n",
    "print('----------')\n",
    "print(\"input:\", df.shape)"
   ]
  },
  {
   "cell_type": "markdown",
   "metadata": {},
   "source": [
    "### <span style=\"font-size: 110%;color:white;background:Red\">Model 1 <span style=\"font-size: 110%;color:#6fa8dc;background:#cfe2f3\">  Modele na ustawieniach fabrycznych\n",
    "### <span style=\"font-size: 110%;color:white;background:Red\">Model 2  <span style=\"font-size: 110%;color:#6fa8dc;background:#cfe2f3\">  Modele na ustawieniach fabrycznych po bagging \n"
   ]
  },
  {
   "cell_type": "code",
   "execution_count": null,
   "metadata": {},
   "outputs": [],
   "source": [
    "from sklearn.naive_bayes import GaussianNB\n",
    "from sklearn.linear_model import LogisticRegression\n",
    "from sklearn.ensemble import GradientBoostingClassifier\n",
    "from sklearn.ensemble import RandomForestClassifier\n",
    "from lightgbm import LGBMClassifier\n",
    "from sklearn.ensemble import RandomForestClassifier\n",
    "from catboost import CatBoostClassifier\n",
    "from sklearn.svm import SVC \n",
    "from xgboost import XGBClassifier\n",
    "from sklearn.tree import DecisionTreeClassifier\n",
    "from sklearn.neighbors import KNeighborsClassifier\n",
    "from sklearn.svm import SVC \n",
    "import time\n",
    "\n",
    "from sklearn.model_selection import GridSearchCV\n",
    "import joblib\n",
    "\n",
    "SVM = joblib.load('/home/wojciech/Pulpit/7/model1-SVM.pkl')\n",
    "CBC = joblib.load('/home/wojciech/Pulpit/7/model1-CBC.pkl')\n",
    "XGB = joblib.load('/home/wojciech/Pulpit/7/model1-XGB.pkl')\n",
    "LGBM = joblib.load('/home/wojciech/Pulpit/7/model1-LGBM.pkl')\n",
    "KNN = joblib.load('/home/wojciech/Pulpit/7/model1-KNN.pkl')\n",
    "NBC = joblib.load('/home/wojciech/Pulpit/7/model1-NBC.pkl')\n",
    "LRE = joblib.load('/home/wojciech/Pulpit/7/model1-LRE.pkl')\n",
    "RFC = joblib.load('/home/wojciech/Pulpit/7/model1-RFC.pkl')\n",
    "GBC = joblib.load('/home/wojciech/Pulpit/7/model1-GBC.pkl')\n",
    "\n",
    "SVM_b = joblib.load('/home/wojciech/Pulpit/7/model2-SVM_b.pkl')\n",
    "CBC_b = joblib.load('/home/wojciech/Pulpit/7/model2-CBC_b.pkl')\n",
    "XGB_b = joblib.load('/home/wojciech/Pulpit/7/model2-XGB_b.pkl')\n",
    "LGBM_b = joblib.load('/home/wojciech/Pulpit/7/model2-LGBM_b.pkl')\n",
    "KNN_b = joblib.load('/home/wojciech/Pulpit/7/model2-KNN_b.pkl')\n",
    "NBC_b = joblib.load('/home/wojciech/Pulpit/7/model2-NBC_b.pkl')\n",
    "LRE_b = joblib.load('/home/wojciech/Pulpit/7/model2-LRE_b.pkl')\n",
    "RFC_b = joblib.load('/home/wojciech/Pulpit/7/model2-RFC_b.pkl')\n",
    "GBC_b = joblib.load('/home/wojciech/Pulpit/7/model2-GBC_b.pkl')\n"
   ]
  },
  {
   "cell_type": "code",
   "execution_count": null,
   "metadata": {},
   "outputs": [],
   "source": [
    "SVM3 = joblib.load('/home/wojciech/Pulpit/7/model3-SVM_c.pkl')\n",
    "CBC3 = joblib.load('/home/wojciech/Pulpit/7/model3-CBC_c.pkl')\n",
    "XGB3 = joblib.load('/home/wojciech/Pulpit/7/model3-XGB_c.pkl')\n",
    "LGBM3 = joblib.load('/home/wojciech/Pulpit/7/model3-LGBM_c.pkl')\n",
    "KNN3 = joblib.load('/home/wojciech/Pulpit/7/model3-KNN_c.pkl')\n",
    "NBC3 = joblib.load('/home/wojciech/Pulpit/7/model3-NBC_c.pkl')\n",
    "LRE3 = joblib.load('/home/wojciech/Pulpit/7/model3-LRE_c.pkl')\n",
    "RFC3 = joblib.load('/home/wojciech/Pulpit/7/model3-RFC_c.pkl')\n",
    "GBC3 = joblib.load('/home/wojciech/Pulpit/7/model3-GBC_c.pkl')\n",
    "\n",
    "SVM_b4 = joblib.load('/home/wojciech/Pulpit/7/model4-SVM_d.pkl')\n",
    "CBC_b4 = joblib.load('/home/wojciech/Pulpit/7/model4-CBC_d.pkl')\n",
    "XGB_b4 = joblib.load('/home/wojciech/Pulpit/7/model4-XGB_d.pkl')\n",
    "LGBM_b4 = joblib.load('/home/wojciech/Pulpit/7/model4-LGBM_d.pkl')\n",
    "KNN_b4 = joblib.load('/home/wojciech/Pulpit/7/model4-KNN_d.pkl')\n",
    "NBC_b4 = joblib.load('/home/wojciech/Pulpit/7/model4-NBC_d.pkl')\n",
    "LRE_b4 = joblib.load('/home/wojciech/Pulpit/7/model4-LRE_d.pkl')\n",
    "RFC_b4 = joblib.load('/home/wojciech/Pulpit/7/model4-RFC_d.pkl')\n",
    "GBC_b4 = joblib.load('/home/wojciech/Pulpit/7/model4-GBC_d.pkl')"
   ]
  },
  {
   "cell_type": "code",
   "execution_count": null,
   "metadata": {},
   "outputs": [],
   "source": [
    "SVM5 = joblib.load('/home/wojciech/Pulpit/7/model5-gs_SVM.pkl')\n",
    "SVM25 = joblib.load('/home/wojciech/Pulpit/7/model5-gs_SVM2.pkl')\n",
    "XGB5 = joblib.load('/home/wojciech/Pulpit/7/model5-gs_XGB.pkl')\n",
    "LGBM5 = joblib.load('/home/wojciech/Pulpit/7/model5-gs_LGBM.pkl')\n",
    "KNN5 = joblib.load('/home/wojciech/Pulpit/7/model5-gs_KNN.pkl')\n",
    "NBC5 = joblib.load('/home/wojciech/Pulpit/7/model5-gs_NBC.pkl')\n",
    "LRE5 = joblib.load('/home/wojciech/Pulpit/7/model5-gs_LRE.pkl')\n",
    "RFC5 = joblib.load('/home/wojciech/Pulpit/7/model5-gs_RFC.pkl')\n",
    "RFC25 = joblib.load('/home/wojciech/Pulpit/7/model5-gs_RFC2.pkl')\n"
   ]
  },
  {
   "cell_type": "code",
   "execution_count": null,
   "metadata": {},
   "outputs": [],
   "source": [
    "SVM6 = joblib.load('/home/wojciech/Pulpit/7/model6-SVM_w.pkl')\n",
    "SVM26 = joblib.load('/home/wojciech/Pulpit/7/model6-SVM2_w.pkl')\n",
    "CBC6 = joblib.load('/home/wojciech/Pulpit/7/model6-CBC_w.pkl')\n",
    "XGB6 = joblib.load('/home/wojciech/Pulpit/7/model6-XGB_w.pkl')\n",
    "LGBM6 = joblib.load('/home/wojciech/Pulpit/7/model6-LGBM_w.pkl')\n",
    "NBC6 = joblib.load('/home/wojciech/Pulpit/7/model6-NBC_w.pkl')\n",
    "LRE6 = joblib.load('/home/wojciech/Pulpit/7/model6-LRE_w.pkl')\n",
    "RFC6 = joblib.load('/home/wojciech/Pulpit/7/model6-RFC_w.pkl')\n",
    "RFC26 = joblib.load('/home/wojciech/Pulpit/7/model6-RFC2_w.pkl')\n"
   ]
  },
  {
   "cell_type": "code",
   "execution_count": null,
   "metadata": {},
   "outputs": [],
   "source": [
    "import joblib\n",
    "\n",
    "SVM7 = joblib.load('/home/wojciech/Pulpit/7/model7-SVM_o.pkl')\n",
    "SVM27 = joblib.load('/home/wojciech/Pulpit/7/model7-SVM2_o.pkl')\n",
    "CBC7 = joblib.load('/home/wojciech/Pulpit/7/model7-CBC_o.pkl')\n",
    "XGB7 = joblib.load('/home/wojciech/Pulpit/7/model7-XGB_o.pkl')\n",
    "LGBM7 = joblib.load('/home/wojciech/Pulpit/7/model7-LGBM_o.pkl')\n",
    "NBC7 = joblib.load('/home/wojciech/Pulpit/7/model7-NBC_o.pkl')\n",
    "LRE7 = joblib.load('/home/wojciech/Pulpit/7/model7-LRE_o.pkl')\n",
    "RFC7 = joblib.load('/home/wojciech/Pulpit/7/model7-RFC_o.pkl')\n",
    "RFC27 = joblib.load('/home/wojciech/Pulpit/7/model7-RFC2_o.pkl')\n",
    "\n",
    "SVM8 = joblib.load('/home/wojciech/Pulpit/7/model8-SVM_v.pkl')\n",
    "SVM28 = joblib.load('/home/wojciech/Pulpit/7/model8-SVM2_v.pkl')\n",
    "CBC8 = joblib.load('/home/wojciech/Pulpit/7/model8-CBC_v.pkl')\n",
    "XGB8 = joblib.load('/home/wojciech/Pulpit/7/model8-XGB_v.pkl')\n",
    "LGBM8 = joblib.load('/home/wojciech/Pulpit/7/model8-LGBM_v.pkl')\n",
    "NBC8 = joblib.load('/home/wojciech/Pulpit/7/model8-NBC_v.pkl')\n",
    "LRE8 = joblib.load('/home/wojciech/Pulpit/7/model8-LRE_v.pkl')\n",
    "RFC8 = joblib.load('/home/wojciech/Pulpit/7/model8-RFC_v.pkl')\n",
    "RFC28 = joblib.load('/home/wojciech/Pulpit/7/model8-RFC2_v.pkl')"
   ]
  },
  {
   "cell_type": "code",
   "execution_count": null,
   "metadata": {},
   "outputs": [],
   "source": [
    "SVM9 = joblib.load('/home/wojciech/Pulpit/7/model9-SVM_s.pkl')\n",
    "SVM29 = joblib.load('/home/wojciech/Pulpit/7/model9-SVM2_s.pkl')\n",
    "CBC9 = joblib.load('/home/wojciech/Pulpit/7/model9-CBC_s.pkl')\n",
    "XGB9 = joblib.load('/home/wojciech/Pulpit/7/model9-XGB_s.pkl')\n",
    "LGBM9 = joblib.load('/home/wojciech/Pulpit/7/model9-LGBM_s.pkl')\n",
    "NBC9 = joblib.load('/home/wojciech/Pulpit/7/model9-NBC_s.pkl')\n",
    "LRE9 = joblib.load('/home/wojciech/Pulpit/7/model9-LRE_s.pkl')\n",
    "RFC9 = joblib.load('/home/wojciech/Pulpit/7/model9-RFC_s.pkl')\n",
    "RFC29 = joblib.load('/home/wojciech/Pulpit/7/model9-RFC2_s.pkl')"
   ]
  },
  {
   "cell_type": "code",
   "execution_count": null,
   "metadata": {},
   "outputs": [],
   "source": [
    "SVM10 = joblib.load('/home/wojciech/Pulpit/7/model10-SVM_q.pkl')\n",
    "SVM210 = joblib.load('/home/wojciech/Pulpit/7/model10-SVM2_q.pkl')\n",
    "CBC10 = joblib.load('/home/wojciech/Pulpit/7/model10-CBC_q.pkl')\n",
    "XGB10 = joblib.load('/home/wojciech/Pulpit/7/model10-XGB_q.pkl')\n",
    "LGBM10 = joblib.load('/home/wojciech/Pulpit/7/model10-LGBM_q.pkl')\n",
    "NBC10 = joblib.load('/home/wojciech/Pulpit/7/model10-NBC_q.pkl')\n",
    "LRE10 = joblib.load('/home/wojciech/Pulpit/7/model10-LRE_q.pkl')\n",
    "RFC10 = joblib.load('/home/wojciech/Pulpit/7/model10-RFC_q.pkl')\n",
    "RFC210 = joblib.load('/home/wojciech/Pulpit/7/model10-RFC2_q.pkl')"
   ]
  },
  {
   "cell_type": "code",
   "execution_count": null,
   "metadata": {},
   "outputs": [],
   "source": [
    "SVM11 = joblib.load('/home/wojciech/Pulpit/7/model11-SVM_y.pkl')\n",
    "SVM211 = joblib.load('/home/wojciech/Pulpit/7/model11-SVM2_y.pkl')\n",
    "CBC11 = joblib.load('/home/wojciech/Pulpit/7/model11-CBC_y.pkl')\n",
    "XGB11 = joblib.load('/home/wojciech/Pulpit/7/model11-XGB_y.pkl')\n",
    "LGBM11 = joblib.load('/home/wojciech/Pulpit/7/model11-LGBM_y.pkl')\n",
    "NBC11 = joblib.load('/home/wojciech/Pulpit/7/model11-NBC_y.pkl')\n",
    "LRE11 = joblib.load('/home/wojciech/Pulpit/7/model11-LRE_y.pkl')\n",
    "RFC11 = joblib.load('/home/wojciech/Pulpit/7/model11-RFC_y.pkl')\n",
    "RFC211 = joblib.load('/home/wojciech/Pulpit/7/model11-RFC2_y.pkl')"
   ]
  },
  {
   "cell_type": "markdown",
   "metadata": {},
   "source": [
    "##  <span style=\"font-size: 100%;color:#6fa8dc;background:#cfe2f3\"> Zdefiniowane zespoły klasyfikatorów\n",
    "\n",
    "### <span style=\"font-size: 110%;color:white;background:Red\">Model 1 <span style=\"font-size: 110%;color:#6fa8dc;background:#cfe2f3\">  Modele na ustawieniach fabrycznych\n",
    "\n"
   ]
  },
  {
   "cell_type": "code",
   "execution_count": null,
   "metadata": {},
   "outputs": [],
   "source": [
    "classifiers_1 = [SVM,CBC,XGB,LGBM,KNN,NBC,LRE,RFC,GBC]\n",
    "name1 = ['SVM','CBC','XGB','LGBM','KNN','NBC','LRE','RFC','GBC']"
   ]
  },
  {
   "cell_type": "markdown",
   "metadata": {},
   "source": [
    " ### <span style=\"font-size: 110%;color:white;background:Red\">Model 2  <span style=\"font-size: 110%;color:#6fa8dc;background:#cfe2f3\">  Modele na ustawieniach fabrycznych po bagging "
   ]
  },
  {
   "cell_type": "code",
   "execution_count": null,
   "metadata": {},
   "outputs": [],
   "source": [
    "classifiers_2 = [SVM_b,CBC_b,XGB_b,LGBM_b,KNN_b,NBC_b,LRE_b,RFC_b,GBC_b]\n",
    "name2 = ['SVM_b','CBC_b','XGB_b','LGBM_b','KNN_b','NBC_b','LRE_b','RFC_b','GBC_b']"
   ]
  },
  {
   "cell_type": "markdown",
   "metadata": {},
   "source": [
    "### <span style=\"font-size: 110%;color:white;background:Red\">Model 3  <span style=\"font-size: 110%;color:#6fa8dc;background:#cfe2f3\">  Modele na ustawieniach fabrycznych po kalibracji"
   ]
  },
  {
   "cell_type": "code",
   "execution_count": null,
   "metadata": {},
   "outputs": [],
   "source": [
    "classifiers_3 = [SVM3,CBC3,XGB3,LGBM3,KNN3,NBC3,LRE3,RFC3,GBC3]\n",
    "name3 = ['SVM3','CBC3','XGB3','LGBM3','KNN3','NBC3','LRE3','RFC3','GBC3']"
   ]
  },
  {
   "cell_type": "markdown",
   "metadata": {},
   "source": [
    "### <span style=\"font-size: 110%;color:white;background:Red\">Model 4  <span style=\"font-size: 110%;color:#6fa8dc;background:#cfe2f3\">  Modele na ustawieniach fabrycznych po bagging i po kalibracji"
   ]
  },
  {
   "cell_type": "code",
   "execution_count": null,
   "metadata": {},
   "outputs": [],
   "source": [
    "classifiers_4 = [SVM_b4,CBC_b4,XGB_b4,LGBM_b4,KNN_b4,NBC_b4,LRE_b4,RFC_b4,GBC_b4]\n",
    "name4 = ['SVM_b4','CBC_b4','XGB_b4','LGBM_b4','KNN_b4','NBC_b4','LRE_b4','RFC_b4','GBC_b4']"
   ]
  },
  {
   "cell_type": "markdown",
   "metadata": {},
   "source": [
    "### <span style=\"font-size: 110%;color:white;background:Red\">Model 5  <span style=\"font-size: 110%;color:#6fa8dc;background:#cfe2f3\">  Modele na cross-validation"
   ]
  },
  {
   "cell_type": "code",
   "execution_count": null,
   "metadata": {},
   "outputs": [],
   "source": [
    "classifiers_5 = [SVM5,SVM25,XGB5,LGBM5,KNN5,NBC5,LRE5,RFC5,RFC25]\n",
    "name5 = ['SVM5','SVM25','XGB5','LGBM5','KNN5','NBC5','LRE5','RFC5','RFC25']"
   ]
  },
  {
   "cell_type": "markdown",
   "metadata": {},
   "source": [
    "### <span style=\"font-size: 110%;color:white;background:Red\">Model 6 <span style=\"font-size: 110%;color:#6fa8dc;background:#cfe2f3\"> Modele na ustawieniach optymalnych po bagging"
   ]
  },
  {
   "cell_type": "code",
   "execution_count": null,
   "metadata": {},
   "outputs": [],
   "source": [
    "classifiers_6 = [SVM6,SVM26,CBC6,XGB6,LGBM6,NBC6,LRE6,RFC6,RFC26]\n",
    "name6= ['SVM6','SVM26','CBC6','XGB6','LGBM6','NBC6','LRE6','RFC6','RFC26']"
   ]
  },
  {
   "cell_type": "markdown",
   "metadata": {},
   "source": [
    "### <span style=\"font-size: 110%;color:white;background:Red\">Model 7 <span style=\"font-size: 110%;color:#6fa8dc;background:#cfe2f3\">  Modele na ustawieniach optymalnych"
   ]
  },
  {
   "cell_type": "code",
   "execution_count": null,
   "metadata": {},
   "outputs": [],
   "source": [
    "classifiers_7 = [SVM7,SVM27,CBC7,XGB7,LGBM7,NBC7,LRE7,RFC7,RFC27]\n",
    "name7 = ['SVM7','SVM27','CBC7','XGB7','LGBM7','NBC7','LRE7','RFC7','RFC27']"
   ]
  },
  {
   "cell_type": "markdown",
   "metadata": {},
   "source": [
    "### <span style=\"font-size: 110%;color:white;background:Red\">Model 8 <span style=\"font-size: 110%;color:#6fa8dc;background:#cfe2f3\">   Modele na ustawieniach optymalnych po boosting, n=3 "
   ]
  },
  {
   "cell_type": "code",
   "execution_count": null,
   "metadata": {},
   "outputs": [],
   "source": [
    "classifiers_8 = [SVM8,SVM28,CBC8,XGB8,LGBM8,NBC8,LRE8,RFC8,RFC28]\n",
    "name8 = ['SVM8','SVM28','CBC8','XGB8','LGBM8','NBC8','LRE8','RFC8','RFC28']"
   ]
  },
  {
   "cell_type": "code",
   "execution_count": null,
   "metadata": {},
   "outputs": [],
   "source": [
    "classifiers_9 = [SVM9,SVM29,CBC9,XGB9,LGBM9,NBC9,LRE9,RFC9,RFC29]\n",
    "name9 = ['SVM9','SVM29','CBC9','XGB9','LGBM9','NBC9','LRE9','RFC9','RFC28']"
   ]
  },
  {
   "cell_type": "code",
   "execution_count": null,
   "metadata": {},
   "outputs": [],
   "source": [
    "classifiers_10 = [SVM10,SVM210,CBC10,XGB10,LGBM10,NBC10,LRE10,RFC10,RFC210]\n",
    "name10 = ['SVM10','SVM210','CBC10','XGB10','LGBM10','NBC10','LRE10','RFC10','RFC210']"
   ]
  },
  {
   "cell_type": "code",
   "execution_count": null,
   "metadata": {},
   "outputs": [],
   "source": [
    "classifiers_11 = [SVM11,SVM211,CBC11,XGB11,LGBM11,NBC11,LRE11,RFC11,RFC211]\n",
    "name11 = ['SVM11','SVM211','CBC11','XGB11','LGBM11','NBC11','LRE11','RFC11','RFC211']"
   ]
  },
  {
   "cell_type": "code",
   "execution_count": null,
   "metadata": {},
   "outputs": [],
   "source": [
    "csv1 ='/home/wojciech/Pulpit/7/model1.csv'  #<=  modele na ustawieniach fabrycznych\n",
    "csv2 ='/home/wojciech/Pulpit/7/model2.csv'  #<=  modele na ustawieniach fabrycznych po bagging\n",
    "csv3 ='/home/wojciech/Pulpit/7/model3.csv'  #<=  modele na ustawieniach fabrycznych po kalibracji\n",
    "csv4 ='/home/wojciech/Pulpit/7/model4.csv'  #<=  modele na ustawieniach fabrycznych po bagging po kalibracji\n",
    "csv5 ='/home/wojciech/Pulpit/7/model5.csv'  #<=  modele na cross-validation\n",
    "csv6 ='/home/wojciech/Pulpit/7/model6.csv'  #<=  modele na ustawieniach optymalnych po bagging\n",
    "csv7 ='/home/wojciech/Pulpit/7/model7.csv'  ##<=  modele na ustawieniach optymalnych \n",
    "csv8 ='/home/wojciech/Pulpit/7/model8.csv'  ##<=  modele na ustawieniach optymalnych po boosting n=3\n",
    "csv9 ='/home/wojciech/Pulpit/7/model9.csv'  ##<=  modele na ustawieniach optymalnych po boosting n=10\n",
    "csv10 ='/home/wojciech/Pulpit/7/model10.csv'  ##<=  modele na ustawieniach optymalnych po kalibracji (method='isotonic')\n",
    "csv11 ='/home/wojciech/Pulpit/7/model11.csv'  ##<=  modele na ustawieniach optymalnych po kalibracji (method='sigmoid')"
   ]
  },
  {
   "cell_type": "markdown",
   "metadata": {},
   "source": [
    "## <span style=\"font-size: 150%;color:#6fa8dc;background:#cfe2f3\"> Najważnieszy dla mnie zbiór wskaźników Type_error\n",
    "\n",
    "#### <span style=\"color:blue\">False_Positive_Rate - procentowy udział ludzi zdrowych uznanych przez model za chorych w populacji ludzi zdrowych\n",
    "\n",
    "#### <span style=\"color:blue\">True_Positive_Rate RECALL - wskaźnik ten pokazuje jaka jest wykrywalność choroby przez model."
   ]
  },
  {
   "cell_type": "code",
   "execution_count": null,
   "metadata": {},
   "outputs": [],
   "source": [
    "def df_valuator(classifiers,names,y_test,X_test,adres):    \n",
    "    \n",
    "    def obliczenieX(model,names,y_test,X_test):    \n",
    "    \n",
    "        global dfv\n",
    "    \n",
    "        from sklearn.metrics import confusion_matrix\n",
    "            \n",
    "        cm = confusion_matrix(y_test, model.predict(X_test))\n",
    "        tn, fp, fn, tp = cm.ravel()\n",
    "\n",
    "        FPR = np.round(fp/(fp + tn),decimals=3)\n",
    "        TPR = np.round(tp/(tp + fn),decimals=3)\n",
    "        FNR = np.round(fn/(tp + fn),decimals=3)\n",
    "        SPEC = np.round(tn/(tn + fp),decimals=3)  \n",
    "    \n",
    "        dfv = pd.DataFrame({'model': names, 'FPR': [FPR], 'TPR':[TPR],'FNR':[FNR],'SPEC':[SPEC]})\n",
    "        return dfv\n",
    "    \n",
    "#-------------------------------------------    \n",
    "    start_time = time.time() \n",
    "    \n",
    "    appended_data = []\n",
    "    for t,n in zip(classifiers,names):\n",
    "        results = obliczenieX(t,n,y_test,X_test)\n",
    "        appended_data.append(results)\n",
    "    appended_data = pd.concat(appended_data)\n",
    "    filename = adres                                          #.format(n)\n",
    "    appended_data.to_csv(filename)\n",
    "    \n",
    "    p = np.round((time.time() - start_time),decimals=1)\n",
    "    print(blue(adres),p,\"---\",time.ctime())    \n",
    "    "
   ]
  },
  {
   "cell_type": "code",
   "execution_count": null,
   "metadata": {},
   "outputs": [],
   "source": [
    "df_valuator(classifiers_1 ,name1, y_test,X_test,csv1)\n",
    "df_valuator(classifiers_2 ,name2, y_test,X_test,csv2)\n",
    "df_valuator(classifiers_3 ,name3, y_test,X_test,csv3)\n",
    "df_valuator(classifiers_4 ,name4, y_test,X_test,csv4)\n",
    "df_valuator(classifiers_5 ,name5, y_test,X_test,csv5)\n",
    "df_valuator(classifiers_6 ,name6, y_test,X_test,csv6)\n",
    "df_valuator(classifiers_7 ,name7, y_test,X_test,csv7)\n",
    "df_valuator(classifiers_8 ,name8, y_test,X_test,csv8)\n",
    "df_valuator(classifiers_9 ,name9, y_test,X_test,csv9)\n",
    "df_valuator(classifiers_10 ,name10, y_test,X_test,csv10)\n",
    "df_valuator(classifiers_11 ,name11, y_test,X_test,csv11)"
   ]
  },
  {
   "cell_type": "code",
   "execution_count": null,
   "metadata": {},
   "outputs": [],
   "source": [
    "df_1 = pd.read_csv('/home/wojciech/Pulpit/7/model1.csv')\n",
    "df_2 = pd.read_csv('/home/wojciech/Pulpit/7/model2.csv')\n",
    "df_3 = pd.read_csv('/home/wojciech/Pulpit/7/model3.csv')\n",
    "df_4 = pd.read_csv('/home/wojciech/Pulpit/7/model4.csv')\n",
    "df_5 = pd.read_csv('/home/wojciech/Pulpit/7/model5.csv')\n",
    "df_6 = pd.read_csv('/home/wojciech/Pulpit/7/model6.csv')\n",
    "df_7 = pd.read_csv('/home/wojciech/Pulpit/7/model7.csv')\n",
    "df_8 = pd.read_csv('/home/wojciech/Pulpit/7/model8.csv')\n",
    "df_9 = pd.read_csv('/home/wojciech/Pulpit/7/model9.csv')\n",
    "df_10 = pd.read_csv('/home/wojciech/Pulpit/7/model10.csv')\n",
    "df_11 = pd.read_csv('/home/wojciech/Pulpit/7/model11.csv')"
   ]
  },
  {
   "cell_type": "markdown",
   "metadata": {},
   "source": [
    "Dodajemy komentarz:"
   ]
  },
  {
   "cell_type": "code",
   "execution_count": null,
   "metadata": {},
   "outputs": [],
   "source": [
    "df_1['comment'] = 'Modele na ustawieniach fabrycznych'\n",
    "df_2['comment'] = 'Modele na ustawieniach fabrycznych po bagging'\n",
    "df_3['comment'] = 'Modele na ustawieniach fabrycznych po kalibracji'\n",
    "df_4['comment'] = 'Modele na ustawieniach fabrycznych po bagging po kalibracji'\n",
    "df_5['comment'] = 'Modele na cross-validation'\n",
    "df_6['comment'] = 'Modele na ustawieniach optymalnych po bagging'\n",
    "df_7['comment'] = 'Modele na ustawieniach optymalnych'\n",
    "df_8['comment'] = 'Modele na ustawieniach optymalnych po boosting n=3'\n",
    "df_9['comment'] = 'Modele na ustawieniach optymalnych po boosting n=10'\n",
    "df_10['comment'] = 'Modele na ustawieniach optymalnych po kalibracji (method= isotonic)'\n",
    "df_11['comment'] = 'Modele na ustawieniach optymalnych po kalibracji (method= sigmoid )'"
   ]
  },
  {
   "cell_type": "markdown",
   "metadata": {},
   "source": [
    "Łącze wszystkie tabele i jednocześnie sortuje po dwóch parametrach: 'TPR','FPR'"
   ]
  },
  {
   "cell_type": "code",
   "execution_count": null,
   "metadata": {},
   "outputs": [],
   "source": [
    "Valuator = pd.concat([df_1,df_2,df_3,df_4,df_5,df_6,df_7,df_8,df_9,df_10,df_11], sort=True).sort_values(['TPR','FPR'],ascending=[False,True]) \n",
    "del Valuator['Unnamed: 0']"
   ]
  },
  {
   "cell_type": "code",
   "execution_count": null,
   "metadata": {},
   "outputs": [],
   "source": [
    "Valuator2 = pd.concat([df_1,df_2,df_3,df_4,df_5,df_6,df_7,df_8,df_9,df_10,df_11], sort=True).sort_values('FPR',ascending=True) "
   ]
  },
  {
   "cell_type": "code",
   "execution_count": null,
   "metadata": {},
   "outputs": [],
   "source": [
    "from simple_colors import *\n",
    "\n",
    "print(red('False_Positive_Rate','bold'),red('procentowy udział ludzi zdrowych uznanych przez model za chorych w populacji ludzi zdrowych','italic'))\n",
    "print(red('True_Positive_Rate RECALL','bold'), red('procentowy udział chorych dobrze zdiagnozowanych w populacji ludzi chorych ogółem','italic'))\n",
    "print(black('False_Negative_Rate','bold'), black('procentowy udział niewykrytych chorych w populacji ludzi chorych ogółem','italic'))\n",
    "print(black('Specifity','bold'), black('procentowy udział ludzi zdrowych uznanych za zdrowych w populacji ludzi zdrowych','italic'))\n",
    "Valuator2[['model','comment','TPR','FPR']].head(50)"
   ]
  },
  {
   "cell_type": "code",
   "execution_count": null,
   "metadata": {},
   "outputs": [],
   "source": [
    "#Valuator[['model','comment','TPR','FPR']].head(18).to_list()"
   ]
  },
  {
   "cell_type": "markdown",
   "metadata": {},
   "source": [
    "LRE_b, RFC27, NBC5, LRE6, RFC7 , RFC211,SVM5,SVM210,SVM_b4"
   ]
  },
  {
   "cell_type": "markdown",
   "metadata": {},
   "source": [
    "## Wybór modeli do valuacji"
   ]
  },
  {
   "cell_type": "code",
   "execution_count": null,
   "metadata": {},
   "outputs": [],
   "source": [
    "clasifier_VAL = [XGB11,RFC5,XGB,LGBM9,LGBM11,LRE_b,RFC28,LGBM10,XGB6]\n",
    "name_VAL = ['XGB11','RFC5','XGB','LGBM9','LGBM11','LRE_b','RFC28','LGBM10','XGB6']"
   ]
  },
  {
   "cell_type": "markdown",
   "metadata": {},
   "source": [
    "## <span style=\"font-size: 150%;color:#6fa8dc;background:#cfe2f3\">Models Valuation"
   ]
  },
  {
   "cell_type": "code",
   "execution_count": null,
   "metadata": {},
   "outputs": [],
   "source": [
    "def Type_error(six_classifiers,name, X_train, y_train,X_test,y_test,calibration=True):\n",
    "\n",
    "    \n",
    "    from sklearn.datasets import make_classification\n",
    "    from sklearn.calibration import CalibratedClassifierCV, calibration_curve\n",
    "    from sklearn.metrics import confusion_matrix\n",
    "    \n",
    "    from sklearn import metrics\n",
    "    import simple_colors\n",
    "    import time   \n",
    "    \n",
    "    start_time = time.time()\n",
    "    \n",
    "    #for cls in six_classifiers:\n",
    "    #    cls.fit(X_train, y_train)    \n",
    "    \n",
    "    FPR = ['False_Positive_Rate:']\n",
    "    TPR = ['True_Positive_Rate: ']\n",
    "    FNR = ['False_Negative_Rate: ']\n",
    "    SPEC = ['Specifity']\n",
    "    \n",
    "    CAL_FPR = ['CAL_False_Positive_Rate:']\n",
    "    CAL_TPR = ['CAL_True_Positive_Rate: ']\n",
    "    CAL_FNR = ['CAL_False_Negative_Rate: ']\n",
    "    CAL_SPEC = ['CAL_Specifity']\n",
    "\n",
    "    def compute_metric(model):\n",
    "        \n",
    "        \n",
    "        #model = model.fit(X_train,y_train)   #<-- model już przećwiczył się na pełnych danych\n",
    "        cm = confusion_matrix(y_test, model.predict(X_test))\n",
    "        tn, fp, fn, tp = cm.ravel()\n",
    "        # print('tn: ',tn)\n",
    "        # print('fp: ',fp)\n",
    "        # print('fn: ',fn)\n",
    "        # print('tp: ',tp)\n",
    "        # print('------------------')\n",
    "        # print(cm) \n",
    "        \n",
    "\n",
    "        FPR = np.round(fp/(fp + tn),decimals=3)\n",
    "        TPR = np.round(tp/(tp + fn),decimals=3)\n",
    "        FNR = np.round(fn/(tp + fn),decimals=3)\n",
    "        SPEC = np.round(tn/(tn + fp),decimals=3)\n",
    "\n",
    "        return FPR,TPR,FNR,SPEC\n",
    "\n",
    "    for cls in six_classifiers:      \n",
    "        \n",
    "        results = compute_metric(cls)\n",
    "        FPR.append(red(results[0],'bold'))\n",
    "        TPR.append(red(results[1],'bold'))\n",
    "        FNR.append(results[2])\n",
    "        SPEC.append(results[3])\n",
    "\n",
    "    t = PrettyTable(['Name', name[0],name[1],name[2],name[3],name[4],name[5],name[6],name[7],name[8]])\n",
    "    t.add_row(FPR)\n",
    "    t.add_row(TPR)\n",
    "    t.add_row(FNR)\n",
    "    t.add_row(SPEC)\n",
    "\n",
    "    print(blue('Models before calibration','bold'))\n",
    "    g = (time.time() - start_time)\n",
    "    g = np.round(g)\n",
    "    print('time: %s seconds' % g)\n",
    "    print(t)\n",
    "  ## --------------------------------------------------  \n",
    "    \n",
    "    if calibration != True:\n",
    "        print()\n",
    "    else:    \n",
    "        print(blue('Models after calibration','bold'))\n",
    "  \n",
    "        start_time = time.time()\n",
    "    \n",
    "        def calibration(model):\n",
    "        \n",
    "            calibrated = CalibratedClassifierCV(model, method='sigmoid', cv=5)\n",
    "            calibrated.fit(X_train, y_train)\n",
    "        \n",
    "            ck = confusion_matrix(y_test, calibrated.predict(X_test))\n",
    "            tn_c, fp_c, fn_c, tp_c = ck.ravel()\n",
    "            # print('tn: ',tn)\n",
    "            # print('fp: ',fp)\n",
    "            # print('fn: ',fn)\n",
    "            # print('tp: ',tp)\n",
    "            # print('------------------')\n",
    "            # print(cm) \n",
    "        \n",
    "\n",
    "            CAL_FPR = np.round(fp_c/(fp_c + tn_c),decimals=3)\n",
    "            CAL_TPR = np.round(tp_c/(tp_c + fn_c),decimals=3)\n",
    "            CAL_FNR = np.round(fn_c/(tp_c + fn_c),decimals=3)\n",
    "            CAL_SPEC = np.round(tn_c/(tn_c + fp_c),decimals=3)\n",
    "\n",
    "            return CAL_FPR, CAL_TPR, CAL_FNR, CAL_SPEC\n",
    "\n",
    "        for cls in six_classifiers:      \n",
    "        \n",
    "            results = calibration(cls)\n",
    "            CAL_FPR.append(red(results[0],'bold'))\n",
    "            CAL_TPR.append(red(results[1],'bold'))\n",
    "            CAL_FNR.append(results[2])\n",
    "            CAL_SPEC.append(results[3])\n",
    "\n",
    "        k = PrettyTable(['Name', name[0],name[1],name[2],name[3],name[4],name[5],name[6],name[7],name[8]])\n",
    "        k.add_row(CAL_FPR)\n",
    "        k.add_row(CAL_TPR)\n",
    "        k.add_row(CAL_FNR)\n",
    "        k.add_row(CAL_SPEC)\n",
    "    \n",
    "    \n",
    "        n = (time.time() - start_time)\n",
    "        n = np.round(n)\n",
    "        print('time: %s seconds' % n)\n",
    "        print(k)\n",
    "    \n",
    "    \n",
    "    print(red('False_Positive_Rate','bold'),red('procentowy udział ludzi zdrowych uznanych przez model za chorych w populacji ludzi zdrowych','italic'))\n",
    "    print(red('True_Positive_Rate RECALL','bold'), red('procentowy udział chorych dobrze zdiagnozowanych w populacji ludzi chorych ogółem','italic'))\n",
    "    print(black('False_Negative_Rate','bold'), black('procentowy udział niewykrytych chorych w populacji ludzi chorych ogółem','italic'))\n",
    "    print(black('Specifity','bold'), black('procentowy udział ludzi zdrowych uznanych za zdrowych w populacji ludzi zdrowych','italic'))"
   ]
  },
  {
   "cell_type": "code",
   "execution_count": null,
   "metadata": {},
   "outputs": [],
   "source": [
    "Type_error(clasifier_VAL,name_VAL,X_train, y_train,X_test,y_test,calibration=False)"
   ]
  },
  {
   "cell_type": "markdown",
   "metadata": {},
   "source": [
    "## <span style=\"font-size: 150%;color:#6fa8dc;background:#cfe2f3\">Confusion matrix"
   ]
  },
  {
   "cell_type": "code",
   "execution_count": null,
   "metadata": {},
   "outputs": [],
   "source": [
    "def confusion_matrix(six_classifiers,name, X_train, y_train,X_test,y_test,calibration=True):\n",
    "    \n",
    "    from matplotlib import rcParams\n",
    "    rcParams['axes.titlepad'] = 20 \n",
    "    \n",
    "    from sklearn.calibration import CalibratedClassifierCV, calibration_curve \n",
    "    from sklearn.metrics import plot_confusion_matrix\n",
    "    \n",
    "    #for cls in six_classifiers:\n",
    "    #    cls.fit(X_train, y_train) \n",
    "    \n",
    "    fig, axes = plt.subplots(nrows=3, ncols=3, figsize=(14,10))\n",
    "    target_names = ['0','1']\n",
    "\n",
    "\n",
    "    for t,cls, ax in zip(name, six_classifiers, axes.flatten()):\n",
    "        plot_confusion_matrix(cls, \n",
    "                              X_test, \n",
    "                              y_test, \n",
    "                              ax=ax, \n",
    "                              cmap='Blues',\n",
    "                             display_labels=target_names,values_format='')\n",
    "        ax.title.set_text(type(cls).__name__)\n",
    "        ax.title.set_color('blue')\n",
    "        ax.text(-0.5, -0.56, t,fontsize=12)\n",
    "        ax.text(-0.5, 1.40, 'before calibration',color='black', fontsize=10) \n",
    "        \n",
    "    plt.tight_layout()  \n",
    "    plt.show()\n",
    "    \n",
    "### ---------------------------------------------------\n",
    "    if calibration != True:\n",
    "        print()\n",
    "    else:    \n",
    "        print(blue('Models after calibration','bold'))\n",
    "\n",
    "    ### ---------------------------------------------------\n",
    "    \n",
    "    \n",
    "        for cls in six_classifiers:\n",
    "            calibrated = CalibratedClassifierCV(cls, method='sigmoid', cv=5)\n",
    "            calibrated.fit(X_train, y_train)\n",
    "    \n",
    "        fig, axes = plt.subplots(nrows=3, ncols=3, figsize=(14,10))\n",
    "        target_names = ['0','1']\n",
    "\n",
    "\n",
    "        for t,cls, ax in zip(name, six_classifiers, axes.flatten()):\n",
    "            plot_confusion_matrix(cls, \n",
    "                                  X_test, \n",
    "                                  y_test, \n",
    "                                  ax=ax, \n",
    "                                  cmap='Blues',\n",
    "                                 display_labels=target_names,values_format='')\n",
    "            ax.title.set_text(type(cls).__name__)\n",
    "            ax.title.set_color('blue')\n",
    "            ax.text(-0.5, -0.56, t,fontsize=12)\n",
    "            ax.text(-0.5, 1.40, 'after calibration',color='red', fontsize=10)    ## podtytuł     \n"
   ]
  },
  {
   "cell_type": "code",
   "execution_count": null,
   "metadata": {},
   "outputs": [],
   "source": [
    "confusion_matrix(clasifier_VAL,name_VAL,X_train, y_train,X_test,y_test,calibration=False)"
   ]
  },
  {
   "cell_type": "markdown",
   "metadata": {},
   "source": [
    "## <span style=\"font-size: 150%;color:#6fa8dc;background:#cfe2f3\">Recall - Precision!"
   ]
  },
  {
   "cell_type": "code",
   "execution_count": null,
   "metadata": {},
   "outputs": [],
   "source": [
    "def Recall_Precision(six_classifiers,name, X_train, y_train,X_test,y_test,calibration=True):\n",
    "\n",
    "    from sklearn.datasets import make_classification\n",
    "    from sklearn.calibration import CalibratedClassifierCV, calibration_curve  \n",
    "    \n",
    "    import numpy as np\n",
    "    import matplotlib.pyplot as plt\n",
    "    from sklearn import metrics\n",
    "    from sklearn.metrics import classification_report, confusion_matrix\n",
    "    from sklearn.metrics import confusion_matrix, log_loss, auc, roc_curve, roc_auc_score, recall_score, precision_recall_curve\n",
    "    from sklearn.metrics import make_scorer, precision_score, fbeta_score, f1_score, classification_report\n",
    "    from sklearn.metrics import accuracy_score\n",
    "    from mlxtend.plotting import plot_learning_curves\n",
    "    from prettytable import PrettyTable\n",
    "    import time   \n",
    "    \n",
    "    start_time = time.time()\n",
    "    \n",
    "    #for cls in six_classifiers:\n",
    "    #    cls.fit(X_train, y_train)\n",
    "      \n",
    "    \n",
    "    Recall_Training = ['Recall Training: ']\n",
    "    Precision_Training = ['Precision Training: ']\n",
    "    Recall_Test= ['Recall Test: ']\n",
    "    Precision_Test = ['Precision Test: ']\n",
    "    \n",
    "    CAL_Recall_Training = ['CAL_Recall Training: ']\n",
    "    CAL_Precision_Training = ['CAL_Precision Training: ']\n",
    "    CAL_Recall_Test= ['CAL_Recall Test: ']\n",
    "    CAL_Precision_Test = ['CAL_Precision Test: ']   \n",
    "\n",
    "    def compute_metric2(model):\n",
    "\n",
    "        Recall_Training = np.round(recall_score(y_train, model.predict(X_train)), decimals=3)\n",
    "        Precision_Training = np.round(precision_score(y_train, model.predict(X_train)), decimals=3)\n",
    "        Recall_Test = np.round(recall_score(y_test, model.predict(X_test)), decimals=3) \n",
    "        Precision_Test = np.round(precision_score(y_test, model.predict(X_test)), decimals=3)\n",
    "        \n",
    "        return Recall_Training, Precision_Training, Recall_Test, Precision_Test\n",
    "    \n",
    "    for cls in six_classifiers:\n",
    "\n",
    "        results = compute_metric2(cls)\n",
    "        Recall_Training.append(results[0])\n",
    "        Precision_Training.append(results[1])\n",
    "        Recall_Test.append(blue(results[2],'bold'))\n",
    "        Precision_Test.append((blue(results[3],'bold')))\n",
    "   \n",
    "    \n",
    "    t = PrettyTable(['Name', name[0],name[1],name[2],name[3],name[4],name[5],name[6],name[7],name[8]])\n",
    "    t.add_row(Recall_Training)\n",
    "    t.add_row(Precision_Training)\n",
    "    t.add_row(Recall_Test)\n",
    "    t.add_row(Precision_Test)\n",
    "\n",
    "    \n",
    "    print(blue('Models before calibration','bold'))\n",
    "    g = (time.time() - start_time)\n",
    "    g = np.round(g)\n",
    "    print('time: %s seconds' % g)\n",
    "    print(t)\n",
    "    \n",
    "  ### ---------------------------------------------------------  \n",
    "    \n",
    "    \n",
    "    if calibration != True:\n",
    "        print()\n",
    "    else:    \n",
    "        print(blue('Models after calibration','bold'))\n",
    "\n",
    "            \n",
    "        def calibration(model):\n",
    "        \n",
    "            calibrated = CalibratedClassifierCV(model, method='sigmoid', cv=5)\n",
    "            calibrated.fit(X_train, y_train)\n",
    "       \n",
    "            \n",
    "        \n",
    "            CAL_Recall_Training = np.round(recall_score(y_train, calibrated.predict(X_train)), decimals=3)\n",
    "            CAL_Precision_Training = np.round(precision_score(y_train, calibrated.predict(X_train)), decimals=3)\n",
    "            CAL_Recall_Test = np.round(recall_score(y_test, calibrated.predict(X_test)), decimals=3) \n",
    "            CAL_Precision_Test = np.round(precision_score(y_test, calibrated.predict(X_test)), decimals=3)\n",
    "        \n",
    "            return CAL_Recall_Training, CAL_Precision_Training, CAL_Recall_Test, CAL_Precision_Test \n",
    "    \n",
    "        start_time = time.time()\n",
    "    \n",
    "        for cls in six_classifiers:\n",
    "\n",
    "            results = calibration(cls)\n",
    "            CAL_Recall_Training.append(results[0])\n",
    "            CAL_Precision_Training.append(results[1])\n",
    "            CAL_Recall_Test.append(blue(results[2],'bold'))\n",
    "            CAL_Precision_Test.append((blue(results[3],'bold')))\n",
    "   \n",
    "        k = PrettyTable(['Name', name[0],name[1],name[2],name[3],name[4],name[5],name[6],name[7],name[8]])\n",
    "        k.add_row(CAL_Recall_Training)\n",
    "        k.add_row(CAL_Precision_Training)\n",
    "        k.add_row(CAL_Recall_Test)\n",
    "        k.add_row(CAL_Precision_Test)   \n",
    "    \n",
    "    \n",
    "        n = (time.time() - start_time)\n",
    "        n = np.round(n)\n",
    "        print('time: %s seconds' % n)\n",
    "        print(k)\n",
    "    print(blue('Wskaźniki pokazują RECALL i PRECISION dla klasy 1','bold'))\n",
    "    print(blue('RECALL', 'bold'), blue('procentowy udział chorych dobrze zdiagnozowanych wśród wszystkich ludzi chorych','italic'))\n",
    "    print(blue('PRECISION', 'bold'), blue('procentowy udział chorych dobrze zdiagnozowanych w populacji ludzi zdiagnozowanych fałszywie (zdrowych uznanych przez model za chorych) i dobrze zdiagnozowanych (chorych uznanych przez model za chorych)','italic'))"
   ]
  },
  {
   "cell_type": "code",
   "execution_count": null,
   "metadata": {},
   "outputs": [],
   "source": [
    "Recall_Precision(clasifier_VAL,name_VAL,X_train, y_train,X_test,y_test,calibration=False)"
   ]
  },
  {
   "cell_type": "markdown",
   "metadata": {},
   "source": [
    "## <span style=\"font-size: 150%;color:#6fa8dc;background:#cfe2f3\">Classification score"
   ]
  },
  {
   "cell_type": "code",
   "execution_count": null,
   "metadata": {},
   "outputs": [],
   "source": [
    "def classification_score(six_classifiers,name, X_train, y_train,X_test,y_test,calibration=True):\n",
    "\n",
    "    from sklearn.datasets import make_classification\n",
    "    from sklearn.calibration import CalibratedClassifierCV, calibration_curve   \n",
    "    from sklearn.metrics import precision_recall_fscore_support as score\n",
    "    import time   \n",
    "    \n",
    "    start_time = time.time()\n",
    "\n",
    "    Precision_0 = ['Precision_0: ']\n",
    "    Precision_1 = ['Precision_1: ']\n",
    "    Recall_0 = ['Recall_0: ']\n",
    "    Recall_1 = ['Recall_1: ']\n",
    "    f1_score_0 = ['f1-score_0: ']\n",
    "    f1_score_1 = ['f1-score_1: ']\n",
    "    Support_0 = ['Support_0: ']\n",
    "    Support_1 = ['Support_1: ']\n",
    "    \n",
    "    \n",
    "    CAL_Precision_0 = ['CAL_Precision_0: ']\n",
    "    CAL_Precision_1 = ['CAL_Precision_1: ']\n",
    "    CAL_Recall_0 = ['CAL_Recall_0: ']\n",
    "    CAL_Recall_1 = ['CAL_Recall_1: ']\n",
    "    CAL_f1_score_0 = ['CAL_f1-score_0: ']\n",
    "    CAL_f1_score_1 = ['CAL_f1-score_1: ']\n",
    "    CAL_Support_0 = ['CAL_Support_0: ']\n",
    "    CAL_Support_1 = ['CAL_Support_1: ']\n",
    "\n",
    "    #for cls in six_classifiers:\n",
    "    #    cls.fit(X_train, y_train)\n",
    "        \n",
    "    \n",
    "    def compute_metric4(model):\n",
    "\n",
    "        precision, recall, fscore, support = score(y_test, model.predict(X_test))\n",
    "    \n",
    "        Precision_0 = np.round(precision[:1],decimals=3).item()\n",
    "        Precision_1 = np.round(precision[1:],decimals=3).item()\n",
    "        Recall_0 = np.round(recall[:1],decimals=3).item()\n",
    "        Recall_1 = np.round(recall[1:],decimals=3).item()\n",
    "        f1_score_0 = np.round(fscore[:1],decimals=3).item()\n",
    "        f1_score_1 = np.round(fscore[1:],decimals=3).item()\n",
    "        Support_0 = np.round(support[:1],decimals=3).item()\n",
    "        Support_1 = np.round(support[1:],decimals=3).item()\n",
    "        \n",
    "        return Precision_0, Precision_1, Recall_0, Recall_1, f1_score_0, f1_score_1, Support_0, Support_1\n",
    "\n",
    "    for cls in six_classifiers:\n",
    "\n",
    "        results = compute_metric4(cls)\n",
    "        Precision_0.append(results[0])\n",
    "        Precision_1.append(blue(results[1],'bold'))\n",
    "        Recall_0.append(results[2])\n",
    "        Recall_1.append(blue(results[3],'bold'))\n",
    "        f1_score_0.append(results[4])\n",
    "        f1_score_1.append(blue(results[5],'bold'))\n",
    "        Support_0.append(results[6])\n",
    "        Support_1.append(blue(results[7],'bold'))\n",
    "         \n",
    "\n",
    "    t = PrettyTable(['Name', name[0],name[1],name[2],name[3],name[4],name[5],name[6],name[7],name[8]])\n",
    "    t.add_row(Precision_0)\n",
    "    t.add_row(Precision_1)\n",
    "    t.add_row(Recall_0)\n",
    "    t.add_row(Recall_1)\n",
    "    t.add_row(f1_score_0)\n",
    "    t.add_row(f1_score_1)\n",
    "    t.add_row(Support_0)\n",
    "    t.add_row(Support_1)\n",
    "\n",
    "\n",
    "    print(blue('Models before calibration','bold'))\n",
    "    g = (time.time() - start_time)\n",
    "    g = np.round(g)\n",
    "    print('time: %s seconds' % g)\n",
    "    print(t)\n",
    "    \n",
    "   ## ------------------------------------------\n",
    "\n",
    "    if calibration != True:\n",
    "        print()\n",
    "    else:    \n",
    "        print(blue('Models after calibration','bold'))\n",
    "  \n",
    "        start_time = time.time()\n",
    "    \n",
    "        def calibration(model):\n",
    "        \n",
    "            calibrated = CalibratedClassifierCV(model, method='sigmoid', cv=5)\n",
    "            calibrated.fit(X_train, y_train)\n",
    "            precision, recall, fscore, support = score(y_test, calibrated.predict(X_test))\n",
    "                \n",
    "            CAL_Precision_0 = np.round(precision[:1],decimals=3).item()\n",
    "            CAL_Precision_1 = np.round(precision[1:],decimals=3).item()\n",
    "            CAL_Recall_0 = np.round(recall[:1],decimals=3).item()\n",
    "            CAL_Recall_1 = np.round(recall[1:],decimals=3).item()\n",
    "            CAL_f1_score_0 = np.round(fscore[:1],decimals=3).item()\n",
    "            CAL_f1_score_1 = np.round(fscore[1:],decimals=3).item()\n",
    "            CAL_Support_0 = np.round(support[:1],decimals=3).item()\n",
    "            CAL_Support_1 = np.round(support[1:],decimals=3).item()\n",
    "        \n",
    "            return CAL_Precision_0, CAL_Precision_1, CAL_Recall_0, CAL_Recall_1, CAL_f1_score_0, CAL_f1_score_1, CAL_Support_0, CAL_Support_1\n",
    "    \n",
    "        for cls in six_classifiers:\n",
    "\n",
    "            results = calibration(cls)\n",
    "            CAL_Precision_0.append(results[0])\n",
    "            CAL_Precision_1.append(blue(results[1],'bold'))\n",
    "            CAL_Recall_0.append(results[2])\n",
    "            CAL_Recall_1.append(blue(results[3],'bold'))\n",
    "            CAL_f1_score_0.append(results[4])\n",
    "            CAL_f1_score_1.append(blue(results[5],'bold'))\n",
    "            CAL_Support_0.append(results[6])\n",
    "            CAL_Support_1.append(blue(results[7],'bold'))\n",
    "   \n",
    "        k = PrettyTable(['Name', name[0],name[1],name[2],name[3],name[4],name[5],name[6],name[7],name[8]])\n",
    "        k.add_row(CAL_Precision_0)\n",
    "        k.add_row(CAL_Precision_1)\n",
    "        k.add_row(CAL_Recall_0)\n",
    "        k.add_row(CAL_Recall_1)\n",
    "        k.add_row(CAL_f1_score_0)\n",
    "        k.add_row(CAL_f1_score_1)\n",
    "        k.add_row(CAL_Support_0)\n",
    "        k.add_row(CAL_Support_1)\n",
    "    \n",
    "        n = (time.time() - start_time)\n",
    "        n = np.round(n)\n",
    "        print('time: %s seconds' % n)\n",
    "        print(k)\n",
    "    print(blue('RECALL', 'bold'), blue('procentowy udział chorych dobrze zdiagnozowanych wśród wszystkich ludzi chorych','italic'))\n",
    "    print(blue('PRECISION', 'bold'), blue('procentowy udział chorych dobrze zdiagnozowanych w populacji ludzi zdiagnozowanych fałszywie (zdrowych uznanych przez model za chorych) i dobrze zdiagnozowanych (chorych uznanych przez model za chorych)','italic')) \n",
    "    "
   ]
  },
  {
   "cell_type": "code",
   "execution_count": null,
   "metadata": {},
   "outputs": [],
   "source": [
    "classification_score(clasifier_VAL,name_VAL,X_train, y_train,X_test,y_test,calibration=False)"
   ]
  },
  {
   "cell_type": "markdown",
   "metadata": {},
   "source": [
    "## <span style=\"font-size: 150%;color:#6fa8dc;background:#cfe2f3\">AUC score"
   ]
  },
  {
   "cell_type": "code",
   "execution_count": null,
   "metadata": {},
   "outputs": [],
   "source": [
    "def AUC_score(six_classifiers,name, X_train, y_train,X_test,y_test,calibration=True):\n",
    "    \n",
    "    from sklearn.calibration import CalibratedClassifierCV, calibration_curve\n",
    "    from sklearn import metrics\n",
    "    import time   \n",
    "    \n",
    "    start_time = time.time()\n",
    "\n",
    "    #for cls in six_classifiers:\n",
    "    #    cls.fit(X_train, y_train)    \n",
    "    \n",
    "    AUC_train = ['AUC_train: ']\n",
    "    AUC_test = ['AUC_test: ']\n",
    "    CAL_AUC_train = ['AUC_train: ']\n",
    "    CAL_AUC_test = ['AUC_test: ']\n",
    "    \n",
    "    \n",
    "    def compute_metric(model):\n",
    "\n",
    "        auc_train = np.round(metrics.roc_auc_score(y_train,model.predict_proba(X_train)[:,1]),decimals=3)\n",
    "        auc_test = np.round(metrics.roc_auc_score(y_test,model.predict_proba(X_test)[:,1]),decimals=3)\n",
    "\n",
    "        return auc_train, auc_test\n",
    "\n",
    "    for cls in six_classifiers:\n",
    "\n",
    "        results = compute_metric(cls)\n",
    "        AUC_train.append(results[0])\n",
    "        AUC_test.append(blue(results[1],'bold'))\n",
    "\n",
    "\n",
    "    t = PrettyTable(['Name', name[0],name[1],name[2],name[3],name[4],name[5],name[6],name[7],name[8]])\n",
    "    t.add_row(AUC_train)\n",
    "    t.add_row(AUC_test)\n",
    "    \n",
    "    \n",
    "    print(blue('Models before calibration','bold'))\n",
    "    g = (time.time() - start_time)\n",
    "    g = np.round(g)\n",
    "    print('time: %s secondS' % g)\n",
    "    print(t)\n",
    "    \n",
    "    if calibration != True:\n",
    "        print()\n",
    "    else:    \n",
    "        print(blue('Models after calibration','bold'))\n",
    "    \n",
    "        start_time = time.time()\n",
    "    \n",
    "        def calibration(model):\n",
    "        \n",
    "            calibrated = CalibratedClassifierCV(model, method='sigmoid', cv=5)\n",
    "            calibrated.fit(X_train, y_train)\n",
    "         \n",
    "            CAL_AUC_train = np.round(metrics.roc_auc_score(y_train,calibrated.predict_proba(X_train)[:,1]),decimals=3)\n",
    "            CAL_AUC_test = np.round(metrics.roc_auc_score(y_test,calibrated.predict_proba(X_test)[:,1]),decimals=3)\n",
    "\n",
    "            return CAL_AUC_train, CAL_AUC_test\n",
    "\n",
    "    \n",
    "        for cls in six_classifiers:\n",
    "\n",
    "            results = calibration(cls)\n",
    "            CAL_AUC_train.append(results[0])\n",
    "            CAL_AUC_test.append(blue(results[1],'bold'))\n",
    "       \n",
    "   \n",
    "        k = PrettyTable(['Name', name[0],name[1],name[2],name[3],name[4],name[5],name[6],name[7],name[8]])\n",
    "        k.add_row(CAL_AUC_train)\n",
    "        k.add_row(CAL_AUC_test)\n",
    "    \n",
    "        n = (time.time() - start_time)\n",
    "        n = np.round(n)\n",
    "        print('time: %s seconds' % n)    \n",
    "        print(k)\n",
    "    "
   ]
  },
  {
   "cell_type": "code",
   "execution_count": null,
   "metadata": {},
   "outputs": [],
   "source": [
    "AUC_score(clasifier_VAL,name_VAL,X_train, y_train,X_test,y_test,calibration=False)"
   ]
  },
  {
   "cell_type": "markdown",
   "metadata": {},
   "source": [
    "## <span style=\"font-size: 150%;color:#6fa8dc;background:#cfe2f3\">Binary Classficators Plots  "
   ]
  },
  {
   "cell_type": "code",
   "execution_count": null,
   "metadata": {},
   "outputs": [],
   "source": [
    "def BinaryClassPlot(six_classifiers,name, X_train, y_train,X_test,y_test,calibration=True):\n",
    "    \n",
    "    import time\n",
    "    from sklearn.calibration import CalibratedClassifierCV, calibration_curve\n",
    "    from matplotlib import rcParams      ## Robie odstęp na podtytuł\n",
    "    rcParams['axes.titlepad'] = 20 \n",
    "    \n",
    "    start_time = time.time()\n",
    "    \n",
    "    from plot_metric.functions import BinaryClassification\n",
    "\n",
    "    #for cls in six_classifiers:\n",
    "    #    cls.fit(X_train, y_train) \n",
    "       \n",
    "    plt.figure(figsize=(15,10))\n",
    "    grid = plt.GridSpec(3, 3, wspace=0.3, hspace=0.5)\n",
    "        \n",
    "    for i in range(9):\n",
    "        col, row = i%3,i//3\n",
    "        ax = plt.subplot(grid[row,col]) \n",
    "        ax.title.set_color('blue')\n",
    "            \n",
    "        model = six_classifiers[i]\n",
    "        bc = BinaryClassification(y_test, model.predict_proba(X_test)[:,1], labels=[\"Class 1\", \"Class 2\"])\n",
    "        bc.plot_roc_curve(title=type(six_classifiers[i]).__name__)\n",
    "        ax.text(0.0, 1.09, 'before calibration',color='black', fontsize=10) \n",
    "        ax.text(0.5, 1.09, name[i],fontsize=10)    ## podtytuł\n",
    "\n",
    " ### ------------------------------------------------------------------------------       \n",
    "    if calibration != True:\n",
    "        print()\n",
    "    else:    \n",
    "           \n",
    "        #for cls in six_classifiers:\n",
    "        #    cls.fit(X_train, y_train)\n",
    "                            \n",
    "        plt.figure(figsize=(15,10))\n",
    "        grid = plt.GridSpec(3, 3, wspace=0.3, hspace=0.5)\n",
    "\n",
    "        for i in range(9):\n",
    "            col, row = i%3,i//3\n",
    "            ax = plt.subplot(grid[row,col]) \n",
    "            ax.title.set_color('blue')\n",
    "            \n",
    "            model = six_classifiers[i]\n",
    "            calibrated = CalibratedClassifierCV(model, method='sigmoid', cv=5)\n",
    "            calibrated.fit(X_train, y_train)        \n",
    "                \n",
    "            bc = BinaryClassification(y_test, calibrated.predict_proba(X_test)[:,1], labels=[\"Class 1\", \"Class 2\"])\n",
    "            bc.plot_roc_curve(title=type(six_classifiers[i]).__name__)\n",
    "            ax.text(0.0, 1.09, 'after calibration',color='red', fontsize=10)    ## podtytuł     \n",
    "            ax.text(0.5, 1.09, name[i],fontsize=10)    ## podtytuł   \n",
    "        \n",
    "        \n",
    "        n = (time.time() - start_time)\n",
    "        n = np.round(n)\n",
    "        print('time: %s seconds' % n)    "
   ]
  },
  {
   "cell_type": "code",
   "execution_count": null,
   "metadata": {},
   "outputs": [],
   "source": [
    "BinaryClassPlot(clasifier_VAL,name_VAL,X_train, y_train,X_test,y_test,calibration=False)"
   ]
  },
  {
   "cell_type": "markdown",
   "metadata": {},
   "source": [
    "## <span style=\"font-size: 150%;color:#6fa8dc;background:#cfe2f3\"> ROC AUC plots"
   ]
  },
  {
   "cell_type": "code",
   "execution_count": null,
   "metadata": {},
   "outputs": [],
   "source": [
    "def plot_roc(six_classifiers,name, X_train, y_train,X_test,y_test,calibration=True):\n",
    "    \n",
    "    import time\n",
    "    from sklearn.calibration import CalibratedClassifierCV, calibration_curve\n",
    "    from matplotlib import rcParams      ## Robie odstęp na podtytuł\n",
    "    rcParams['axes.titlepad'] = 20 \n",
    "    \n",
    "    import scikitplot as skplt\n",
    "    \n",
    "    start_time = time.time()\n",
    "    \n",
    "    plt.figure(figsize=(15,10))\n",
    "    grid = plt.GridSpec(3, 3, wspace=0.3, hspace=0.5)\n",
    "\n",
    "    #for cls in six_classifiers:\n",
    "    #    cls.fit(X_train, y_train)\n",
    "\n",
    "    for i in range(9):\n",
    "\n",
    "        col, row = i%3,i//3\n",
    "        ax = plt.subplot(grid[row,col]) \n",
    "        ax.title.set_color('blue')\n",
    "\n",
    "        model = six_classifiers[i]\n",
    "        skplt.metrics.plot_roc(y_test, model.predict_proba(X_test), ax=ax, title=type(six_classifiers[i]).__name__)\n",
    "        ax.text(0.5, 1.09, name[i],fontsize=10)    ## podtytuł\n",
    "        ax.text(0.0, 1.09, 'before calibration',color='black', fontsize=10)\n",
    "## ---------------------------------------------------------------------------------------------------\n",
    "    \n",
    "    if calibration != True:\n",
    "        print()\n",
    "    else:    \n",
    "    \n",
    "    \n",
    "        plt.figure(figsize=(15,10))\n",
    "        grid = plt.GridSpec(3, 3, wspace=0.3, hspace=0.5)\n",
    "    \n",
    "    \n",
    "        #for cls in six_classifiers:\n",
    "        #    cls.fit(X_train, y_train)\n",
    "\n",
    "        for i in range(9):\n",
    "\n",
    "            col, row = i%3,i//3\n",
    "            ax = plt.subplot(grid[row,col]) \n",
    "            ax.title.set_color('blue')\n",
    "\n",
    "            model = six_classifiers[i]\n",
    "            calibrated = CalibratedClassifierCV(model, method='sigmoid', cv=5)\n",
    "            calibrated.fit(X_train, y_train)        \n",
    "        \n",
    "            skplt.metrics.plot_roc(y_test, calibrated.predict_proba(X_test), ax=ax, title=type(six_classifiers[i]).__name__)\n",
    "            ax.text(0.5, 1.09, name[i],fontsize=10)    ## podtytuł\n",
    "            ax.text(0.0, 1.09, 'after calibration',color='red', fontsize=10)    ## podtytuł  \n",
    "    \n",
    "    n = (time.time() - start_time)\n",
    "    n = np.round(n)\n",
    "    print('time: %s seconds' % n)    "
   ]
  },
  {
   "cell_type": "code",
   "execution_count": null,
   "metadata": {},
   "outputs": [],
   "source": [
    "plot_roc(clasifier_VAL,name_VAL,X_train, y_train,X_test,y_test,calibration=False)"
   ]
  },
  {
   "cell_type": "markdown",
   "metadata": {},
   "source": [
    "W tym teście szczególnie waża jest różnica pomiedzy <span style=\"background:#ff00ff\"> krzywą micro-average ROC pokazaną na różowo</span> oraz <span style=\"color:#0000ff\"> krzywą macro-average ROC pokazana na granatowo</span>.\n",
    "Idealnie gdy obie krzywe się pokrywają. Zbilansowanie klas prze oversampling poprawiło w wielu medelach spójność obu krzywych, w niektórych jednak pozostały duże różnice.\n",
    "\n",
    "Jeżeli: \n",
    "\n",
    "<span style=\"font-size: 150%;color:#0000ff\">macro average ROC</span><span style=\"font-size: 250%\"> > </span> <span style=\"font-size: 150%;background:#ff00ff\">micro average ROC</span> \n",
    "wtedy mówimy, że: \"1 (minority) is better classified than 0 (majority) - macro > micro\"\n",
    "\n",
    "Jeżeli:\n",
    "\n",
    "<span style=\"font-size: 150%;color:#0000ff\">macro average ROC</span><span style=\"font-size: 250%\"> < </span> <span style=\"font-size: 150%;background:#ff00ff\">micro average ROC</span> \n",
    "wtedy mówimy, że: '0 (majority) is better classified than 1 (minority)- micro < macro'\n",
    "\n",
    "\n",
    "Idealnie gdy krzywe micro i macro pokrywają się ze sobą. Taka sytuacja ma miejsce po oversampling w GaussianNB oraz GradientBoostingClassifier.\n"
   ]
  },
  {
   "cell_type": "raw",
   "metadata": {},
   "source": [
    "def calibration_curve2(six_classifiers,name, X_train, y_train,X_test,y_test,calibration=False):\n",
    "    \n",
    "    from matplotlib import rcParams      ## Robie odstęp na podtytuł\n",
    "    rcParams['axes.titlepad'] = 20 \n",
    "    \n",
    "    import scikitplot as skplt\n",
    "    from sklearn.calibration import CalibratedClassifierCV, calibration_curve\n",
    "    \n",
    "    plt.figure(figsize=(15,10))\n",
    "    grid = plt.GridSpec(3, 3, wspace=0.3, hspace=0.5)\n",
    "\n",
    "    #for cls in six_classifiers:\n",
    "    #    cls.fit(X_train, y_train)\n",
    "\n",
    "    for i in range(9):\n",
    "\n",
    "        col, row = i%3,i//3\n",
    "        ax = plt.subplot(grid[row,col])\n",
    "        ax.title.set_color('blue')\n",
    "           \n",
    "        model = classifiers_A[i]\n",
    "        A_probas = model.fit(X_train, y_train).predict_proba(X_test)\n",
    "        probas_list = [A_probas]\n",
    "        \n",
    "        clf_names =  [name[i]]\n",
    "        \n",
    "        skplt.metrics.plot_calibration_curve(y_test,probas_list,clf_names,title=type(six_classifiers[i]).__name__,ax=ax)  \n",
    "        ax.text(0.5, 1.09, name[i],fontsize=10)    ## podtytuł\n",
    "        ax.text(0.0, 1.09, 'before calibration',color='black', fontsize=10)\n",
    "   ### -----------------------------------------------------------------------------------\n",
    "\n",
    "    if calibration != True:\n",
    "        print()\n",
    "    else:   \n",
    "        plt.figure(figsize=(15,10))\n",
    "        grid = plt.GridSpec(3, 3, wspace=0.3, hspace=0.5)\n",
    "\n",
    "        #for cls in six_classifiers:\n",
    "        #    cls.fit(X_train, y_train)\n",
    "\n",
    "        for i in range(9):\n",
    "\n",
    "            col, row = i%3,i//3\n",
    "            ax = plt.subplot(grid[row,col])\n",
    "            ax.title.set_color('blue')\n",
    "\n",
    "            model = classifiers_A[i]\n",
    "            calibrated = CalibratedClassifierCV(model, method='sigmoid', cv=5)\n",
    "            calibrated.fit(X_train, y_train) \n",
    "        \n",
    "            A_probas = calibrated.fit(X_train, y_train).predict_proba(X_test)\n",
    "            probas_list = [A_probas]\n",
    "        \n",
    "            clf_names =  [name[i]]\n",
    "        \n",
    "            skplt.metrics.plot_calibration_curve(y_test,probas_list,clf_names,title=type(six_classifiers[i]).__name__,ax=ax)  \n",
    "            ax.text(0.5, 1.09, name[i],fontsize=10)    ## podtytuł\n",
    "            ax.text(0.0, 1.09, 'after calibration',color='red', fontsize=10)    ## podtytuł "
   ]
  },
  {
   "cell_type": "raw",
   "metadata": {},
   "source": [
    "calibration_curve2(classifiers_A,nameA,X_train, y_train,X_test,y_test,calibration=False)"
   ]
  },
  {
   "cell_type": "raw",
   "metadata": {},
   "source": [
    "calibration_curve2(classifiers_B,nameB,X_train, y_train,X_test,y_test,calibration=False)"
   ]
  },
  {
   "cell_type": "raw",
   "metadata": {},
   "source": [
    "calibration_curve2(classifiers_F,nameF,X_train, y_train,X_test,y_test,calibration=False)"
   ]
  },
  {
   "cell_type": "markdown",
   "metadata": {},
   "source": [
    "\n",
    "## <span style=\"font-size: 150%;color:#6fa8dc;background:#cfe2f3\">Cohen Kappa Metric"
   ]
  },
  {
   "cell_type": "markdown",
   "metadata": {},
   "source": [
    "<font size=\"3\"> \n",
    "$ \\bbox[20px,border:1px solid red]\n",
    "{\n",
    " κ = \\displaystyle\\frac{(p_o - p_e)}{(1 - p_e)}=1-\\frac{1 - p_e}{1 - p_e}\n",
    "\\qquad   \n",
    "} $\n",
    "\n",
    "\n",
    "where: \n",
    "\n",
    "$ p_0 = \\displaystyle\\frac{(tn+𝑡𝑝)}{(tn+fp+fn+𝑡𝑝)}$\n",
    "\n",
    "$ p_{empire} = \\displaystyle\\frac{(tn+fp)}{(tn+fp+fn+𝑡𝑝)}\\times\\frac{(tn+fn)}{(tn+fp+fn+𝑡𝑝)}$\n",
    "\n",
    "$ p_{theory} = \\displaystyle\\frac{(fn+𝑡𝑝)}{(tn+fp+fn+𝑡𝑝)}\\times\\frac{(fp+𝑡𝑝)}{(tn+fp+fn+𝑡𝑝)}$\n",
    "\n",
    "\n",
    "$ p_e = p_{empire}+p_{theory}$\n",
    "\n"
   ]
  },
  {
   "cell_type": "code",
   "execution_count": null,
   "metadata": {},
   "outputs": [],
   "source": [
    "def Cohen_Kappa(six_classifiers,name, X_train, y_train,X_test,y_test,calibration=False):\n",
    "    \n",
    "    from sklearn.calibration import CalibratedClassifierCV, calibration_curve\n",
    "    from sklearn import metrics\n",
    "    import simple_colors\n",
    "    import time   \n",
    "    \n",
    "    start_time = time.time()\n",
    "    \n",
    "    κ = ['κ:']\n",
    "    p0 = ['p0:']\n",
    "    pe = ['pe:']\n",
    "    \n",
    "    κc = ['κ:']\n",
    "    p0c = ['p0:']\n",
    "    pec = ['pe:']    \n",
    "    \n",
    "    \n",
    "    \n",
    "    #for cls in six_classifiers:\n",
    "    #    cls.fit(X_train, y_train)    \n",
    "    \n",
    "    def compute_metric(model):\n",
    "        \n",
    "        from sklearn.metrics import confusion_matrix\n",
    "\n",
    "        #model.fit(X_train,y_train)\n",
    "        cm = confusion_matrix(y_test, model.predict(X_test))\n",
    "        tn, fp, fn, tp = cm.ravel()     \n",
    "        \n",
    "        p0 = (tn+𝑡𝑝)/(tn+fp+fn+𝑡𝑝)\n",
    "        P_empire = ((tn+fp)/(tn+fp+fn+𝑡𝑝))*((tn+fn)/(tn+fp+fn+𝑡𝑝))\n",
    "        P_theory = ((fn+𝑡𝑝)/(tn+fp+fn+𝑡𝑝))*((fp+𝑡𝑝)/(tn+fp+fn+𝑡𝑝))\n",
    "        pe = P_empire + P_theory\n",
    "        κ = (p0-pe)/(1-pe)\n",
    "        \n",
    "        κ = np.round(κ,decimals=3)\n",
    "        p0 = np.round(p0,decimals=3)\n",
    "        pe = np.round(pe,decimals=3)\n",
    "        \n",
    "        return κ,p0, pe\n",
    "\n",
    "    for cls in six_classifiers:\n",
    "        \n",
    "        results = compute_metric(cls)\n",
    "        κ.append(blue(results[0],'bold'))\n",
    "        p0.append(results[1])\n",
    "        pe.append(results[2])\n",
    "      \n",
    "\n",
    "    t = PrettyTable(['Name', name[0],name[1],name[2],name[3],name[4],name[5],name[6],name[7],name[8]])\n",
    "    t.add_row(p0)\n",
    "    t.add_row(pe)\n",
    "    t.add_row(κ)\n",
    "\n",
    "    print(blue('Models before calibration','bold'))\n",
    "    g = (time.time() - start_time)\n",
    "    g = np.round(g)\n",
    "    print('time: %s second' % g)\n",
    "    print(t)   \n",
    "    print()\n",
    "  ###------------------------------------------------------------  \n",
    "    \n",
    "    if calibration != True:\n",
    "        print()\n",
    "    else:   \n",
    "        print(blue('Models after calibration','bold'))\n",
    "        \n",
    "        plt.figure(figsize=(15,10))\n",
    "        grid = plt.GridSpec(3, 3, wspace=0.3, hspace=0.5)\n",
    "        \n",
    "        start_time = time.time()\n",
    "    \n",
    "        def compute_metric2(model):\n",
    "            \n",
    "            calibrated = CalibratedClassifierCV(model, method='sigmoid', cv=5)\n",
    "            calibrated.fit(X_train, y_train)     \n",
    "            \n",
    "            calibrated = calibrated.fit(X_train,y_train)\n",
    "            cm = confusion_matrix(y_test, calibrated.predict(X_test))\n",
    "            tn, fp, fn, tp = cm.ravel()\n",
    "   \n",
    "        \n",
    "            p0c = (tn+𝑡𝑝)/(tn+fp+fn+𝑡𝑝)\n",
    "            P_empire = ((tn+fp)/(tn+fp+fn+𝑡𝑝))*((tn+fn)/(tn+fp+fn+𝑡𝑝))\n",
    "            P_theory = ((fn+𝑡𝑝)/(tn+fp+fn+𝑡𝑝))*((fp+𝑡𝑝)/(tn+fp+fn+𝑡𝑝))\n",
    "            pec = P_empire + P_theory\n",
    "            κc = (p0c-pec)/(1-pec)\n",
    "        \n",
    "            κc = np.round(κc,decimals=3)\n",
    "            p0c = np.round(p0c,decimals=3)\n",
    "            pec = np.round(pec,decimals=3)\n",
    "        \n",
    "            return κc,p0c, pec\n",
    "\n",
    "        for cls in six_classifiers:\n",
    "        \n",
    "            results = compute_metric2(cls)\n",
    "            κc.append(blue(results[0],'bold'))\n",
    "            p0c.append(results[1])\n",
    "            pec.append(results[2])\n",
    "      \n",
    "\n",
    "        k = PrettyTable(['Name', name[0],name[1],name[2],name[3],name[4],name[5],name[6],name[7],name[8]])\n",
    "        k.add_row(p0c)\n",
    "        k.add_row(pec)\n",
    "        k.add_row(κc)\n",
    "\n",
    "        n = (time.time() - start_time)\n",
    "        n = np.round(n)\n",
    "        print('time: %s second' % n)         \n",
    "        print(k)\n",
    "    \n",
    "    print(blue('Obserwowana zgodność p0', 'underlined'))\n",
    "    print(black('Jest to prawdopodobieństwo dobrego wyboru, to procent przypadków, które zostały sklasyfikowane prawidłowo w całej matrycy zamieszania, czyli prawdziwi chorzy zostali sklasyfikowani jako chorzy a prawdziwie zdrowi sklasyfikowani jako prawdziwie zdrowi','italic'))\n",
    "    print(blue('Oczekiwana zgodność pe', 'underlined'))\n",
    "    print(black('Jest to prawdopodobieństwo wyboru bezpośrednio związana z liczbą wystąpień każdej klasy. Jeżeli wystąpień klas było po równo (np. 1: 20 wystąpień i 0: 20 wystapień), czyli zbiór był zbilansowany, to prawdopodobieństwo wynosi 50%. ','italic'))\n",
    "    print(blue('Cohen Kappa mówi, o ile lepszy jest model klasyfikacji (p0) od losowego klasyfikatora(pe), który przewiduje na podstawie częstotliwości klas.','italic'))\n",
    "    print(black(''))\n",
    "    print(black('Statystyka może być ujemna, co oznacza, że nie ma skutecznej zgodności między dwoma wskaźnikami lub zgodność jest gorsza niż losowa.'))"
   ]
  },
  {
   "cell_type": "code",
   "execution_count": null,
   "metadata": {},
   "outputs": [],
   "source": [
    "Cohen_Kappa(clasifier_VAL,name_VAL,X_train, y_train,X_test,y_test,calibration=False)"
   ]
  },
  {
   "attachments": {
    "obraz.png": {
     "image/png": "[encoded data removed]"
    }
   },
   "cell_type": "markdown",
   "metadata": {},
   "source": [
    "# <span style=\"font-size: 150%;color:#6fa8dc;background:#cfe2f3\">Matthews Correlation Coefficient MCC  ![obraz.png](attachment:obraz.png)"
   ]
  },
  {
   "cell_type": "markdown",
   "metadata": {},
   "source": [
    "The Matthews Correlation Coefficient (MCC) has a range of -1 to 1, where -1 is a completely bad binary classifier and 1 is a completely valid binary classifier.\n",
    "\n",
    "\n",
    "<font size=\"3\"> \n",
    "$ \\bbox[23px,border:1px solid red]\n",
    "{\n",
    " MCC = \\displaystyle\\frac{{(tp \\times tn)}-{(fp \\times fn)}}{(tp+fp)(tp+fn)(tn+fp)(tn+fn)}\n",
    "\\qquad   \n",
    "} $"
   ]
  },
  {
   "cell_type": "code",
   "execution_count": null,
   "metadata": {},
   "outputs": [],
   "source": [
    "def MCC(six_classifiers,name, X_train, y_train,X_test,y_test,calibration=True):\n",
    "    \n",
    "    from sklearn.calibration import CalibratedClassifierCV, calibration_curve\n",
    "    import time   \n",
    "    \n",
    "    start_time = time.time()\n",
    "    \n",
    "    from sklearn import metrics\n",
    "    import simple_colors\n",
    "    \n",
    "    #for cls in six_classifiers:\n",
    "    #    cls.fit(X_train, y_train)    \n",
    "    \n",
    "    \n",
    "    MCC = ['MCC:']\n",
    "    \n",
    "    def compute_metric(model):\n",
    "        \n",
    "        from sklearn.metrics import confusion_matrix\n",
    "\n",
    "        #model.fit(X_train,y_train)\n",
    "        cm = confusion_matrix(y_test, model.predict(X_test))\n",
    "        tn, fp, fn, tp = cm.ravel()     \n",
    "        \n",
    "        MCC = ((tp*tn)-(fp*fn))/(((tp+fp)*(tp+fn)*(tn+fp)*(tn+fn))** .5)\n",
    "        MCC = np.round(MCC,decimals=3)\n",
    "        MCC\n",
    "        \n",
    "        return MCC\n",
    "\n",
    "    for cls in six_classifiers:\n",
    "        \n",
    "        results = compute_metric(cls)\n",
    "        MCC.append(results)\n",
    "             \n",
    "\n",
    "    t = PrettyTable(['Name', name[0],name[1],name[2],name[3],name[4],name[5],name[6],name[7],name[8]])\n",
    "    t.add_row(MCC)\n",
    "    \n",
    "    print('Matthews Correlation Coefficient MCC')\n",
    "        \n",
    "    ### ---------------------------------------------------\n",
    "    \n",
    "    print(blue('Models before calibration','bold'))\n",
    "    g = (time.time() - start_time)\n",
    "    g = np.round(g)\n",
    "    print('time: %s seconds' % g)\n",
    "    print(t)\n",
    "    \n",
    "    ### ---------------------------------------------------\n",
    "        \n",
    "    if calibration != True:\n",
    "        print()\n",
    "    else:   \n",
    "        print(blue('Models after calibration','bold'))\n",
    "\n",
    "   \n",
    "\n",
    "        start_time = time.time()\n",
    "    \n",
    "        from sklearn import metrics\n",
    "        import simple_colors\n",
    "    \n",
    "        #for cls in six_classifiers:\n",
    "        #    cls.fit(X_train, y_train)    \n",
    "    \n",
    "    \n",
    "        MCC = ['MCC:']\n",
    "    \n",
    "        def compute_metric(model):\n",
    "        \n",
    "            from sklearn.metrics import confusion_matrix\n",
    "\n",
    "            calibrated = CalibratedClassifierCV(model, method='sigmoid', cv=5)\n",
    "            calibrated.fit(X_train, y_train)    \n",
    "            cm = confusion_matrix(y_test, calibrated.predict(X_test))\n",
    "            tn, fp, fn, tp = cm.ravel()     \n",
    "        \n",
    "            MCC = ((tp*tn)-(fp*fn))/(((tp+fp)*(tp+fn)*(tn+fp)*(tn+fn))** .5)\n",
    "            MCC = np.round(MCC,decimals=3)\n",
    "            MCC\n",
    "        \n",
    "            return MCC\n",
    "\n",
    "        for cls in six_classifiers:\n",
    "        \n",
    "            results = compute_metric(cls)\n",
    "            MCC.append(results)\n",
    "             \n",
    "\n",
    "        k = PrettyTable(['Name', name[0],name[1],name[2],name[3],name[4],name[5],name[6],name[7],name[8]])\n",
    "        k.add_row(MCC)\n",
    "    \n",
    "        n = (time.time() - start_time)\n",
    "        n = np.round(n)\n",
    "        print('time: %s seconds' % n)         \n",
    "        print(k)\n",
    "    \n",
    "       \n",
    "    print(black('Współczynnik korelacji Matthewsa (MCC) ma zakres od -1 do 1, gdzie -1 oznacza całkowicie zły klasyfikator binarny, a 1 oznacza całkowicie poprawny klasyfikator binarny','italic'))\n",
    "    "
   ]
  },
  {
   "cell_type": "code",
   "execution_count": null,
   "metadata": {},
   "outputs": [],
   "source": [
    "MCC(clasifier_VAL,name_VAL,X_train, y_train,X_test,y_test,calibration=False)"
   ]
  },
  {
   "cell_type": "markdown",
   "metadata": {},
   "source": [
    "https://en.wikipedia.org/wiki/Cohen%27s_kappa"
   ]
  },
  {
   "cell_type": "markdown",
   "metadata": {},
   "source": [
    "## <span style=\"font-size: 150%;color:#6fa8dc;background:#cfe2f3\">Trainsize"
   ]
  },
  {
   "cell_type": "raw",
   "metadata": {},
   "source": [
    "def Trainsize(six_classifiers,name, X_train, y_train,X_test,y_test,calibration=True):\n",
    "    \n",
    "    import time\n",
    "    from mlxtend.plotting import plot_learning_curves\n",
    "    from sklearn.calibration import CalibratedClassifierCV, calibration_curve\n",
    "    \n",
    "    start_time = time.time()\n",
    "    \n",
    "    #for cls in six_classifiers:\n",
    "    #    cls.fit(X_train, y_train) \n",
    "        \n",
    "    plt.figure(figsize=(15,7))\n",
    "\n",
    "    grid = plt.GridSpec(3, 3, wspace=0.3, hspace=0.4)\n",
    "\n",
    "    for i in range(9):\n",
    "        col, row = i%3,i//3\n",
    "        ax = plt.subplot(grid[row,col]) \n",
    "        ax.title.set_text(type(six_classifiers[i]).__name__)\n",
    "        ax.title.set_color('blue')\n",
    "    \n",
    "        model = six_classifiers[i]\n",
    "        plot_learning_curves(X_train, y_train, \n",
    "                             X_test, y_test, \n",
    "                             model, print_model=False, style='ggplot')\n",
    "        \n",
    "        ### ---------------------------------------------------\n",
    "        \n",
    "    if calibration != True:\n",
    "        print()\n",
    "    else:   \n",
    "        print('IN PENDING')\n",
    "        #for cls in six_classifiers:\n",
    "        #    cls.fit(X_train, y_train) \n",
    "        \n",
    "        #plt.figure(figsize=(15,7))\n",
    "\n",
    "        #grid = plt.GridSpec(3, 3, wspace=0.3, hspace=0.4)\n",
    "\n",
    "        #for i in range(9):\n",
    "        #    col, row = i%3,i//3\n",
    "        #    ax = plt.subplot(grid[row,col]) \n",
    "        #    ax.title.set_text(type(six_classifiers[i]).__name__)\n",
    "        #    ax.title.set_color('blue')\n",
    "    \n",
    "            \n",
    "        #    model = six_classifiers[i]\n",
    "        #    calibrated = CalibratedClassifierCV(model, method='sigmoid', cv=5)\n",
    "        #    calibrated.fit(X_train, y_train) \n",
    "            \n",
    "        #    plot_learning_curves(X_train, y_train, \n",
    "        #                        X_test, y_test, \n",
    "        #                         calibrated, print_model=False, style='ggplot')\n",
    "                \n",
    "        \n",
    "        \n",
    "    n = (time.time() - start_time)\n",
    "    n = np.round(n)\n",
    "    print('time: %s seconds' % n)           \n",
    "    print('Jeżeli zbiór testowy i treningowy bardzo odstają od siebie oznacza to przeuczenie modelu')\n",
    "    print('Znajduje się tu miejsce gdzie oba wykresy testowy i treningowy są najbliżej siebie.')\n",
    "    print('Dla takiej wielkości próby model działa najlepiej w kontekście przeuczenia na wykresie należy brać pod uwagę wielkość błędu klasyfikacji (oś y)')"
   ]
  },
  {
   "cell_type": "raw",
   "metadata": {},
   "source": [
    "Trainsize(classifiers_1,name1, X_train, y_train,X_test,y_test,calibration=False)"
   ]
  },
  {
   "cell_type": "raw",
   "metadata": {},
   "source": [
    "Trainsize(classifiers_2,name2, X_train, y_train,X_test,y_test,calibration=False)"
   ]
  },
  {
   "cell_type": "raw",
   "metadata": {},
   "source": [
    "Trainsize(classifiers_F,nameF,X_train, y_train,X_test,y_test,calibration=False)"
   ]
  },
  {
   "cell_type": "code",
   "execution_count": null,
   "metadata": {},
   "outputs": [],
   "source": [
    "def ks_statistic(six_classifiers,name, X_train, y_train,X_test,y_test,calibration=True):\n",
    "    \n",
    "    \n",
    "    from matplotlib import rcParams      ## Robie odstęp na podtytuł\n",
    "    rcParams['axes.titlepad'] = 20 \n",
    "    from sklearn.calibration import CalibratedClassifierCV, calibration_curve\n",
    "    import scikitplot as skplt\n",
    "    import time\n",
    "    start_time = time.time()\n",
    "    \n",
    "    plt.figure(figsize=(15,10))\n",
    "    grid = plt.GridSpec(3, 3, wspace=0.3, hspace=0.5)\n",
    "\n",
    "    #for cls in six_classifiers:\n",
    "    #    cls.fit(X_train, y_train)\n",
    "\n",
    "    for i in range(9):\n",
    "\n",
    "        col, row = i%3,i//3\n",
    "        ax = plt.subplot(grid[row,col]) \n",
    "        ax.title.set_color('blue')\n",
    "\n",
    "        model = six_classifiers[i]\n",
    "        # skplt.metrics.plot_roc(y_test, model.predict_proba(X_test), ax=ax, title=type(six_classifiers[i]).__name__)\n",
    "        skplt.metrics.plot_ks_statistic(y_test, model.predict_proba(X_test), ax=ax,title=type(six_classifiers[i]).__name__)\n",
    "        ax.text(0.5, 1.04, name[i],fontsize=10)    ## podtytuł\n",
    "        ax.text(0.0, 1.04, 'before calibration',color='black', fontsize=10)\n",
    "### ---------------------------------------------------\n",
    "    \n",
    "    if calibration != True:\n",
    "        print()\n",
    "    else:   \n",
    "    \n",
    "    \n",
    "        plt.figure(figsize=(15,10))\n",
    "        grid = plt.GridSpec(3, 3, wspace=0.3, hspace=0.5)\n",
    "\n",
    "        #for cls in six_classifiers:\n",
    "        #    cls.fit(X_train, y_train)\n",
    "\n",
    "        for i in range(9):\n",
    "\n",
    "            col, row = i%3,i//3\n",
    "            ax = plt.subplot(grid[row,col]) \n",
    "            ax.title.set_color('blue')\n",
    "\n",
    "       \n",
    "            model = six_classifiers[i]\n",
    "            calibrated = CalibratedClassifierCV(model, method='sigmoid', cv=5)\n",
    "            calibrated.fit(X_train, y_train)         \n",
    "        \n",
    "            skplt.metrics.plot_ks_statistic(y_test, calibrated.predict_proba(X_test), ax=ax,title=type(six_classifiers[i]).__name__)\n",
    "            ax.text(0.5, 1.04, name[i],fontsize=10)    ## podtytuł\n",
    "            ax.text(0.0, 1.04, 'after calibration',color='red', fontsize=10)    ## podtytuł\n",
    "    \n",
    "    n = (time.time() - start_time)\n",
    "    n = np.round(n)\n",
    "    print('time: %s seconds' % n)       "
   ]
  },
  {
   "cell_type": "code",
   "execution_count": null,
   "metadata": {},
   "outputs": [],
   "source": [
    "ks_statistic(clasifier_VAL,name_VAL,X_train, y_train,X_test,y_test,calibration=False)"
   ]
  },
  {
   "cell_type": "raw",
   "metadata": {},
   "source": [
    "def precision_recall2(six_classifiers,name, X_train, y_train,X_test,y_test):\n",
    "    \n",
    "    from sklearn.calibration import CalibratedClassifierCV, calibration_curve\n",
    "    from matplotlib import rcParams      ## Robie odstęp na podtytuł\n",
    "    rcParams['axes.titlepad'] = 20 \n",
    "    import time\n",
    "    start_time = time.time()\n",
    "    \n",
    "    import scikitplot as skplt\n",
    "    \n",
    "    plt.figure(figsize=(15,10))\n",
    "    grid = plt.GridSpec(3, 3, wspace=0.3, hspace=0.5)\n",
    "\n",
    "    #for cls in six_classifiers:\n",
    "    #    cls.fit(X_train, y_train)\n",
    "\n",
    "    for i in range(9):\n",
    "\n",
    "        col, row = i%3,i//3\n",
    "        ax = plt.subplot(grid[row,col]) \n",
    "        ax.title.set_color('blue')\n",
    "\n",
    "        model = six_classifiers[i]\n",
    "\n",
    "        skplt.metrics.plot_precision_recall(y_test, model.predict_proba(X_test), ax=ax,title=type(six_classifiers[i]).__name__)\n",
    "        ax.text(0.5, 1.09, name[i],fontsize=10)    ## podtytuł\n",
    "        ax.text(0.0, 1.04, 'before calibration',color='black', fontsize=10)\n",
    "### ---------------------------------------------------------------------\n",
    "\n",
    "    plt.figure(figsize=(15,10))\n",
    "    grid = plt.GridSpec(3, 3, wspace=0.3, hspace=0.5)\n",
    "\n",
    "    #for cls in six_classifiers:\n",
    "    #    cls.fit(X_train, y_train)\n",
    "\n",
    "    for i in range(9):\n",
    "\n",
    "        col, row = i%3,i//3\n",
    "        ax = plt.subplot(grid[row,col]) \n",
    "        ax.title.set_color('blue')\n",
    "\n",
    "        model = six_classifiers[i]\n",
    "        calibrated = CalibratedClassifierCV(model, method='sigmoid', cv=5)\n",
    "        calibrated.fit(X_train, y_train)         \n",
    "\n",
    "        skplt.metrics.plot_precision_recall(y_test, calibrated.predict_proba(X_test), ax=ax,title=type(six_classifiers[i]).__name__)\n",
    "        ax.text(0.5, 1.09, name[i],fontsize=10)    ## podtytuł\n",
    "        ax.text(0.0, 1.04, 'after calibration',color='red', fontsize=10)    ## podtytuł\n",
    "\n",
    "    n = (time.time() - start_time)\n",
    "    n = np.round(n)\n",
    "    print('time: %s seconds' % n)     \n",
    "    print(blue('Jest to krzywa łącząca precyzję (PPV) i Recall (TPR) na jednym wykresie. Im wyższa krzywa na osi y, tym lepsza wydajność modelu. Informuje, przy którym recall, precision zaczyna spadać, może pomóc wybrać próg'))"
   ]
  },
  {
   "cell_type": "raw",
   "metadata": {},
   "source": [
    "precision_recall2(clasifier_VAL,name_VAL,X_train, y_train,X_test,y_test)"
   ]
  },
  {
   "cell_type": "markdown",
   "metadata": {},
   "source": [
    "Jak widac na wykresach problemem jest precyzjia klasy 1. Nie pomogła w tym zbilansowanie zbiorów przez oversampling."
   ]
  },
  {
   "cell_type": "markdown",
   "metadata": {},
   "source": [
    "https://scikit-learn.org/stable/auto_examples/calibration/plot_calibration_curve.html"
   ]
  },
  {
   "cell_type": "code",
   "execution_count": null,
   "metadata": {},
   "outputs": [],
   "source": [
    "def cumulative_gain(six_classifiers,name, X_train, y_train,X_test,y_test):\n",
    "\n",
    "    from matplotlib import rcParams      ## Robie odstęp na podtytuł\n",
    "    rcParams['axes.titlepad'] = 20     \n",
    "    \n",
    "    import scikitplot as skplt\n",
    "    \n",
    "    plt.figure(figsize=(15,7))\n",
    "    grid = plt.GridSpec(2, 3, wspace=0.3, hspace=0.5)\n",
    "\n",
    "    #for cls in six_classifiers:\n",
    "    #    cls.fit(X_train, y_train)\n",
    "\n",
    "    for i in range(6):\n",
    "\n",
    "        col, row = i%3,i//3\n",
    "        ax = plt.subplot(grid[row,col]) \n",
    "        ax.title.set_color('blue')\n",
    "\n",
    "        model = six_classifiers[i]\n",
    "\n",
    "        skplt.metrics.plot_cumulative_gain(y_test, model.predict_proba(X_test), ax=ax,title=type(six_classifiers[i]).__name__)\n",
    "        ax.text(0.5, 1.04, name[i],fontsize=10)    ## podtytuł\n",
    "        \n",
    "    plt.show()"
   ]
  },
  {
   "cell_type": "code",
   "execution_count": null,
   "metadata": {},
   "outputs": [],
   "source": [
    "cumulative_gain(clasifier_VAL,name_VAL,X_train, y_train,X_test,y_test)"
   ]
  },
  {
   "cell_type": "code",
   "execution_count": null,
   "metadata": {},
   "outputs": [],
   "source": [
    "def lift_curve(six_classifiers,name, X_train, y_train,X_test,y_test):\n",
    "                \n",
    "    import scikitplot as skplt\n",
    "    \n",
    "    plt.figure(figsize=(15,7))\n",
    "    grid = plt.GridSpec(2, 3, wspace=0.3, hspace=0.5)\n",
    "\n",
    "    #for cls in six_classifiers:\n",
    "    #    cls.fit(X_train, y_train)\n",
    "\n",
    "    for i in range(6):\n",
    "\n",
    "        col, row = i%3,i//3\n",
    "        ax = plt.subplot(grid[row,col]) \n",
    "        ax.title.set_color('blue')\n",
    "\n",
    "        model = six_classifiers[i]\n",
    "\n",
    "        skplt.metrics.plot_lift_curve(y_test, model.predict_proba(X_test), ax=ax,title=type(six_classifiers[i]).__name__)\n",
    "        ax.text(0.5, 8.04, name[i],fontsize=12)    ## podtytuł\n",
    "        \n",
    "    plt.show()"
   ]
  },
  {
   "cell_type": "code",
   "execution_count": null,
   "metadata": {},
   "outputs": [],
   "source": [
    "lift_curve(clasifier_VAL,name_VAL,X_train, y_train,X_test,y_test)"
   ]
  },
  {
   "cell_type": "markdown",
   "metadata": {},
   "source": [
    "### Koniec pomiaru czasu "
   ]
  },
  {
   "cell_type": "code",
   "execution_count": null,
   "metadata": {},
   "outputs": [],
   "source": [
    "print('Time to complete the task')\n",
    "print('minutes: ',\n",
    "(time.time() - start_time)/60) ## koniec pomiaru czasu\n",
    "t = (time.time() - start_time)/60\n",
    "a,b = df.shape\n",
    "\n",
    "print('Czas ile minut na jedne rekord: ',t/a)"
   ]
  }
 ],
 "metadata": {
  "kernelspec": {
   "display_name": "Python 3",
   "language": "python",
   "name": "python3"
  },
  "language_info": {
   "codemirror_mode": {
    "name": "ipython",
    "version": 3
   },
   "file_extension": ".py",
   "mimetype": "text/x-python",
   "name": "python",
   "nbconvert_exporter": "python",
   "pygments_lexer": "ipython3",
   "version": "3.7.4"
  }
 },
 "nbformat": 4,
 "nbformat_minor": 2
}
