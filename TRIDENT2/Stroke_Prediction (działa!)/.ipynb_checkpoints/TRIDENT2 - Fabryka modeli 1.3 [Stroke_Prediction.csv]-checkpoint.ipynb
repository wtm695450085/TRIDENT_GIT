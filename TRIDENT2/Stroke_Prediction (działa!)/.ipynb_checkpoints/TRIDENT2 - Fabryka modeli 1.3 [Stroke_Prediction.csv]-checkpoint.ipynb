{
 "cells": [
  {
   "cell_type": "markdown",
   "metadata": {},
   "source": [
    "# <span style=\"font-size: 210%;color:white;background:black\">Fabryka modeli 1.3 [Stroke_Prediction.csv]\n",
    "\n",
    "### <span style=\"color:blue\"> Cognition comes by comparison! Friedrich Wilhelm Nietzsche"
   ]
  },
  {
   "cell_type": "code",
   "execution_count": 1,
   "metadata": {},
   "outputs": [],
   "source": [
    "def email(file, name):\n",
    "\n",
    "    from email.mime.text import MIMEText\n",
    "    from email.mime.multipart import MIMEMultipart\n",
    "    import smtplib\n",
    "    import mimetypes\n",
    "    import email.mime.application\n",
    "\n",
    "    smtp_ssl_host = 'smtp.gmail.com'  # smtp.mail.yahoo.com\n",
    "    smtp_ssl_port = 465\n",
    "    s = smtplib.SMTP_SSL(smtp_ssl_host, smtp_ssl_port)\n",
    "    s.login('wtm695450085@gmail.com', 'Ewa183311')\n",
    "\n",
    "\n",
    "    msg = MIMEMultipart()\n",
    "    msg['Subject'] = file\n",
    "    msg['From'] = 'wtm695450085@gmail.com'\n",
    "    msg['To'] = 'wtm695450085@gmail.com'\n",
    "\n",
    "    txt = MIMEText(name)\n",
    "    msg.attach(txt)\n",
    "\n",
    "    filename = file #path to file\n",
    "    fo=open(filename,'rb')\n",
    "    attach = email.mime.application.MIMEApplication(fo.read(),_subtype=\"pdf\")\n",
    "    fo.close()\n",
    "    attach.add_header('Content-Disposition','attachment',filename=filename)\n",
    "    msg.attach(attach)\n",
    "    s.send_message(msg)\n",
    "    s.quit()"
   ]
  },
  {
   "cell_type": "code",
   "execution_count": 2,
   "metadata": {},
   "outputs": [
    {
     "name": "stdout",
     "output_type": "stream",
     "text": [
      "(43400, 12)\n",
      "\n",
      "Index(['ID', 'Gender', 'Age_In_Days', 'Hypertension', 'Heart_Disease',\n",
      "       'Ever_Married', 'Type_Of_Work', 'Residence', 'Avg_Glucose', 'BMI',\n",
      "       'Smoking_Status', 'Stroke'],\n",
      "      dtype='object')\n"
     ]
    },
    {
     "data": {
      "text/html": [
       "<div>\n",
       "<style scoped>\n",
       "    .dataframe tbody tr th:only-of-type {\n",
       "        vertical-align: middle;\n",
       "    }\n",
       "\n",
       "    .dataframe tbody tr th {\n",
       "        vertical-align: top;\n",
       "    }\n",
       "\n",
       "    .dataframe thead th {\n",
       "        text-align: right;\n",
       "    }\n",
       "</style>\n",
       "<table border=\"1\" class=\"dataframe\">\n",
       "  <thead>\n",
       "    <tr style=\"text-align: right;\">\n",
       "      <th></th>\n",
       "      <th>ID</th>\n",
       "      <th>Gender</th>\n",
       "      <th>Age_In_Days</th>\n",
       "      <th>Hypertension</th>\n",
       "      <th>Heart_Disease</th>\n",
       "      <th>Ever_Married</th>\n",
       "      <th>Type_Of_Work</th>\n",
       "      <th>Residence</th>\n",
       "      <th>Avg_Glucose</th>\n",
       "      <th>BMI</th>\n",
       "      <th>Smoking_Status</th>\n",
       "      <th>Stroke</th>\n",
       "    </tr>\n",
       "  </thead>\n",
       "  <tbody>\n",
       "    <tr>\n",
       "      <td>0</td>\n",
       "      <td>31153</td>\n",
       "      <td>Male</td>\n",
       "      <td>1104.0</td>\n",
       "      <td>0</td>\n",
       "      <td>0</td>\n",
       "      <td>No</td>\n",
       "      <td>children</td>\n",
       "      <td>Rural</td>\n",
       "      <td>95.12</td>\n",
       "      <td>18.0</td>\n",
       "      <td>NaN</td>\n",
       "      <td>0</td>\n",
       "    </tr>\n",
       "    <tr>\n",
       "      <td>1</td>\n",
       "      <td>30650</td>\n",
       "      <td>Male</td>\n",
       "      <td>21204.0</td>\n",
       "      <td>1</td>\n",
       "      <td>0</td>\n",
       "      <td>Yes</td>\n",
       "      <td>Private</td>\n",
       "      <td>Urban</td>\n",
       "      <td>87.96</td>\n",
       "      <td>39.2</td>\n",
       "      <td>never smoked</td>\n",
       "      <td>0</td>\n",
       "    </tr>\n",
       "    <tr>\n",
       "      <td>2</td>\n",
       "      <td>17412</td>\n",
       "      <td>Female</td>\n",
       "      <td>2928.0</td>\n",
       "      <td>0</td>\n",
       "      <td>0</td>\n",
       "      <td>No</td>\n",
       "      <td>Private</td>\n",
       "      <td>Urban</td>\n",
       "      <td>110.89</td>\n",
       "      <td>17.6</td>\n",
       "      <td>NaN</td>\n",
       "      <td>0</td>\n",
       "    </tr>\n",
       "  </tbody>\n",
       "</table>\n",
       "</div>"
      ],
      "text/plain": [
       "      ID  Gender  Age_In_Days  Hypertension  Heart_Disease Ever_Married  \\\n",
       "0  31153    Male       1104.0             0              0           No   \n",
       "1  30650    Male      21204.0             1              0          Yes   \n",
       "2  17412  Female       2928.0             0              0           No   \n",
       "\n",
       "  Type_Of_Work Residence  Avg_Glucose   BMI Smoking_Status  Stroke  \n",
       "0     children     Rural        95.12  18.0            NaN       0  \n",
       "1      Private     Urban        87.96  39.2   never smoked       0  \n",
       "2      Private     Urban       110.89  17.6            NaN       0  "
      ]
     },
     "execution_count": 2,
     "metadata": {},
     "output_type": "execute_result"
    }
   ],
   "source": [
    "import pandas as pd\n",
    "import numpy as np\n",
    "import seaborn as sns\n",
    "import matplotlib.pyplot as plt\n",
    "import warnings \n",
    "from sklearn.ensemble import BaggingClassifier\n",
    "from simple_colors import * \n",
    "from prettytable import PrettyTable\n",
    "\n",
    "warnings.filterwarnings(\"ignore\")\n",
    "\n",
    "%matplotlib inline\n",
    "\n",
    "df= pd.read_csv('/media/wojciech/D6DE33C1DE339927/1A/Stroke_Prediction.csv')\n",
    "print(df.shape)\n",
    "print()\n",
    "print(df.columns)\n",
    "df.head(3)"
   ]
  },
  {
   "cell_type": "markdown",
   "metadata": {},
   "source": [
    "## <div class=\"alert-warning\"> Uruchomić gdy model LGBM będzie się burzył!"
   ]
  },
  {
   "cell_type": "code",
   "execution_count": 3,
   "metadata": {},
   "outputs": [],
   "source": [
    "import re\n",
    "df = df.rename(columns = lambda x:re.sub('[^A-Za-z0-9_]+', '', x))"
   ]
  },
  {
   "cell_type": "markdown",
   "metadata": {},
   "source": [
    "## <div class=\"alert-success\">Sample reduction:</div>"
   ]
  },
  {
   "cell_type": "code",
   "execution_count": 4,
   "metadata": {},
   "outputs": [
    {
     "data": {
      "text/plain": [
       "(4340, 12)"
      ]
     },
     "execution_count": 4,
     "metadata": {},
     "output_type": "execute_result"
    }
   ],
   "source": [
    "df = df.sample(frac = 0.1, random_state=148) \n",
    "df.shape"
   ]
  },
  {
   "cell_type": "markdown",
   "metadata": {},
   "source": [
    "#### Start pomiaru czasu"
   ]
  },
  {
   "cell_type": "code",
   "execution_count": 5,
   "metadata": {},
   "outputs": [
    {
     "name": "stdout",
     "output_type": "stream",
     "text": [
      "Sun Nov 15 21:47:42 2020\n"
     ]
    }
   ],
   "source": [
    "import time\n",
    "start_time = time.time() ## pomiar czasu: start pomiaru czasu\n",
    "print(time.ctime())"
   ]
  },
  {
   "cell_type": "markdown",
   "metadata": {},
   "source": [
    "### Tool for automatic coding of discrete variables !"
   ]
  },
  {
   "cell_type": "code",
   "execution_count": 6,
   "metadata": {},
   "outputs": [
    {
     "name": "stdout",
     "output_type": "stream",
     "text": [
      "DISCRETE FUNCTIONS CODED\n",
      "------------------------\n",
      "Gender --- object\n",
      "Ever_Married --- object\n",
      "Type_Of_Work --- object\n",
      "Residence --- object\n",
      "Smoking_Status --- object\n"
     ]
    }
   ],
   "source": [
    "a,b = df.shape     #<- ile mamy kolumn\n",
    "b\n",
    "\n",
    "print('DISCRETE FUNCTIONS CODED')\n",
    "print('------------------------')\n",
    "for i in range(1,b):\n",
    "    i = df.columns[i]\n",
    "    f = df[i].dtypes\n",
    "    if f == np.object:\n",
    "        print(i,\"---\",f)   \n",
    "    \n",
    "        if f == np.object:\n",
    "        \n",
    "            df[i] = pd.Categorical(df[i]).codes\n",
    "        \n",
    "            continue"
   ]
  },
  {
   "cell_type": "code",
   "execution_count": 7,
   "metadata": {},
   "outputs": [],
   "source": [
    "df.fillna(7777, inplace=True)"
   ]
  },
  {
   "cell_type": "markdown",
   "metadata": {},
   "source": [
    "## <div class=\"alert-success\"> Ustawienie wartości wynikowej"
   ]
  },
  {
   "cell_type": "code",
   "execution_count": 8,
   "metadata": {},
   "outputs": [],
   "source": [
    "target = 'Stroke'"
   ]
  },
  {
   "cell_type": "code",
   "execution_count": 9,
   "metadata": {},
   "outputs": [],
   "source": [
    "X = df.drop(target, axis=1) \n",
    "y = df[target]  \n",
    "\n",
    "from sklearn.model_selection import train_test_split\n",
    "X_train, X_test, y_train, y_test = train_test_split(X, y, test_size=0.20, random_state=123,stratify=y)"
   ]
  },
  {
   "cell_type": "raw",
   "metadata": {},
   "source": [
    "X_test = X_test.values\n",
    "y_test = y_test.values\n",
    "X_train = X_train.values\n",
    "y_train = y_train.values"
   ]
  },
  {
   "cell_type": "markdown",
   "metadata": {},
   "source": [
    "# <span style=\"font-size: 110%;color:#6fa8dc;background:#cfe2f3\">Oversampling !! "
   ]
  },
  {
   "cell_type": "code",
   "execution_count": 10,
   "metadata": {},
   "outputs": [],
   "source": [
    "def oversampling(ytrain, Xtrain):\n",
    "    import matplotlib.pyplot as plt\n",
    "    \n",
    "    global Xtrain_OV\n",
    "    global ytrain_OV\n",
    "\n",
    "    calss1 = np.round((sum(ytrain == 1)/(sum(ytrain == 0)+sum(ytrain == 1))),decimals=2)*100\n",
    "    calss0 = np.round((sum(ytrain == 0)/(sum(ytrain == 0)+sum(ytrain == 1))),decimals=2)*100\n",
    "    \n",
    "    print(\"y = 0: \", sum(ytrain == 0),'-------',calss0,'%')\n",
    "    print(\"y = 1: \", sum(ytrain == 1),'-------',calss1,'%')\n",
    "    print('--------------------------------------------------------')\n",
    "    \n",
    "    ytrain.value_counts(dropna = False, normalize=True).plot(kind='pie',title='Before oversampling')\n",
    "    plt.show\n",
    "    print()\n",
    "    \n",
    "    Proporcja = sum(ytrain == 0) / sum(ytrain == 1)\n",
    "    Proporcja = np.round(Proporcja, decimals=0)\n",
    "    Proporcja = Proporcja.astype(int)\n",
    "       \n",
    "    ytrain_OV = pd.concat([ytrain[ytrain==1]] * Proporcja, axis = 0) \n",
    "    Xtrain_OV = pd.concat([Xtrain.loc[ytrain==1, :]] * Proporcja, axis = 0)\n",
    "    \n",
    "    ytrain_OV = pd.concat([ytrain, ytrain_OV], axis = 0).reset_index(drop = True)\n",
    "    Xtrain_OV = pd.concat([Xtrain, Xtrain_OV], axis = 0).reset_index(drop = True)\n",
    "    \n",
    "    Xtrain_OV = pd.DataFrame(Xtrain_OV)\n",
    "    ytrain_OV = pd.DataFrame(ytrain_OV)\n",
    "    \n",
    "\n",
    "    \n",
    "    print(\"Before oversampling Xtrain:     \", Xtrain.shape)\n",
    "    print(\"Before oversampling ytrain:     \", ytrain.shape)\n",
    "    print('--------------------------------------------------------')\n",
    "    print(\"After oversampling Xtrain_OV:  \", Xtrain_OV.shape)\n",
    "    print(\"After oversampling ytrain_OV:  \", ytrain_OV.shape)\n",
    "    print('--------------------------------------------------------')\n",
    "    \n",
    "    \n",
    "    ax = plt.subplot(1, 2, 1)\n",
    "    ytrain.value_counts(dropna = False, normalize=True).plot(kind='pie',title='Before oversampling')\n",
    "    plt.show\n",
    "    \n",
    "       \n",
    "    kot = pd.concat([ytrain[ytrain==1]] * Proporcja, axis = 0)\n",
    "    kot = pd.concat([ytrain, kot], axis = 0).reset_index(drop = True)\n",
    "    ax = plt.subplot(1, 2, 2)\n",
    "    kot.value_counts(dropna = False, normalize=True).plot(kind='pie',title='After oversampling')\n",
    "    plt.show"
   ]
  },
  {
   "cell_type": "code",
   "execution_count": 11,
   "metadata": {},
   "outputs": [
    {
     "name": "stdout",
     "output_type": "stream",
     "text": [
      "y = 0:  3398 ------- 98.0 %\n",
      "y = 1:  74 ------- 2.0 %\n",
      "--------------------------------------------------------\n",
      "\n",
      "Before oversampling Xtrain:      (3472, 11)\n",
      "Before oversampling ytrain:      (3472,)\n",
      "--------------------------------------------------------\n",
      "After oversampling Xtrain_OV:   (6876, 11)\n",
      "After oversampling ytrain_OV:   (6876, 1)\n",
      "--------------------------------------------------------\n"
     ]
    },
    {
     "data": {
      "image/png": "[encoded data removed]",
      "text/plain": [
       "<Figure size 432x288 with 2 Axes>"
      ]
     },
     "metadata": {},
     "output_type": "display_data"
    }
   ],
   "source": [
    "oversampling(y_train, X_train)"
   ]
  },
  {
   "cell_type": "markdown",
   "metadata": {},
   "source": [
    "I used six models of GaussianNB, LogisticRegression, CatBoostClassifier in their basic version without oversamplin and with oversampling. We will see what differences in the minority set classification the oversampling method gives.!!"
   ]
  },
  {
   "cell_type": "markdown",
   "metadata": {},
   "source": [
    "I get rid of one dimension from the ytrain_OV set so that the set is similar to y_test."
   ]
  },
  {
   "cell_type": "code",
   "execution_count": 12,
   "metadata": {},
   "outputs": [
    {
     "name": "stdout",
     "output_type": "stream",
     "text": [
      "(6876, 11)\n",
      "(6876, 1)\n",
      "(6876,)\n"
     ]
    }
   ],
   "source": [
    "print(Xtrain_OV.shape)\n",
    "print(ytrain_OV.shape)\n",
    "ytrain_OV = ytrain_OV[target]\n",
    "print(ytrain_OV.shape)"
   ]
  },
  {
   "cell_type": "markdown",
   "metadata": {},
   "source": [
    "W poprzednim wpisie uznaliśmy, że oversampling poprawiło jakość klasyfikacji. Kolejne działania będą opierały sie na danych zbilansowanych przez oversampling. Dlatego teraz podmieniamy zwykłą próbę na próbę po oversamoling."
   ]
  },
  {
   "cell_type": "code",
   "execution_count": 13,
   "metadata": {},
   "outputs": [
    {
     "name": "stdout",
     "output_type": "stream",
     "text": [
      "(6876, 11)\n",
      "(6876,)\n"
     ]
    }
   ],
   "source": [
    "X_train = Xtrain_OV\n",
    "y_train = ytrain_OV\n",
    "print(X_train.shape)\n",
    "print(y_train.shape)"
   ]
  },
  {
   "cell_type": "markdown",
   "metadata": {},
   "source": [
    "## <span style=\"color:blue\">Oversampling dla cross-validation\n",
    "\n",
    "<span style=\"color:blue\">Teraz robimy oversampling dla wartości testowych. Robimy tak ponieważ bedziemy robić oversampling, gdzie podział na zbiór testowy i treningowy jest robiony wielokrotnie (fałdy). Więc do równania oversampling wstawiamy połaczomy zbiór testowy i wynikowy. A warto żeby oba te zbiory były zbilansowane przez oversampling.  "
   ]
  },
  {
   "cell_type": "code",
   "execution_count": 14,
   "metadata": {},
   "outputs": [],
   "source": [
    "X = df.drop(target, axis=1) \n",
    "y = df[target]  "
   ]
  },
  {
   "cell_type": "code",
   "execution_count": 15,
   "metadata": {},
   "outputs": [
    {
     "data": {
      "text/plain": [
       "(4340, 11)"
      ]
     },
     "execution_count": 15,
     "metadata": {},
     "output_type": "execute_result"
    }
   ],
   "source": [
    "X.shape"
   ]
  },
  {
   "cell_type": "code",
   "execution_count": 16,
   "metadata": {},
   "outputs": [
    {
     "name": "stdout",
     "output_type": "stream",
     "text": [
      "y = 0:  4247 ------- 98.0 %\n",
      "y = 1:  93 ------- 2.0 %\n",
      "--------------------------------------------------------\n",
      "\n",
      "Before oversampling Xtrain:      (4340, 11)\n",
      "Before oversampling ytrain:      (4340,)\n",
      "--------------------------------------------------------\n",
      "After oversampling Xtrain_OV:   (8618, 11)\n",
      "After oversampling ytrain_OV:   (8618, 1)\n",
      "--------------------------------------------------------\n"
     ]
    },
    {
     "data": {
      "image/png": "[encoded data removed]",
      "text/plain": [
       "<Figure size 432x288 with 2 Axes>"
      ]
     },
     "metadata": {},
     "output_type": "display_data"
    }
   ],
   "source": [
    "oversampling(y, X)"
   ]
  },
  {
   "cell_type": "code",
   "execution_count": 17,
   "metadata": {},
   "outputs": [
    {
     "name": "stdout",
     "output_type": "stream",
     "text": [
      "output: (8618, 11)\n",
      "output: (8618, 1)\n",
      "----------\n",
      "input: (4340, 12)\n"
     ]
    }
   ],
   "source": [
    "Data = Xtrain_OV\n",
    "target = ytrain_OV\n",
    "print(\"output:\",Data.shape)\n",
    "print(\"output:\",target.shape)\n",
    "print('----------')\n",
    "print(\"input:\", df.shape)"
   ]
  },
  {
   "cell_type": "markdown",
   "metadata": {},
   "source": [
    "# Ścieżka do modeli:\n",
    "### oznakowanie modeli\n",
    "\n",
    "model1 - modele na ustawieniach fabrycznych\n",
    "\n",
    "        classifiers_A = [SVM,CBC,XGB,LGBM,KNN,NBC,LRE,RFC,GBC]\n",
    "        nameA = ['SVM','CBC','XGB','LGBM','KNN','NBC','LRE','RFC','GBC']\n",
    "\n",
    "model2 - modele na ustawieniach fabrycznych po bagging\n",
    "\n",
    "        classifiers_B = [SVM_b,CBC_b,XGB_b,LGBM_b,KNN_b,NBC_b,LRE_b,RFC_b,GBC_b]\n",
    "        nameB = ['SVM_b','CBC_b','XGB_b','LGBM_b','KNN_b','NBC_b','LRE_b','RFC_b','GBC_b']\n",
    "        \n",
    "model3 - modele na ustawieniach fabrycznych po kalibracji     \n",
    "\n",
    "model4 -  modele na ustawieniach fabrycznych po bagging po kalibracji\n",
    "\n",
    "model5 - modele po cross-validation\n",
    "\n",
    "        classifiers_F = [gs_SVM,gs_SVM2,gs_XGB,gs_LGBM,gs_KNN,gs_NBC,gs_LRE,gs_RFC,gs_RFC2]\n",
    "        nameF = ['gs_SVM','gs_SVM2','gs_XGB','gs_LGBM','gs_KNN','gs_NBC','gs_LRE','gs_RFC','gs_RFC2']\n",
    "        \n",
    "model6 - modele po cross-validation po bagging \n",
    "\n",
    "model7 - modele na ustawieniach optymalnych"
   ]
  },
  {
   "cell_type": "code",
   "execution_count": 18,
   "metadata": {},
   "outputs": [],
   "source": [
    "address1 ='/home/wojciech/Pulpit/7/model1-{0}.pkl'  #<=  modele na ustawieniach fabrycznych\n",
    "address2 ='/home/wojciech/Pulpit/7/model2-{0}.pkl'  #<=  modele na ustawieniach fabrycznych po bagging\n",
    "address3 ='/home/wojciech/Pulpit/7/model3-{0}.pkl'  #<=  modele na ustawieniach fabrycznych po kalibracji\n",
    "address4 ='/home/wojciech/Pulpit/7/model4-{0}.pkl'  #<=  modele na ustawieniach fabrycznych po bagging po kalibracji\n",
    "address5 ='/home/wojciech/Pulpit/7/model5-{0}.pkl'  #<=  modele na cross-validation\n",
    "address6 ='/home/wojciech/Pulpit/7/model6-{0}.pkl'  #<=  modele na ustawieniach optymalnych po bagging\n",
    "address7 ='/home/wojciech/Pulpit/7/model7-{0}.pkl'  ##<=  modele na ustawieniach optymalnych \n",
    "address8 ='/home/wojciech/Pulpit/7/model8-{0}.pkl'  ##<=  modele na ustawieniach optymalnych po boosting n=3\n",
    "address9 ='/home/wojciech/Pulpit/7/model9-{0}.pkl'  ##<=  modele na ustawieniach optymalnych po boosting n=10\n",
    "address10 ='/home/wojciech/Pulpit/7/model10-{0}.pkl'  ##<=  modele na ustawieniach optymalnych po kalibracji (method='isotonic')\n",
    "address11 ='/home/wojciech/Pulpit/7/model11-{0}.pkl'  ##<=  modele na ustawieniach optymalnych po kalibracji (method='sigmoid')"
   ]
  },
  {
   "cell_type": "markdown",
   "metadata": {},
   "source": [
    "### <span style=\"font-size: 110%;color:white;background:Red\">Model 1 <span style=\"font-size: 110%;color:#6fa8dc;background:#cfe2f3\">  Modele na ustawieniach fabrycznych\n",
    "### <span style=\"font-size: 110%;color:white;background:Red\">Model 2  <span style=\"font-size: 110%;color:#6fa8dc;background:#cfe2f3\">  Modele na ustawieniach fabrycznych po bagging \n"
   ]
  },
  {
   "cell_type": "code",
   "execution_count": 19,
   "metadata": {},
   "outputs": [
    {
     "name": "stdout",
     "output_type": "stream",
     "text": [
      "\n",
      "----Models without settings-----------------------------\n",
      "\n",
      "\u001b[34mSVM\u001b[0m 6.1 --- Sun Nov 15 21:47:50 2020\n",
      "\u001b[34mCBC\u001b[0m 1.1 --- Sun Nov 15 21:47:51 2020\n",
      "\u001b[34mXGB\u001b[0m 0.6 --- Sun Nov 15 21:47:51 2020\n",
      "\u001b[34mLGBM\u001b[0m 1.2 --- Sun Nov 15 21:47:53 2020\n",
      "\u001b[34mKNN\u001b[0m 0.3 --- Sun Nov 15 21:47:53 2020\n",
      "\u001b[34mNBC\u001b[0m 0.0 --- Sun Nov 15 21:47:53 2020\n",
      "\u001b[34mLRE\u001b[0m 0.0 --- Sun Nov 15 21:47:53 2020\n",
      "\u001b[34mRFC\u001b[0m 1.6 --- Sun Nov 15 21:47:55 2020\n",
      "\u001b[34mGBC\u001b[0m 1.0 --- Sun Nov 15 21:47:56 2020\n",
      "\n",
      "----Models without settings after bagging------------------\n",
      "\n",
      "\u001b[34mSVM_b\u001b[0m 21.2 --- Sun Nov 15 21:48:17 2020\n",
      "\u001b[34mCBC_b\u001b[0m 9.4 --- Sun Nov 15 21:48:26 2020\n",
      "\u001b[34mXGB_b\u001b[0m 6.6 --- Sun Nov 15 21:48:33 2020\n",
      "\u001b[34mLGBM_b\u001b[0m 11.9 --- Sun Nov 15 21:48:45 2020\n",
      "\u001b[34mKNN_b\u001b[0m 3.0 --- Sun Nov 15 21:48:48 2020\n",
      "\u001b[34mNBC_b\u001b[0m 0.0 --- Sun Nov 15 21:48:48 2020\n",
      "\u001b[34mLRE_b\u001b[0m 0.4 --- Sun Nov 15 21:48:48 2020\n",
      "\u001b[34mRFC_b\u001b[0m 16.5 --- Sun Nov 15 21:49:05 2020\n",
      "\u001b[34mGBC_b\u001b[0m 7.3 --- Sun Nov 15 21:49:12 2020\n"
     ]
    }
   ],
   "source": [
    "from sklearn.naive_bayes import GaussianNB\n",
    "from sklearn.linear_model import LogisticRegression\n",
    "from sklearn.ensemble import GradientBoostingClassifier\n",
    "from sklearn.ensemble import RandomForestClassifier\n",
    "from lightgbm import LGBMClassifier\n",
    "from sklearn.ensemble import RandomForestClassifier\n",
    "from catboost import CatBoostClassifier\n",
    "from sklearn.svm import SVC \n",
    "from xgboost import XGBClassifier\n",
    "from sklearn.tree import DecisionTreeClassifier\n",
    "from sklearn.neighbors import KNeighborsClassifier\n",
    "from sklearn.svm import SVC \n",
    "import joblib\n",
    "import time\n",
    "\n",
    "NBC = GaussianNB()\n",
    "LRE = LogisticRegression(solver='lbfgs')\n",
    "GBC = GradientBoostingClassifier()\n",
    "RFC = RandomForestClassifier()\n",
    "LGBM = LGBMClassifier() \n",
    "CBC = CatBoostClassifier(verbose=0, n_estimators=100)\n",
    "XGB = XGBClassifier()\n",
    "LREN = LogisticRegression(solver='newton-cg')\n",
    "KNN = KNeighborsClassifier(n_neighbors=1, p=2)\n",
    "SVM = SVC(probability=True) \n",
    "\n",
    "print()\n",
    "print('----Models without settings-----------------------------')\n",
    "print()\n",
    "\n",
    "classifiers_A = [SVM,CBC,XGB,LGBM,KNN,NBC,LRE,RFC,GBC]\n",
    "nameA = ['SVM','CBC','XGB','LGBM','KNN','NBC','LRE','RFC','GBC']\n",
    "\n",
    "for n,t in zip(nameA,classifiers_A):          ## Szkolenie modeli w pętli\n",
    "    start_time = time.time()\n",
    "    t.fit(X_train, y_train)\n",
    "    filename1 =address1.format(n)  #<= zapisujemy model na dysku\n",
    "    _ = joblib.dump(t, filename1, compress=9)\n",
    "    #email(filename1,n)\n",
    "    p = np.round((time.time() - start_time),decimals=1)\n",
    "    print(blue(n),p,\"---\",time.ctime())\n",
    "\n",
    "\n",
    "### Wzmacnianie przez bagowanie!\n",
    "\n",
    "NBC_b = BaggingClassifier(base_estimator=NBC, n_estimators=10, max_samples=0.8, max_features=0.8)\n",
    "LRE_b = BaggingClassifier(base_estimator=LRE, n_estimators=10, max_samples=0.8, max_features=0.8)\n",
    "GBC_b = BaggingClassifier(base_estimator=GBC, n_estimators=10, max_samples=0.8, max_features=0.8)\n",
    "RFC_b = BaggingClassifier(base_estimator=RFC, n_estimators=10, max_samples=0.8, max_features=0.8)\n",
    "LGBM_b = BaggingClassifier(base_estimator=LGBM, n_estimators=10, max_samples=0.8, max_features=0.8)\n",
    "CBC_b = BaggingClassifier(base_estimator=CBC, n_estimators=10, max_samples=0.8, max_features=0.8)\n",
    "XGB_b = BaggingClassifier(base_estimator=XGB, n_estimators=10, max_samples=0.8, max_features=0.8)\n",
    "SVM_b = BaggingClassifier(base_estimator=SVM, n_estimators=10, max_samples=0.8, max_features=0.8)\n",
    "KNN_b = BaggingClassifier(base_estimator=KNN, n_estimators=10, max_samples=0.8, max_features=0.8)\n",
    "\n",
    "nameB = ['SVM_b','CBC_b','XGB_b','LGBM_b','KNN_b','NBC_b','LRE_b','RFC_b','GBC_b']\n",
    "classifiers_B = [SVM_b,CBC_b,XGB_b,LGBM_b,KNN_b,NBC_b,LRE_b,RFC_b,GBC_b]\n",
    "print()\n",
    "print('----Models without settings after bagging------------------')\n",
    "print()\n",
    "for n,t in zip(nameB,classifiers_B):\n",
    "    start_time = time.time()\n",
    "    #BaggingClassifier(base_estimator=t, n_estimators=10, max_samples=0.8, max_features=0.8) \n",
    "    t.fit(X_train, y_train)\n",
    "    filename2 =address2.format(n)  #<= zapisujemy model na dysku\n",
    "    _ = joblib.dump(t, filename2, compress=9) \n",
    "    #email(filename2,n)\n",
    "    p = np.round((time.time() - start_time),decimals=1)\n",
    "    print(blue(n),p,\"---\",time.ctime())\n",
    "    "
   ]
  },
  {
   "cell_type": "markdown",
   "metadata": {},
   "source": [
    "### <span style=\"font-size: 110%;color:white;background:Red\">Model 3  <span style=\"font-size: 110%;color:#6fa8dc;background:#cfe2f3\">  Modele na ustawieniach fabrycznych po kalibracji"
   ]
  },
  {
   "cell_type": "raw",
   "metadata": {},
   "source": [
    "## uruchomie ten moduł jak sie dowiem co zrobić żeby te modele wchodziły w życie a nie były to operacje wewnętrzne\n",
    "\n",
    "from sklearn.calibration import CalibratedClassifierCV, calibration_curve\n",
    "\n",
    "print()\n",
    "print('----Models without settings after calibration------------------')\n",
    "print()\n",
    "\n",
    "for n,t in zip(nameA,classifiers_A):\n",
    "    start_time = time.time()\n",
    "    calibrated = CalibratedClassifierCV(t, method='sigmoid', cv=5)\n",
    "    calibrated.fit(X_train, y_train)\n",
    "    filename3 =address3.format(n)  #<= zapisujemy model na dysku\n",
    "    _ = joblib.dump(t, filename3, compress=9)\n",
    "    email(filename3,n)\n",
    "    p = np.round((time.time() - start_time),decimals=1)\n",
    "    print(green(n),p,\"---\",time.ctime())"
   ]
  },
  {
   "cell_type": "code",
   "execution_count": 20,
   "metadata": {},
   "outputs": [
    {
     "name": "stdout",
     "output_type": "stream",
     "text": [
      "\u001b[32mSVM_c\u001b[0m 22.1 --- Sun Nov 15 21:49:34 2020\n",
      "\u001b[32mCBC_c\u001b[0m 5.9 --- Sun Nov 15 21:49:40 2020\n",
      "\u001b[32mXGB_c\u001b[0m 4.2 --- Sun Nov 15 21:49:44 2020\n",
      "\u001b[32mLGBM_c\u001b[0m 9.0 --- Sun Nov 15 21:49:53 2020\n",
      "\u001b[32mKNN_c\u001b[0m 1.5 --- Sun Nov 15 21:49:55 2020\n",
      "\u001b[32mNBC_c\u001b[0m 0.1 --- Sun Nov 15 21:49:55 2020\n",
      "\u001b[32mLRE_c\u001b[0m 0.2 --- Sun Nov 15 21:49:55 2020\n",
      "\u001b[32mRFC_c\u001b[0m 8.5 --- Sun Nov 15 21:50:04 2020\n",
      "\u001b[32mGBC_c\u001b[0m 4.4 --- Sun Nov 15 21:50:08 2020\n"
     ]
    }
   ],
   "source": [
    "from sklearn.calibration import CalibratedClassifierCV, calibration_curve\n",
    "\n",
    "SVM_c = CalibratedClassifierCV(SVM, method='sigmoid', cv=5)\n",
    "CBC_c = CalibratedClassifierCV(CBC, method='sigmoid', cv=5)\n",
    "XGB_c = CalibratedClassifierCV(XGB, method='sigmoid', cv=5)\n",
    "LGBM_c = CalibratedClassifierCV(LGBM, method='sigmoid', cv=5)\n",
    "KNN_c = CalibratedClassifierCV(KNN, method='sigmoid', cv=5)\n",
    "NBC_c = CalibratedClassifierCV(NBC, method='sigmoid', cv=5)\n",
    "LRE_c = CalibratedClassifierCV(LRE, method='sigmoid', cv=5)\n",
    "RFC_c = CalibratedClassifierCV(RFC, method='sigmoid', cv=5)\n",
    "GBC_c = CalibratedClassifierCV(GBC, method='sigmoid', cv=5)\n",
    "\n",
    "classifiers_3 = [SVM_c,CBC_c,XGB_c,LGBM_c,KNN_c,NBC_c,LRE_c,RFC_c,GBC_c]\n",
    "name3 = ['SVM_c','CBC_c','XGB_c','LGBM_c','KNN_c','NBC_c','LRE_c','RFC_c','GBC_c']\n",
    "\n",
    "for n,t in zip(name3,classifiers_3):\n",
    "    start_time = time.time()\n",
    "    t.fit(X_train, y_train)\n",
    "    filename3 =address3.format(n)  #<= zapisujemy model na dysku\n",
    "    _ = joblib.dump(t, filename3, compress=9)\n",
    "    # email(filename3,n)\n",
    "    p = np.round((time.time() - start_time),decimals=1)\n",
    "    print(green(n),p,\"---\",time.ctime())"
   ]
  },
  {
   "cell_type": "markdown",
   "metadata": {},
   "source": [
    "### <span style=\"font-size: 110%;color:white;background:Red\">Model 4  <span style=\"font-size: 110%;color:#6fa8dc;background:#cfe2f3\">  Modele na ustawieniach fabrycznych po bagging i po kalibracji"
   ]
  },
  {
   "cell_type": "raw",
   "metadata": {},
   "source": [
    "## uruchomie ten moduł jak sie dowiem co zrobić żeby te modele wchodziły w życie a nie były to operacje wewnętrzne\n",
    "\n",
    "from sklearn.calibration import CalibratedClassifierCV, calibration_curve\n",
    "\n",
    "print()\n",
    "print('----Models without settings after bagging after calibration------------------')\n",
    "print()\n",
    "\n",
    "for n,t in zip(nameB,classifiers_B):\n",
    "    start_time = time.time()\n",
    "    calibrated = CalibratedClassifierCV(t, method='sigmoid', cv=5)\n",
    "    calibrated.fit(X_train, y_train)\n",
    "    filename4 =address4.format(n)  #<= zapisujemy model na dysku\n",
    "    _ = joblib.dump(t, filename4, compress=9)\n",
    "    email(filename4,n)\n",
    "    p = np.round((time.time() - start_time),decimals=1)\n",
    "    print(green(n),p,\"---\",time.ctime())"
   ]
  },
  {
   "cell_type": "code",
   "execution_count": 21,
   "metadata": {},
   "outputs": [
    {
     "name": "stdout",
     "output_type": "stream",
     "text": [
      "\u001b[32mSVM_d\u001b[0m 66.6 --- Sun Nov 15 21:51:15 2020\n",
      "\u001b[32mCBC_d\u001b[0m 9.6 --- Sun Nov 15 21:51:24 2020\n",
      "\u001b[32mXGB_d\u001b[0m 7.4 --- Sun Nov 15 21:51:32 2020\n",
      "\u001b[32mLGBM_d\u001b[0m 6.7 --- Sun Nov 15 21:51:38 2020\n",
      "\u001b[32mKNN_d\u001b[0m 6.4 --- Sun Nov 15 21:51:45 2020\n",
      "\u001b[32mNBC_d\u001b[0m 0.3 --- Sun Nov 15 21:51:45 2020\n",
      "\u001b[32mLRE_d\u001b[0m 1.0 --- Sun Nov 15 21:51:46 2020\n",
      "\u001b[32mRFC_d\u001b[0m 40.0 --- Sun Nov 15 21:52:26 2020\n",
      "\u001b[32mGBC_d\u001b[0m 18.1 --- Sun Nov 15 21:52:44 2020\n"
     ]
    }
   ],
   "source": [
    "from sklearn.calibration import CalibratedClassifierCV, calibration_curve\n",
    "\n",
    "SVM_d = CalibratedClassifierCV(SVM_c, method='sigmoid', cv=5)\n",
    "CBC_d = CalibratedClassifierCV(CBC_c, method='sigmoid', cv=5)\n",
    "XGB_d = CalibratedClassifierCV(XGB_c, method='sigmoid', cv=5)\n",
    "LGBM_d = CalibratedClassifierCV(LGBM_c, method='sigmoid', cv=5)\n",
    "KNN_d = CalibratedClassifierCV(KNN_c, method='sigmoid', cv=5)\n",
    "NBC_d = CalibratedClassifierCV(NBC_c, method='sigmoid', cv=5)\n",
    "LRE_d = CalibratedClassifierCV(LRE_c, method='sigmoid', cv=5)\n",
    "RFC_d = CalibratedClassifierCV(RFC_c, method='sigmoid', cv=5)\n",
    "GBC_d = CalibratedClassifierCV(GBC_c, method='sigmoid', cv=5)\n",
    "\n",
    "classifiers_4 = [SVM_d,CBC_d,XGB_d,LGBM_d,KNN_d,NBC_d,LRE_d,RFC_d,GBC_d]\n",
    "name4 = ['SVM_d','CBC_d','XGB_d','LGBM_d','KNN_d','NBC_d','LRE_d','RFC_d','GBC_d']\n",
    "\n",
    "for n,t in zip(name4,classifiers_4):\n",
    "    start_time = time.time()\n",
    "    t.fit(X_train, y_train)\n",
    "    filename4 =address4.format(n)  #<= zapisujemy model na dysku\n",
    "    _ = joblib.dump(t, filename4, compress=9)\n",
    "    #email(filename4,n)\n",
    "    p = np.round((time.time() - start_time),decimals=1)\n",
    "    print(green(n),p,\"---\",time.ctime())"
   ]
  },
  {
   "cell_type": "code",
   "execution_count": 22,
   "metadata": {},
   "outputs": [
    {
     "ename": "NameError",
     "evalue": "name 'stop' is not defined",
     "output_type": "error",
     "traceback": [
      "\u001b[0;31m---------------------------------------------------------------------------\u001b[0m",
      "\u001b[0;31mNameError\u001b[0m                                 Traceback (most recent call last)",
      "\u001b[0;32m<ipython-input-22-4f76a9dad686>\u001b[0m in \u001b[0;36m<module>\u001b[0;34m\u001b[0m\n\u001b[0;32m----> 1\u001b[0;31m \u001b[0mstop\u001b[0m\u001b[0;34m\u001b[0m\u001b[0;34m\u001b[0m\u001b[0m\n\u001b[0m",
      "\u001b[0;31mNameError\u001b[0m: name 'stop' is not defined"
     ]
    }
   ],
   "source": [
    "stop"
   ]
  },
  {
   "cell_type": "markdown",
   "metadata": {},
   "source": [
    "### <span style=\"font-size: 110%;color:white;background:Red\">Model 5  <span style=\"font-size: 110%;color:#6fa8dc;background:#cfe2f3\">  Modele na cross-validation"
   ]
  },
  {
   "cell_type": "code",
   "execution_count": null,
   "metadata": {},
   "outputs": [],
   "source": [
    "from sklearn.model_selection import RepeatedStratifiedKFold\n",
    "\n",
    "cv_method = RepeatedStratifiedKFold(n_splits=5,            # 5-krotna weryfikacja krzyżowa\n",
    "                                    n_repeats=3,           # z 3-ema powtórzeniami\n",
    "                                    random_state=999)"
   ]
  },
  {
   "cell_type": "markdown",
   "metadata": {},
   "source": [
    "### <span style=\"color:blue\">Zbiór hiperparametrów dla każdego modelu:"
   ]
  },
  {
   "cell_type": "code",
   "execution_count": null,
   "metadata": {},
   "outputs": [],
   "source": [
    "params_KNN = {'n_neighbors': [1, 2, 3, 4, 5, 6, 7], 'p': [1, 2, 5]}\n",
    "params_NBC = {'var_smoothing': np.logspace(0,-9, num=100)}\n",
    "params_LRE = {'C': np.power(10.0, np.arange(-3, 3))}\n",
    "params_RFC = {\n",
    " 'max_depth': [5, 8],\n",
    " 'max_features': ['auto'],\n",
    " 'min_samples_leaf': [1, 2],\n",
    " 'min_samples_split': [2, 5],\n",
    " 'n_estimators':  [100,  200, ]}\n",
    "\n",
    "#n_estimators = [100, 300, 500, 800, 1200]\n",
    "#max_depth = [5, 8, 15, 25, 30]\n",
    "#min_samples_split = [2, 5, 10, 15, 100]\n",
    "#min_samples_leaf = [1, 2, 5, 10]\n",
    "\n",
    "params_RFC2 = {\n",
    " 'max_depth': [2, 3],\n",
    " 'min_samples_leaf': [3, 4],\n",
    " 'n_estimators':  [500,1000]}\n",
    "\n",
    "params_GBC = {\n",
    "    'min_samples_split':range(1000,2100,200),\n",
    "    'min_samples_leaf':range(30,71,10)}\n",
    "\n",
    "#{'max_depth':range(5,16,2), 'min_samples_split':range(200,1001,200)}\n",
    "#{'n_estimators':range(20,81,10)}\n",
    "# https://www.analyticsvidhya.com/blog/2016/02/complete-guide-parameter-tuning-gradient-boosting-gbm-python/\n",
    "\n",
    "params_GBC2 = {\n",
    "    'max_depth':range(5,16,2),\n",
    "    'min_samples_split':range(200,1001),\n",
    "    'n_estimators':range(20,81)}\n",
    "\n",
    "params_CBC = {'learning_rate': [0.03, 0.1],\n",
    "        'depth': [4, 6, 10],\n",
    "        'l2_leaf_reg': [1, 3, 5, 7, 9]}\n",
    "\n",
    "\n",
    "params_LGBM = {'max_depth': [3, 6, 9],'learning_rate': [0.001, 0.01, 0.05]}\n",
    "\n",
    "params_XGB = {\"learning_rate\": [0.05, 0.15, 0.25 ], \"max_depth\": [ 3, 6, 9], \"gamma\":[ 0.0, 0.1, 0.4 ] }\n",
    "\n",
    "params_SVM = {'C': [0.1,1, 10, 100], 'kernel': ['rbf']}\n",
    "## {'C': [0.1,1, 10, 100], 'gamma': [1,0.1,0.01,0.001],'kernel': ['rbf', 'poly', 'sigmoid']}\n",
    "\n",
    "params_SVM2 = {'C': [0.1,1, 10, 100],'kernel': ['poly']}\n",
    "## {'C': [0.1,1, 10, 100], 'gamma': [1,0.1,0.01,0.001],'kernel': ['rbf', 'poly', 'sigmoid']}"
   ]
  },
  {
   "cell_type": "markdown",
   "metadata": {},
   "source": [
    "### <span style=\"color:blue\">Wstawienie każdego modelu do sietki grid:"
   ]
  },
  {
   "cell_type": "code",
   "execution_count": null,
   "metadata": {},
   "outputs": [],
   "source": [
    "from sklearn.model_selection import GridSearchCV\n",
    "\n",
    "\n",
    "##==============================================================================\n",
    "\n",
    "gs_KNN = GridSearchCV(estimator=KNeighborsClassifier(), \n",
    "                      param_grid=params_KNN, \n",
    "                      cv=cv_method,\n",
    "                      verbose=1,  # verbose: the higher, the more messages\n",
    "                      scoring='roc_auc', \n",
    "                      return_train_score=True)\n",
    "\n",
    "##==============================================================================\n",
    "\n",
    "gs_NBC = GridSearchCV(estimator=NBC, \n",
    "                     param_grid=params_NBC, \n",
    "                     cv=cv_method,\n",
    "                     verbose=1, \n",
    "                     scoring='roc_auc')\n",
    "\n",
    "##==============================================================================\n",
    "\n",
    "gs_LRE = GridSearchCV(estimator=LRE,\n",
    "                      param_grid = params_LRE,\n",
    "                      cv=cv_method,\n",
    "                      verbose=1,\n",
    "                      scoring = 'roc_auc') \n",
    "\n",
    "##==============================================================================\n",
    "\n",
    "gs_RFC = GridSearchCV(estimator=RFC,\n",
    "                      param_grid = params_RFC,\n",
    "                      cv=cv_method,\n",
    "                      verbose=1,\n",
    "                      scoring = 'roc_auc') \n",
    "\n",
    "##==============================================================================\n",
    "\n",
    "gs_RFC2 = GridSearchCV(estimator=RFC,\n",
    "                      param_grid = params_RFC2,\n",
    "                      cv=cv_method,\n",
    "                      verbose=1,\n",
    "                      scoring = 'roc_auc') \n",
    "\n",
    "##==============================================================================\n",
    "\n",
    "gs_GBC = GridSearchCV(estimator=GBC,\n",
    "                      param_grid = params_GBC,\n",
    "                      cv=cv_method,\n",
    "                      verbose=1,\n",
    "                      scoring = 'roc_auc') \n",
    "\n",
    "##==============================================================================\n",
    "\n",
    "gs_GBC2 = GridSearchCV(estimator=GBC,\n",
    "                      param_grid = params_GBC2,\n",
    "                      cv=cv_method,\n",
    "                      verbose=1,\n",
    "                      scoring = 'roc_auc') \n",
    "\n",
    "##==============================================================================\n",
    "\n",
    "gs_CBC = GridSearchCV(estimator=GBC,\n",
    "                      param_grid = params_CBC,\n",
    "                      cv=cv_method,\n",
    "                      verbose=1,\n",
    "                      scoring = 'roc_auc') \n",
    "\n",
    "##==============================================================================\n",
    "\n",
    "gs_XGB = GridSearchCV(estimator=XGB,\n",
    "                      param_grid = params_XGB,\n",
    "                      cv=cv_method,\n",
    "                      verbose=1,\n",
    "                      scoring = 'roc_auc') \n",
    "\n",
    "##==============================================================================\n",
    "\n",
    "gs_LGBM = GridSearchCV(estimator=GBC,\n",
    "                      param_grid = params_LGBM,\n",
    "                      cv=cv_method,\n",
    "                      verbose=1,\n",
    "                      scoring = 'roc_auc') \n",
    "##==============================================================================\n",
    "\n",
    "gs_SVM = GridSearchCV(estimator=SVM,\n",
    "                      param_grid = params_SVM,\n",
    "                      cv=cv_method,\n",
    "                      verbose=1,\n",
    "                      scoring = 'roc_auc') \n",
    "\n",
    "##==============================================================================\n",
    "\n",
    "gs_SVM2 = GridSearchCV(estimator=SVM,\n",
    "                      param_grid = params_SVM2,\n",
    "                      cv=cv_method,\n",
    "                      verbose=1,\n",
    "                      scoring = 'roc_auc') "
   ]
  },
  {
   "cell_type": "markdown",
   "metadata": {},
   "source": [
    "### <span style=\"color:blue\">Ćwiczenie modelu z użyciem pełnego zakresu danych zbilansowanych (po oversample):"
   ]
  },
  {
   "cell_type": "code",
   "execution_count": null,
   "metadata": {},
   "outputs": [],
   "source": [
    "classifiers_F = [gs_SVM,gs_SVM2,gs_XGB,gs_LGBM,gs_KNN,gs_NBC,gs_LRE,gs_RFC,gs_RFC2]\n",
    "nameF = ['gs_SVM','gs_SVM2','gs_XGB','gs_LGBM','gs_KNN','gs_NBC','gs_LRE','gs_RFC','gs_RFC2']"
   ]
  },
  {
   "cell_type": "code",
   "execution_count": null,
   "metadata": {},
   "outputs": [],
   "source": [
    "from sklearn.model_selection import GridSearchCV\n",
    "import joblib\n",
    "\n",
    "for n,t in zip(nameF,classifiers_F):          ## Szkolenie modeli w pętli\n",
    "    t.fit(Data, target)\n",
    "    filename5 =address5.format(n)  #<= zapisujemy model na dysku\n",
    "    _ = joblib.dump(t, filename5, compress=9)\n",
    "    email(filename5,n)\n",
    "    p = np.round((time.time() - start_time),decimals=1)\n",
    "    print(blue(n),p,\"---\",time.ctime())"
   ]
  },
  {
   "cell_type": "markdown",
   "metadata": {},
   "source": [
    "### <span style=\"color:blue\">Sprawdzenie najlepszego zestawu hiperparametrów:"
   ]
  },
  {
   "cell_type": "code",
   "execution_count": null,
   "metadata": {},
   "outputs": [],
   "source": [
    "for n,t in zip(nameF,classifiers_F):          ## Szkolenie modeli w pętli\n",
    "    print('Best params _{0}'.format(n), t.best_params_)"
   ]
  },
  {
   "cell_type": "markdown",
   "metadata": {},
   "source": [
    "### <span style=\"font-size: 110%;color:white;background:Red\">Model 7 <span style=\"font-size: 110%;color:#6fa8dc;background:#cfe2f3\">  Modele na ustawieniach optymalnych"
   ]
  },
  {
   "cell_type": "code",
   "execution_count": null,
   "metadata": {},
   "outputs": [],
   "source": [
    "SVM_o = SVC(C= 0.1, gamma= 1, kernel= 'rbf', probability=True)\n",
    "SVM2_o = SVC(C= 10, kernel= 'poly', probability=True)\n",
    "CBC_o = CatBoostClassifier(verbose=0, n_estimators=100)\n",
    "XGB_o = XGBClassifier(gamma= 0.0, learning_rate= 0.05, max_depth= 6)\n",
    "LGBM_o = LogisticRegression(solver='newton-cg')\n",
    "NBC_o = GaussianNB(var_smoothing= 1e-09)\n",
    "LRE_o = LogisticRegression(solver='lbfgs',C= 1.0)\n",
    "RFC_o = RandomForestClassifier(max_depth= 5, max_features= 'auto', min_samples_leaf= 1, min_samples_split= 2, n_estimators= 100)\n",
    "RFC2_o = RandomForestClassifier(max_depth= 3, min_samples_leaf= 3, n_estimators= 500)"
   ]
  },
  {
   "cell_type": "code",
   "execution_count": null,
   "metadata": {},
   "outputs": [],
   "source": [
    "classifiers_O = [SVM_o,SVM2_o,CBC_o,XGB_o,LGBM_o,NBC_o,LRE_o,RFC_o,RFC2_o]\n",
    "nameO = ['SVM_o','SVM2_o','CBC_o','XGB_o','LGBM_o','NBC_o','LRE_o','RFC_o','RFC2_o']"
   ]
  },
  {
   "cell_type": "code",
   "execution_count": null,
   "metadata": {},
   "outputs": [],
   "source": [
    "from sklearn.model_selection import GridSearchCV\n",
    "import joblib\n",
    "\n",
    "for n,t in zip(nameO,classifiers_O):          ## Szkolenie modeli w pętli\n",
    "    start_time = time.time() \n",
    "    t.fit(X_train, y_train)\n",
    "    filename7 =address7.format(n)  #<= zapisujemy model na dysku\n",
    "    _ = joblib.dump(t, filename7, compress=9)\n",
    "    #email(filename7,n)\n",
    "    p = np.round((time.time() - start_time),decimals=1)\n",
    "    print(blue(n),p,\"---\",time.ctime())\n"
   ]
  },
  {
   "cell_type": "markdown",
   "metadata": {},
   "source": [
    "### <span style=\"font-size: 110%;color:white;background:Red\">Model 8 <span style=\"font-size: 110%;color:#6fa8dc;background:#cfe2f3\">   Modele na ustawieniach optymalnych po boosting, n=3"
   ]
  },
  {
   "cell_type": "raw",
   "metadata": {},
   "source": [
    "## uruchomie ten moduł jak sie dowiem co zrobić żeby te modele wchodziły w życie a nie były to operacje wewnętrzne\n",
    "from sklearn.ensemble import AdaBoostClassifier\n",
    "\n",
    "for t,n in zip(classifiers_G,nameG):\n",
    "        start_time = time.time() \n",
    "        boosting = AdaBoostClassifier(base_estimator=t,n_estimators=3) \n",
    "        boosting.fit(X_train, y_train)   \n",
    "        filename8 =address8.format(n)  #<= zapisujemy model na dysku\n",
    "        _ = joblib.dump(t, filename8, compress=9) \n",
    "        #email(filename8,n)\n",
    "        p = np.round((time.time() - start_time),decimals=1)\n",
    "        print(blue(n),p,\"---\",time.ctime())\n"
   ]
  },
  {
   "cell_type": "code",
   "execution_count": null,
   "metadata": {},
   "outputs": [],
   "source": [
    "from sklearn.ensemble import AdaBoostClassifier\n",
    "\n",
    "SVM_v = AdaBoostClassifier(base_estimator=SVM_o,n_estimators=3) \n",
    "SVM2_v = AdaBoostClassifier(base_estimator=SVM2_o,n_estimators=3)\n",
    "CBC_v = AdaBoostClassifier(base_estimator=CBC_o,n_estimators=3)\n",
    "XGB_v = AdaBoostClassifier(base_estimator=XGB_o,n_estimators=3)\n",
    "LGBM_v = AdaBoostClassifier(base_estimator=LGBM_o,n_estimators=3)\n",
    "NBC_v = AdaBoostClassifier(base_estimator=NBC_o,n_estimators=3)\n",
    "LRE_v = AdaBoostClassifier(base_estimator=LRE_o,n_estimators=3)\n",
    "RFC_v = AdaBoostClassifier(base_estimator=RFC_o,n_estimators=3)\n",
    "RFC2_v = AdaBoostClassifier(base_estimator=RFC2_o,n_estimators=3)\n",
    "\n",
    "classifiers_8 = [SVM_v,SVM2_v,CBC_v,XGB_v,LGBM_v,NBC_v,LRE_v,RFC_v,RFC2_v]\n",
    "name8 = ['SVM_v','SVM2_v','CBC_v','XGB_v','LGBM_v','NBC_v','LRE_v','RFC_v','RFC2_v']\n",
    "\n",
    "for t,n in zip(classifiers_8,name8):   \n",
    "        start_time = time.time() \n",
    "        t.fit(X_train, y_train)   \n",
    "        filename8 =address8.format(n)  #<= zapisujemy model na dysku\n",
    "        _ = joblib.dump(t, filename8, compress=9) \n",
    "        #email(filename8,n)\n",
    "        p = np.round((time.time() - start_time),decimals=1)\n",
    "        print(blue(n),p,\"---\",time.ctime())\n"
   ]
  },
  {
   "cell_type": "markdown",
   "metadata": {},
   "source": [
    "### <span style=\"font-size: 110%;color:white;background:Red\">Model 9 <span style=\"font-size: 110%;color:#6fa8dc;background:#cfe2f3\">   Modele na ustawieniach optymalnych po boosting, n=10"
   ]
  },
  {
   "cell_type": "raw",
   "metadata": {},
   "source": [
    "## uruchomie ten moduł jak sie dowiem co zrobić żeby te modele wchodziły w życie a nie były to operacje wewnętrzne\n",
    "\n",
    "for t,n in zip(classifiers_H,nameH):\n",
    "        start_time = time.time() \n",
    "        boosting = AdaBoostClassifier(base_estimator=t,n_estimators=10) \n",
    "        boosting.fit(X_train, y_train)   \n",
    "        filename9 =address9.format(n)  #<= zapisujemy model na dysku\n",
    "        _ = joblib.dump(t, filename9, compress=9)\n",
    "        #email(filename9,n)\n",
    "        p = np.round((time.time() - start_time),decimals=1)\n",
    "        print(blue(n),p,\"---\",time.ctime())"
   ]
  },
  {
   "cell_type": "code",
   "execution_count": null,
   "metadata": {},
   "outputs": [],
   "source": [
    "\n",
    "from sklearn.ensemble import AdaBoostClassifier\n",
    "\n",
    "SVM_s = AdaBoostClassifier(base_estimator=SVM_o,n_estimators=10) \n",
    "SVM2_s = AdaBoostClassifier(base_estimator=SVM2_o,n_estimators=10)\n",
    "CBC_s = AdaBoostClassifier(base_estimator=CBC_o,n_estimators=10)\n",
    "XGB_s = AdaBoostClassifier(base_estimator=XGB_o,n_estimators=10)\n",
    "LGBM_s = AdaBoostClassifier(base_estimator=LGBM_o,n_estimators=10)\n",
    "NBC_s = AdaBoostClassifier(base_estimator=NBC_o,n_estimators=10)\n",
    "LRE_s = AdaBoostClassifier(base_estimator=LRE_o,n_estimators=10)\n",
    "RFC_s = AdaBoostClassifier(base_estimator=RFC_o,n_estimators=10)\n",
    "RFC2_s = AdaBoostClassifier(base_estimator=RFC2_o,n_estimators=10)\n",
    "\n",
    "classifiers_9 = [SVM_s,SVM2_s,CBC_s,XGB_s,LGBM_s,NBC_s,LRE_s,RFC_s,RFC2_s]\n",
    "name9 = ['SVM_s','SVM2_s','CBC_s','XGB_s','LGBM_s','NBC_s','LRE_s','RFC_s','RFC2_s']\n",
    "\n",
    "\n",
    "for t,n in zip(classifiers_9,name9):\n",
    "        start_time = time.time() \n",
    "        t.fit(X_train, y_train)   \n",
    "        filename9 =address9.format(n)  #<= zapisujemy model na dysku\n",
    "        _ = joblib.dump(t, filename9, compress=9)\n",
    "        #email(filename9,n)\n",
    "        p = np.round((time.time() - start_time),decimals=1)\n",
    "        print(blue(n),p,\"---\",time.ctime())"
   ]
  },
  {
   "cell_type": "markdown",
   "metadata": {},
   "source": [
    "### <span style=\"font-size: 110%;color:white;background:Red\">Model 6 <span style=\"font-size: 110%;color:#6fa8dc;background:#cfe2f3\"> Modele na ustawieniach optymalnych po bagging"
   ]
  },
  {
   "cell_type": "raw",
   "metadata": {},
   "source": [
    "## uruchomie ten moduł jak sie dowiem co zrobić żeby te modele wchodziły w życie a nie były to operacje wewnętrzne\n",
    "\n",
    "from sklearn.model_selection import GridSearchCV\n",
    "import joblib\n",
    "\n",
    "for n,t in zip(nameK,classifiers_K):          ## Szkolenie modeli w pętli\n",
    "    BaggingClassifier(base_estimator=t, n_estimators=10, max_samples=0.8, max_features=0.8)\n",
    "    t.fit(Data, target)\n",
    "    filename6 =address6.format(n)  #<= zapisujemy model na dysku\n",
    "    _ = joblib.dump(t, filename6, compress=9)\n",
    "    email(filename6,n)\n",
    "    p = np.round((time.time() - start_time),decimals=1)\n",
    "    print(blue(n),p,\"---\",time.ctime())"
   ]
  },
  {
   "cell_type": "code",
   "execution_count": null,
   "metadata": {},
   "outputs": [],
   "source": [
    "\n",
    "SVM_w = BaggingClassifier(base_estimator=SVM_o, n_estimators=10, max_samples=0.8, max_features=0.8)\n",
    "SVM2_w = BaggingClassifier(base_estimator=SVM2_o, n_estimators=10, max_samples=0.8, max_features=0.8)\n",
    "CBC_w = BaggingClassifier(base_estimator=CBC_o, n_estimators=10, max_samples=0.8, max_features=0.8)\n",
    "XGB_w = BaggingClassifier(base_estimator=XGB_o, n_estimators=10, max_samples=0.8, max_features=0.8)\n",
    "LGBM_w = BaggingClassifier(base_estimator=LGBM_o, n_estimators=10, max_samples=0.8, max_features=0.8)\n",
    "NBC_w = BaggingClassifier(base_estimator=NBC_o, n_estimators=10, max_samples=0.8, max_features=0.8)\n",
    "LRE_w = BaggingClassifier(base_estimator=LRE_o, n_estimators=10, max_samples=0.8, max_features=0.8)\n",
    "RFC_w = BaggingClassifier(base_estimator=RFC_o, n_estimators=10, max_samples=0.8, max_features=0.8)\n",
    "RFC2_w = BaggingClassifier(base_estimator=RFC2_o, n_estimators=10, max_samples=0.8, max_features=0.8)\n",
    "\n",
    "classifiers_6 = [SVM_w,SVM2_w,CBC_w,XGB_w,LGBM_w,NBC_w,LRE_w,RFC_w,RFC2_w]\n",
    "name6 = ['SVM_w','SVM2_w','CBC_w','XGB_w','LGBM_w','NBC_w','LRE_w','RFC_w','RFC2_w']\n",
    "\n",
    "for n,t in zip(name6,classifiers_6):          ## Szkolenie modeli w pętli\n",
    "        t.fit(Data, target)\n",
    "        filename6 =address6.format(n)  #<= zapisujemy model na dysku\n",
    "        _ = joblib.dump(t, filename6, compress=9)\n",
    "        #email(filename6,n)\n",
    "        p = np.round((time.time() - start_time),decimals=1)\n",
    "        print(blue(n),p,\"---\",time.ctime())"
   ]
  },
  {
   "cell_type": "markdown",
   "metadata": {},
   "source": [
    "### <span style=\"font-size: 110%;color:white;background:Red\">Model 10  <span style=\"font-size: 110%;color:#6fa8dc;background:#cfe2f3\">  Modele na ustawieniach optymalnych po kalibracji (method='isotonic')"
   ]
  },
  {
   "cell_type": "code",
   "execution_count": null,
   "metadata": {},
   "outputs": [],
   "source": [
    "from sklearn.calibration import CalibratedClassifierCV, calibration_curve\n",
    "\n",
    "SVM_q = CalibratedClassifierCV(SVM_o, method='isotonic', cv=5)\n",
    "SVM2_q = CalibratedClassifierCV(SVM2_o, method='isotonic', cv=5)\n",
    "CBC_q = CalibratedClassifierCV(CBC_o, method='isotonic', cv=5)\n",
    "XGB_q = CalibratedClassifierCV(XGB_o, method='isotonic', cv=5)\n",
    "LGBM_q = CalibratedClassifierCV(LGBM_o, method='isotonic', cv=5)\n",
    "NBC_q = CalibratedClassifierCV(NBC_o, method='isotonic', cv=5)\n",
    "LRE_q = CalibratedClassifierCV(LRE_o, method='isotonic', cv=5)\n",
    "RFC_q = CalibratedClassifierCV(RFC_o, method='isotonic', cv=5)\n",
    "RFC2_q = CalibratedClassifierCV(RFC2_o, method='isotonic', cv=5)\n",
    "\n",
    "classifiers_10 = [SVM_q,SVM2_q,CBC_q,XGB_q,LGBM_q,NBC_q,LRE_q,RFC_q,RFC2_q]\n",
    "name10 = ['SVM_q','SVM2_q','CBC_q','XGB_q','LGBM_q','NBC_q','LRE_q','RFC_q','RFC2_q']\n",
    "\n",
    "for n,t in zip(name10,classifiers_10):\n",
    "    start_time = time.time()\n",
    "    t.fit(X_train, y_train)\n",
    "    filename10 =address10.format(n)  #<= zapisujemy model na dysku\n",
    "    _ = joblib.dump(t, filename10, compress=9)\n",
    "    #email(filename10,n)\n",
    "    p = np.round((time.time() - start_time),decimals=1)\n",
    "    print(green(n),p,\"---\",time.ctime())"
   ]
  },
  {
   "cell_type": "markdown",
   "metadata": {},
   "source": [
    "### <span style=\"font-size: 110%;color:white;background:Red\">Model 11  <span style=\"font-size: 110%;color:#6fa8dc;background:#cfe2f3\">  Modele na ustawieniach optymalnych po kalibracji (method='sigmoid')"
   ]
  },
  {
   "cell_type": "code",
   "execution_count": null,
   "metadata": {},
   "outputs": [],
   "source": [
    "from sklearn.calibration import CalibratedClassifierCV, calibration_curve\n",
    "\n",
    "SVM_y = CalibratedClassifierCV(SVM_o, method='sigmoid', cv=5)\n",
    "SVM2_y = CalibratedClassifierCV(SVM2_o, method='sigmoid', cv=5)\n",
    "CBC_y = CalibratedClassifierCV(CBC_o, method='sigmoid', cv=5)\n",
    "XGB_y = CalibratedClassifierCV(XGB_o, method='sigmoid', cv=5)\n",
    "LGBM_y = CalibratedClassifierCV(LGBM_o, method='sigmoid', cv=5)\n",
    "NBC_y = CalibratedClassifierCV(NBC_o, method='sigmoid', cv=5)\n",
    "LRE_y = CalibratedClassifierCV(LRE_o, method='sigmoid', cv=5)\n",
    "RFC_y = CalibratedClassifierCV(RFC_o, method='sigmoid', cv=5)\n",
    "RFC2_y = CalibratedClassifierCV(RFC2_o, method='sigmoid', cv=5)\n",
    "\n",
    "classifiers_11 = [SVM_y,SVM2_y,CBC_y,XGB_y,LGBM_y,NBC_y,LRE_y,RFC_y,RFC2_y]\n",
    "name11 = ['SVM_y','SVM2_y','CBC_y','XGB_y','LGBM_y','NBC_y','LRE_y','RFC_y','RFC2_y']\n",
    "\n",
    "for n,t in zip(name11,classifiers_11):\n",
    "    start_time = time.time()\n",
    "    t.fit(X_train, y_train)\n",
    "    filename11 =address11.format(n)  #<= zapisujemy model na dysku\n",
    "    _ = joblib.dump(t, filename11, compress=9)\n",
    "    #email(filename11,n)\n",
    "    p = np.round((time.time() - start_time),decimals=1)\n",
    "    print(green(n),p,\"---\",time.ctime())"
   ]
  }
 ],
 "metadata": {
  "kernelspec": {
   "display_name": "Python 3",
   "language": "python",
   "name": "python3"
  },
  "language_info": {
   "codemirror_mode": {
    "name": "ipython",
    "version": 3
   },
   "file_extension": ".py",
   "mimetype": "text/x-python",
   "name": "python",
   "nbconvert_exporter": "python",
   "pygments_lexer": "ipython3",
   "version": "3.7.4"
  }
 },
 "nbformat": 4,
 "nbformat_minor": 2
}
